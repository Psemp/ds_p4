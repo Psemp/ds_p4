{
 "cells": [
  {
   "cell_type": "code",
   "execution_count": null,
   "metadata": {},
   "outputs": [],
   "source": [
    "import pandas as pd\n",
    "import seaborn as sns\n",
    "import numpy as np\n",
    "import os\n",
    "\n",
    "from matplotlib import pyplot as plt\n",
    "from dotenv import load_dotenv\n",
    "\n",
    "load_dotenv()\n",
    "plt.style.use('Solarize_Light2')\n",
    "\n",
    "# Setting default DPI, pulling it from dotenv if it exists, setting it on 100 if not\n",
    "\n",
    "pc_dpi = os.getenv('DPI')\n",
    "\n",
    "if pc_dpi is None:\n",
    "    pc_dpi = 100\n",
    "\n",
    "pc_dpi = int(pc_dpi)\n"
   ]
  },
  {
   "cell_type": "code",
   "execution_count": null,
   "metadata": {},
   "outputs": [],
   "source": [
    "# File\n",
    "\n",
    "sea_ds = \"./data/seattle_data.csv\"\n",
    "\n",
    "df_seattle = pd.read_csv(sea_ds)\n"
   ]
  },
  {
   "cell_type": "code",
   "execution_count": null,
   "metadata": {},
   "outputs": [],
   "source": [
    "df_seattle.shape"
   ]
  },
  {
   "cell_type": "markdown",
   "metadata": {},
   "source": [
    "# <u>Analyse exploratoire :</u>\n",
    "\n",
    "### <u>1. Age des batiments </u>\n",
    "- <u>1.a : Représentation des batiments en fonction de leurs dates de construction. </u>\n",
    "- <u>1.b : Visualisation des statistiques principales de la variable : Energie par metre carré </u>\n",
    "- <u>1.c : Paire 1 : Date de construction et utilisation en energie par metre carré. </u>\n",
    "\n",
    "<hr>\n",
    "\n",
    "### <u> 2. Etude de la note Energy Star</u>\n",
    "- <u> 2.a : Repartition de la note Energy Star au sein des données. </u>\n",
    "- <u> 2.b : Paire 2 : Note Energy Star en fonction de l'energie par metre carré. </u>\n",
    "- <u> 2.c : Paire 3 : Energy Star en fonction de l'année de construction. </u>\n",
    "<hr>\n",
    "\n",
    "\n",
    "### <u> 3 : Représentation Property Type/Utilisation Energie </u>\n",
    "\n",
    "### Cette analyse permettra de :\n",
    " - Visualiser \"l'age\" du paysage de Seattle\n",
    " - Contextualiser la mesure de la consommation d'énergie au metre carré, et sa possible relation avec l'age des batiments\n",
    " - Avoir une meilleure comprehension de la variable Energy Star et de la présenter face à l'age des batiments et de leur consommation en energie\n"
   ]
  },
  {
   "cell_type": "markdown",
   "metadata": {},
   "source": [
    "## 1. Age des batiments"
   ]
  },
  {
   "cell_type": "markdown",
   "metadata": {},
   "source": [
    "### 1.a : Représentation des batiments en fonction de leurs dates de construction."
   ]
  },
  {
   "cell_type": "code",
   "execution_count": null,
   "metadata": {},
   "outputs": [],
   "source": [
    "data_age = list(df_seattle[\"YearBuilt\"].astype(int))\n",
    "oldest = min(data_age)\n",
    "youngest = max(data_age)\n",
    "\n",
    "print(f\"Le plus ancien batiment date de {oldest}, le plus récent (donnees de 2016) date de {youngest}\")\n"
   ]
  },
  {
   "cell_type": "code",
   "execution_count": null,
   "metadata": {},
   "outputs": [],
   "source": [
    "decades = np.arange(1900, 2020, 10)\n",
    "\n",
    "building_per_decade = dict.fromkeys(decades)\n",
    "\n",
    "for decade in building_per_decade.keys():\n",
    "    built = len([year for year in data_age if (year > decade and year < decade + 10)])\n",
    "    building_per_decade[decade] = built\n",
    "\n",
    "used_cmap = plt.get_cmap(\"Dark2\")\n",
    "\n",
    "fig, (ax1, ax2) = plt.subplots(\n",
    "    ncols=2,\n",
    "    nrows=1,\n",
    "    figsize=(22, 10),\n",
    "    gridspec_kw={\"width_ratios\": [1, 4]},\n",
    "    dpi=pc_dpi\n",
    "    )\n",
    "\n",
    "ax1.boxplot(data_age, showmeans=True, widths=0.25)\n",
    "\n",
    "ax2.bar(building_per_decade.keys(), height=building_per_decade.values(), width=8, color=used_cmap.colors)\n",
    "# ax2 lineplot\n",
    "\n",
    "###\n",
    "# Titles & Labels\n",
    "ax1.set_ylabel(\"Annee de construction\")\n",
    "ax2.set_ylabel(\"Nombre de batiments construits\")\n",
    "ax2.set_xlabel(\"Annee de construction\")\n",
    "fig.suptitle(\"Representation des batiments en fonction de leur annee de construction\")\n",
    "fig.tight_layout()\n",
    "#\n",
    "###\n",
    "\n",
    "plt.show()\n"
   ]
  },
  {
   "cell_type": "markdown",
   "metadata": {},
   "source": [
    "#### Observations :\n",
    "\n",
    "- Le paysage urbanin de Seattle date, majoritairement (q1, q3) de 1939 - 1990 (moyenne en 1965)\n",
    "- On remarque une logique économique : pic de construction dans les années 20 (Roaring 20s) suivi par un creux dans les années 30 (Grande Depression)\n",
    "- De nombreux projets date de du debut du millénaire, la decenie 2010+ n'est pas étudiable : les données s'arretent en 2015"
   ]
  },
  {
   "cell_type": "markdown",
   "metadata": {},
   "source": [
    "### 1.b : Visualisation des statistiques principales de la variable : Energie par metre carré"
   ]
  },
  {
   "cell_type": "code",
   "execution_count": null,
   "metadata": {},
   "outputs": [],
   "source": [
    "fig, (ax1, ax2) = plt.subplots(\n",
    "    ncols=2,\n",
    "    nrows=1,\n",
    "    figsize=(22, 12),\n",
    "    dpi=pc_dpi,\n",
    "    )\n",
    "\n",
    "source_eui_data = list(df_seattle[\"SourceEUI(kWh/m2)\"].values.astype(float))\n",
    "\n",
    "sns.boxplot(data=source_eui_data, width=0.6, ax=ax1, color=\"navy\")\n",
    "ax1.set_ylim(0, 1400)  # High number of outliers, cf describe\n",
    "sns.boxplot(data=source_eui_data, width=0.6, ax=ax2, color=\"red\")\n",
    "# fig.tight_layout()\n",
    "\n",
    "###\n",
    "# Titles/Lables\n",
    "ax1.set_ylabel(\"Consommation d'energie (kWh/m2)\")\n",
    "fig.suptitle(\"Visualisation de la repartition de l'EUI parmi les données (energy use intensity)\\\n",
    " gauche : zoom sur 0-1400kW/m2\")\n",
    "#\n",
    "###\n",
    "\n",
    "plt.show()\n",
    "\n",
    "print(df_seattle[\"SourceEUI(kWh/m2)\"].astype(float).describe())\n"
   ]
  },
  {
   "cell_type": "markdown",
   "metadata": {},
   "source": [
    "#### Analyse :\n",
    "\n",
    "- 1 : Les outliers sont extrèmement nombreux, uniquement dans les utilisations \"hautes\"\n",
    "- 2 : La majorité des batiments ont une EUI entre 247 et 592 kWh/m2, 519 en moyenne.\n",
    "- 3 : L'élimination de batiments via la methode interquartile peut être viable, la reduction de dimension via ACP peut également être une piste\n"
   ]
  },
  {
   "cell_type": "markdown",
   "metadata": {},
   "source": [
    "### 1.c : Paire 1 : Date de construction et utilisation en energie par metre carré"
   ]
  },
  {
   "cell_type": "code",
   "execution_count": null,
   "metadata": {},
   "outputs": [],
   "source": [
    "fig, (ax1) = plt.subplots(\n",
    "    ncols=1,\n",
    "    nrows=1,\n",
    "    figsize=(22, 12),\n",
    "    dpi=pc_dpi,\n",
    ")\n",
    "\n",
    "ax1 = sns.barplot(\n",
    "    x=df_seattle[\"YearBuilt\"].astype(int).values,\n",
    "    y=df_seattle[\"SourceEUI(kWh/m2)\"].values.astype(float),\n",
    "    ci=5\n",
    ")\n",
    "\n",
    "###\n",
    "# Titles/Lables\n",
    "ax1.set_xticklabels([])\n",
    "ax1.set_ylabel(\"SourceEUI(kWh/m2)\")\n",
    "ax1.set_xlabel(\"Année de construction (1900 - 2015)\")\n",
    "fig.suptitle(\"Visualisation de 'energy use intensity' moyenne en fonction de l'année de construction des batiments\")\n",
    "\n",
    "#\n",
    "###\n",
    "fig.tight_layout()\n",
    "plt.show()\n"
   ]
  },
  {
   "cell_type": "markdown",
   "metadata": {},
   "source": [
    "#### Observation : \n",
    "- L'age des batiments ne semble pas avoir d'impact sur leur intensité d'utilisation énergétique. On peut emettre l'hypothèse que les batiments les plus anciens ont été modernisés pour avoir une consommation energetique plus responsable."
   ]
  },
  {
   "cell_type": "markdown",
   "metadata": {},
   "source": [
    "## 2. Etude de la note Energy Star"
   ]
  },
  {
   "cell_type": "markdown",
   "metadata": {},
   "source": [
    "### 2.a : Repartition de la note Energy Star au sein des données"
   ]
  },
  {
   "cell_type": "code",
   "execution_count": null,
   "metadata": {},
   "outputs": [],
   "source": [
    "fig, (ax1, ax2) = plt.subplots(\n",
    "    ncols=2,\n",
    "    nrows=1,\n",
    "    figsize=(22, 12),\n",
    "    gridspec_kw={\"width_ratios\": [1, 4]},\n",
    "    dpi=pc_dpi,\n",
    ")\n",
    "\n",
    "rated = df_seattle[df_seattle[\"ENERGYSTARScore\"].notna()]\n",
    "scores = list(rated[\"ENERGYSTARScore\"].astype(int).values)\n",
    "score_range = range(0, 101, 1)\n",
    "scores_dict = dict.fromkeys(score_range)\n",
    "\n",
    "for score in scores_dict.keys():\n",
    "    scores_dict[score] = scores.count(score)\n",
    "\n",
    "ax1.boxplot(scores, showmeans=True, widths=0.25)\n",
    "\n",
    "ax2.bar(\n",
    "    x=list(scores_dict.keys()),\n",
    "    height=list(scores_dict.values()),\n",
    "    color=used_cmap.colors,\n",
    "    width=1\n",
    "    )\n",
    "\n",
    "####\n",
    "## Titles/Lables\n",
    "ax1.set_ylabel(\"Nombre de batiments\")\n",
    "ax1.set_xlabel(\"Note Energy Star (0-100)\")\n",
    "fig.suptitle(\"Répartition de la note Energy Star au sein du dataset (2016)\")\n",
    "##\n",
    "####\n",
    "\n",
    "fig.tight_layout()\n",
    "\n",
    "plt.show()\n",
    "\n",
    "rated[\"ENERGYSTARScore\"].describe()"
   ]
  },
  {
   "cell_type": "markdown",
   "metadata": {},
   "source": [
    "#### Observations :\n",
    "- De nombreux batiments (20/1100, ie +|- 2%) ont la note la plus basse (0)\n",
    "- Les notes sont globalement hautes (48-89) - Les batiments ont le droit d'afficher le label \"Energy Star Certified\" si leur note est superieure ou égale a 75 -> Mediane (sources), motivation pour chercher a atteindre ce score.\n",
    "- Variance haute (28). Comme énoncé plus haut, on utilisera sans doute la methode interquartile pour indentifier et se debarasser des valeurs aberrantes."
   ]
  },
  {
   "cell_type": "markdown",
   "metadata": {},
   "source": [
    "### 2.b : Paire 2 : Note Energy Star en fonction de l'energie par metre carré."
   ]
  },
  {
   "cell_type": "code",
   "execution_count": null,
   "metadata": {},
   "outputs": [],
   "source": [
    "fig, (ax1) = plt.subplots(\n",
    "    ncols=1,\n",
    "    nrows=1,\n",
    "    figsize=(22, 10),\n",
    "    dpi=pc_dpi,\n",
    ")\n",
    "\n",
    "ax1 = sns.barplot(\n",
    "    x=rated[\"ENERGYSTARScore\"].values.astype(int),\n",
    "    y=rated[\"SourceEUI(kWh/m2)\"].values.astype(float),\n",
    "    ci=10\n",
    ")\n",
    "\n",
    "x_line = np.arange(0, 101, 5)\n",
    "\n",
    "y_line = []\n",
    "\n",
    "for x in x_line:\n",
    "    ratings_x = rated[rated[\"ENERGYSTARScore\"] == x]\n",
    "    mean_x = ratings_x[\"SourceEUI(kWh/m2)\"].mean(numeric_only=None)\n",
    "    if pd.isna(mean_x):\n",
    "        mean_x = rated[\"ENERGYSTARScore\"].quantile(0.25).mean()\n",
    "    y_line.append(mean_x)\n",
    "\n",
    "ax1.plot(x_line, y_line)\n",
    "\n",
    "###\n",
    "# Titles/Lables\n",
    "ax1.set_xticks(np.arange(-1, 101, 5))\n",
    "ax1.set_ylabel(\"SourceEUI(kWh/m2)\")\n",
    "ax1.set_xlabel(\"Energy Star Score (0-100)\")\n",
    "fig.suptitle(\"Visualisation de 'l'energy use intensity' en fonction de la note E* des batiments\")\n",
    "#\n",
    "###\n",
    "\n",
    "fig.tight_layout()\n",
    "plt.show()\n"
   ]
  },
  {
   "cell_type": "markdown",
   "metadata": {},
   "source": [
    "#### Observation \n",
    "- On peut observer ici un lien clair entre le Score Energy Star (E*) et l'intensité d'utilisation énergétique (EUI). Le lien est logique dans ce cas : le site E* explique que, entre autres, l'utilisation d'énergie est un facteur.\n",
    "- Le site internet d'E* fourni également une motivation pour l'obtention de cette note : un batiment est \"Energy Star Certified\" lorsque sa note est supérieure ou égale à 75 (ce qui peut expliquer le pic autour de cette note : les developpeurs immobiliers ont interèt à obtenir cette certification)"
   ]
  },
  {
   "cell_type": "markdown",
   "metadata": {},
   "source": [
    "### 2.c Paire 3 : Rapport entre E* et année de construction :"
   ]
  },
  {
   "cell_type": "code",
   "execution_count": null,
   "metadata": {},
   "outputs": [],
   "source": [
    "fig, (ax1) = plt.subplots(\n",
    "    ncols=1,\n",
    "    nrows=1,\n",
    "    figsize=(22, 12),\n",
    "    dpi=pc_dpi,\n",
    ")\n",
    "\n",
    "years_list = list(df_seattle[df_seattle[\"YearBuilt\"].notna()][\"YearBuilt\"].values)\n",
    "year_keys = []\n",
    "for year in years_list:\n",
    "    if year not in year_keys:\n",
    "        year_keys.append(year)\n",
    "\n",
    "year_keys.sort()\n",
    "\n",
    "year_dict = dict.fromkeys(year_keys)\n",
    "\n",
    "for key in year_dict.keys():\n",
    "    temp = df_seattle[(df_seattle[\"YearBuilt\"] == key) & (df_seattle[\"ENERGYSTARScore\"].notna())]\n",
    "    scores = [int(i) for i in temp[\"ENERGYSTARScore\"]]\n",
    "    try:\n",
    "        mean = sum(scores) / len(scores)\n",
    "        year_dict[key] = mean\n",
    "    except ZeroDivisionError:\n",
    "        year_dict[key] = 0\n",
    "\n",
    "ax1.bar(\n",
    "    x=list(year_dict.keys()),\n",
    "    height=list(year_dict.values()),\n",
    "    color=used_cmap.colors,\n",
    "    width=1,\n",
    "    )\n",
    "\n",
    "###\n",
    "# Titles/Lables\n",
    "ax1.set_yticks(np.arange(0, 100, 5))\n",
    "ax1.set_ylabel(\"Note Energie Star Moyenne\")\n",
    "ax1.set_xlabel(\"Année de construction (1900, 2015)\")\n",
    "fig.suptitle(\"Représentation de la moyenne E* des batiments en fonction de leur année de construction\")\n",
    "#\n",
    "###\n",
    "\n",
    "fig.tight_layout()\n",
    "plt.show()\n"
   ]
  },
  {
   "cell_type": "markdown",
   "metadata": {},
   "source": [
    "#### Observation :\n",
    "- L'année de construction ne semble pas de lien clair avec la note E* - Cela peut venir, comme ecrit plus haut, de travaux de modernisation par exemple."
   ]
  },
  {
   "cell_type": "markdown",
   "metadata": {},
   "source": [
    "## 3 : Représentation Property Type/Utilisation Energie\n",
    "\n",
    "<i>On cherche s'il existe des correllations entre les principaux types de batiments et leut note E*</i>"
   ]
  },
  {
   "cell_type": "code",
   "execution_count": null,
   "metadata": {},
   "outputs": [],
   "source": [
    "uniques = df_seattle[\"PrimaryPropertyType\"].unique()\n",
    "unique_ptype_dict = dict.fromkeys(uniques)\n",
    "for unique in unique_ptype_dict.keys():\n",
    "    unique_ptype_dict[unique] = len(df_seattle[df_seattle[\"PrimaryPropertyType\"] == unique])\n",
    "\n",
    "unique_ptype_dict\n"
   ]
  },
  {
   "cell_type": "markdown",
   "metadata": {},
   "source": [
    "#### Observations :\n",
    "- SPS -> Seattle Public School\n",
    "- K12 -> Shool -> from kindergarten to 12th grade\n",
    "- Typos, doubles espaces etc.\n",
    "- Pré groupement via généralisation\n",
    "- La generalisation permettra de creer des categories plus inclusives tout en gardant les propriétes principales des batiments\n",
    "- Necessité de clarification : Batiments types cités universitaires & campus comptent comme residentiels ?"
   ]
  },
  {
   "cell_type": "code",
   "execution_count": null,
   "metadata": {},
   "outputs": [],
   "source": [
    "correction_dict = {\n",
    "    \"Self-Storage Facility\\n\": \"Self-Storage Facility\",  # Possibly warehouse\n",
    "    \"Small- and Mid-Sized Office\": \"Small & Mid-Sized Office\",\n",
    "    \"Restaurant\\n\": \"Restaurant\",\n",
    "    \"Distribution Center\\n\": \"Supermarket & Grocery store\",\n",
    "    \"Distribution Center\": \"Supermarket & Grocery store\",\n",
    "    \"Supermarket/Grocery Store\": \"Supermarket & Grocery store\",\n",
    "    \"Supermarket / Grocery Store\": \"Supermarket & Grocery store\",\n",
    "    \"SPS-District K-12\": \"K-12 School\",\n",
    "    \"Senior Care Community\": \"Small & Medium medical facility\",  # Unsure\n",
    "    \"Laboratory\": \"Small & Medium medical facility\",  # Unsure\n",
    "    \"Medical Office\": \"Small & Medium medical facility\",  # Unsure\n",
    "    \"Small- and Mid-Sized Office\": \"Small & Mid-Sized Office\",\n",
    "    \"Non-Refrigerated Warehouse\": \"Warehouse\",\n",
    "    \"Residence Hall/Dormitory\": \"Residence Hall\",\n",
    "    \"University\": \"College/University\",\n",
    "    \"Retail Store\": \"Supermarket & Grocery store\",\n",
    "    \"Self-Storage Facility\": \"Warehouse\",  # Unsure\n",
    "}\n"
   ]
  },
  {
   "cell_type": "code",
   "execution_count": null,
   "metadata": {},
   "outputs": [],
   "source": [
    "for key in correction_dict.keys():\n",
    "    df_seattle[\"PrimaryPropertyType\"].replace(to_replace=key, value=correction_dict[key], inplace=True)\n",
    "\n",
    "print(df_seattle[\"PrimaryPropertyType\"].value_counts())\n",
    "\n"
   ]
  },
  {
   "cell_type": "code",
   "execution_count": null,
   "metadata": {},
   "outputs": [],
   "source": [
    "select_six = [\n",
    "    \"Small & Mid-Sized Office\", \"Large Office\", \"Warehouse\", \"Supermarket & Grocery store\",\n",
    "    \"K-12 School\", \"Small & Medium medical facility\",\n",
    "]\n"
   ]
  },
  {
   "cell_type": "code",
   "execution_count": null,
   "metadata": {},
   "outputs": [],
   "source": [
    "# EUI / E* , color code property type, sample based on smallest group size\n",
    "\n",
    "fig, (ax1) = plt.subplots(\n",
    "    ncols=1,\n",
    "    nrows=1,\n",
    "    figsize=(22, 16),\n",
    "    dpi=pc_dpi,\n",
    ")\n",
    "\n",
    "data_ptype = df_seattle[df_seattle[\"PrimaryPropertyType\"].isin(select_six)]\n",
    "\n",
    "ax1 = sns.boxplot(\n",
    "    x=data_ptype[\"PrimaryPropertyType\"],\n",
    "    y=data_ptype[\"SourceEUI(kWh/m2)\"],\n",
    "    data=data_ptype\n",
    ")\n",
    "\n",
    "###\n",
    "# Titles/Lables\n",
    "ax1.set_xticklabels(\n",
    "    labels=select_six,\n",
    "    rotation=45\n",
    "    )\n",
    "ax1.set_ylim(0, 2500)  # few outliers above\n",
    "fig.suptitle(\"Efficacité d'utilisation energetique en fonction de l'utilisation principale des principaux groupes de batiments\")\n",
    "\n",
    "#\n",
    "###\n",
    "\n",
    "plt.tight_layout()\n",
    "plt.show()\n"
   ]
  },
  {
   "cell_type": "markdown",
   "metadata": {},
   "source": [
    "#### Observations :\n",
    "- Vérifier plus en detail la categorie K-12 peut se reveler interessant, les caracteristiques du groupe ressemble a celles d'une centrale a charbon\n",
    "- Small / Mid sized office EUI < Large Office EUI : Influence de la taille globale sur l'efficacite energetique ?"
   ]
  },
  {
   "cell_type": "code",
   "execution_count": null,
   "metadata": {},
   "outputs": [],
   "source": [
    "fig, (ax1) = plt.subplots(\n",
    "    ncols=1,\n",
    "    nrows=1,\n",
    "    figsize=(22, 16),\n",
    "    dpi=pc_dpi,\n",
    ")\n",
    "\n",
    "ax1 = sns.scatterplot(\n",
    "    x=\"PropertyArea(SquareMetre)Total\",\n",
    "    y=\"SiteEnergyUse(kWh)\",\n",
    "    hue=\"PrimaryPropertyType\",\n",
    "    data=data_ptype\n",
    ")\n",
    "\n",
    "###\n",
    "# Titles/Lables\n",
    "fig.suptitle(\"Utilisation d'energie en fonction de la taille des batiments, nuancés par leur utilisation principale\")\n",
    "#\n",
    "###\n",
    "\n",
    "plt.tight_layout()\n",
    "plt.show()\n"
   ]
  },
  {
   "cell_type": "code",
   "execution_count": null,
   "metadata": {},
   "outputs": [],
   "source": [
    "# Zooming on y=0.5 kWh/m2, x= 25km2\n",
    "\n",
    "fig, (ax1) = plt.subplots(\n",
    "    ncols=1,\n",
    "    nrows=1,\n",
    "    figsize=(22, 10),\n",
    "    dpi=pc_dpi,\n",
    ")\n",
    "\n",
    "ax1 = sns.scatterplot(\n",
    "    x=\"PropertyArea(SquareMetre)Total\",\n",
    "    y=\"SiteEnergyUse(kWh)\",\n",
    "    hue=\"PrimaryPropertyType\",\n",
    "    data=data_ptype\n",
    ")\n",
    "\n",
    "\n",
    "ax1.set_ylim(-100, 15000000)\n",
    "ax1.set_xlim(0, 25000)\n",
    "\n",
    "###\n",
    "# Titles/Lables\n",
    "fig.suptitle(\"Utilisation d'energie en fonction de la taille des batiments, nuancés par leur utilisation principale, zoom sur y=0.5 kWh/m2, x= 25km2\")\n",
    "#\n",
    "###\n",
    "\n",
    "plt.tight_layout()\n",
    "plt.show()\n",
    "\n",
    "# Apply cleaning via IQR\n"
   ]
  },
  {
   "cell_type": "markdown",
   "metadata": {},
   "source": [
    "#### Observations :\n",
    "- Tres nombreux outliers, utilisation de la methode interquartile pour eliminer les valeurs aberrantes : \n",
    "  - Subsets : PrimaryPropertyType\n",
    "  - Variables concernées : EUI, Size, Electricity"
   ]
  },
  {
   "cell_type": "markdown",
   "metadata": {},
   "source": []
  }
 ],
 "metadata": {
  "interpreter": {
   "hash": "0da0af6bf3f6033f1ed3bb9a018282c9b956ccf49d2ca4646969195110973d60"
  },
  "kernelspec": {
   "display_name": "Python 3.10.4 ('env': venv)",
   "language": "python",
   "name": "python3"
  },
  "language_info": {
   "codemirror_mode": {
    "name": "ipython",
    "version": 3
   },
   "file_extension": ".py",
   "mimetype": "text/x-python",
   "name": "python",
   "nbconvert_exporter": "python",
   "pygments_lexer": "ipython3",
   "version": "3.10.4"
  },
  "orig_nbformat": 4
 },
 "nbformat": 4,
 "nbformat_minor": 2
}

{
 "cells": [
  {
   "cell_type": "code",
   "execution_count": null,
   "metadata": {},
   "outputs": [],
   "source": [
    "import pandas as pd\n",
    "import seaborn as sns\n",
    "import numpy as np\n",
    "import os\n",
    "\n",
    "import scipy.stats as stats\n",
    "import warnings\n",
    "\n",
    "from matplotlib import pyplot as plt\n",
    "from dotenv import load_dotenv\n",
    "from sklearn.decomposition import PCA\n",
    "from sklearn import preprocessing\n",
    "\n",
    "from scripts.pca_fn import show_contribution, display_circles\n",
    "from scripts.cleaning import remove_outliers, scale_df\n",
    "\n",
    "load_dotenv()\n",
    "plt.style.use('Solarize_Light2')\n",
    "sns.color_palette(\"colorblind\")\n",
    "\n",
    "warnings.filterwarnings('ignore')\n",
    "\n",
    "# Setting default DPI, pulling it from dotenv if it exists, setting it on 100 if not\n",
    "\n",
    "pc_dpi = int(os.getenv('DPI'))\n",
    "\n",
    "if pc_dpi is None:\n",
    "    pc_dpi = 100\n"
   ]
  },
  {
   "cell_type": "code",
   "execution_count": null,
   "metadata": {},
   "outputs": [],
   "source": [
    "# File\n",
    "\n",
    "sea_ds = \"./data/seattle_data.csv\"\n",
    "\n",
    "df_seattle = pd.read_csv(sea_ds)\n"
   ]
  },
  {
   "cell_type": "code",
   "execution_count": null,
   "metadata": {},
   "outputs": [],
   "source": [
    "df_seattle.shape"
   ]
  },
  {
   "cell_type": "markdown",
   "metadata": {},
   "source": [
    "# <u>Analyse exploratoire :</u>\n",
    "\n",
    "### <u>0. Elimination d'aberrations via IQR</u>\n",
    "\n",
    "### <u>1. Age des batiments </u>\n",
    "- <u>1.a : Représentation des batiments en fonction de leurs dates de construction. </u>\n",
    "- <u>1.b : Visualisation des statistiques principales de la variable : Energie par metre carré </u>\n",
    "- <u>1.c : Paire 1 : Date de construction et utilisation en energie par metre carré. </u>\n",
    "\n",
    "<hr>\n",
    "\n",
    "### <u> 2. Etude de la note Energy Star</u>\n",
    "- <u> 2.a : Repartition de la note Energy Star au sein des données. </u>\n",
    "- <u> 2.b : Paire 2 : Note Energy Star en fonction de l'energie par metre carré. </u>\n",
    "- <u> 2.c : Paire 3 : Energy Star en fonction de l'année de construction. </u>\n",
    "- <u> 2.d : Paire 4 : Energy Star en fonction de l'émission de gazs a effets de serre. </u>\n",
    "<hr>\n",
    "\n",
    "\n",
    "### <u> 3 : Représentation Property Type/Utilisation Energie </u>\n",
    "- <u> 3.a : Visualisation des categories principales </u>\n",
    "- <u> 3.b : Etude en détails de la correllation taille -> E* </u>\n",
    "\n",
    "### <u> 4 : Reduction de dimension via ACP </u>\n",
    "- <u> 4.a : Elimination des variables inutiles la modelisation </u>\n",
    "- <u> 4.b : Realisation d'une ACP sur les variables restantes </u>\n",
    "\n",
    "### Cette analyse permettra de :\n",
    " - Visualiser \"l'age\" du paysage de Seattle\n",
    " - Contextualiser la mesure de la consommation d'énergie au metre carré, et sa possible relation avec l'age des batiments\n",
    " - Avoir une meilleure comprehension de la variable Energy Star et de la présenter face à l'age des batiments et de leur consommation en energie\n"
   ]
  },
  {
   "cell_type": "markdown",
   "metadata": {},
   "source": [
    "## 0. Elimination d'outliers via la methode interquartile :"
   ]
  },
  {
   "cell_type": "code",
   "execution_count": null,
   "metadata": {},
   "outputs": [],
   "source": [
    "cleaning_list = [\"Electricity(kWh)\", \"SourceEUI(kWh/m2)\", \"SiteEnergyUse(kWh)\"]\n",
    "\n",
    "for col in cleaning_list:\n",
    "    remove_outliers(col, df_seattle)\n",
    "\n",
    "print(df_seattle.shape)\n",
    "\n",
    "print(f\"{1099 - df_seattle.shape[0]} buildings deleted\")\n"
   ]
  },
  {
   "cell_type": "markdown",
   "metadata": {},
   "source": [
    "## 1. Age des batiments"
   ]
  },
  {
   "cell_type": "markdown",
   "metadata": {},
   "source": [
    "### 1.a : Représentation des batiments en fonction de leurs dates de construction."
   ]
  },
  {
   "cell_type": "code",
   "execution_count": null,
   "metadata": {},
   "outputs": [],
   "source": [
    "data_age = list(df_seattle[\"YearBuilt\"].astype(int))\n",
    "oldest = min(data_age)\n",
    "youngest = max(data_age)\n",
    "\n",
    "print(f\"Le plus ancien batiment date de {oldest}, le plus récent (donnees de 2016) date de {youngest}\")\n"
   ]
  },
  {
   "cell_type": "code",
   "execution_count": null,
   "metadata": {},
   "outputs": [],
   "source": [
    "decades = np.arange(1900, 2020, 10)\n",
    "\n",
    "building_per_decade = dict.fromkeys(decades)\n",
    "\n",
    "for decade in building_per_decade.keys():\n",
    "    built = len([year for year in data_age if (year > decade and year < decade + 10)])\n",
    "    building_per_decade[decade] = built\n",
    "\n",
    "used_cmap = plt.get_cmap(\"Dark2\")\n",
    "\n",
    "fig, (ax1, ax2) = plt.subplots(\n",
    "    ncols=2,\n",
    "    nrows=1,\n",
    "    figsize=(22, 10),\n",
    "    gridspec_kw={\"width_ratios\": [1, 4]},\n",
    "    dpi=pc_dpi\n",
    "    )\n",
    "\n",
    "ax1.boxplot(data_age, showmeans=True, widths=0.25)\n",
    "\n",
    "ax2.bar(building_per_decade.keys(), height=building_per_decade.values(), width=8, color=used_cmap.colors)\n",
    "# ax2 lineplot\n",
    "\n",
    "###\n",
    "# Titles & Labels\n",
    "ax1.set_ylabel(\"Annee de construction\")\n",
    "ax2.set_ylabel(\"Nombre de batiments construits\")\n",
    "ax2.set_xlabel(\"Annee de construction\")\n",
    "fig.suptitle(\"Representation des batiments en fonction de leur annee de construction\")\n",
    "fig.tight_layout()\n",
    "#\n",
    "###\n",
    "\n",
    "plt.show()\n"
   ]
  },
  {
   "cell_type": "markdown",
   "metadata": {},
   "source": [
    "#### Observations :\n",
    "\n",
    "- Le paysage urbanin de Seattle date, majoritairement (q1, q3) de 1939 - 1990 (moyenne en 1965)\n",
    "- On remarque une logique économique : pic de construction dans les années 20 (Roaring 20s) suivi par un creux dans les années 30 (Grande Depression)\n",
    "- De nombreux projets date de du debut du millénaire, la decenie 2010+ n'est pas étudiable : les données s'arretent en 2015"
   ]
  },
  {
   "cell_type": "markdown",
   "metadata": {},
   "source": [
    "### 1.b : Visualisation des statistiques principales de la variable : Energie par metre carré"
   ]
  },
  {
   "cell_type": "code",
   "execution_count": null,
   "metadata": {},
   "outputs": [],
   "source": [
    "fig, (ax1, ax2) = plt.subplots(\n",
    "    ncols=2,\n",
    "    nrows=1,\n",
    "    figsize=(22, 12),\n",
    "    dpi=pc_dpi,\n",
    "    )\n",
    "\n",
    "source_eui_data = list(df_seattle[\"SourceEUI(kWh/m2)\"].values.astype(float))\n",
    "\n",
    "sns.boxplot(data=source_eui_data, width=0.6, ax=ax1, color=\"navy\")\n",
    "ax1.set_ylim(0, 1400)  # High number of outliers, cf describe\n",
    "sns.boxplot(data=source_eui_data, width=0.6, ax=ax2, color=\"red\")\n",
    "# fig.tight_layout()\n",
    "\n",
    "###\n",
    "# Titles/Lables\n",
    "ax1.set_ylabel(\"Consommation d'energie (kWh/m2)\")\n",
    "fig.suptitle(\"Visualisation de la repartition de l'EUI parmi les données (energy use intensity)\\\n",
    " gauche : zoom sur 0-1400kW/m2\")\n",
    "#\n",
    "###\n",
    "\n",
    "plt.show()\n",
    "\n",
    "print(df_seattle[\"SourceEUI(kWh/m2)\"].astype(float).describe())\n"
   ]
  },
  {
   "cell_type": "markdown",
   "metadata": {},
   "source": [
    "#### Analyse :\n",
    "\n",
    "- 1 : Les outliers sont extrèmement nombreux, uniquement dans les utilisations \"hautes\"\n",
    "- 2 : La majorité des batiments ont une EUI entre 215 et 494 kWh/m2, 369 en moyenne.\n",
    "- 3 : L'élimination de batiments via la methode interquartile peut être viable, la reduction de dimension via ACP peut également être une piste\n"
   ]
  },
  {
   "cell_type": "markdown",
   "metadata": {},
   "source": [
    "### 1.c : Paire 1 : Date de construction et utilisation en energie par metre carré"
   ]
  },
  {
   "cell_type": "code",
   "execution_count": null,
   "metadata": {},
   "outputs": [],
   "source": [
    "fig, (ax1) = plt.subplots(\n",
    "    ncols=1,\n",
    "    nrows=1,\n",
    "    figsize=(22, 12),\n",
    "    dpi=pc_dpi,\n",
    ")\n",
    "\n",
    "ax1 = sns.barplot(\n",
    "    x=df_seattle[\"YearBuilt\"].astype(int).values,\n",
    "    y=df_seattle[\"SourceEUI(kWh/m2)\"].values.astype(float),\n",
    "    ci=5\n",
    ")\n",
    "\n",
    "###\n",
    "# Titles/Lables\n",
    "ax1.set_xticklabels([])\n",
    "ax1.set_ylabel(\"SourceEUI(kWh/m2)\")\n",
    "ax1.set_xlabel(\"Année de construction (1900 - 2015)\")\n",
    "fig.suptitle(\"Visualisation de 'energy use intensity' moyenne en fonction de l'année de construction des batiments\")\n",
    "\n",
    "#\n",
    "###\n",
    "fig.tight_layout()\n",
    "plt.show()\n"
   ]
  },
  {
   "cell_type": "markdown",
   "metadata": {},
   "source": [
    "#### Observation : \n",
    "- L'age des batiments ne semble pas avoir d'impact sur leur intensité d'utilisation énergétique. On peut emettre l'hypothèse que les batiments les plus anciens ont été modernisés pour avoir une consommation energetique plus responsable."
   ]
  },
  {
   "cell_type": "markdown",
   "metadata": {},
   "source": [
    "## 2. Etude de la note Energy Star"
   ]
  },
  {
   "cell_type": "markdown",
   "metadata": {},
   "source": [
    "### 2.a : Repartition de la note Energy Star au sein des données"
   ]
  },
  {
   "cell_type": "code",
   "execution_count": null,
   "metadata": {},
   "outputs": [],
   "source": [
    "fig, (ax1, ax2) = plt.subplots(\n",
    "    ncols=2,\n",
    "    nrows=1,\n",
    "    figsize=(22, 12),\n",
    "    gridspec_kw={\"width_ratios\": [1, 4]},\n",
    "    dpi=pc_dpi,\n",
    ")\n",
    "\n",
    "rated = df_seattle[df_seattle[\"ENERGYSTARScore\"].notna()]\n",
    "scores = list(rated[\"ENERGYSTARScore\"].astype(int).values)\n",
    "score_range = range(0, 101, 1)\n",
    "scores_dict = dict.fromkeys(score_range)\n",
    "\n",
    "for score in scores_dict.keys():\n",
    "    scores_dict[score] = scores.count(score)\n",
    "\n",
    "ax1.boxplot(scores, showmeans=True, widths=0.25)\n",
    "\n",
    "ax2.bar(\n",
    "    x=list(scores_dict.keys()),\n",
    "    height=list(scores_dict.values()),\n",
    "    color=used_cmap.colors,\n",
    "    width=1\n",
    "    )\n",
    "\n",
    "####\n",
    "## Titles/Lables\n",
    "ax1.set_ylabel(\"Nombre de batiments\")\n",
    "ax1.set_xlabel(\"Note Energy Star (0-100)\")\n",
    "fig.suptitle(\"Répartition de la note Energy Star au sein du dataset (2016)\")\n",
    "##\n",
    "####\n",
    "\n",
    "fig.tight_layout()\n",
    "\n",
    "plt.show()\n",
    "\n",
    "rated[\"ENERGYSTARScore\"].describe()\n"
   ]
  },
  {
   "cell_type": "markdown",
   "metadata": {},
   "source": [
    "#### Observations :\n",
    "- Les notes sont globalement hautes (Q1=53-Q3=89) - Les batiments ont le droit d'afficher le label \"Energy Star Certified\" si leur note est superieure ou égale a 75 -> Mediane (sources), motivation pour chercher a atteindre ce score.\n",
    "- Variance haute (26)."
   ]
  },
  {
   "cell_type": "markdown",
   "metadata": {},
   "source": [
    "### 2.b : Paire 2 : Note Energy Star en fonction de l'energie par metre carré."
   ]
  },
  {
   "cell_type": "code",
   "execution_count": null,
   "metadata": {},
   "outputs": [],
   "source": [
    "fig, (ax1) = plt.subplots(\n",
    "    ncols=1,\n",
    "    nrows=1,\n",
    "    figsize=(22, 10),\n",
    "    dpi=pc_dpi,\n",
    ")\n",
    "\n",
    "ax1 = sns.barplot(\n",
    "    x=rated[\"ENERGYSTARScore\"].values.astype(int),\n",
    "    y=rated[\"SourceEUI(kWh/m2)\"].values.astype(float),\n",
    "    ci=10\n",
    ")\n",
    "\n",
    "x_line = np.arange(0, 101, 5)\n",
    "\n",
    "y_line = []\n",
    "\n",
    "for x in x_line:\n",
    "    ratings_x = rated[rated[\"ENERGYSTARScore\"] == x]\n",
    "    mean_x = ratings_x[\"SourceEUI(kWh/m2)\"].mean(numeric_only=None)\n",
    "    if pd.isna(mean_x):\n",
    "        mean_x = rated[\"ENERGYSTARScore\"].quantile(0.25).mean()\n",
    "    y_line.append(mean_x)\n",
    "\n",
    "ax1.plot(x_line, y_line)\n",
    "\n",
    "###\n",
    "# Titles/Lables\n",
    "ax1.set_xticks(np.arange(-1, 101, 5))\n",
    "ax1.set_ylabel(\"SourceEUI(kWh/m2)\")\n",
    "ax1.set_xlabel(\"Energy Star Score (0-100)\")\n",
    "fig.suptitle(\"Visualisation de 'l'energy use intensity' en fonction de la note E* des batiments\")\n",
    "#\n",
    "###\n",
    "\n",
    "fig.tight_layout()\n",
    "plt.show()\n"
   ]
  },
  {
   "cell_type": "markdown",
   "metadata": {},
   "source": [
    "#### Observation \n",
    "- On peut observer ici un lien clair entre le Score Energy Star (E*) et l'intensité d'utilisation énergétique (EUI). Le lien est logique dans ce cas : le site E* explique que, entre autres, l'utilisation d'énergie est un facteur.\n",
    "- Le site internet d'E* fourni également une motivation pour l'obtention de cette note : un batiment est \"Energy Star Certified\" lorsque sa note est supérieure ou égale à 75 (ce qui peut expliquer le pic autour de cette note : les developpeurs immobiliers ont interèt à obtenir cette certification)"
   ]
  },
  {
   "cell_type": "markdown",
   "metadata": {},
   "source": [
    "### 2.c Paire 3 : Rapport entre E* et année de construction :"
   ]
  },
  {
   "cell_type": "code",
   "execution_count": null,
   "metadata": {},
   "outputs": [],
   "source": [
    "fig, (ax1) = plt.subplots(\n",
    "    ncols=1,\n",
    "    nrows=1,\n",
    "    figsize=(22, 12),\n",
    "    dpi=pc_dpi,\n",
    ")\n",
    "\n",
    "years_list = list(df_seattle[df_seattle[\"YearBuilt\"].notna()][\"YearBuilt\"].values)\n",
    "year_keys = []\n",
    "for year in years_list:\n",
    "    if year not in year_keys:\n",
    "        year_keys.append(year)\n",
    "\n",
    "year_keys.sort()\n",
    "\n",
    "year_dict = dict.fromkeys(year_keys)\n",
    "\n",
    "for key in year_dict.keys():\n",
    "    temp = df_seattle[(df_seattle[\"YearBuilt\"] == key) & (df_seattle[\"ENERGYSTARScore\"].notna())]\n",
    "    scores = [int(i) for i in temp[\"ENERGYSTARScore\"]]\n",
    "    try:\n",
    "        mean = sum(scores) / len(scores)\n",
    "        year_dict[key] = mean\n",
    "    except ZeroDivisionError:\n",
    "        year_dict[key] = 0\n",
    "\n",
    "ax1.bar(\n",
    "    x=list(year_dict.keys()),\n",
    "    height=list(year_dict.values()),\n",
    "    color=used_cmap.colors,\n",
    "    width=1,\n",
    "    )\n",
    "\n",
    "###\n",
    "# Titles/Lables\n",
    "ax1.set_yticks(np.arange(0, 100, 5))\n",
    "ax1.set_ylabel(\"Note Energie Star Moyenne\")\n",
    "ax1.set_xlabel(\"Année de construction (1900, 2015)\")\n",
    "fig.suptitle(\"Représentation de la moyenne E* des batiments en fonction de leur année de construction\")\n",
    "#\n",
    "###\n",
    "\n",
    "fig.tight_layout()\n",
    "plt.show()\n"
   ]
  },
  {
   "cell_type": "markdown",
   "metadata": {},
   "source": [
    "#### Observation :\n",
    "- L'année de construction ne semble pas de lien clair avec la note E* - Cela peut venir, comme ecrit plus haut, de travaux de modernisation par exemple."
   ]
  },
  {
   "cell_type": "markdown",
   "metadata": {},
   "source": [
    "### 2.d Paire 4 : Energy Star en fonction de l'émission de gazs a effets de serre."
   ]
  },
  {
   "cell_type": "code",
   "execution_count": null,
   "metadata": {},
   "outputs": [],
   "source": [
    "fig, (ax1) = plt.subplots(\n",
    "    ncols=1,\n",
    "    nrows=1,\n",
    "    figsize=(22, 12),\n",
    "    dpi=pc_dpi,\n",
    ")\n",
    "\n",
    "data_ghg = df_seattle[\n",
    "        (\n",
    "            df_seattle[\"ENERGYSTARScore\"].notna() &\n",
    "            df_seattle[\"GHGEmissionsIntensity(kgCO2e/ft2)\"].notna()\n",
    "        )\n",
    "    ]\n",
    "\n",
    "ax1 = sns.barplot(\n",
    "    x=\"ENERGYSTARScore\",\n",
    "    y=\"GHGEmissionsIntensity(kgCO2e/ft2)\",\n",
    "    data=data_ghg,\n",
    "    ci=5\n",
    ")\n",
    "\n",
    "###\n",
    "# Titles/Lables\n",
    "ax1.set_xticks(np.arange(-1, 101, 5))\n",
    "fig.suptitle(\"Moyenne E* en fonction de l'intensité d'emission de GES\")\n",
    "#\n",
    "###\n",
    "fig.tight_layout()\n",
    "plt.show()\n"
   ]
  },
  {
   "cell_type": "markdown",
   "metadata": {},
   "source": [
    "#### Observations :\n",
    "- Meme si les données semblent varier enormément, il semblerait que les batiments obtenant de meilleurs scores soient en moyenne ceux qui relachent le moins de GES. Cela est moins flagrant que dans le cas de l'intensité d'utilisation electrique mais cette variable a son importance"
   ]
  },
  {
   "cell_type": "markdown",
   "metadata": {},
   "source": [
    "## 3 : Représentation Property Type/Utilisation Energie\n",
    "\n",
    "<i>On cherche s'il existe des correllations entre les principaux types de batiments et leut note E*</i>"
   ]
  },
  {
   "cell_type": "markdown",
   "metadata": {},
   "source": [
    "### 3.a Visualisation des categories principales"
   ]
  },
  {
   "cell_type": "code",
   "execution_count": null,
   "metadata": {},
   "outputs": [],
   "source": [
    "uniques = df_seattle[\"PrimaryPropertyType\"].unique()\n",
    "unique_ptype_dict = dict.fromkeys(uniques)\n",
    "for unique in unique_ptype_dict.keys():\n",
    "    unique_ptype_dict[unique] = len(df_seattle[df_seattle[\"PrimaryPropertyType\"] == unique])\n",
    "\n",
    "unique_ptype_dict\n"
   ]
  },
  {
   "cell_type": "markdown",
   "metadata": {},
   "source": [
    "#### Observations :\n",
    "- SPS -> Seattle Public School\n",
    "- K12 -> Shool -> from kindergarten to 12th grade\n",
    "- Typos, doubles espaces etc.\n",
    "- Pré groupement via généralisation\n",
    "- La generalisation permettra de creer des categories plus inclusives tout en gardant les propriétes principales des batiments\n",
    "- Necessité de clarification : Batiments types cités universitaires & campus comptent comme residentiels ?"
   ]
  },
  {
   "cell_type": "code",
   "execution_count": null,
   "metadata": {},
   "outputs": [],
   "source": [
    "correction_dict = {\n",
    "    \"Self-Storage Facility\\n\": \"Self-Storage Facility\",  # Possibly warehouse\n",
    "    \"Small- and Mid-Sized Office\": \"Small & Mid-Sized Office\",\n",
    "    \"Restaurant\\n\": \"Restaurant\",\n",
    "    \"Distribution Center\\n\": \"Supermarket & Grocery store\",\n",
    "    \"Distribution Center\": \"Supermarket & Grocery store\",\n",
    "    \"Supermarket/Grocery Store\": \"Supermarket & Grocery store\",\n",
    "    \"Supermarket / Grocery Store\": \"Supermarket & Grocery store\",\n",
    "    \"SPS-District K-12\": \"K-12 School\",\n",
    "    \"Senior Care Community\": \"Small & Medium medical facility\",  # Unsure\n",
    "    \"Laboratory\": \"Small & Medium medical facility\",  # Unsure\n",
    "    \"Medical Office\": \"Small & Medium medical facility\",  # Unsure\n",
    "    \"Small- and Mid-Sized Office\": \"Small & Mid-Sized Office\",\n",
    "    \"Non-Refrigerated Warehouse\": \"Warehouse\",\n",
    "    \"Residence Hall/Dormitory\": \"Residence Hall\",\n",
    "    \"University\": \"College/University\",\n",
    "    \"Retail Store\": \"Supermarket & Grocery store\",\n",
    "    \"Self-Storage Facility\": \"Warehouse\",  # Unsure\n",
    "}\n"
   ]
  },
  {
   "cell_type": "code",
   "execution_count": null,
   "metadata": {},
   "outputs": [],
   "source": [
    "for key in correction_dict.keys():\n",
    "    df_seattle[\"PrimaryPropertyType\"].replace(to_replace=key, value=correction_dict[key], inplace=True)\n",
    "\n",
    "print(df_seattle[\"PrimaryPropertyType\"].value_counts())\n",
    "\n"
   ]
  },
  {
   "cell_type": "code",
   "execution_count": null,
   "metadata": {},
   "outputs": [],
   "source": [
    "select_six = [\n",
    "    \"Small & Mid-Sized Office\", \"Large Office\", \"Warehouse\", \"Supermarket & Grocery store\",\n",
    "    \"K-12 School\", \"Small & Medium medical facility\",\n",
    "]\n"
   ]
  },
  {
   "cell_type": "code",
   "execution_count": null,
   "metadata": {},
   "outputs": [],
   "source": [
    "# EUI / E* , color code property type, sample based on smallest group size\n",
    "\n",
    "fig, (ax1) = plt.subplots(\n",
    "    ncols=1,\n",
    "    nrows=1,\n",
    "    figsize=(22, 16),\n",
    "    dpi=pc_dpi,\n",
    ")\n",
    "\n",
    "data_ptype = df_seattle[df_seattle[\"PrimaryPropertyType\"].isin(select_six)]\n",
    "\n",
    "ax1 = sns.boxplot(\n",
    "    x=data_ptype[\"PrimaryPropertyType\"],\n",
    "    y=data_ptype[\"SourceEUI(kWh/m2)\"],\n",
    "    data=data_ptype\n",
    ")\n",
    "\n",
    "###\n",
    "# Titles/Lables\n",
    "ax1.set_xticklabels(\n",
    "    labels=select_six,\n",
    "    rotation=45\n",
    "    )\n",
    "ax1.set_ylim(0, 1500)  # few outliers above\n",
    "fig.suptitle(\"Efficacité d'utilisation energetique en fonction de l'utilisation principale des principaux groupes de batiments\")\n",
    "\n",
    "#\n",
    "###\n",
    "\n",
    "plt.tight_layout()\n",
    "plt.show()\n"
   ]
  },
  {
   "cell_type": "markdown",
   "metadata": {},
   "source": [
    "#### Observations :\n",
    "\n",
    "- Small / Mid sized office EUI < Large Office EUI : Influence de la taille globale sur l'efficacite energetique ?"
   ]
  },
  {
   "cell_type": "code",
   "execution_count": null,
   "metadata": {},
   "outputs": [],
   "source": [
    "fig, (ax1) = plt.subplots(\n",
    "    ncols=1,\n",
    "    nrows=1,\n",
    "    figsize=(22, 16),\n",
    "    dpi=pc_dpi,\n",
    ")\n",
    "\n",
    "ax1 = sns.scatterplot(\n",
    "    x=\"SiteEnergyUse(kWh)\",\n",
    "    y=\"PropertyArea(SquareMetre)Total\",\n",
    "    hue=\"PrimaryPropertyType\",\n",
    "    data=data_ptype\n",
    ")\n",
    "\n",
    "###\n",
    "# Titles/Lables\n",
    "ticks_y = ax1.get_yticks()\n",
    "ax1.set_yticks([int(tick) for tick in ticks_y])\n",
    "ticks_x = ax1.get_xticks()\n",
    "ax1.set_xticklabels(ticks_x)\n",
    "fig.suptitle(\"Utilisation d'energie en fonction de la taille des batiments, nuancés par leur utilisation principale\")\n",
    "#\n",
    "###\n",
    "\n",
    "plt.tight_layout()\n",
    "plt.show()\n"
   ]
  },
  {
   "cell_type": "markdown",
   "metadata": {},
   "source": [
    "### 3.b : Etude en détails de la correllation taille -> EUI\n",
    "\n",
    "- Les boxplots ci dessus semblent montrer une relation de corrélation entre l'augmentation de l'efficacité d'utilisation énergétique et l'augmentation de la taille du meme \"grand\" type de batiment (small & mid sized office / large office)\n",
    "- On peut étudier cette paire à par pour :\n",
    "  - Vérifier s'il existe bel et bien une corrélation entre augmentation de taille et augmentation de l'EUI\n",
    "  - Vérifier si la même hypothèse peut être appliquee avec la note E* (l'augmentation de l'intensité d'utilisation energetique entraine une baisse de la note E*, cf. 2.b), on s'attendrait ici, à une corrélation négative entre les variables"
   ]
  },
  {
   "cell_type": "markdown",
   "metadata": {},
   "source": [
    "#### 3.b.1 : Taille / EUI\n",
    "\n",
    "- Les batiments de type small and mid sized office semblent avoir une intensité d'utilisation energetique plus faible que les batiments de la catégorie Large Office"
   ]
  },
  {
   "cell_type": "code",
   "execution_count": null,
   "metadata": {},
   "outputs": [],
   "source": [
    "fig, (ax1) = plt.subplots(\n",
    "    ncols=1,\n",
    "    nrows=1,\n",
    "    figsize=(22, 16),\n",
    "    dpi=pc_dpi,\n",
    ")\n",
    "\n",
    "office_ptypes = [\"Small & Mid-Sized Office\", \"Large Office\"]\n",
    "\n",
    "data_ptype_off = df_seattle[df_seattle[\"PrimaryPropertyType\"].isin(office_ptypes)]\n",
    "\n",
    "ax1 = sns.boxplot(\n",
    "    x=data_ptype_off[\"PrimaryPropertyType\"],\n",
    "    y=data_ptype_off[\"SourceEUI(kWh/m2)\"],\n",
    "    data=data_ptype_off\n",
    ")\n",
    "\n",
    "###\n",
    "# Titles/Lables\n",
    "ax1.set_xticklabels(\n",
    "    labels=office_ptypes,\n",
    "    rotation=45\n",
    "    )\n",
    "fig.suptitle(\"Efficacité d'utilisation energetique en fonction de l'utilisation principale des principaux groupes de batiments |-> Bureaux uniquements\")\n",
    "#\n",
    "###\n",
    "\n",
    "plt.tight_layout()\n",
    "plt.show()\n",
    "\n",
    "print(\n",
    "    \"Small & Mid-Sized Office : \",\n",
    "    data_ptype_off[data_ptype_off[\"PrimaryPropertyType\"] == \"Small & Mid-Sized Office\"][\"SourceEUI(kWh/m2)\"].describe()\n",
    "    )\n",
    "print(\"#######################################\")\n",
    "print(\n",
    "    \"Large Office : \",\n",
    "    data_ptype_off[data_ptype_off[\"PrimaryPropertyType\"] == \"Large Office\"][\"SourceEUI(kWh/m2)\"].describe()\n",
    "    )\n"
   ]
  },
  {
   "cell_type": "markdown",
   "metadata": {},
   "source": [
    "##### <u> Observation : </u>\n",
    "- Dans ce cas les données semblent être similaires, ce qui n'etait pas le cas dans le boxplot regroupant les 6 principales categories\n",
    "- Utilisation du Student's T-Test pour verifier si la difference est significative :\n",
    "  - Les conditions préalables du T-Test, comme pour l'ANOVA sont :\n",
    "    - Homogeneite de la variance -> Test de Bartlett\n",
    "    - Residus gaussiens -> Test de Shapiro-Wilks\n",
    "    - Données independantes -> C'est le cas dans cette étude\n",
    "    - on definit alpha à 5%\n",
    "  - On formule l'hypothèse nulle H0 telle que : H0 = Les differences entre l'Intensité d'utilisation energétique ne sont pas dus à la taille des batiments de bureaux"
   ]
  },
  {
   "cell_type": "code",
   "execution_count": null,
   "metadata": {},
   "outputs": [],
   "source": [
    "alpha = 0.05\n"
   ]
  },
  {
   "cell_type": "code",
   "execution_count": null,
   "metadata": {},
   "outputs": [],
   "source": [
    "large_office_eui = df_seattle[\n",
    "        (df_seattle[\"PrimaryPropertyType\"] == \"Large Office\") &\n",
    "        (df_seattle[\"SourceEUI(kWh/m2)\"].notna())\n",
    "    ][\"SourceEUI(kWh/m2)\"]\n",
    "\n",
    "small_m_office_eui = df_seattle[\n",
    "        (df_seattle[\"PrimaryPropertyType\"] == \"Small & Mid-Sized Office\") &\n",
    "        (df_seattle[\"SourceEUI(kWh/m2)\"].notna())\n",
    "    ][\"SourceEUI(kWh/m2)\"]\n",
    "\n",
    "ttest_office = stats.ttest_ind(a=small_m_office_eui, b=large_office_eui, equal_var=False)\n",
    "\n",
    "print(ttest_office, \"\\n\", f\"p-values > alpha : {ttest_office.pvalue > alpha}\")\n"
   ]
  },
  {
   "cell_type": "code",
   "execution_count": null,
   "metadata": {},
   "outputs": [],
   "source": [
    "# Null hypothesis : homoscedasticity\n",
    "\n",
    "bartlett_test_office = stats.bartlett(large_office_eui, small_m_office_eui)\n",
    "\n",
    "print(bartlett_test_office, \"\\n\", f\"p-values > alpha : {bartlett_test_office.pvalue > alpha}\")\n"
   ]
  },
  {
   "cell_type": "markdown",
   "metadata": {},
   "source": [
    "#### Analyse du t-test 1 --> EUI :\n",
    "- Le test de Bartlett ne permet pas d'accepter l'hypothèse alternative telle que : la variance inter echantillon n'est pas homogène, on accepte l'hypothèse nulle : les variances des echantillons sont homogènes\n",
    "- Le test de Student / t-test ne permet de refuter l'hypothèse nulle telle que : H0 = L'augmentation de l'EUI n'a rien à voir avec la difference de taille des immeubles de bureau.\n",
    "- Une analyse des données brutes, avant l'élimination des valeurs aberrantes via IQR, montrait que, même si la difference d'EUI n'etait pas statistiquement significative, la note E* variait, elle, significativement en fonction de la taille des batiments\n",
    "- On realise les memes tests mais ici sur la note E*"
   ]
  },
  {
   "cell_type": "code",
   "execution_count": null,
   "metadata": {},
   "outputs": [],
   "source": [
    "fig, (ax1) = plt.subplots(\n",
    "    ncols=1,\n",
    "    nrows=1,\n",
    "    figsize=(22, 16),\n",
    "    dpi=pc_dpi,\n",
    ")\n",
    "\n",
    "office_ptypes = [\"Small & Mid-Sized Office\", \"Large Office\"]\n",
    "\n",
    "data_ptype_off = df_seattle[df_seattle[\"PrimaryPropertyType\"].isin(office_ptypes)]\n",
    "\n",
    "ax1 = sns.boxplot(\n",
    "    x=data_ptype_off[\"PrimaryPropertyType\"],\n",
    "    y=data_ptype_off[\"ENERGYSTARScore\"],\n",
    "    data=data_ptype_off\n",
    ")\n",
    "\n",
    "###\n",
    "# Titles/Lables\n",
    "ax1.set_xticklabels(\n",
    "    labels=office_ptypes,\n",
    "    rotation=45\n",
    "    )\n",
    "fig.suptitle(\"Efficacité d'utilisation energetique en fonction de l'utilisation principale des principaux groupes de batiments |-> Bureaux uniquements\")\n",
    "#\n",
    "###\n",
    "\n",
    "plt.tight_layout()\n",
    "plt.show()\n",
    "\n",
    "print(\n",
    "    \"Small & Mid-Sized Office : \",\n",
    "    data_ptype_off[data_ptype_off[\"PrimaryPropertyType\"] == \"Small & Mid-Sized Office\"][\"ENERGYSTARScore\"].describe()\n",
    "    )\n",
    "print(\"#######################################\")\n",
    "print(\n",
    "    \"Large Office : \",\n",
    "    data_ptype_off[data_ptype_off[\"PrimaryPropertyType\"] == \"Large Office\"][\"ENERGYSTARScore\"].describe()\n",
    "    )\n"
   ]
  },
  {
   "cell_type": "markdown",
   "metadata": {},
   "source": [
    "#### T-Test 2 : E*/Taille\n",
    "\n",
    "- Memes critères qu'énoncés plus haut\n",
    "- Hypothèse nulle H0 : La taille des batiments n'a pas d'influence significative sur leur note Energy Star"
   ]
  },
  {
   "cell_type": "code",
   "execution_count": null,
   "metadata": {},
   "outputs": [],
   "source": [
    "large_off_estar = df_seattle[\n",
    "        (df_seattle[\"PrimaryPropertyType\"] == \"Large Office\") &\n",
    "        (df_seattle[\"ENERGYSTARScore\"].notna())\n",
    "    ][\"ENERGYSTARScore\"].astype(int)\n",
    "\n",
    "small_med_off_estar = df_seattle[\n",
    "        (df_seattle[\"PrimaryPropertyType\"] == \"Small & Mid-Sized Office\") & \n",
    "        (df_seattle[\"ENERGYSTARScore\"].notna())\n",
    "    ][\"ENERGYSTARScore\"].astype(int)\n"
   ]
  },
  {
   "cell_type": "code",
   "execution_count": null,
   "metadata": {},
   "outputs": [],
   "source": [
    "# Null hypothesis : homoscedasticity\n",
    "\n",
    "bartlett_test_estar_off = stats.bartlett(large_off_estar, small_med_off_estar)\n",
    "\n",
    "print(bartlett_test_estar_off, \"\\n\", f\"p-values > alpha : {bartlett_test_estar_off.pvalue > alpha}\")\n"
   ]
  },
  {
   "cell_type": "code",
   "execution_count": null,
   "metadata": {},
   "outputs": [],
   "source": [
    "# Std not normally distributed with alpha @5%, using ttest ind with parameter : equal_var = False\n",
    "\n",
    "ttest_estar_off = stats.ttest_ind(a=large_off_estar, b=small_med_off_estar, equal_var=False)\n",
    "\n",
    "print(ttest_estar_off, \"\\n\", f\"p-values < alpha : {ttest_estar_off.pvalue < alpha}\")\n"
   ]
  },
  {
   "cell_type": "markdown",
   "metadata": {},
   "source": [
    "### Analyse du t-test 2 --> Bureaux/E* : \n",
    "- Le test de Bartlett ne permet pas de refuter l'hypothèse nulle telle que : la variance inter echantillon n'est pas homogène. On ajuste les parametres --> `equal_var=False`\n",
    "- Le test de Student / t-test permet de refuter l'hypothèse nulle telle que : H0 = Le baisse globale des notes n'est pas corrélée avec la taille des bureaux. On accepte l'hypothèse alternative H1, à savoir : Il existe une corrélation négative entre la taille d'un immeuble de bureau et sa note E*"
   ]
  },
  {
   "cell_type": "markdown",
   "metadata": {},
   "source": [
    "#### Il est egalement possible d'effectuer une ANOVA pour elargir le spectre de l'etude a toutes les categories"
   ]
  },
  {
   "cell_type": "markdown",
   "metadata": {},
   "source": [
    "### 4. Reduction de dimension pour alléger le dataset en vue d'exportation pour modeles predictifs\n",
    "\n",
    "Pour rendre lisible les modelisations predictives, il est necessaire de reduire la dimension du dataset pour que le moins d'attributs possibles puissent fournir le maximum d'information.\n",
    "- Dans un premier temps, il est envisageable de realiser une reduction de dimension sur les variables, si possible via ACP (si cette approche se révèle trop peu precise, les methodes non lineaires telles que T-SNE ou UMAP sont envisageables)\n",
    "- Dans un second temps, l'étude ci dessus a pu montrer que les batiments appartenant aux memes \"categories\" partagent des caracteristiques et des trends qui peuvent etre exploitables pour traiter les objets en tant que clusters plutot que separement (K-Means)"
   ]
  },
  {
   "cell_type": "markdown",
   "metadata": {},
   "source": [
    "#### 4.a : Elimination des variables inutiles la modelisation\n",
    "\n",
    "- Certaines variables sont inutiles a la modelisation. Si elles permettent de mieux comprendre la note E*, un grand nombre de variable sera inutile a la creation de modeles\n",
    "- Dans un premier temps : filtrage manuel des features\n",
    "- Creation d'une copie du df_seattle - il regroupe des features utiles a d'autres analyses (df_export)\n",
    "- On peut \"Eliminer\" la variable `OSEBuildingID` en la considerant comme l'index du dataset (unique id)"
   ]
  },
  {
   "cell_type": "code",
   "execution_count": null,
   "metadata": {},
   "outputs": [],
   "source": [
    "df_export = df_seattle\n",
    "\n",
    "print(df_export.columns)\n"
   ]
  },
  {
   "cell_type": "code",
   "execution_count": null,
   "metadata": {},
   "outputs": [],
   "source": [
    "manual_suppression_list = [\n",
    "    \"PropertyArea(SquareMetre)Parking\", \"PropertyArea(SquareMetre)Building(s)\", # row 1 & 2.1 = duplicates/parts of PropertyAreaTotal\n",
    "    \"LargestPropertyUseTypeArea(SquareMetre)\", \"PropertyName\", \"BuildingType\",\n",
    "    \"NumberofBuildings\", \"NumberofFloors\",\n",
    "    ]\n",
    "\n",
    "df_export.drop(columns=manual_suppression_list, inplace=True, errors=\"ignore\")\n",
    "df_export.set_index(\"OSEBuildingID\", inplace=True)\n",
    "\n"
   ]
  },
  {
   "cell_type": "code",
   "execution_count": null,
   "metadata": {},
   "outputs": [],
   "source": [
    "df_export.columns\n"
   ]
  },
  {
   "cell_type": "markdown",
   "metadata": {},
   "source": [
    "#### 4.a : Realisation d'une ACP sur les colonnes restantes"
   ]
  },
  {
   "cell_type": "code",
   "execution_count": null,
   "metadata": {},
   "outputs": [],
   "source": [
    "ignore_pca = [\n",
    "    \"Neighborhood\", \"PrimaryPropertyType\", \"LargestPropertyUseType\",  # Usable features in Kmeans but not relevant here\n",
    "    \"ENERGYSTARScore\" # Baseline\n",
    "]\n",
    "\n",
    "columns_pca = [col for col in df_export.columns if col not in ignore_pca]\n",
    "\n",
    "print(columns_pca)\n"
   ]
  },
  {
   "cell_type": "code",
   "execution_count": null,
   "metadata": {},
   "outputs": [],
   "source": [
    "\n",
    "data_pca = df_export[columns_pca]\n",
    "\n",
    "data_pca = data_pca.astype(float)  # All values are forced converted to float, as the columns above (columns_pca) are all numeric\n",
    "\n",
    "data_pca = data_pca.fillna(data_pca.mean())\n",
    "\n",
    "X = data_pca.values\n",
    "names = df_export.index\n",
    "features = columns_pca\n",
    "\n",
    "scaled_data = preprocessing.scale(data_pca)\n",
    "pca = PCA(n_components=len(columns_pca))\n",
    "pca.fit(scaled_data)\n",
    "pca_data = pca.transform(scaled_data)\n",
    "percentage_variation = np.round(pca.explained_variance_ratio_ * 100, decimals=1)\n",
    "\n",
    "pcs = pca.components_\n"
   ]
  },
  {
   "cell_type": "markdown",
   "metadata": {},
   "source": [
    "##### 4.a.1 : Eboulis des valeurs propres | Scree plot :"
   ]
  },
  {
   "cell_type": "code",
   "execution_count": null,
   "metadata": {},
   "outputs": [],
   "source": [
    "fig, (ax1) = plt.subplots(\n",
    "    ncols=1,\n",
    "    nrows=1,\n",
    "    figsize=(24, 10),\n",
    "    dpi=pc_dpi,\n",
    ")\n",
    "\n",
    "x_bars = np.arange(1, len(percentage_variation) + 1, 1)\n",
    "\n",
    "cummulative_percentage = np.cumsum(percentage_variation)\n",
    "\n",
    "ax1.bar(x_bars, height=percentage_variation)  # Inertia Scree\n",
    "\n",
    "###\n",
    "# Titles/Lables\n",
    "labels = [\"PC\" + str(c) for c in range (1, len(percentage_variation) + 1)]\n",
    "ax1.set_xticks(range(1, len(labels) + 1, 1))\n",
    "ax1.set_xticklabels(labels)\n",
    "ax1.set_xlabel(\"Rang des composants principaux\")\n",
    "ax1.set_ylabel(\"Pourcentage d'inertie\")\n",
    "fig.suptitle(\"Eboulis des valeurs propres (histogramme), pourcentage d'inertie cummulée (ligne rouge)\")\n",
    "ax1.text(2, 90, 'Black line : 80% marker')\n",
    "#\n",
    "###\n",
    "\n",
    "ax1.plot(ax1.get_xticks(), cummulative_percentage, marker=\"o\", color=\"r\", linewidth=1)  # Cumulative Inertia\n",
    "ax1.plot(np.arange(0, len(cummulative_percentage) + 1, 1), [80 for _ in range(0, len(cummulative_percentage) + 1)], color=\"0\", linewidth=2.5)\n",
    "fig.tight_layout()\n",
    "\n",
    "plt.show()\n"
   ]
  },
  {
   "cell_type": "markdown",
   "metadata": {},
   "source": [
    "##### Observations : \n",
    "- PC1 -> PC3 regroupent 80+% de l'intertie totale, on peut également inclure PC4 si necessaire\n",
    "- Etude des corrélations des Principaux Composants"
   ]
  },
  {
   "cell_type": "markdown",
   "metadata": {},
   "source": [
    "##### 4.a.2 : Cercles de corrélation et dataframe details :"
   ]
  },
  {
   "cell_type": "code",
   "execution_count": null,
   "metadata": {},
   "outputs": [],
   "source": [
    "pc_couples = [(0, 1), (2, 3)]\n",
    "\n",
    "for couple in pc_couples:\n",
    "    display_circles(pca=pca, pca_cols=columns_pca, couple_pc=couple)\n"
   ]
  },
  {
   "cell_type": "code",
   "execution_count": null,
   "metadata": {},
   "outputs": [],
   "source": [
    "pca_explained_df = show_contribution(pca=pca, columns_pca=columns_pca, lim_pc=4)\n",
    "\n",
    "pca_explained_df\n"
   ]
  },
  {
   "cell_type": "markdown",
   "metadata": {},
   "source": [
    "##### 4.a.3 Details des coefficients de correlation des composants principaux\n",
    "- On cherche a exprimer les valeurs telles que , pour f1 --> fn , PC = *a x f1 + b x f2 + ... + m x fn*\n",
    "- Utilisation des valeurs absolues"
   ]
  },
  {
   "cell_type": "code",
   "execution_count": null,
   "metadata": {},
   "outputs": [],
   "source": [
    "pc_one = pca_explained_df[\"PC1\"]\n",
    "pc_one.sort_values(ascending=False)\n"
   ]
  },
  {
   "cell_type": "code",
   "execution_count": null,
   "metadata": {},
   "outputs": [],
   "source": [
    "pc_two = pca_explained_df[\"PC2\"]\n",
    "print(pc_two, \"\\n\")\n",
    "\n",
    "print(\"##############################################\")\n",
    "\n",
    "pc_two.abs().sort_values(ascending=False)\n"
   ]
  },
  {
   "cell_type": "code",
   "execution_count": null,
   "metadata": {},
   "outputs": [],
   "source": [
    "pc_three = pca_explained_df[\"PC3\"]\n",
    "print(pc_three, \"\\n\")\n",
    "\n",
    "print(\"##############################################\")\n",
    "\n",
    "pc_three.abs().sort_values(ascending=False)\n"
   ]
  },
  {
   "cell_type": "code",
   "execution_count": null,
   "metadata": {},
   "outputs": [],
   "source": [
    "pc_four = pca_explained_df[\"PC4\"]\n",
    "print(pc_four, \"\\n\")\n",
    "\n",
    "print(\"##############################################\")\n",
    "\n",
    "pc_four.abs().sort_values(ascending=False)\n"
   ]
  },
  {
   "cell_type": "markdown",
   "metadata": {},
   "source": [
    "#### ACP : \n",
    "\n",
    "- PC1 : <b>46.9%</b> Explained Variance, Majoritairement composé de l'utilisation electrique et l'efficacité (Consommation/Metre Carré) et des composants de ces statistiques :\n",
    "  - SiteEnergyUse(kWh)                    0.448471\n",
    "  - SiteEnergyUseWN(kWh)                  0.446842\n",
    "  - Electricity(kWh)                      0.389923\n",
    "  - PropertyArea(SquareMetre)Total        0.313987\n",
    "  - SourceEUI(kWh/m2)                     0.301655\n",
    "  - SourceEUIWN(kWh/m2)                   0.300089\n",
    "<hr>\n",
    "\n",
    "- PC2 : <b>20.6%</b> Explained Variance, Plus gros coefficients liés à l'émission de pollution, anticorrélé avec l'utilisation electrique : \n",
    "  - GHGEmissionsIntensity(kgCO2e/ft2)     0.559182\n",
    "  - NaturalGas(kWh)                       0.510974\n",
    "  - GHGEmissions(MetricTonsCO2e)          0.421606  --> Plus polluant que l'electricité\n",
    "  - Electricity(kWh)                     -0.319903\n",
    "\n",
    "<hr>\n",
    "\n",
    "- PC3 : <b>16.1%</b> Explained Variance, très sembable à PC1 (valeurs absolues)\n",
    "\n",
    "<hr>\n",
    "\n",
    "- PC4 : <b>9%</b> Explained Variance, pratiquement entierement basé sur l'age des batiments\n",
    "\n",
    "<hr>\n",
    "\n",
    "Un modele predictif utilisant comme variables principales PC1 (utilisation electrique) et PC2 (Pollution 'directe'), avec pour baseline l'E* peut être une piste interessante.\n"
   ]
  },
  {
   "cell_type": "code",
   "execution_count": null,
   "metadata": {},
   "outputs": [],
   "source": [
    "display_circles(pca=pca, pca_cols=columns_pca, couple_pc=(0, 2))\n"
   ]
  },
  {
   "cell_type": "markdown",
   "metadata": {},
   "source": [
    "##### Verification : \n",
    "- Les fleches du cercle de corrélation PC1/PC3 ont un angle proche de 45 degrés / 135 degrés, indicant une similitude des deux composants principaux en se basant sur les valeurs absolues\n"
   ]
  },
  {
   "cell_type": "code",
   "execution_count": null,
   "metadata": {},
   "outputs": [],
   "source": [
    "pca_prep = data_pca\n"
   ]
  },
  {
   "cell_type": "code",
   "execution_count": null,
   "metadata": {},
   "outputs": [],
   "source": [
    "columns = [f\"PC{idx + 1}\" for idx in range(pca.n_components_)]\n",
    "df_pca = pd.DataFrame(pca.transform(pca_prep), columns=columns, index=pca_prep.index)\n",
    "\n",
    "df_pca.head()\n"
   ]
  },
  {
   "cell_type": "code",
   "execution_count": null,
   "metadata": {},
   "outputs": [],
   "source": [
    "## Removing cols from PC3 to PC 10\n",
    "\n",
    "df_pca.drop(columns=[f\"PC{idx}\" for idx in range(3, 11)], inplace=True)\n"
   ]
  },
  {
   "cell_type": "code",
   "execution_count": null,
   "metadata": {},
   "outputs": [],
   "source": [
    "# Renaming PC1 to Energy_consumption and PC2 to Pollution_generated\n",
    "\n",
    "df_pca.rename(columns={\n",
    "        \"PC1\": \"Energy_consumption_(PC1)\",\n",
    "        \"PC2\": \"Pollution_generated_(PC2)\"\n",
    "        },\n",
    "        inplace=True\n",
    "    )\n"
   ]
  },
  {
   "cell_type": "code",
   "execution_count": null,
   "metadata": {},
   "outputs": [],
   "source": [
    "# Adding Baseline and other infos\n",
    "\n",
    "additionnal_infos = df_export[\n",
    "        [\n",
    "        \"SourceEUI(kWh/m2)\", \"GHGEmissionsIntensity(kgCO2e/ft2)\", \"ENERGYSTARScore\"\n",
    "        ]\n",
    "    ]\n",
    "\n",
    "df_pca = df_pca.join(additionnal_infos, how=\"outer\")\n"
   ]
  },
  {
   "cell_type": "code",
   "execution_count": null,
   "metadata": {},
   "outputs": [],
   "source": [
    "print(df_pca.shape)\n",
    "df_pca.head()\n"
   ]
  },
  {
   "cell_type": "markdown",
   "metadata": {},
   "source": [
    "## Conclusion :\n",
    "\n",
    "1. Nous avons identifier les variables importantes et les synthetiser en composants principaux représentant à eux deux 67.5% de la variance et couvrant les features les plus importantes.\n",
    "2. L'analyse a révélé que des features comme le type de batiment pouvaient avoir une influence sur la note E*\n",
    "3. L'année est exportée à titre indicatif et parce que PC4 semblait fortement et majoritairement corrélé a cette variable (9% de la variance)\n",
    "4. La variable PC1 regroupe les variables les plus importantes pour le calcul de l'efficacité énergétique\n",
    "5. La variable PC2 représente la pollution généré par un batiment en grande majorité\n",
    "6. Les composants principaux ont deja été mis à l'echelle lors de l'ACP. Leur utilisation dans des algorithmes de machine learning ne causera pas de probleme de sur(sous)-représentation\n",
    "7. Sur plus de 3300 batiments initiaux, 868 ont été retenus"
   ]
  },
  {
   "cell_type": "markdown",
   "metadata": {},
   "source": [
    "#### Scaling des donnees entre elles, preservation de l'E* score\n",
    "\n",
    "#### Etude de la pertinence des deux composants principaux selectionnés\n",
    "\n",
    "- -> 1 Projection de PC1/E*\n",
    "- -> 2 Projection de PC2/E*"
   ]
  },
  {
   "cell_type": "code",
   "execution_count": null,
   "metadata": {},
   "outputs": [],
   "source": [
    "df_pca = scale_df(dataframe_to_scale=df_pca, constant_col=\"ENERGYSTARScore\")\n"
   ]
  },
  {
   "cell_type": "code",
   "execution_count": null,
   "metadata": {},
   "outputs": [],
   "source": [
    "fig, (ax1) = plt.subplots(\n",
    "    ncols=1,\n",
    "    nrows=1,\n",
    "    figsize=(22, 10),\n",
    "    dpi=pc_dpi,\n",
    ")\n",
    "\n",
    "ax1 = sns.lineplot(\n",
    "    x=\"ENERGYSTARScore\",\n",
    "    y=\"Energy_consumption_(PC1)\",\n",
    "    data=df_pca,\n",
    "    ci=20\n",
    ")\n",
    "\n",
    "\n",
    "###\n",
    "# Titles/Lables\n",
    "fig.suptitle(\"Representation PC1 moyen en fonction de note E*\")\n",
    "ax1.set_xticks(np.arange(0, 101, 5))\n",
    "#\n",
    "###\n",
    "\n",
    "fig.tight_layout()\n",
    "plt.show()\n"
   ]
  },
  {
   "cell_type": "code",
   "execution_count": null,
   "metadata": {},
   "outputs": [],
   "source": [
    "fig, (ax1) = plt.subplots(\n",
    "    ncols=1,\n",
    "    nrows=1,\n",
    "    figsize=(22, 10),\n",
    "    dpi=pc_dpi,\n",
    ")\n",
    "\n",
    "ax1 = sns.lineplot(\n",
    "    x=\"ENERGYSTARScore\",\n",
    "    y=\"Pollution_generated_(PC2)\",\n",
    "    data=df_pca,\n",
    "    ci=20\n",
    ")\n",
    "\n",
    "\n",
    "###\n",
    "# Titles/Lables\n",
    "fig.suptitle(\"Representation PC2 moyen en fonction de note E*\")\n",
    "ax1.set_xticks(np.arange(0, 101, 5))\n",
    "#\n",
    "###\n",
    "\n",
    "fig.tight_layout()\n",
    "plt.show()\n"
   ]
  },
  {
   "cell_type": "code",
   "execution_count": null,
   "metadata": {},
   "outputs": [],
   "source": [
    "fig, (ax1) = plt.subplots(\n",
    "    ncols=1,\n",
    "    nrows=1,\n",
    "    figsize=(22, 10),\n",
    "    dpi=pc_dpi,\n",
    ")\n",
    "\n",
    "ax1 = sns.lineplot(\n",
    "    x=\"ENERGYSTARScore\",\n",
    "    y=\"SourceEUI(kWh/m2)\",\n",
    "    data=df_pca,\n",
    "    ci=20\n",
    ")\n",
    "\n",
    "\n",
    "###\n",
    "# Titles/Lables\n",
    "ax1.set_xticks(np.arange(0, 101, 5))\n",
    "fig.suptitle(\"Representation SourceEUI moyen en fonction de note E*\")\n",
    "#\n",
    "###\n",
    "\n",
    "fig.tight_layout()\n",
    "plt.show()\n"
   ]
  },
  {
   "cell_type": "code",
   "execution_count": null,
   "metadata": {},
   "outputs": [],
   "source": [
    "fig, (ax1) = plt.subplots(\n",
    "    ncols=1,\n",
    "    nrows=1,\n",
    "    figsize=(22, 10),\n",
    "    dpi=pc_dpi,\n",
    ")\n",
    "\n",
    "ax1 = sns.lineplot(\n",
    "    x=\"ENERGYSTARScore\",\n",
    "    y=\"GHGEmissionsIntensity(kgCO2e/ft2)\",\n",
    "    data=df_pca,\n",
    "    ci=20\n",
    ")\n",
    "\n",
    "\n",
    "###\n",
    "# Titles/Lables\n",
    "ax1.set_xticks(np.arange(0, 101, 5))\n",
    "fig.suptitle(\"Representation d'emissions de GES moyen en fonction de note E*\")\n",
    "#\n",
    "###\n",
    "\n",
    "fig.tight_layout()\n",
    "plt.show()\n"
   ]
  },
  {
   "cell_type": "markdown",
   "metadata": {},
   "source": [
    "#### Les composants principaux ne permettent pas, à premiere vue, d'établir une corrélation entre eux et la note E*, utilité de l'ACP discutable"
   ]
  },
  {
   "cell_type": "code",
   "execution_count": null,
   "metadata": {},
   "outputs": [],
   "source": [
    "fig, (ax1) = plt.subplots(\n",
    "    ncols=1,\n",
    "    nrows=1,\n",
    "    figsize=(22, 10),\n",
    "    dpi=pc_dpi,\n",
    ")\n",
    "\n",
    "ax1 = sns.scatterplot(\n",
    "    x=\"SourceEUI(kWh/m2)\",\n",
    "    y=\"Energy_consumption_(PC1)\",\n",
    "    data=df_pca,\n",
    "    hue=\"ENERGYSTARScore\",\n",
    "    ci=20\n",
    ")\n",
    "\n",
    "\n",
    "###\n",
    "# Titles/Lables\n",
    "fig.suptitle(\"Representation SourceEUI en fonction du composant principal 1\")\n",
    "#\n",
    "###\n",
    "\n",
    "fig.tight_layout()\n",
    "plt.show()\n"
   ]
  },
  {
   "cell_type": "code",
   "execution_count": null,
   "metadata": {},
   "outputs": [],
   "source": [
    "fig, (ax1) = plt.subplots(\n",
    "    ncols=1,\n",
    "    nrows=1,\n",
    "    figsize=(22, 10),\n",
    "    dpi=pc_dpi,\n",
    ")\n",
    "\n",
    "ax1 = sns.scatterplot(\n",
    "    x=\"GHGEmissionsIntensity(kgCO2e/ft2)\",\n",
    "    y=\"Pollution_generated_(PC2)\",\n",
    "    data=df_pca,\n",
    "    hue=\"ENERGYSTARScore\",\n",
    "    ci=20\n",
    ")\n",
    "\n",
    "\n",
    "###\n",
    "# Titles/Lables\n",
    "fig.suptitle(\"Representation emission GES en fonction du composant principal 2\")\n",
    "#\n",
    "###\n",
    "\n",
    "fig.tight_layout()\n",
    "plt.show()\n"
   ]
  },
  {
   "cell_type": "code",
   "execution_count": null,
   "metadata": {},
   "outputs": [],
   "source": [
    "df_pca.to_csv(\"./data/seattle_scaled_clean_data.csv\")\n"
   ]
  }
 ],
 "metadata": {
  "interpreter": {
   "hash": "0da0af6bf3f6033f1ed3bb9a018282c9b956ccf49d2ca4646969195110973d60"
  },
  "kernelspec": {
   "display_name": "Python 3.10.4 ('env': venv)",
   "language": "python",
   "name": "python3"
  },
  "language_info": {
   "codemirror_mode": {
    "name": "ipython",
    "version": 3
   },
   "file_extension": ".py",
   "mimetype": "text/x-python",
   "name": "python",
   "nbconvert_exporter": "python",
   "pygments_lexer": "ipython3",
   "version": "3.10.4"
  },
  "orig_nbformat": 4
 },
 "nbformat": 4,
 "nbformat_minor": 2
}

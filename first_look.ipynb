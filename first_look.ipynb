{
 "cells": [
  {
   "cell_type": "code",
   "execution_count": null,
   "id": "06fc4e4a-6985-483c-b8ff-46697da107f8",
   "metadata": {},
   "outputs": [],
   "source": [
    "import pandas as pd\n",
    "import seaborn as sns\n",
    "import numpy as np\n",
    "import scipy.stats as stats\n",
    "import statsmodels.formula.api as smf\n",
    "import statsmodels.api as sm\n",
    "\n",
    "import os\n",
    "\n",
    "from matplotlib import pyplot as plt\n",
    "from dotenv import load_dotenv\n",
    "from sklearn.decomposition import PCA\n",
    "from sklearn import preprocessing\n",
    "\n",
    "from scripts.pca_fn import show_contribution, display_circles\n",
    "from scripts.merge import merge_cols, complete_df\n",
    "from scripts.convert import convert_to_holy_metric, find_unit\n",
    "\n",
    "load_dotenv()\n",
    "plt.style.use('Solarize_Light2')\n",
    "\n",
    "sns.color_palette(\"colorblind\")\n",
    "\n",
    "\n",
    "# Setting default DPI, pulling it from dotenv if it exists, setting it on 100 if not\n",
    "\n",
    "pc_dpi = int(os.getenv('DPI'))\n",
    "\n",
    "if pc_dpi is None:\n",
    "    pc_dpi = 100\n",
    "\n",
    "# Comment out this line for potential high res or override max dpi\n",
    "# if pc_dpi > 150:\n",
    "#     pc_dpi = 100  # Lowering max dpi so github doesnt have a stroke every commit\n",
    "\n",
    "# plots uploaded with over 100 dpi are too heavy\n"
   ]
  },
  {
   "cell_type": "code",
   "execution_count": null,
   "id": "141f8a10-f24d-4727-8b80-116fc6f5fab4",
   "metadata": {},
   "outputs": [],
   "source": [
    "# Files\n",
    "\n",
    "twenty_fifteen_bm = \"data/2015-building-energy-benchmarking.csv\"\n",
    "twenty_sixteen_bm = \"data/2016-building-energy-benchmarking.csv\"\n"
   ]
  },
  {
   "cell_type": "code",
   "execution_count": null,
   "id": "b37118d5-3125-4903-87c9-54c2d8de7319",
   "metadata": {},
   "outputs": [],
   "source": [
    "df_fifteen = pd.read_csv(twenty_fifteen_bm, dtype=\"unicode\", low_memory=False)\n",
    "df_sixteen = pd.read_csv(twenty_sixteen_bm, dtype=\"unicode\", low_memory=False)\n"
   ]
  },
  {
   "cell_type": "code",
   "execution_count": null,
   "id": "ef476de6-214e-4e43-8e12-5e33a0aec523",
   "metadata": {},
   "outputs": [],
   "source": [
    "print(\"info : \", df_fifteen.info())\n"
   ]
  },
  {
   "cell_type": "code",
   "execution_count": null,
   "id": "11355006",
   "metadata": {},
   "outputs": [],
   "source": [
    "print(\"info : \", df_sixteen.info())\n"
   ]
  },
  {
   "cell_type": "code",
   "execution_count": null,
   "id": "6a3cfc07",
   "metadata": {},
   "outputs": [],
   "source": [
    "id_fifteen_list = list(df_fifteen[\"OSEBuildingID\"])\n",
    "id_sixteen_list = list(df_sixteen[\"OSEBuildingID\"])\n",
    "\n",
    "only_in_fifteen = [ident for ident in id_fifteen_list if ident not in id_sixteen_list]\n",
    "only_in_sixteen = [ident for ident in id_sixteen_list if ident not in id_fifteen_list]\n",
    "\n",
    "print(\n",
    "    f\"\"\"{len(only_in_fifteen)} batiments ne sont présents que dans le benchmark 2015,\\\n",
    " et {len(only_in_sixteen)} batiments ne sont présents que dans le benchmark 2016 \"\"\"\n",
    "  )\n"
   ]
  },
  {
   "cell_type": "code",
   "execution_count": null,
   "id": "bf98ba42",
   "metadata": {},
   "outputs": [],
   "source": [
    "col_onl_fifteen = [col for col in df_fifteen.columns if col not in df_sixteen.columns]\n",
    "\n",
    "col_onl_sixteen = [col for col in df_sixteen.columns if col not in df_fifteen.columns]\n",
    "\n",
    "print(\"Nombre de variables non communes aux deux datasets : \", len(col_onl_fifteen) + len(col_onl_sixteen))\n"
   ]
  },
  {
   "cell_type": "code",
   "execution_count": null,
   "id": "7fd3c4f2",
   "metadata": {},
   "outputs": [],
   "source": [
    "print(col_onl_sixteen)\n"
   ]
  },
  {
   "cell_type": "code",
   "execution_count": null,
   "id": "57436c18",
   "metadata": {},
   "outputs": [],
   "source": [
    "print(col_onl_fifteen)\n"
   ]
  },
  {
   "cell_type": "markdown",
   "id": "12d8790d",
   "metadata": {},
   "source": [
    "# Avant propos : \n",
    "Meme si l'etude se porte sur des batiments non residentiels, certaines comparaisons, notamment taille/energie, sont interessantes car elles permettent de comparer deux sous categorie du meme groupe (dans l'etude : mid rise/ high rise) <br>\n",
    "Les modeles ne seront pas basés sur les batiments d'habitation, mais l'analyse exploratoire utilisera ces données."
   ]
  },
  {
   "cell_type": "markdown",
   "id": "b1009656",
   "metadata": {},
   "source": [
    "## Premier constat : \n",
    "\n",
    "- 1 : Les dataset n'affichent des valeurs manquantes pour des variables secondaires (i.e. : SecondLargestPropertyUseType)\n",
    "- 2 : Certaines propriétés ne sont présentes que dans un des deux dataset : elles devront être ignorés si l'on utilise une analyse d'évolution dans le temps\n",
    "- 3 : Certaines variables ne sont pas presentes dans les deux datasets. (Ou changement de denomination : Address -> Location ?, Typos : Zip Code vs Zipcode)\n",
    "- 4 : Les variables : city et state peuvent être supprimées : toutes les propriétés se trouvent à Seattle, dans l'Etat de Washington. Inutile d'alourdir les datasets.\n",
    "- 5 : 56 batiments ne sont présents que dans le benchmark 2015, et 92 batiments ne sont présents que dans le benchmark 2016. Ils seront ignorés.\n",
    "- --> Certaines variables ont le label \"WN\" (Weather Normalized). Meme si cette donnée n'est pas quantifiable sans une analyse météo précise, il est clair que certaines entreprises utilisent sciemment certains materiaux ou méthodes de construction dont les propriétés face aux phénomèmes météorologiques sont suffisamment remarquables pour que la difference ne soit pas ignorée dans cette étude ; Ainsi, certaines données afficheront une meilleure (ou moins bonne) efficacite energetique face a certaines conditions. Cela ne doit pas etre ignore meme si complique a quantifier.\n",
    "\n",
    "<hr> \n",
    "\n",
    "## Allegement et conversions :\n",
    "\n",
    "- 0 : Suppression des outliers, les metadonnées n'apportent pas d'information spécifique sur la définition d'outlier\n",
    "- 1 : Plusieurs variables sont inutiles au datasets en general (Droplist)\n",
    "- 2 : Certaines variables sont inutiles à l'étude et alourdissent inutilement le dataset mais peuvent être pertinentes pour décrire le batiment ou obtenir plus d'informations, elles sont écartées (df_meta)\n",
    "- 3 : Le format d'adresse sur les données de 2015 est différent de celles de 2016 : compression des données de 2016 pour conformer au modèle du dataset 2015 (compress cols)\n",
    "- 4 : Conversion des données au système métrique / international\n"
   ]
  },
  {
   "cell_type": "code",
   "execution_count": null,
   "id": "1340a2e2",
   "metadata": {},
   "outputs": [],
   "source": [
    "df_sixteen = df_sixteen[df_sixteen[\"Outlier\"].isna()]\n",
    "df_fifteen = df_fifteen[df_fifteen[\"Outlier\"].isna()]\n"
   ]
  },
  {
   "cell_type": "code",
   "execution_count": null,
   "id": "5889251e",
   "metadata": {},
   "outputs": [],
   "source": [
    "rename_sixteen = {\n",
    "    \"Comments\": \"Comment\",\n",
    "    \"TotalGHGEmissions\": \"GHGEmissions(MetricTonsCO2e)\",\n",
    "    \"GHGEmissionsIntensity\": \"GHGEmissionsIntensity(kgCO2e/ft2)\",\n",
    "    }\n",
    "\n",
    "droplist = [\n",
    "    \"Zip Codes\", \"Zipcode\", \"SPD Beats\", \"2010 Census Tracts\", \"City Council Districts\",\n",
    "    \"Seattle Police Department Micro Community Policing Plan Areas\", \"OtherFuelUse(kBtu)\",  # OtherFuelUse not present in both datasets\n",
    "    \"SPD Beats\", \"CouncilDistrictCode\", \"Outlier\", \"DataYear\", \"ZipCode\", \"NaturalGas(therms)\",  # Natural gas already present in another unit\n",
    "    ]\n",
    "\n",
    "# Columns not relevant to study but informative on the properties\n",
    "meta_df_cols = [\n",
    "    \"TaxParcelIdentificationNumber\", \"YearsENERGYSTARCertified\", \"Comment\", \"Location\", \"OSEBuildingID\",\n",
    "    \"PrimaryPropertyType\", \"PropertyName\", \"YearBuilt\"\n",
    "    ]\n",
    "\n",
    "meta_keep = [\"OSEBuildingID\", \"PrimaryPropertyType\", \"PropertyName\", \"YearBuilt\"]\n",
    "\n",
    "compress_cols = [\"Address\", \"City\", \"State\", \"Latitude\", \"Longitude\"]\n"
   ]
  },
  {
   "cell_type": "code",
   "execution_count": null,
   "id": "3b87f040",
   "metadata": {},
   "outputs": [],
   "source": [
    "df_fifteen.drop(columns=droplist, errors=\"ignore\", inplace=True)\n",
    "df_sixteen.drop(columns=droplist, errors=\"ignore\", inplace=True)\n"
   ]
  },
  {
   "cell_type": "code",
   "execution_count": null,
   "id": "fc69c34f",
   "metadata": {},
   "outputs": [],
   "source": [
    "df_sixteen[\"Location\"] = np.nan\n",
    "\n",
    "merge_cols(origin_col_list=compress_cols, target_col_name=\"Location\", dataframe=df_sixteen)\n",
    "\n",
    "df_sixteen.drop(columns=compress_cols, inplace=True)\n"
   ]
  },
  {
   "cell_type": "code",
   "execution_count": null,
   "id": "2660c09e",
   "metadata": {},
   "outputs": [],
   "source": [
    "df_sixteen.rename(columns=rename_sixteen, inplace=True)\n",
    "\n",
    "for col in df_sixteen.columns:\n",
    "    if col not in df_fifteen.columns:\n",
    "        raise BaseException(\"Mismatch\")\n"
   ]
  },
  {
   "cell_type": "code",
   "execution_count": null,
   "id": "d750fb9e",
   "metadata": {},
   "outputs": [],
   "source": [
    "meta_df_fifteen = df_fifteen[meta_df_cols]\n",
    "meta_df_sixteen = df_sixteen[meta_df_cols]\n",
    "\n",
    "meta_drop = [col for col in meta_df_cols if col not in meta_keep]\n",
    "\n",
    "df_fifteen.drop(columns=meta_drop, inplace=True)\n",
    "df_sixteen.drop(columns=meta_drop, inplace=True)\n"
   ]
  },
  {
   "cell_type": "code",
   "execution_count": null,
   "id": "cecf12c0",
   "metadata": {},
   "outputs": [],
   "source": [
    "unit_stop_chars = [\"(\", \")\", \"GFA\"]\n",
    "\n",
    "manual_ignore = [\"Electricity(kWh)\", \"GHGEmissions(MetricTonsCO2e)\", \"GHGEmissionsIntensity(kgCO2e/ft2)\"]\n",
    "\n",
    "unit_cols = [col for col in df_fifteen.columns if (any(char in col for char in unit_stop_chars) and col not in manual_ignore)]\n"
   ]
  },
  {
   "cell_type": "code",
   "execution_count": null,
   "id": "d8b5e778",
   "metadata": {},
   "outputs": [],
   "source": [
    "unit_dict = dict.fromkeys(unit_cols)\n",
    "\n",
    "for col in unit_dict.keys(): \n",
    "    unit = find_unit(var_name=col, convert=True)[\"converted_unit\"]\n",
    "\n",
    "    if \"GFA\" in col:\n",
    "        new_name = col.replace(\"GFA\", \"Area(SquareMetre)\")\n",
    "    elif (\"(\"and \")\") in col:\n",
    "        start, end = col.find(\"(\"), col.find(\")\")\n",
    "        before = col[:start + 1]\n",
    "        after = col[end:]\n",
    "        new_name = f\"{before}{unit}{after}\"\n",
    "    \n",
    "    df_fifteen[new_name] = np.nan\n",
    "    df_sixteen[new_name] = np.nan\n",
    "    unit_dict[col] = new_name\n",
    "\n",
    "for key, value in unit_dict.items():\n",
    "\n",
    "    for index, series in df_fifteen.iterrows():\n",
    "        df_fifteen.at[index, value] = convert_to_holy_metric(data=series[key], var_name=key)\n",
    "    for index, series in df_sixteen.iterrows():\n",
    "        df_sixteen.at[index, value] = convert_to_holy_metric(data=series[key], var_name=key)\n",
    "\n",
    "df_fifteen.drop(columns=unit_dict.keys(), inplace=True)\n",
    "df_sixteen.drop(columns=unit_dict.keys(), inplace=True)\n"
   ]
  },
  {
   "cell_type": "code",
   "execution_count": null,
   "id": "ae7b4393",
   "metadata": {},
   "outputs": [],
   "source": [
    "# Suppression des batiments non communs aux deux datasets via leur ID\n",
    "\n",
    "df_fifteen = df_fifteen[~df_fifteen[\"OSEBuildingID\"].isin(only_in_fifteen)]\n",
    "\n",
    "df_sixteen = df_sixteen[~df_sixteen[\"OSEBuildingID\"].isin(only_in_sixteen)]\n"
   ]
  },
  {
   "cell_type": "markdown",
   "id": "3c77d95d",
   "metadata": {},
   "source": [
    "## Analyse des données :\n",
    "- 1.a : Représentation des batiments en fonction de leurs dates de construction.\n",
    "- 1.b : Visualisation des statistiques principales de la variable : Energie par metre carré\n",
    "- 1.c : Paire 1 : Date de construction et utilisation en energie par metre carré.\n",
    "- 2.a : Repartition de la note Energy Star au sein des données.\n",
    "- 2.b : Paire 2 : Note Energy Star en fonction de l'energie par metre carré.\n",
    "- 3 : Paire 3 : Energy Star en fonction de l'année de construction.\n",
    "- 4 : Représentation Property Type/Utilisation Energie\n",
    "\n",
    "### Cette analyse permettra de :\n",
    " - Visualiser \"l'age\" du paysage de Seattle\n",
    " - Contextualiser la mesure de la consommation d'énergie au metre carré, et sa possible relation avec l'age des batiments\n",
    " - Avoir une meilleure comprehension de la variable Energy Star et de la présenter face à l'age des batiments et de leur consommation en energie"
   ]
  },
  {
   "cell_type": "markdown",
   "id": "0b97fbcf",
   "metadata": {},
   "source": [
    "<hr>\n",
    "\n",
    "# I : Analyse d'un seul dataset"
   ]
  },
  {
   "cell_type": "markdown",
   "id": "c88960e6",
   "metadata": {},
   "source": [
    "# II : Reduction de dimension, normalisation et fusion des datasets\n",
    "\n",
    "<hr>"
   ]
  },
  {
   "cell_type": "markdown",
   "id": "f7cde5c2",
   "metadata": {},
   "source": [
    "# I : Analyse séparée\n",
    "## 1 : L'age des batiments et leur consommation en energie\n",
    "### 1.a : L'age du paysage de Seattle"
   ]
  },
  {
   "cell_type": "code",
   "execution_count": null,
   "id": "ef2458bd",
   "metadata": {},
   "outputs": [],
   "source": [
    "# We can use df_16 since the data is more recent for energy use and didnt change for construction date\n",
    "\n",
    "data_age = list(df_sixteen[\"YearBuilt\"].astype(int))\n",
    "oldest = min(data_age)\n",
    "youngest = max(data_age)\n",
    "\n",
    "print(f\"Le plus ancien batiment date de {oldest}, le plus récent (en 2016) date de {youngest}\")\n"
   ]
  },
  {
   "cell_type": "code",
   "execution_count": null,
   "id": "f2f0b5cf",
   "metadata": {},
   "outputs": [],
   "source": [
    "decades = np.arange(1900, 2020, 10)\n",
    "\n",
    "building_per_decade = dict.fromkeys(decades)\n",
    "\n",
    "for decade in building_per_decade.keys():\n",
    "    built = len([year for year in data_age if (year > decade and year < decade + 10)])\n",
    "    building_per_decade[decade] = built\n",
    "\n",
    "used_cmap = plt.get_cmap(\"Dark2\")\n",
    "\n",
    "fig, (ax1, ax2) = plt.subplots(\n",
    "    ncols=2,\n",
    "    nrows=1,\n",
    "    figsize=(22, 10),\n",
    "    gridspec_kw={\"width_ratios\": [1, 4]},\n",
    "    dpi=pc_dpi\n",
    "    )\n",
    "\n",
    "ax1.boxplot(data_age, showmeans=True, widths=0.25)\n",
    "\n",
    "ax2.bar(building_per_decade.keys(), height=building_per_decade.values(), width=8, color=used_cmap.colors)\n",
    "# ax2 lineplot\n",
    "\n",
    "###\n",
    "# Titles & Labels\n",
    "ax1.set_ylabel(\"Annee de construction\")\n",
    "ax2.set_ylabel(\"Nombre de batiments construits\")\n",
    "ax2.set_xlabel(\"Annee de construction\")\n",
    "fig.suptitle(\"Reprerenation des batiments en fonction de leur annee de construction\")\n",
    "fig.tight_layout()\n",
    "#\n",
    "###\n",
    "\n",
    "plt.show()\n"
   ]
  },
  {
   "cell_type": "markdown",
   "id": "165f1ed0",
   "metadata": {},
   "source": [
    "Comment Zone"
   ]
  },
  {
   "cell_type": "markdown",
   "id": "eeee8a04",
   "metadata": {},
   "source": [
    "## 1.b Visualisation des statistiques principales de la variable : Energie par metre carré"
   ]
  },
  {
   "cell_type": "code",
   "execution_count": null,
   "id": "390552f3",
   "metadata": {},
   "outputs": [],
   "source": [
    "fig, (ax1, ax2) = plt.subplots(\n",
    "    ncols=2,\n",
    "    nrows=1,\n",
    "    figsize=(22, 12),\n",
    "    dpi=pc_dpi,\n",
    "    )\n",
    "\n",
    "site_eui_data = list(df_sixteen[\"SiteEUI(kWh/m2)\"].values.astype(float))\n",
    "\n",
    "sns.boxplot(data=site_eui_data, width=0.6, ax=ax1, color=\"navy\")\n",
    "ax1.set_ylim(0, 500)  # High number of outliers, cf describe\n",
    "sns.boxplot(data=site_eui_data, width=0.6, ax=ax2, color=\"red\")\n",
    "# fig.tight_layout()\n",
    "\n",
    "###\n",
    "# Titles/Lables\n",
    "ax1.set_ylabel(\"Consommation d'energie (kWh/m2)\")\n",
    "fig.suptitle(\"Visualisation de la repartition de l'EUI parmi les données (energy use intensity)\\\n",
    " gauche : zoom sur 0-500kW/m2\")\n",
    "#\n",
    "###\n",
    "\n",
    "plt.show()\n",
    "\n",
    "print(df_sixteen[\"SiteEUI(kWh/m2)\"].astype(float).describe())\n"
   ]
  },
  {
   "cell_type": "markdown",
   "id": "9b23ba62",
   "metadata": {},
   "source": [
    "# Analyse :\n",
    "\n",
    "- 1 : Les outliers sont extrèmement nombreux, uniquement dans les utilisations \"hautes\"\n",
    "- 2 : La majorité des batiments ont une EUI entre 87 et 190 kWh/m2, 170 en moyenne.\n",
    "- 3 : L'élimination de batiments via la methode interquartile peut être viable, la reduction de dimension via ACP peut également être une piste"
   ]
  },
  {
   "cell_type": "markdown",
   "id": "df20ccc9",
   "metadata": {},
   "source": [
    "Corrections requises : typos et \\n"
   ]
  },
  {
   "cell_type": "markdown",
   "id": "6f71612a",
   "metadata": {},
   "source": [
    "### Possibilité de valider et ameliorer ce groupement via Kmeans"
   ]
  },
  {
   "cell_type": "markdown",
   "id": "a6f90086",
   "metadata": {},
   "source": [
    "### 1.c : Paire 1 : Date de construction et utilisation en energie par metre carré."
   ]
  },
  {
   "cell_type": "code",
   "execution_count": null,
   "id": "b1e7e764",
   "metadata": {},
   "outputs": [],
   "source": [
    "fig, (ax1) = plt.subplots(\n",
    "    ncols=1,\n",
    "    nrows=1,\n",
    "    figsize=(22, 10),\n",
    "    dpi=pc_dpi,\n",
    ")\n",
    "\n",
    "ax1.scatter(\n",
    "    x=df_sixteen[\"YearBuilt\"].astype(int).values,\n",
    "    y=df_sixteen[\"SiteEUI(kWh/m2)\"].values.astype(float),\n",
    "    )\n",
    "\n",
    "###\n",
    "# Titles/Lables\n",
    "ax1.set_ylabel(\"SiteEUI(kWh/m2)\")\n",
    "ax1.set_xlabel(\"Année de construction\")\n",
    "fig.suptitle(\"Visualisation de 'l'energy use intensity' en fonction de l'année de construction des batiments\")\n",
    "#\n",
    "###\n",
    "fig.tight_layout()\n",
    "plt.show()\n"
   ]
  },
  {
   "cell_type": "markdown",
   "id": "979497d3",
   "metadata": {},
   "source": [
    "### Observation : \n",
    "- L'age des batiments ne semble pas avoir d'impact sur leur intensité d'utilisation énergétique. On peut emettre l'hypothèse que les batiments les plus anciens ont été modernisés pour avoir une consommation energetique plus responsable.\n",
    "- Que cette hypothèse soit vraie ou fausse, le graphique ci dessus ne semble pas montrer une corréllation claire entre l'age d'un batiment et l'intensité de son utilisation energetique.\n",
    "- On peut verifier cela avec un diagramme en barres, qui serait plus pertinent pour visualiser ces chiffres."
   ]
  },
  {
   "cell_type": "code",
   "execution_count": null,
   "id": "1ea77178",
   "metadata": {},
   "outputs": [],
   "source": [
    "fig, (ax1) = plt.subplots(\n",
    "    ncols=1,\n",
    "    nrows=1,\n",
    "    figsize=(22, 12),\n",
    "    dpi=pc_dpi,\n",
    ")\n",
    "\n",
    "ax1 = sns.barplot(\n",
    "    x=df_sixteen[\"YearBuilt\"].astype(int).values,\n",
    "    y=df_sixteen[\"SiteEUI(kWh/m2)\"].values.astype(float),\n",
    "    ci=None\n",
    ")\n",
    "\n",
    "###\n",
    "# Titles/Lables\n",
    "ax1.set_xticklabels([])\n",
    "ax1.set_ylabel(\"SiteEUI(kWh/m2)\")\n",
    "ax1.set_xlabel(\"Année de construction (1900 - 2016)\")\n",
    "fig.suptitle(\"Visualisation de 'l'energy use intensity' en fonction de l'année de construction des batiments\")\n",
    "\n",
    "#\n",
    "###\n",
    "fig.tight_layout()\n",
    "plt.show()\n"
   ]
  },
  {
   "cell_type": "markdown",
   "id": "034a3fbb",
   "metadata": {},
   "source": [
    "### L'utilisation d'un autre type de visualisation confirme qu'on ne peut pas, de facon fiable, corréler l'intensité de l'utilisation energetique avec l'age d'un batiment"
   ]
  },
  {
   "cell_type": "markdown",
   "id": "e18dae42",
   "metadata": {},
   "source": [
    "## 2.a La variable Energy Star au sein des données"
   ]
  },
  {
   "cell_type": "code",
   "execution_count": null,
   "id": "0d9ab4b2",
   "metadata": {},
   "outputs": [],
   "source": [
    "fig, (ax1) = plt.subplots(\n",
    "    ncols=1,\n",
    "    nrows=1,\n",
    "    figsize=(22, 12),\n",
    "    dpi=pc_dpi,\n",
    ")\n",
    "\n",
    "rated = df_sixteen[df_sixteen[\"ENERGYSTARScore\"].notna()]\n",
    "scores = list(rated[\"ENERGYSTARScore\"].astype(int).values)\n",
    "score_range = range(0, 101, 1)\n",
    "scores_dict = dict.fromkeys(score_range)\n",
    "\n",
    "for score in scores_dict.keys():\n",
    "    scores_dict[score] = scores.count(score)\n",
    "\n",
    "ax1.bar(\n",
    "    x=list(scores_dict.keys()),\n",
    "    height=list(scores_dict.values()),\n",
    "    color=used_cmap.colors,\n",
    "    width=1\n",
    "    )\n",
    "\n",
    "####\n",
    "## Titles/Lables\n",
    "ax1.set_ylabel(\"Nombre de batiments\")\n",
    "ax1.set_xlabel(\"Note Energy Star (0-100)\")\n",
    "fig.suptitle(\"Répartition de la note Energy Star au sein du dataset (2016)\")\n",
    "##\n",
    "####\n",
    "\n",
    "fig.tight_layout()\n",
    "\n",
    "plt.show()\n"
   ]
  },
  {
   "cell_type": "markdown",
   "id": "a6f5aac3",
   "metadata": {},
   "source": [
    "### Repartition des notes Energy Star au sein du jeu de données."
   ]
  },
  {
   "cell_type": "markdown",
   "id": "c148d6b3",
   "metadata": {},
   "source": [
    "## 2.b : Paire 2 : Note Energy Star en fonction de l’énergie par mètre carré."
   ]
  },
  {
   "cell_type": "code",
   "execution_count": null,
   "id": "4ae64c44",
   "metadata": {},
   "outputs": [],
   "source": [
    "fig, (ax1) = plt.subplots(\n",
    "    ncols=1,\n",
    "    nrows=1,\n",
    "    figsize=(22, 10),\n",
    "    dpi=pc_dpi,\n",
    ")\n",
    "\n",
    "ax1 = sns.barplot(\n",
    "    x=rated[\"ENERGYSTARScore\"].values.astype(int),\n",
    "    y=rated[\"SiteEUI(kWh/m2)\"].values.astype(float),\n",
    "    ci=10\n",
    ")\n",
    "\n",
    "\n",
    "###\n",
    "# Titles/Lables\n",
    "ax1.set_xticks(np.arange(-1, 101, 5))\n",
    "ax1.set_ylabel(\"SiteEUI(kWh/m2)\")\n",
    "ax1.set_xlabel(\"Energy Star Score (0-100)\")\n",
    "fig.suptitle(\"Visualisation de 'l'energy use intensity' en fonction de la note E* des batiments\")\n",
    "#\n",
    "###\n",
    "\n",
    "fig.tight_layout()\n",
    "plt.show()\n"
   ]
  },
  {
   "cell_type": "markdown",
   "id": "f19a99ac",
   "metadata": {},
   "source": [
    "### Observation \n",
    "- On peut observer ici un lien clair entre le Score Energy Star (E*) et l'intensité d'utilisation énergétique (EUI). Le lien est logique dans ce cas : le site E* explique que, entre autres, l'utilisation d'énergie est un facteur.\n",
    "- Le site internet d'E* fourni également une motivation pour l'obtention de cette note : un batiment est \"Energy Star Certified\" lorsque sa note est supérieure ou égale à 75 (ce qui peut expliquer le pic autour de cette note : les developpeurs immobiliers ont interèt à obtenir cette certification)"
   ]
  },
  {
   "cell_type": "markdown",
   "id": "e0988b95",
   "metadata": {},
   "source": [
    "## Paire 3 : Rapport entre E* et année de construction :"
   ]
  },
  {
   "cell_type": "code",
   "execution_count": null,
   "id": "9c9e4443",
   "metadata": {},
   "outputs": [],
   "source": [
    "fig, (ax1) = plt.subplots(\n",
    "    ncols=1,\n",
    "    nrows=1,\n",
    "    figsize=(22, 12),\n",
    "    dpi=pc_dpi,\n",
    ")\n",
    "\n",
    "years_list = list(df_sixteen[df_sixteen[\"YearBuilt\"].notna()][\"YearBuilt\"].values)\n",
    "year_keys = []\n",
    "for year in years_list:\n",
    "    if year not in year_keys:\n",
    "        year_keys.append(year)\n",
    "\n",
    "year_keys.sort()\n",
    "\n",
    "year_dict = dict.fromkeys(year_keys)\n",
    "\n",
    "for key in year_dict.keys():\n",
    "    temp = df_sixteen[(df_sixteen[\"YearBuilt\"] == key) & (df_sixteen[\"ENERGYSTARScore\"].notna())]\n",
    "    scores = [int(i) for i in temp[\"ENERGYSTARScore\"]]\n",
    "    try:\n",
    "        mean = sum(scores) / len(scores)\n",
    "        year_dict[key] = mean\n",
    "    except ZeroDivisionError:\n",
    "        year_dict[key] = 0\n",
    "\n",
    "ax1.bar(\n",
    "    x=list(year_dict.keys()),\n",
    "    height=list(year_dict.values()),\n",
    "    color=used_cmap.colors,\n",
    "    width=1,\n",
    "    )\n",
    "\n",
    "###\n",
    "# Titles/Lables\n",
    "ax1.set_xticks(np.arange(0, len(list(year_dict.keys())), 5))\n",
    "ax1.set_yticks(np.arange(0, 100, 5))\n",
    "ax1.set_ylabel(\"Note Energie Star Moyenne\")\n",
    "ax1.set_xlabel(\"Année de construction (1900, 2015)\")\n",
    "fig.suptitle(\"Représentation de la moyenne E* des batiments en fonction de leur année de construction\")\n",
    "#\n",
    "###\n",
    "\n",
    "fig.tight_layout()\n",
    "plt.show()\n",
    "\n",
    "# += Scatterplot\n"
   ]
  },
  {
   "cell_type": "markdown",
   "id": "c8fc74cd",
   "metadata": {},
   "source": [
    "### Observation :\n",
    "- L'année de construction ne semble pas de lien clair avec la note E* - Cela peut venir, comme ecrit plus haut, de travaux de modernisation par exemple."
   ]
  },
  {
   "cell_type": "markdown",
   "id": "ea7ab14b",
   "metadata": {},
   "source": [
    "## 4 : Note E* en fonction du type de batiment étudié"
   ]
  },
  {
   "cell_type": "code",
   "execution_count": null,
   "id": "97b8eabd",
   "metadata": {},
   "outputs": [],
   "source": [
    "print(2015)\n",
    "\n",
    "uniques = df_fifteen[\"PrimaryPropertyType\"].unique()\n",
    "unique_property_fifteen_type_dict = dict.fromkeys(uniques)\n",
    "for unique in unique_property_fifteen_type_dict.keys():\n",
    "    unique_property_fifteen_type_dict[unique] = len(df_fifteen[df_fifteen[\"PrimaryPropertyType\"] == unique])\n",
    "\n",
    "unique_property_fifteen_type_dict\n"
   ]
  },
  {
   "cell_type": "code",
   "execution_count": null,
   "id": "58509aac",
   "metadata": {},
   "outputs": [],
   "source": [
    "uniques = df_fifteen[\"BuildingType\"].unique()\n",
    "unique_fifteen_btype_dict = dict.fromkeys(uniques)\n",
    "for unique in unique_fifteen_btype_dict.keys():\n",
    "    unique_fifteen_btype_dict[unique] = len(df_fifteen[df_fifteen[\"BuildingType\"] == unique])\n",
    "\n",
    "unique_fifteen_btype_dict\n"
   ]
  },
  {
   "cell_type": "code",
   "execution_count": null,
   "id": "e52ea287",
   "metadata": {},
   "outputs": [],
   "source": [
    "print(2016)\n",
    "\n",
    "uniques = df_sixteen[\"PrimaryPropertyType\"].unique()\n",
    "unique_property_sixteen_type_dict = dict.fromkeys(uniques)\n",
    "for unique in unique_property_sixteen_type_dict.keys():\n",
    "    unique_property_sixteen_type_dict[unique] = len(df_sixteen[df_sixteen[\"PrimaryPropertyType\"] == unique])\n",
    "\n",
    "unique_property_sixteen_type_dict\n"
   ]
  },
  {
   "cell_type": "code",
   "execution_count": null,
   "id": "f86688a9",
   "metadata": {},
   "outputs": [],
   "source": [
    "uniques = df_sixteen[\"BuildingType\"].unique()\n",
    "unique_property_fivteen_btype_dict = dict.fromkeys(uniques)\n",
    "for unique in unique_property_fivteen_btype_dict.keys():\n",
    "    unique_property_fivteen_btype_dict[unique] = len(df_sixteen[df_sixteen[\"BuildingType\"] == unique])\n",
    "\n",
    "unique_property_fivteen_btype_dict\n"
   ]
  },
  {
   "cell_type": "markdown",
   "id": "72413432",
   "metadata": {},
   "source": [
    "## Objectifs :\n",
    "\n",
    "- Mettre en évidence une différence suffisamment significative pour considerer les batiments en tant que differentes classes\n",
    "- Démontrer l'interêt d'une classification issue du ML (k-means par exemple)\n",
    "- Accélerer la classification des batiments en se basant, si possible, partiellement sur le type de batiment\n",
    "\n",
    "## Pre-traitement : \n",
    "- Correction des typos, chariage returns, tabulations, double espaces etc.\n",
    "- Groupement manuel de types similaires manuellement, non évident pour une machine (i.e. : Lab & Senior Facility in medical)\n",
    "- Elimination des types rares (--> others)"
   ]
  },
  {
   "cell_type": "code",
   "execution_count": null,
   "id": "d3c33ef2",
   "metadata": {},
   "outputs": [],
   "source": [
    "for key in unique_property_fifteen_type_dict.keys():\n",
    "    if key not in unique_property_sixteen_type_dict.keys():\n",
    "        unique_property_sixteen_type_dict[key] = \"Primary Type Changed\"\n",
    "    elif key in unique_property_sixteen_type_dict.keys():\n",
    "        pass\n",
    "\n",
    "unique_common_ptype = unique_property_sixteen_type_dict\n",
    "unique_common_ptype\n"
   ]
  },
  {
   "cell_type": "markdown",
   "id": "044e9d76",
   "metadata": {},
   "source": [
    "## Observations :\n",
    "- SPS -> Seattle Public School\n",
    "- K12 -> Shool -> from kindergarten to 12th grade\n",
    "- Typos, doubles espaces etc.\n",
    "- Pré groupement via généralisation"
   ]
  },
  {
   "cell_type": "code",
   "execution_count": null,
   "id": "c3642495",
   "metadata": {},
   "outputs": [],
   "source": [
    "correction_dict = {\n",
    "    \"Self-Storage Facility\\n\": \"Self-Storage Facility\",  # Possibly warehouse\n",
    "    \"Small- and Mid-Sized Office\": \"Small & Mid-Sized Office\",\n",
    "    \"Restaurant\\n\": \"Restaurant\",\n",
    "    \"Distribution Center\\n\": \"Supermarket & Grocery store\",\n",
    "    \"Distribution Center\": \"Supermarket & Grocery store\",\n",
    "    \"Supermarket/Grocery Store\": \"Supermarket & Grocery store\",\n",
    "    \"Supermarket / Grocery Store\": \"Supermarket & Grocery store\",\n",
    "    \"SPS-District K-12\": \"K-12 School\",\n",
    "    \"Senior Care Community\": \"Small & Medium medical facility\",  # Unsure\n",
    "    \"Laboratory\": \"Small & Medium medical facility\",  # Unsure\n",
    "    \"Medical Office\": \"Small & Medium medical facility\",  # Unsure\n",
    "    \"Small- and Mid-Sized Office\": \"Small & Mid-Sized Office\",\n",
    "    \"Non-Refrigerated Warehouse\": \"Warehouse\",\n",
    "    \"Residence Hall/Dormitory\": \"Residence Hall\",\n",
    "    \"University\": \"College/University\",\n",
    "    \"Retail Store\": \"Supermarket & Grocery store\",\n",
    "    \"Self-Storage Facility\": \"Warehouse\",  # Unsure\n",
    "}\n",
    "\n",
    "len(correction_dict.keys())\n"
   ]
  },
  {
   "cell_type": "code",
   "execution_count": null,
   "id": "aa0a2950",
   "metadata": {},
   "outputs": [],
   "source": [
    "for key in correction_dict.keys():\n",
    "    df_fifteen[\"PrimaryPropertyType\"].replace(to_replace=key, value=correction_dict[key], inplace=True)\n",
    "    df_sixteen[\"PrimaryPropertyType\"].replace(to_replace=key, value=correction_dict[key], inplace=True)\n"
   ]
  },
  {
   "cell_type": "code",
   "execution_count": null,
   "id": "1e6227c2",
   "metadata": {},
   "outputs": [],
   "source": [
    "df_sixteen[\"PrimaryPropertyType\"].value_counts()\n"
   ]
  },
  {
   "cell_type": "code",
   "execution_count": null,
   "id": "fd7ea01f",
   "metadata": {},
   "outputs": [],
   "source": [
    "select_eight = [\n",
    "    \"Mid-Rise Multifamily\", \"Small & Mid-Sized Office\", \"Warehouse\", \"Supermarket & Grocery store\",\n",
    "    \"K-12 School\", \"Large Office\", \"High-Rise Multifamily\", \"Small & Medium medical facility\",\n",
    "]\n"
   ]
  },
  {
   "cell_type": "code",
   "execution_count": null,
   "id": "c9fa1f50",
   "metadata": {},
   "outputs": [],
   "source": [
    "# EUI / E* , color code property type, sample based on smallest group size\n",
    "\n",
    "fig, (ax1) = plt.subplots(\n",
    "    ncols=1,\n",
    "    nrows=1,\n",
    "    figsize=(22, 16),\n",
    "    dpi=pc_dpi,\n",
    ")\n",
    "\n",
    "data_ptype = df_sixteen[df_sixteen[\"PrimaryPropertyType\"].isin(select_eight)]\n",
    "\n",
    "ax1 = sns.boxplot(\n",
    "    x=data_ptype[\"PrimaryPropertyType\"],\n",
    "    y=data_ptype[\"SiteEUI(kWh/m2)\"],\n",
    "    data=data_ptype\n",
    ")\n",
    "\n",
    "###\n",
    "# Titles/Lables\n",
    "ax1.set_xticklabels(\n",
    "    labels=select_eight,\n",
    "    rotation=45\n",
    "    )\n",
    "ax1.set_ylim(0, 1000)  # few outliers above\n",
    "fig.suptitle(\"Efficacité d'utilisation energetique en fonction de l'utilisation principale des principaux groupes de batiments\")\n",
    "\n",
    "#\n",
    "###\n",
    "\n",
    "plt.tight_layout()\n",
    "plt.show()\n"
   ]
  },
  {
   "cell_type": "code",
   "execution_count": null,
   "id": "5dd16268",
   "metadata": {},
   "outputs": [],
   "source": [
    "fig, (ax1) = plt.subplots(\n",
    "    ncols=1,\n",
    "    nrows=1,\n",
    "    figsize=(22, 16),\n",
    "    dpi=pc_dpi,\n",
    ")\n",
    "\n",
    "ax1 = sns.scatterplot(\n",
    "    x=\"PropertyArea(SquareMetre)Total\",\n",
    "    y=\"SiteEnergyUse(kWh)\",\n",
    "    hue=\"PrimaryPropertyType\",\n",
    "    data=data_ptype\n",
    ")\n",
    "\n",
    "###\n",
    "# Titles/Lables\n",
    "fig.suptitle(\"Utilisation d'energie en fonction de la taille des batiments, nuancés par leur utilisation principale\")\n",
    "#\n",
    "###\n",
    "\n",
    "plt.tight_layout()\n",
    "plt.show()\n"
   ]
  },
  {
   "cell_type": "code",
   "execution_count": null,
   "id": "a1e41f04",
   "metadata": {},
   "outputs": [],
   "source": [
    "# Zooming on y=0.5 kWh/m2, x= 25km2\n",
    "\n",
    "fig, (ax1) = plt.subplots(\n",
    "    ncols=1,\n",
    "    nrows=1,\n",
    "    figsize=(22, 10),\n",
    "    dpi=pc_dpi,\n",
    ")\n",
    "\n",
    "ax1 = sns.scatterplot(\n",
    "    x=\"PropertyArea(SquareMetre)Total\",\n",
    "    y=\"SiteEnergyUse(kWh)\",\n",
    "    hue=\"PrimaryPropertyType\",\n",
    "    data=data_ptype\n",
    ")\n",
    "\n",
    "\n",
    "ax1.set_ylim(-100, 15000000)\n",
    "ax1.set_xlim(0, 25000)\n",
    "\n",
    "###\n",
    "# Titles/Lables\n",
    "fig.suptitle(\"Utilisation d'energie en fonction de la taille des batiments, nuancés par leur utilisation principale\")\n",
    "#\n",
    "###\n",
    "\n",
    "plt.tight_layout()\n",
    "plt.show()\n",
    "\n",
    "# Apply cleaning via IQR\n"
   ]
  },
  {
   "cell_type": "markdown",
   "id": "f10d4066",
   "metadata": {},
   "source": [
    "## Observation : On peut effectuer quelques remarques, malgré une apparence très groupée\n",
    "\n",
    "- On distingue relativement facilement un groupe : Supermarket & Grocery Store (@ 2000-4000 MWh & 2.5-8 km2)\n",
    "- Les batiments d'habitations (High rises et Mid Rises) semble obeir à une corrélation linéaire entre Zone totale et Utilisation d'Energie\n",
    "- Medical Offices affiche une forte variance, sans doute causée par la présence, ou absence, d'équipement medical à forte utilisation d'energie (équipement variant majoritairement du fait de la spécialisation)\n",
    "- Le boxplot montre que, si des batiments remplissent la meme fonction (dans le diagramme : high rise / mid rise = habitation, small/medium offices et large offices = Bureaux), l'efficacité d'utilisation energétique semble fortement augmenter avec la taille (denomination) du batiment, utilisation du Student's T-Test pour observer une correllation entre les deux paires étudiés\n",
    "- On peut tenter d'effectuer un test ANOVA ou CHI2 pour identifier les corrélations si elles existent.\n"
   ]
  },
  {
   "cell_type": "markdown",
   "id": "394ad6a8",
   "metadata": {},
   "source": [
    "## Realisation de T-Tests (A) pour vérifier si l'augmentation de l'EUI est corrélée avec l'augmentation de la taille des batiments, ici : \n",
    "- Categories et hypothèses nulles :\n",
    "    - High Rise vs Mid Rise : L'augmentation de l'EUI n'a rien à voir avec la difference de taille des batiments d'habitation\n",
    "    - Small & Medium Office vs Large Office : L'augmentation de l'EUI n'a rien à voir avec la difference de taille d'immeubles de bureaux\n",
    "- Les deux échantillons doivent être indépendants (ce qui est le cas)\n",
    "- La variance inter echantillon doit être homogène (utilisation du test de Bartlett)\n",
    "- Les résidus doivent suivre une distribution normale (ce qui sera vérifié en utilisant le test de Shapiro Wilks)\n",
    "- On fixe alpha à 5%\n",
    "- On cherche à rejeter les hypothèses nulles\n"
   ]
  },
  {
   "cell_type": "code",
   "execution_count": null,
   "id": "3faf9067",
   "metadata": {},
   "outputs": [],
   "source": [
    "alpha = 0.05\n"
   ]
  },
  {
   "cell_type": "code",
   "execution_count": null,
   "id": "8d32ee06",
   "metadata": {},
   "outputs": [],
   "source": [
    "# High Rise / Mid Rise |^| Boxplots |^|\n",
    "\n",
    "high_rise_eui = df_sixteen[df_sixteen[\"PrimaryPropertyType\"] == \"High-Rise Multifamily\"][\"SiteEUI(kWh/m2)\"]\n",
    "mid_rise_eui = df_sixteen[df_sixteen[\"PrimaryPropertyType\"] == \"Mid-Rise Multifamily\"][\"SiteEUI(kWh/m2)\"]\n",
    "\n",
    "ttest_hab = stats.ttest_ind(a=high_rise_eui, b=mid_rise_eui)\n",
    "\n",
    "print(ttest_hab, \"\\n\", f\"p-values < alpha : {ttest_hab.pvalue < alpha}\")\n"
   ]
  },
  {
   "cell_type": "code",
   "execution_count": null,
   "id": "f3bda7d1",
   "metadata": {},
   "outputs": [],
   "source": [
    "# Null hypothesis : homoscedasticity\n",
    "\n",
    "bartlett_test_hab = stats.bartlett(high_rise_eui, mid_rise_eui)\n",
    "\n",
    "print(bartlett_test_hab, \"\\n\", f\"p-values > alpha : {bartlett_test_hab.pvalue > alpha}\")\n"
   ]
  },
  {
   "cell_type": "markdown",
   "id": "f2e6fe1c",
   "metadata": {},
   "source": [
    "### Analyse du t-test A.1 --> Batiments d'habitation : \n",
    "- Le test de Bartlett ne permet pas d'accepter l'hypothèse alternative telle que : la variance inter echantillon n'est pas homogène, on accepte l'hypothèse nulle : les variances des echantillons sont homogènes\n",
    "- Le test de Student / t-test permet de refuter l'hypothèse nulle telle que : H0 = L'augmentation de l'EUI n'a rien à voir avec la difference de taille des batiments d'habitation, on accepte l'hypothèse alternative H1, à savoir : Dans le cas des immeubles d'habitations, l'augmentation de la taille cause une hausse de l'EUI (kWh/m2).\n",
    "  "
   ]
  },
  {
   "cell_type": "code",
   "execution_count": null,
   "id": "29b90fad",
   "metadata": {},
   "outputs": [],
   "source": [
    "# Large Office / Small & Mid-Sized Office\n",
    "\n",
    "large_office_eui = df_sixteen[\n",
    "        (df_sixteen[\"PrimaryPropertyType\"] == \"Large Office\") &\n",
    "        (df_sixteen[\"SiteEUI(kWh/m2)\"].notna())\n",
    "    ][\"SiteEUI(kWh/m2)\"]\n",
    "\n",
    "small_m_office_eui = df_sixteen[\n",
    "        (df_sixteen[\"PrimaryPropertyType\"] == \"Small & Mid-Sized Office\") &\n",
    "        (df_sixteen[\"SiteEUI(kWh/m2)\"].notna())\n",
    "    ][\"SiteEUI(kWh/m2)\"]\n",
    "\n",
    "ttest_office = stats.ttest_ind(a=small_m_office_eui, b=large_office_eui, equal_var=False)\n",
    "\n",
    "print(ttest_office, \"\\n\", f\"p-values < alpha : {ttest_office.pvalue < alpha}\")\n"
   ]
  },
  {
   "cell_type": "code",
   "execution_count": null,
   "id": "70218eed",
   "metadata": {},
   "outputs": [],
   "source": [
    "# Null hypothesis : homoscedasticity\n",
    "\n",
    "bartlett_test_office = stats.bartlett(large_office_eui, small_m_office_eui)\n",
    "\n",
    "print(bartlett_test_office, \"\\n\", f\"p-values > alpha : {bartlett_test_office.pvalue > alpha}\")\n"
   ]
  },
  {
   "cell_type": "markdown",
   "id": "dd0f0026",
   "metadata": {},
   "source": [
    "### Analyse du t-test A.2 --> Immeubles de bureau :\n",
    "- Le test de Bartlett ne permet pas d'accepter l'hypothèse alternative telle que : la variance inter echantillon n'est pas homogène, on accepte l'hypothèse nulle : les variances des echantillons sont homogènes\n",
    "- Le test de Student / t-test ne permet pas de refuter l'hypothèse nulle telle que : H0 = L'augmentation de l'EUI n'a rien à voir avec la difference de taille des immeubles de bureau.S\n"
   ]
  },
  {
   "cell_type": "markdown",
   "id": "aeeb25f3",
   "metadata": {},
   "source": [
    "## Analyse :\n",
    "\n",
    "- Ces deux tests confirment que l'éfficacité énergétique se déteriore, pour les batiments de meme type mais de tailles differentes\n",
    "- Un modèle prenant en compte cette conclusion pourrait profiter d'une accélleration de performance dans la prediction de l'éfficacité energetique d'un batiment\n",
    "- Une première analyse effectuee plus haut ne permettait pas de corréler la note E* à la taille des batiments. Il peut etre interessant de voir si le type de batiment n'a egalement pas, visiblement, d'influence sur la note E* :\n",
    "  - Si corrélation : Meilleure comprehension de la note.\n",
    "  - Sinon : Note basée sur d'autres facteurs / comprehensive de l'observation ci dessus."
   ]
  },
  {
   "cell_type": "code",
   "execution_count": null,
   "id": "2dbd8b8b",
   "metadata": {},
   "outputs": [],
   "source": [
    "hab_off = [\"Mid-Rise Multifamily\", \"High-Rise Multifamily\", \"Small & Mid-Sized Office\", \"Large Office\"]\n"
   ]
  },
  {
   "cell_type": "code",
   "execution_count": null,
   "id": "2d1d81e0",
   "metadata": {},
   "outputs": [],
   "source": [
    "fig, (ax1) = plt.subplots(\n",
    "    ncols=1,\n",
    "    nrows=1,\n",
    "    figsize=(22, 10),\n",
    "    dpi=pc_dpi,\n",
    ")\n",
    "\n",
    "data_es_ptype = df_sixteen[\n",
    "    (df_sixteen[\"PrimaryPropertyType\"].isin(hab_off)) &\n",
    "    (df_sixteen[\"ENERGYSTARScore\"].notna()) &\n",
    "    (df_sixteen[\"SiteEUI(kWh/m2)\"].notna())\n",
    "    ]\n",
    "\n",
    "ax1 = sns.boxplot(\n",
    "        x=data_es_ptype[\"PrimaryPropertyType\"],\n",
    "        y=data_es_ptype[\"ENERGYSTARScore\"].astype(int),\n",
    "        data=data_es_ptype\n",
    "    )\n",
    "\n",
    "\n",
    "###\n",
    "# Titles/Lables\n",
    "ax1.set_xticklabels(\n",
    "    labels=hab_off,\n",
    "    rotation=45\n",
    "    )\n",
    "fig.suptitle(\"Representation de la note E* en fonction du type & taille des batiments\")\n",
    "#\n",
    "###\n",
    "\n",
    "fig.tight_layout()\n",
    "plt.show()\n",
    "\n",
    "# Split boxplots\n"
   ]
  },
  {
   "cell_type": "markdown",
   "id": "223d4bba",
   "metadata": {},
   "source": [
    "## Observations :\n",
    "- La meme tendance observee dans l'analyse de l'EUI par type de batiment semble etre egalement presente dans ce cas\n",
    "- La variance semble similaire dans le cas des batiments d'habitation, le cas des immeubles du bureau montre une variance largement superieure dans le cas des plus grands batiments\n",
    "- On peut effectuer les memes series de tests que dans le cas de l'EUI, meme si le critere d'homoscédasticité semble invalide dans le cas des bureaux"
   ]
  },
  {
   "cell_type": "markdown",
   "id": "e4f95c91",
   "metadata": {},
   "source": [
    "## Realisation de T-Tests pour vérifier si la baisse de la note E* est corrélée avec l'augmentation de la taille des batiments, ici : \n",
    "- Categories et hypothèses nulles :\n",
    "    - High Rise vs Mid Rise : Le baisse globale des notes n'est pas corrélée avec la taille des batiments d'habitation. \n",
    "    - Small & Medium Office vs Large Office : Le baisse globale des notes n'est pas corrélée avec la taille des bureaux. \n",
    "- Les deux échantillons doivent être indépendants (ce qui est le cas)\n",
    "- La variance inter echantillon doit être homogène (utilisation du test de Bartlett)\n",
    "- Les résidus doivent suivre une distribution normale (ce qui sera vérifié en utilisant le test de Shapiro Wilks)\n",
    "- On fixe alpha à 5%\n",
    "- On cherche à rejeter les hypothèses nulles\n"
   ]
  },
  {
   "cell_type": "code",
   "execution_count": null,
   "id": "627a4071",
   "metadata": {},
   "outputs": [],
   "source": [
    "# High Rise / Mid Rise\n",
    "\n",
    "high_rise_estar = df_sixteen[\n",
    "        (df_sixteen[\"PrimaryPropertyType\"] == \"High-Rise Multifamily\") &\n",
    "        (df_sixteen[\"ENERGYSTARScore\"].notna())\n",
    "    ][\"ENERGYSTARScore\"].astype(int)\n",
    "\n",
    "mid_rise_estar = df_sixteen[\n",
    "        (df_sixteen[\"PrimaryPropertyType\"] == \"Mid-Rise Multifamily\") & \n",
    "        (df_sixteen[\"ENERGYSTARScore\"].notna())\n",
    "    ][\"ENERGYSTARScore\"].astype(int)\n"
   ]
  },
  {
   "cell_type": "code",
   "execution_count": null,
   "id": "a506a464",
   "metadata": {},
   "outputs": [],
   "source": [
    "# Null hypothesis : homoscedasticity\n",
    "\n",
    "bartlett_test_estar_hab = stats.bartlett(high_rise_estar, mid_rise_estar)\n",
    "\n",
    "print(bartlett_test_estar_hab, \"\\n\", f\"p-values > alpha : {bartlett_test_estar_hab.pvalue > alpha}\")\n"
   ]
  },
  {
   "cell_type": "code",
   "execution_count": null,
   "id": "8ce5e370",
   "metadata": {},
   "outputs": [],
   "source": [
    "# Std not equal with alpha @5%, using ttest ind with parameter : equal_var = False\n",
    "\n",
    "ttest_estar_hab = stats.ttest_ind(a=high_rise_estar, b=mid_rise_estar, equal_var=False)\n",
    "\n",
    "print(ttest_estar_hab, \"\\n\", f\"p-values < alpha : {ttest_estar_hab.pvalue < alpha}\")\n"
   ]
  },
  {
   "cell_type": "markdown",
   "id": "5b2768e1",
   "metadata": {},
   "source": [
    "### Analyse du t-test B.1 --> Batiments d'habitation : \n",
    "- Le test de Bartlett permet d'accepter l'hypothèse alternative telle que : la variance inter echantillon n'est pas homogène. Les parametres du t-test sont ajustés pour refleter cela : equal_var = False\n",
    "- Le test de Student / t-test permet de refuter l'hypothèse nulle telle que : H0 = Le baisse globale des notes n'est pas corrélée avec la taille des batiments d'habitation. On accepte l'hypothèse alternative H1, à savoir : Il existe une corrélation négative entre la taille d'un batiment d'habitation et sa note E*"
   ]
  },
  {
   "cell_type": "code",
   "execution_count": null,
   "id": "109b15e1",
   "metadata": {},
   "outputs": [],
   "source": [
    "# Large Office / Small & Mid-Sized Office\n",
    "\n",
    "large_off_estar = df_sixteen[\n",
    "        (df_sixteen[\"PrimaryPropertyType\"] == \"Large Office\") &\n",
    "        (df_sixteen[\"ENERGYSTARScore\"].notna())\n",
    "    ][\"ENERGYSTARScore\"].astype(int)\n",
    "\n",
    "small_med_off_estar = df_sixteen[\n",
    "        (df_sixteen[\"PrimaryPropertyType\"] == \"Small & Mid-Sized Office\") & \n",
    "        (df_sixteen[\"ENERGYSTARScore\"].notna())\n",
    "    ][\"ENERGYSTARScore\"].astype(int)\n"
   ]
  },
  {
   "cell_type": "code",
   "execution_count": null,
   "id": "d7691802",
   "metadata": {},
   "outputs": [],
   "source": [
    "# Null hypothesis : homoscedasticity\n",
    "\n",
    "bartlett_test_estar_off = stats.bartlett(large_off_estar, small_med_off_estar)\n",
    "\n",
    "print(bartlett_test_estar_off, \"\\n\", f\"p-values > alpha : {bartlett_test_estar_off.pvalue > alpha}\")\n"
   ]
  },
  {
   "cell_type": "code",
   "execution_count": null,
   "id": "9e18b4c7",
   "metadata": {},
   "outputs": [],
   "source": [
    "# Std not normally distributed with alpha @5%, using ttest ind with parameter : equal_var = True\n",
    "\n",
    "ttest_estar_off = stats.ttest_ind(a=large_off_estar, b=small_med_off_estar, equal_var=True)\n",
    "\n",
    "print(ttest_estar_off, \"\\n\", f\"p-values < alpha : {ttest_estar_off.pvalue < alpha}\")\n"
   ]
  },
  {
   "cell_type": "markdown",
   "id": "14178356",
   "metadata": {},
   "source": [
    "### Analyse du t-test B.2 --> Batiments d'habitation : \n",
    "- Le test de Bartlett ne permet pas d'accepter l'hypothèse alternative telle que : la variance inter echantillon n'est pas homogène. On accepte l'hypothèse alternative : Les variances sont homogènes.\n",
    "- Le test de Student / t-test permet de refuter l'hypothèse nulle telle que : H0 = Le baisse globale des notes n'est pas corrélée avec la taille des bureaux. On accepte l'hypothèse alternative H1, à savoir : Il existe une corrélation négative entre la taille d'un immeuble de bureau et sa note E*"
   ]
  },
  {
   "cell_type": "markdown",
   "id": "1b8724d3",
   "metadata": {},
   "source": [
    "## Conclusions A & B : :Valable seulement dans les categories des bureaux et des habitations:\n",
    "- On peut constater, dans le cas des batiments d'habitation et des bureaux, une corréllation, a la fois positive vis à vis de l'EUI (+ = moins efficace) & négative dans le cas de la note E*\n",
    "- La note E* n'est pas comprehensive de la taille d'un batiment\n",
    "- On peut conclure que la note E* est bien plus influencée par l'efficacité energétique d'un batiment que par sa taille. Plus un batiment est grand, plus on peut s'attendre a une augmentation de la consommation electrique horaire par metre carré, et donc une influence négative sur sa note E*"
   ]
  },
  {
   "cell_type": "markdown",
   "id": "5c3cd34d",
   "metadata": {},
   "source": [
    "# Reduction de dimension pour approche orientée objet\n",
    "\n",
    "## Approche OOP\n",
    "\n",
    "Une approche orienté objet à pour avantage de définir clairement, non seulement un batiment, mais egalement les categories a laquelle il appartient. <br>\n",
    "Nous pourrons traiter facilement un type de batiment en tant qu'objet, tous les batiments heritant de la  `class type`  etc. De plus, il sera plus simple d'appliquer des methodes d'instances ou de classe. <br>\n",
    "Une reduction de dimension permettrait egalement de definir un batiment suivant la date des donnees (2015 et 2016) plus facilement qu'en comparant deux datasets comptant de nombreuses variables.\n",
    "\n",
    "## Necessité de reduction de dimension\n",
    "\n",
    "Pour rendre lisible et faisable cette approche, il est necessaire de reduire la dimension du dataset pour que le moins d'attributs/propriétées possibles puissent fournir le maximum d'information.\n",
    "- Dans un premier temps, il est envisageable de realiser une reduction de dimension sur les variables, si possible via ACP (si cette approche se révèle trop peu precise, les methodes non lineaires telles que T-SNE ou UMAP sont envisageables)\n",
    "- Dans un second temps, l'étude ci dessus a pu montrer que les batiments appartenant aux memes \"categories\" partagent des caracteristiques et des trends qui peuvent etre exploitables pour traiter les objets en tant que clusters plutot que separement (K-Means)\n"
   ]
  },
  {
   "cell_type": "markdown",
   "id": "7fee8819",
   "metadata": {},
   "source": [
    "## 0. Fusion des dataframes & Suppression des batiments residentiels: \n",
    "\n",
    "- Il est inutile de d'utiliser les deux datasets, une comparaison 2015/2016 avec seulement deux données n'est pas fiable\n",
    "- Les batiments non communs aux deux datasets ne seront pas admis (?)\n",
    "- Les données les plus actuelles (2016) seront utilisées par defaut, si une donnée est manquante, on cherchera dans le df2015, si presente dans 2015, on mettra à jour le df\n",
    "- Les batiments seront identifiés par leur OSE ID\n",
    "- L'étude n'a plus besoin des batiments residentiels, ils seront supprimés"
   ]
  },
  {
   "cell_type": "code",
   "execution_count": null,
   "id": "1076b14d",
   "metadata": {},
   "outputs": [],
   "source": [
    "df_sixteen[\"BuildingType\"].unique()"
   ]
  },
  {
   "cell_type": "code",
   "execution_count": null,
   "id": "207166eb",
   "metadata": {},
   "outputs": [],
   "source": [
    "residential = [\"Multifamily MR (5-9)\", \"Multifamily LR (1-4)\", \"Multifamily HR (10+)\"]\n"
   ]
  },
  {
   "cell_type": "code",
   "execution_count": null,
   "id": "47291f53",
   "metadata": {},
   "outputs": [],
   "source": [
    "# complete_df(df_one=df_sixteen, df_two=df_fifteen, on_col=\"OSEBuildingID\")  NOT WORKING YET\n",
    "\n",
    "df_seattle = df_sixteen[~df_sixteen[\"BuildingType\"].isin(residential)]\n"
   ]
  },
  {
   "cell_type": "code",
   "execution_count": null,
   "id": "b36f9379",
   "metadata": {},
   "outputs": [],
   "source": [
    "df_seattle[\"BuildingType\"].unique()"
   ]
  },
  {
   "cell_type": "markdown",
   "id": "fdd4caf4",
   "metadata": {},
   "source": [
    "## 1. Reduction de dimension via ACP"
   ]
  },
  {
   "cell_type": "code",
   "execution_count": null,
   "id": "67c590dd",
   "metadata": {},
   "outputs": [],
   "source": [
    "exclude_pca = [\n",
    "        \"OSEBuildingID\", \"BuildingType\", \"PrimaryPropertyType\", \"PropertyName\",\n",
    "        \"Neighborhood\", \"YearBuilt\", \"ListOfAllPropertyUseTypes\", \"LargestPropertyUseType\",\n",
    "        \"SecondLargestPropertyUseType\", \"ThirdLargestPropertyUseType\", \"ENERGYSTARScore\",  # E* Excluded -> baseline\n",
    "        \"DefaultData\",\"ComplianceStatus\"\n",
    "    ]\n",
    "\n",
    "columns_pca = [col for col in df_seattle.columns if col not in exclude_pca]\n",
    "\n",
    "columns_pca\n"
   ]
  },
  {
   "cell_type": "code",
   "execution_count": null,
   "id": "7d0aedc2",
   "metadata": {},
   "outputs": [],
   "source": [
    "data_pca = df_seattle[columns_pca]\n",
    "\n",
    "data_pca = data_pca.astype(float)  # All values are forced converted to float, as the columns above (columns_pca) are all numeric\n",
    "\n",
    "data_pca = data_pca.fillna(data_pca.mean())\n",
    "\n",
    "X = data_pca.values\n",
    "names = df_seattle.index\n",
    "features = columns_pca\n",
    "\n",
    "scaled_data = preprocessing.scale(data_pca)\n",
    "pca = PCA(n_components=len(columns_pca))\n",
    "pca.fit(scaled_data)\n",
    "pca_data = pca.transform(scaled_data)\n",
    "percentage_variation = np.round(pca.explained_variance_ratio_ * 100, decimals=1)\n",
    "\n",
    "pcs = pca.components_\n"
   ]
  },
  {
   "cell_type": "code",
   "execution_count": null,
   "id": "e8a8c13e",
   "metadata": {},
   "outputs": [],
   "source": [
    "fig, (ax1) = plt.subplots(\n",
    "    ncols=1,\n",
    "    nrows=1,\n",
    "    figsize=(24, 10),\n",
    "    dpi=pc_dpi,\n",
    ")\n",
    "\n",
    "x_bars = np.arange(1, len(percentage_variation) + 1, 1)\n",
    "\n",
    "cummulative_percentage = np.cumsum(percentage_variation)\n",
    "\n",
    "ax1.bar(x_bars, height=percentage_variation)  # Inertia Scree\n",
    "\n",
    "###\n",
    "# Titles/Lables\n",
    "labels = [\"PC\" + str(c) for c in range (1, len(percentage_variation) + 1)]\n",
    "ax1.set_xticks(range(1, len(labels) + 1, 1))\n",
    "ax1.set_xticklabels(labels)\n",
    "ax1.set_xlabel(\"Rang des composants principaux\")\n",
    "ax1.set_ylabel(\"Pourcentage d'inertie\")\n",
    "fig.suptitle(\"Eboulis des valeurs propres (histogramme), pourcentage d'inertie cummulée (ligne rouge)\")\n",
    "ax1.text(2,90,'Black line : 80% marker')\n",
    "#\n",
    "###\n",
    "\n",
    "ax1.plot(ax1.get_xticks(), cummulative_percentage, marker=\"o\", color=\"r\", linewidth=1)  # Cumulative Inertia\n",
    "ax1.plot(np.arange(0, len(cummulative_percentage) + 1, 1), [80 for _ in range(0, len(cummulative_percentage) + 1)], color=\"0\", linewidth=2.5)\n",
    "fig.tight_layout()\n",
    "\n",
    "plt.show()\n"
   ]
  },
  {
   "cell_type": "code",
   "execution_count": null,
   "id": "40e0e335",
   "metadata": {},
   "outputs": [],
   "source": [
    "couples = [(0, 1), (2, 3), (4, 5)]\n",
    "\n",
    "for couple in couples:\n",
    "    display_circles(pca=pca, pca_cols=columns_pca, couple_pc=couple)"
   ]
  },
  {
   "cell_type": "code",
   "execution_count": null,
   "id": "9843eeb1",
   "metadata": {},
   "outputs": [],
   "source": [
    "pca_explained_df = show_contribution(pca=pca, columns_pca=columns_pca, lim_pc=5)\n",
    "pca_explained_df\n"
   ]
  },
  {
   "cell_type": "code",
   "execution_count": null,
   "id": "3b065609",
   "metadata": {},
   "outputs": [],
   "source": [
    "pca_explained_df[\"PC1\"].sort_values(ascending=False)\n",
    "# Likely raw energy use and GHG emissions"
   ]
  },
  {
   "cell_type": "code",
   "execution_count": null,
   "id": "c0246805",
   "metadata": {},
   "outputs": [],
   "source": [
    "pca_explained_df[\"PC2\"].sort_values(ascending=False)\n",
    "# Likely EUI + / Size -  ==> EUI (energy/size)\n"
   ]
  },
  {
   "cell_type": "code",
   "execution_count": null,
   "id": "8c8bba0c",
   "metadata": {},
   "outputs": [],
   "source": [
    "pca_explained_df[\"PC3\"].sort_values(ascending=False)\n"
   ]
  },
  {
   "cell_type": "code",
   "execution_count": null,
   "id": "974b385c",
   "metadata": {},
   "outputs": [],
   "source": [
    "pca_explained_df[\"PC4\"].sort_values(ascending=False)\n"
   ]
  },
  {
   "cell_type": "code",
   "execution_count": null,
   "id": "809fe542",
   "metadata": {},
   "outputs": [],
   "source": [
    "pca_explained_df[\"PC5\"].sort_values(ascending=False)\n"
   ]
  },
  {
   "cell_type": "markdown",
   "id": "f258e505",
   "metadata": {},
   "source": [
    "### Observations : \n",
    "\n",
    "- Trop de variables ont été passés au PCA, le resultat est confus\n",
    "- Difficile de definir clairement les composants principaux\n",
    "\n",
    "<hr>\n",
    "\n",
    "- Une ACP sur moins de variables serait sans doute plus efficace\n",
    "- Determination des variables contenant le plus de valeurs manquantes et recreation du PCA"
   ]
  },
  {
   "cell_type": "code",
   "execution_count": null,
   "id": "9e37954d",
   "metadata": {},
   "outputs": [],
   "source": [
    "nans_cols_pca = dict.fromkeys(columns_pca)\n",
    "\n",
    "total_buildings = len(df_seattle)\n",
    "\n",
    "for col in nans_cols_pca.keys():\n",
    "    nans_cols_pca[col] = f\"{(df_seattle[col].isna().sum() / total_buildings) * 100}%\"\n",
    "    print(col, \"=\", nans_cols_pca[col])\n"
   ]
  },
  {
   "cell_type": "code",
   "execution_count": null,
   "id": "9ecfa8e0",
   "metadata": {},
   "outputs": [],
   "source": [
    "to_remove = [\n",
    "    \"SecondLargestPropertyUseTypeArea(SquareMetre)\",\n",
    "    \"ThirdLargestPropertyUseTypeArea(SquareMetre)\",\n",
    "    \"LargestPropertyUseTypeArea(SquareMetre)\",\n",
    "    \"NumberofBuildings\",\n",
    "    \"NumberofFloors\",\n",
    "    ]\n",
    "\n",
    "for col in columns_pca:\n",
    "    if col in to_remove:\n",
    "        columns_pca.remove(col)\n",
    "\n",
    "# By nan and repetition\n"
   ]
  },
  {
   "cell_type": "code",
   "execution_count": null,
   "id": "0904d356",
   "metadata": {},
   "outputs": [],
   "source": [
    "# EPA has determined that source energy is the most equitable [...] cf. sources\n",
    "[columns_pca.remove(col) for col in columns_pca if col.lower().startswith(\"site\")]\n",
    "[columns_pca.remove(col) for col in columns_pca if col.lower().startswith(\"site\")]  # hi bob\n",
    "# |^| needs two passes, no idea why\n",
    "\n",
    "columns_pca"
   ]
  },
  {
   "cell_type": "code",
   "execution_count": null,
   "id": "5fd181ed",
   "metadata": {},
   "outputs": [],
   "source": [
    "# Steam and Natural gas might be uncommon - Plotting ...\n",
    "\n",
    "fig, (ax1) = plt.subplots(\n",
    "    ncols=1,\n",
    "    nrows=1,\n",
    "    figsize=(22, 10),\n",
    "    dpi=pc_dpi,\n",
    ")\n",
    "\n",
    "ax1 = sns.boxplot(\n",
    "    data=df_seattle[[\"SteamUse(kWh)\", \"NaturalGas(kWh)\", \"SiteEnergyUse(kWh)\"]]\n",
    ")\n",
    "\n",
    "\n",
    "###\n",
    "# Titles/Lables\n",
    "\n",
    "ax1.set_ylim(0, 0.5 * 1e7)\n",
    "fig.suptitle(\"Representation de l'utilisation de la vapeur et du gaz naturel au sein du dataset\\\n",
    " ; visualistion de l'energie totale pour reference\")\n",
    "#\n",
    "###\n",
    "fig.tight_layout()\n",
    "plt.show()\n"
   ]
  },
  {
   "cell_type": "markdown",
   "id": "d28a3516",
   "metadata": {},
   "source": [
    "### Observation : \n",
    "- On peut constater que l'utilisation de la vapeur est très marginale\n",
    "- Le gaz naturel est, quant à lui, significatif (? chauffage/electromenager ?)\n",
    "--> Suppression de la vapeur seule"
   ]
  },
  {
   "cell_type": "code",
   "execution_count": null,
   "id": "3bb99755",
   "metadata": {},
   "outputs": [],
   "source": [
    "columns_pca.remove(\"SteamUse(kWh)\")\n",
    "df_seattle.drop(columns=[\"SteamUse(kWh)\"], inplace=True)\n"
   ]
  },
  {
   "cell_type": "code",
   "execution_count": null,
   "id": "1fdf7248",
   "metadata": {},
   "outputs": [],
   "source": [
    "columns_pca"
   ]
  },
  {
   "cell_type": "markdown",
   "id": "3853f3f7",
   "metadata": {},
   "source": [
    "## PCA_2 : Useful var only"
   ]
  },
  {
   "cell_type": "code",
   "execution_count": null,
   "id": "04538ad1",
   "metadata": {},
   "outputs": [],
   "source": [
    "data_pca = df_seattle[columns_pca]\n",
    "\n",
    "data_pca = data_pca.astype(float)  # All values are forced converted to float, as the columns above (columns_pca) are all numeric\n",
    "\n",
    "data_pca = data_pca.fillna(data_pca.mean())\n",
    "\n",
    "X = data_pca.values\n",
    "names = df_seattle.index\n",
    "features = columns_pca\n",
    "\n",
    "scaled_data = preprocessing.scale(data_pca)\n",
    "pca_two = PCA(n_components=len(columns_pca))\n",
    "pca_two.fit(scaled_data)\n",
    "pca_data = pca_two.transform(scaled_data)\n",
    "percentage_variation = np.round(pca_two.explained_variance_ratio_ * 100, decimals=1)\n",
    "\n",
    "pcs = pca_two.components_\n"
   ]
  },
  {
   "cell_type": "code",
   "execution_count": null,
   "id": "6c2c8a82",
   "metadata": {},
   "outputs": [],
   "source": [
    "fig, (ax1) = plt.subplots(\n",
    "    ncols=1,\n",
    "    nrows=1,\n",
    "    figsize=(24, 10),\n",
    "    dpi=pc_dpi,\n",
    ")\n",
    "\n",
    "x_bars = np.arange(1, len(percentage_variation) + 1, 1)\n",
    "\n",
    "cummulative_percentage = np.cumsum(percentage_variation)\n",
    "\n",
    "ax1.bar(x_bars, height=percentage_variation)  # Inertia Scree\n",
    "\n",
    "###\n",
    "# Titles/Lables\n",
    "labels = [\"PC\" + str(c) for c in range (1, len(percentage_variation) + 1)]\n",
    "ax1.set_xticks(range(1, len(labels) + 1, 1))\n",
    "ax1.set_xticklabels(labels)\n",
    "ax1.set_xlabel(\"Rang des composants principaux\")\n",
    "ax1.set_ylabel(\"Pourcentage d'inertie\")\n",
    "fig.suptitle(\"Eboulis des valeurs propres (histogramme), pourcentage d'inertie cummulée (ligne rouge)\")\n",
    "ax1.text(2,90,'Black line : 80% marker')\n",
    "#\n",
    "###\n",
    "\n",
    "ax1.plot(ax1.get_xticks(), cummulative_percentage, marker=\"o\", color=\"r\", linewidth=1)  # Cumulative Inertia\n",
    "ax1.plot(np.arange(0, len(cummulative_percentage) + 1, 1), [80 for _ in range(0, len(cummulative_percentage) + 1)], color=\"0\", linewidth=2.5)\n",
    "fig.tight_layout()\n",
    "\n",
    "plt.show()\n"
   ]
  },
  {
   "cell_type": "code",
   "execution_count": null,
   "id": "f728b114",
   "metadata": {},
   "outputs": [],
   "source": [
    "couples = [(0, 1), (2, 3), (4, 5)]\n",
    "\n",
    "for couple in couples:\n",
    "    display_circles(pca=pca_two, pca_cols=columns_pca, couple_pc=couple)\n"
   ]
  },
  {
   "cell_type": "code",
   "execution_count": null,
   "id": "84b0ba48",
   "metadata": {},
   "outputs": [],
   "source": [
    "pca_two_explained_df = show_contribution(pca=pca_two, columns_pca=columns_pca, lim_pc=4)\n",
    "pca_two_explained_df\n"
   ]
  },
  {
   "cell_type": "code",
   "execution_count": null,
   "id": "59209e48",
   "metadata": {},
   "outputs": [],
   "source": [
    "# Transformer variables (scale data)\n",
    "#\n",
    "#\n",
    "#\n",
    "#\n",
    "#\n"
   ]
  },
  {
   "cell_type": "code",
   "execution_count": null,
   "id": "465012fc",
   "metadata": {},
   "outputs": [],
   "source": []
  }
 ],
 "metadata": {
  "interpreter": {
   "hash": "0da0af6bf3f6033f1ed3bb9a018282c9b956ccf49d2ca4646969195110973d60"
  },
  "kernelspec": {
   "display_name": "Python 3.10.4 ('env': venv)",
   "language": "python",
   "name": "python3"
  },
  "language_info": {
   "codemirror_mode": {
    "name": "ipython",
    "version": 3
   },
   "file_extension": ".py",
   "mimetype": "text/x-python",
   "name": "python",
   "nbconvert_exporter": "python",
   "pygments_lexer": "ipython3",
   "version": "3.10.4"
  }
 },
 "nbformat": 4,
 "nbformat_minor": 5
}

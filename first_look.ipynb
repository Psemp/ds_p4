{
 "cells": [
  {
   "cell_type": "code",
   "execution_count": 21,
   "id": "06fc4e4a-6985-483c-b8ff-46697da107f8",
   "metadata": {},
   "outputs": [],
   "source": [
    "import pandas as pd\n",
    "import seaborn as sns\n",
    "import numpy as np\n",
    "import os\n",
    "\n",
    "from matplotlib import pyplot as plt\n",
    "from dotenv import load_dotenv\n",
    "\n",
    "from scripts.merge import merge_cols\n",
    "from scripts.convert import convert_to_holy_metric, find_unit\n",
    "\n",
    "load_dotenv()\n",
    "plt.style.use('Solarize_Light2')\n",
    "\n",
    "# Setting default DPI, pulling it from dotenv if it exists, setting it on 100 if not\n",
    "\n",
    "pc_dpi = int(os.getenv('DPI'))\n",
    "\n",
    "if pc_dpi is None:\n",
    "    pc_dpi = 100\n"
   ]
  },
  {
   "cell_type": "code",
   "execution_count": 22,
   "id": "141f8a10-f24d-4727-8b80-116fc6f5fab4",
   "metadata": {},
   "outputs": [],
   "source": [
    "# Files\n",
    "\n",
    "twenty_fifteen_bm = \"data/2015-building-energy-benchmarking.csv\"\n",
    "twenty_sixteen_bm = \"data/2016-building-energy-benchmarking.csv\"\n"
   ]
  },
  {
   "cell_type": "code",
   "execution_count": 23,
   "id": "b37118d5-3125-4903-87c9-54c2d8de7319",
   "metadata": {},
   "outputs": [],
   "source": [
    "df_fifteen = pd.read_csv(twenty_fifteen_bm, dtype=\"unicode\", low_memory=False)\n",
    "df_sixteen = pd.read_csv(twenty_sixteen_bm, dtype=\"unicode\", low_memory=False)\n"
   ]
  },
  {
   "cell_type": "code",
   "execution_count": 24,
   "id": "ef476de6-214e-4e43-8e12-5e33a0aec523",
   "metadata": {},
   "outputs": [
    {
     "name": "stdout",
     "output_type": "stream",
     "text": [
      "<class 'pandas.core.frame.DataFrame'>\n",
      "RangeIndex: 3340 entries, 0 to 3339\n",
      "Data columns (total 47 columns):\n",
      " #   Column                                                         Non-Null Count  Dtype \n",
      "---  ------                                                         --------------  ----- \n",
      " 0   OSEBuildingID                                                  3340 non-null   object\n",
      " 1   DataYear                                                       3340 non-null   object\n",
      " 2   BuildingType                                                   3340 non-null   object\n",
      " 3   PrimaryPropertyType                                            3340 non-null   object\n",
      " 4   PropertyName                                                   3340 non-null   object\n",
      " 5   TaxParcelIdentificationNumber                                  3338 non-null   object\n",
      " 6   Location                                                       3340 non-null   object\n",
      " 7   CouncilDistrictCode                                            3340 non-null   object\n",
      " 8   Neighborhood                                                   3340 non-null   object\n",
      " 9   YearBuilt                                                      3340 non-null   object\n",
      " 10  NumberofBuildings                                              3340 non-null   object\n",
      " 11  NumberofFloors                                                 3332 non-null   object\n",
      " 12  PropertyGFATotal                                               3340 non-null   object\n",
      " 13  PropertyGFAParking                                             3340 non-null   object\n",
      " 14  PropertyGFABuilding(s)                                         3340 non-null   object\n",
      " 15  ListOfAllPropertyUseTypes                                      3213 non-null   object\n",
      " 16  LargestPropertyUseType                                         3204 non-null   object\n",
      " 17  LargestPropertyUseTypeGFA                                      3204 non-null   object\n",
      " 18  SecondLargestPropertyUseType                                   1559 non-null   object\n",
      " 19  SecondLargestPropertyUseTypeGFA                                1559 non-null   object\n",
      " 20  ThirdLargestPropertyUseType                                    560 non-null    object\n",
      " 21  ThirdLargestPropertyUseTypeGFA                                 560 non-null    object\n",
      " 22  YearsENERGYSTARCertified                                       110 non-null    object\n",
      " 23  ENERGYSTARScore                                                2560 non-null   object\n",
      " 24  SiteEUI(kBtu/sf)                                               3330 non-null   object\n",
      " 25  SiteEUIWN(kBtu/sf)                                             3330 non-null   object\n",
      " 26  SourceEUI(kBtu/sf)                                             3330 non-null   object\n",
      " 27  SourceEUIWN(kBtu/sf)                                           3330 non-null   object\n",
      " 28  SiteEnergyUse(kBtu)                                            3330 non-null   object\n",
      " 29  SiteEnergyUseWN(kBtu)                                          3330 non-null   object\n",
      " 30  SteamUse(kBtu)                                                 3330 non-null   object\n",
      " 31  Electricity(kWh)                                               3330 non-null   object\n",
      " 32  Electricity(kBtu)                                              3330 non-null   object\n",
      " 33  NaturalGas(therms)                                             3330 non-null   object\n",
      " 34  NaturalGas(kBtu)                                               3330 non-null   object\n",
      " 35  OtherFuelUse(kBtu)                                             3330 non-null   object\n",
      " 36  GHGEmissions(MetricTonsCO2e)                                   3330 non-null   object\n",
      " 37  GHGEmissionsIntensity(kgCO2e/ft2)                              3330 non-null   object\n",
      " 38  DefaultData                                                    3339 non-null   object\n",
      " 39  Comment                                                        13 non-null     object\n",
      " 40  ComplianceStatus                                               3340 non-null   object\n",
      " 41  Outlier                                                        84 non-null     object\n",
      " 42  2010 Census Tracts                                             224 non-null    object\n",
      " 43  Seattle Police Department Micro Community Policing Plan Areas  3338 non-null   object\n",
      " 44  City Council Districts                                         213 non-null    object\n",
      " 45  SPD Beats                                                      3338 non-null   object\n",
      " 46  Zip Codes                                                      3340 non-null   object\n",
      "dtypes: object(47)\n",
      "memory usage: 1.2+ MB\n",
      "info :  None\n"
     ]
    }
   ],
   "source": [
    "print(\"info : \", df_fifteen.info())\n"
   ]
  },
  {
   "cell_type": "code",
   "execution_count": 25,
   "id": "11355006",
   "metadata": {},
   "outputs": [
    {
     "name": "stdout",
     "output_type": "stream",
     "text": [
      "<class 'pandas.core.frame.DataFrame'>\n",
      "RangeIndex: 3376 entries, 0 to 3375\n",
      "Data columns (total 46 columns):\n",
      " #   Column                           Non-Null Count  Dtype \n",
      "---  ------                           --------------  ----- \n",
      " 0   OSEBuildingID                    3376 non-null   object\n",
      " 1   DataYear                         3376 non-null   object\n",
      " 2   BuildingType                     3376 non-null   object\n",
      " 3   PrimaryPropertyType              3376 non-null   object\n",
      " 4   PropertyName                     3376 non-null   object\n",
      " 5   Address                          3376 non-null   object\n",
      " 6   City                             3376 non-null   object\n",
      " 7   State                            3376 non-null   object\n",
      " 8   ZipCode                          3360 non-null   object\n",
      " 9   TaxParcelIdentificationNumber    3376 non-null   object\n",
      " 10  CouncilDistrictCode              3376 non-null   object\n",
      " 11  Neighborhood                     3376 non-null   object\n",
      " 12  Latitude                         3376 non-null   object\n",
      " 13  Longitude                        3376 non-null   object\n",
      " 14  YearBuilt                        3376 non-null   object\n",
      " 15  NumberofBuildings                3368 non-null   object\n",
      " 16  NumberofFloors                   3376 non-null   object\n",
      " 17  PropertyGFATotal                 3376 non-null   object\n",
      " 18  PropertyGFAParking               3376 non-null   object\n",
      " 19  PropertyGFABuilding(s)           3376 non-null   object\n",
      " 20  ListOfAllPropertyUseTypes        3367 non-null   object\n",
      " 21  LargestPropertyUseType           3356 non-null   object\n",
      " 22  LargestPropertyUseTypeGFA        3356 non-null   object\n",
      " 23  SecondLargestPropertyUseType     1679 non-null   object\n",
      " 24  SecondLargestPropertyUseTypeGFA  1679 non-null   object\n",
      " 25  ThirdLargestPropertyUseType      596 non-null    object\n",
      " 26  ThirdLargestPropertyUseTypeGFA   596 non-null    object\n",
      " 27  YearsENERGYSTARCertified         119 non-null    object\n",
      " 28  ENERGYSTARScore                  2533 non-null   object\n",
      " 29  SiteEUI(kBtu/sf)                 3369 non-null   object\n",
      " 30  SiteEUIWN(kBtu/sf)               3370 non-null   object\n",
      " 31  SourceEUI(kBtu/sf)               3367 non-null   object\n",
      " 32  SourceEUIWN(kBtu/sf)             3367 non-null   object\n",
      " 33  SiteEnergyUse(kBtu)              3371 non-null   object\n",
      " 34  SiteEnergyUseWN(kBtu)            3370 non-null   object\n",
      " 35  SteamUse(kBtu)                   3367 non-null   object\n",
      " 36  Electricity(kWh)                 3367 non-null   object\n",
      " 37  Electricity(kBtu)                3367 non-null   object\n",
      " 38  NaturalGas(therms)               3367 non-null   object\n",
      " 39  NaturalGas(kBtu)                 3367 non-null   object\n",
      " 40  DefaultData                      3376 non-null   object\n",
      " 41  Comments                         0 non-null      object\n",
      " 42  ComplianceStatus                 3376 non-null   object\n",
      " 43  Outlier                          32 non-null     object\n",
      " 44  TotalGHGEmissions                3367 non-null   object\n",
      " 45  GHGEmissionsIntensity            3367 non-null   object\n",
      "dtypes: object(46)\n",
      "memory usage: 1.2+ MB\n",
      "info :  None\n"
     ]
    }
   ],
   "source": [
    "print(\"info : \", df_sixteen.info())\n"
   ]
  },
  {
   "cell_type": "code",
   "execution_count": 26,
   "id": "6a3cfc07",
   "metadata": {},
   "outputs": [
    {
     "name": "stdout",
     "output_type": "stream",
     "text": [
      "56 batiments ne sont présents que dans le benchmark 2015, et 92 batiments ne sont présents que dans le benchmark 2016 \n"
     ]
    }
   ],
   "source": [
    "id_fifteen_list = list(df_fifteen[\"OSEBuildingID\"])\n",
    "id_sixteen_list = list(df_sixteen[\"OSEBuildingID\"])\n",
    "\n",
    "only_in_fifteen = [ident for ident in id_fifteen_list if ident not in id_sixteen_list]\n",
    "only_in_sixteen = [ident for ident in id_sixteen_list if ident not in id_fifteen_list]\n",
    "\n",
    "print(\n",
    "    f\"\"\"{len(only_in_fifteen)} batiments ne sont présents que dans le benchmark 2015,\\\n",
    " et {len(only_in_sixteen)} batiments ne sont présents que dans le benchmark 2016 \"\"\"\n",
    "  )\n"
   ]
  },
  {
   "cell_type": "code",
   "execution_count": 27,
   "id": "bf98ba42",
   "metadata": {},
   "outputs": [
    {
     "name": "stdout",
     "output_type": "stream",
     "text": [
      "Nombre de variables non communes aux deux datasets :  19\n"
     ]
    }
   ],
   "source": [
    "col_onl_fifteen = [col for col in df_fifteen.columns if col not in df_sixteen.columns]\n",
    "\n",
    "col_onl_sixteen = [col for col in df_sixteen.columns if col not in df_fifteen.columns]\n",
    "\n",
    "print(\"Nombre de variables non communes aux deux datasets : \", len(col_onl_fifteen) + len(col_onl_sixteen))\n"
   ]
  },
  {
   "cell_type": "code",
   "execution_count": 28,
   "id": "7fd3c4f2",
   "metadata": {},
   "outputs": [
    {
     "name": "stdout",
     "output_type": "stream",
     "text": [
      "['Address', 'City', 'State', 'ZipCode', 'Latitude', 'Longitude', 'Comments', 'TotalGHGEmissions', 'GHGEmissionsIntensity']\n"
     ]
    }
   ],
   "source": [
    "print(col_onl_sixteen)\n"
   ]
  },
  {
   "cell_type": "code",
   "execution_count": 29,
   "id": "57436c18",
   "metadata": {},
   "outputs": [
    {
     "name": "stdout",
     "output_type": "stream",
     "text": [
      "['Location', 'OtherFuelUse(kBtu)', 'GHGEmissions(MetricTonsCO2e)', 'GHGEmissionsIntensity(kgCO2e/ft2)', 'Comment', '2010 Census Tracts', 'Seattle Police Department Micro Community Policing Plan Areas', 'City Council Districts', 'SPD Beats', 'Zip Codes']\n"
     ]
    }
   ],
   "source": [
    "print(col_onl_fifteen)\n"
   ]
  },
  {
   "cell_type": "markdown",
   "id": "b1009656",
   "metadata": {},
   "source": [
    "## Premier constat : \n",
    "\n",
    "- 1 : Les dataset n'affichent des valeurs manquantes pour des variables secondaires (i.e. : SecondLargestPropertyUseType)\n",
    "- 2 : Certaines propriétés ne sont présentes que dans un des deux dataset : elles devront être ignorés si l'on utilise une analyse d'évolution dans le temps\n",
    "- 3 : Certaines variables ne sont pas presentes dans les deux datasets. (Ou changement de denomination : Address -> Location ?, Typos : Zip Code vs Zipcode)\n",
    "- 4 : Les variables : city et state peuvent être supprimées : toutes les propriétés se trouvent à Seattle, dans l'Etat de Washington. Inutile d'alourdir les datasets.\n",
    "- 5 : 56 batiments ne sont présents que dans le benchmark 2015, et 92 batiments ne sont présents que dans le benchmark 2016. Ils seront ignorés.\n",
    "\n",
    "<hr> \n",
    "\n",
    "## Allegement et conversions :\n",
    "\n",
    "- 1 : Plusieurs variables sont inutiles au datasets en general (Droplist)\n",
    "- 2 : Certaines variables sont inutiles à l'étude et alourdissent inutilement le dataset mais peuvent être pertinentes pour décrire le batiment ou obtenir plus d'informations, elles sont écartées (df_meta)\n",
    "- 3 : Le format d'adresse sur les données de 2015 est différent de celles de 2016 : compression des données de 2016 pour conformer au modèle du dataset 2015 (compress cols)\n",
    "- 4 : Conversion des données au système métrique / international\n"
   ]
  },
  {
   "cell_type": "code",
   "execution_count": 30,
   "id": "5889251e",
   "metadata": {},
   "outputs": [],
   "source": [
    "rename_sixteen = {\n",
    "    \"Comments\": \"Comment\",\n",
    "    \"TotalGHGEmissions\": \"GHGEmissions(MetricTonsCO2e)\",\n",
    "    \"GHGEmissionsIntensity\": \"GHGEmissionsIntensity(kgCO2e/ft2)\",\n",
    "    }\n",
    "\n",
    "droplist = [\n",
    "    \"Zip Codes\", \"Zipcode\", \"SPD Beats\", \"2010 Census Tracts\", \"City Council Districts\",\n",
    "    \"Seattle Police Department Micro Community Policing Plan Areas\", \"OtherFuelUse(kBtu)\",  # OtherFuelUse not present in both datasets\n",
    "    \"SPD Beats\", \"CouncilDistrictCode\", \"Outlier\", \"DataYear\", \"ZipCode\", \"NaturalGas(therms)\",  # Natural gas already present in another unit\n",
    "    ]\n",
    "\n",
    "# Columns not relevant to study but informative on the properties\n",
    "meta_df_cols = [\n",
    "    \"TaxParcelIdentificationNumber\", \"YearsENERGYSTARCertified\", \"Comment\", \"Location\", \"OSEBuildingID\",\n",
    "    \"PrimaryPropertyType\", \"PropertyName\", \"YearBuilt\"\n",
    "    ]\n",
    "\n",
    "meta_keep = [\"OSEBuildingID\", \"PrimaryPropertyType\", \"PropertyName\", \"YearBuilt\"]\n",
    "\n",
    "compress_cols = [\"Address\", \"City\", \"State\", \"Latitude\", \"Longitude\"]\n"
   ]
  },
  {
   "cell_type": "code",
   "execution_count": 31,
   "id": "3b87f040",
   "metadata": {},
   "outputs": [],
   "source": [
    "df_fifteen.drop(columns=droplist, errors=\"ignore\", inplace=True)\n",
    "df_sixteen.drop(columns=droplist, errors=\"ignore\", inplace=True)\n"
   ]
  },
  {
   "cell_type": "code",
   "execution_count": 32,
   "id": "fc69c34f",
   "metadata": {},
   "outputs": [],
   "source": [
    "df_sixteen[\"Location\"] = np.nan\n",
    "\n",
    "merge_cols(origin_col_list=compress_cols, target_col_name=\"Location\", dataframe=df_sixteen)\n",
    "\n",
    "df_sixteen.drop(columns=compress_cols, inplace=True)\n"
   ]
  },
  {
   "cell_type": "code",
   "execution_count": 33,
   "id": "2660c09e",
   "metadata": {},
   "outputs": [],
   "source": [
    "df_sixteen.rename(columns=rename_sixteen, inplace=True)\n",
    "\n",
    "for col in df_sixteen.columns:\n",
    "    if col not in df_fifteen.columns:\n",
    "        raise BaseException(\"Mismatch\")\n"
   ]
  },
  {
   "cell_type": "code",
   "execution_count": 34,
   "id": "d750fb9e",
   "metadata": {},
   "outputs": [],
   "source": [
    "meta_df_fifteen = df_fifteen[meta_df_cols]\n",
    "meta_df_sixteen = df_sixteen[meta_df_cols]\n",
    "\n",
    "meta_drop = [col for col in meta_df_cols if col not in meta_keep]\n",
    "\n",
    "df_fifteen.drop(columns=meta_drop, inplace=True)\n",
    "df_sixteen.drop(columns=meta_drop, inplace=True)\n"
   ]
  },
  {
   "cell_type": "code",
   "execution_count": 35,
   "id": "cecf12c0",
   "metadata": {},
   "outputs": [],
   "source": [
    "unit_stop_chars = [\"(\", \")\", \"GFA\"]\n",
    "\n",
    "manual_ignore = [\"Electricity(kWh)\", \"GHGEmissions(MetricTonsCO2e)\", \"GHGEmissionsIntensity(kgCO2e/ft2)\"]\n",
    "\n",
    "unit_cols = [col for col in df_fifteen.columns if (any(char in col for char in unit_stop_chars) and col not in manual_ignore)]\n"
   ]
  },
  {
   "cell_type": "code",
   "execution_count": 36,
   "id": "d8b5e778",
   "metadata": {},
   "outputs": [],
   "source": [
    "unit_dict = dict.fromkeys(unit_cols)\n",
    "\n",
    "for col in unit_dict.keys(): \n",
    "    unit = find_unit(var_name=col, convert=True)[\"converted_unit\"]\n",
    "\n",
    "    if \"GFA\" in col:\n",
    "        new_name = col.replace(\"GFA\", \"Area(SquareMetre)\")\n",
    "    elif (\"(\"and \")\") in col:\n",
    "        start, end = col.find(\"(\"), col.find(\")\")\n",
    "        before = col[:start + 1]\n",
    "        after = col[end:]\n",
    "        new_name = f\"{before}{unit}{after}\"\n",
    "    \n",
    "    df_fifteen[new_name] = np.nan\n",
    "    df_sixteen[new_name] = np.nan\n",
    "    unit_dict[col] = new_name\n",
    "\n",
    "for key, value in unit_dict.items():\n",
    "\n",
    "    for index, series in df_fifteen.iterrows():\n",
    "        df_fifteen.at[index, value] = convert_to_holy_metric(data=series[key], var_name=key)\n",
    "    for index, series in df_sixteen.iterrows():\n",
    "        df_sixteen.at[index, value] = convert_to_holy_metric(data=series[key], var_name=key)\n",
    "\n",
    "df_fifteen.drop(columns=unit_dict.keys(), inplace=True)\n",
    "df_sixteen.drop(columns=unit_dict.keys(), inplace=True)\n"
   ]
  },
  {
   "cell_type": "code",
   "execution_count": 37,
   "id": "ae7b4393",
   "metadata": {},
   "outputs": [],
   "source": [
    "# Suppression des batiments non communs aux deux datasets via leur ID\n",
    "\n",
    "df_fifteen = df_fifteen[~df_fifteen[\"OSEBuildingID\"].isin(only_in_fifteen)]\n",
    "\n",
    "df_sixteen = df_sixteen[~df_sixteen[\"OSEBuildingID\"].isin(only_in_sixteen)]\n"
   ]
  },
  {
   "cell_type": "markdown",
   "id": "3c77d95d",
   "metadata": {},
   "source": [
    "## Analyse des données :\n",
    "- 1.a : Représentation des batiments en fonction de leurs dates de construction.\n",
    "- 1.b : Visualisation des statistiques principales de la variable : Energie par metre carré\n",
    "- 1.c : Paire 1 : Date de construction et utilisation en energie par metre carré.\n",
    "- 2.a : Repartition de la note Energy Star au sein des données.\n",
    "- 2.b : Paire 2 : Note Energy Star en fonction de l'energie par metre carré.\n",
    "- 3 : Paire 3 : Energy Star en fonction de l'année de construction.\n",
    "- 4 : Représentation Property Type/Utilisation Energie\n",
    "\n",
    "### Cette analyse permettra de :\n",
    " - Visualiser \"l'age\" du paysage de Seattle\n",
    " - Contextualiser la mesure de la consommation d'énergie au metre carré, et sa possible relation avec l'age des batiments\n",
    " - Avoir une meilleure comprehension de la variable Energy Star et de la présenter face à l'age des batiments et de leur consommation en energie"
   ]
  },
  {
   "cell_type": "markdown",
   "id": "f7cde5c2",
   "metadata": {},
   "source": [
    "## 1 : L'age des batiments et leur consommation en energie\n",
    "### 1.a : L'age du paysage de Seattle"
   ]
  },
  {
   "cell_type": "code",
   "execution_count": 38,
   "id": "ef2458bd",
   "metadata": {},
   "outputs": [
    {
     "name": "stdout",
     "output_type": "stream",
     "text": [
      "Le plus ancien batiment date de 1900, le plus récent (en 2016) date de 2015\n"
     ]
    }
   ],
   "source": [
    "# We can use df_16 since the data is more recent for energy use and didnt change for construction date\n",
    "\n",
    "data_age = list(df_sixteen[\"YearBuilt\"].astype(int))\n",
    "oldest = min(data_age)\n",
    "youngest = max(data_age)\n",
    "\n",
    "print(f\"Le plus ancien batiment date de {oldest}, le plus récent (en 2016) date de {youngest}\")\n"
   ]
  },
  {
   "cell_type": "code",
   "execution_count": 39,
   "id": "f2f0b5cf",
   "metadata": {},
   "outputs": [
    {
     "data": {
      "image/png": "[encoded data removed]",
      "text/plain": [
       "<Figure size 2112x960 with 2 Axes>"
      ]
     },
     "metadata": {},
     "output_type": "display_data"
    }
   ],
   "source": [
    "decades = np.arange(1900, 2020, 10)\n",
    "\n",
    "building_per_decade = dict.fromkeys(decades)\n",
    "\n",
    "for decade in building_per_decade.keys():\n",
    "    built = len([year for year in data_age if (year > decade and year < decade + 10)])\n",
    "    building_per_decade[decade] = built\n",
    "\n",
    "used_cmap = plt.get_cmap(\"Dark2\")\n",
    "\n",
    "fig, (ax1, ax2) = plt.subplots(\n",
    "    ncols=2,\n",
    "    nrows=1,\n",
    "    figsize=(22, 10),\n",
    "    gridspec_kw={\"width_ratios\": [1, 4]},\n",
    "    dpi=pc_dpi\n",
    "    )\n",
    "\n",
    "ax1.boxplot(data_age, showmeans=True, widths=0.25)\n",
    "\n",
    "ax2.bar(building_per_decade.keys(), height=building_per_decade.values(), width=8, color=used_cmap.colors)\n",
    "# ax2 lineplot\n",
    "\n",
    "###\n",
    "# Titles & Labels\n",
    "ax1.set_ylabel(\"Annee de construction\")\n",
    "ax2.set_ylabel(\"Nombre de batiments construits\")\n",
    "ax2.set_xlabel(\"Annee de construction\")\n",
    "fig.suptitle(\"Reprerenation des batiments en fonction de leur annee de construction\")\n",
    "fig.tight_layout()\n",
    "#\n",
    "###\n",
    "\n",
    "plt.show()\n"
   ]
  },
  {
   "cell_type": "markdown",
   "id": "165f1ed0",
   "metadata": {},
   "source": [
    "Comment Zone"
   ]
  },
  {
   "cell_type": "markdown",
   "id": "eeee8a04",
   "metadata": {},
   "source": [
    "## 1.b Visualisation des statistiques principales de la variable : Energie par metre carré"
   ]
  },
  {
   "cell_type": "code",
   "execution_count": 40,
   "id": "390552f3",
   "metadata": {},
   "outputs": [
    {
     "data": {
      "image/png": "[encoded data removed]",
      "text/plain": [
       "<Figure size 768x960 with 2 Axes>"
      ]
     },
     "metadata": {},
     "output_type": "display_data"
    },
    {
     "name": "stdout",
     "output_type": "stream",
     "text": [
      "count    3278.000000\n",
      "mean      170.962418\n",
      "std       170.593548\n",
      "min         0.000000\n",
      "25%        87.697600\n",
      "50%       121.451715\n",
      "75%       190.142911\n",
      "max      2231.241469\n",
      "Name: SiteEUI(kWh/m2), dtype: float64\n"
     ]
    }
   ],
   "source": [
    "fig, (ax1, ax2) = plt.subplots(\n",
    "    ncols=2,\n",
    "    nrows=1,\n",
    "    figsize=(8, 10),\n",
    "    dpi=pc_dpi,\n",
    "    )\n",
    "\n",
    "site_eui_data = list(df_sixteen[\"SiteEUI(kWh/m2)\"].values.astype(float))\n",
    "\n",
    "sns.boxplot(data=site_eui_data, width=0.6, ax=ax1, color=\"navy\")\n",
    "ax1.set_ylim(0, 500)  # High number of outliers, cf describe\n",
    "sns.boxplot(data=site_eui_data, width=0.6, ax=ax2, color=\"red\")\n",
    "# fig.tight_layout()\n",
    "\n",
    "###\n",
    "# Titles/Lables\n",
    "ax1.set_ylabel(\"Consommation d'energie (kWh/m2)\")\n",
    "fig.suptitle(\"Visualisation de la repartition de l'EUI parmi les données (energy use intensity)\")\n",
    "#\n",
    "###\n",
    "\n",
    "plt.show()\n",
    "\n",
    "print(df_sixteen[\"SiteEUI(kWh/m2)\"].astype(float).describe())\n"
   ]
  },
  {
   "cell_type": "markdown",
   "id": "9b23ba62",
   "metadata": {},
   "source": [
    "### Analyse :\n",
    "\n",
    "- 1 : Les outliers sont extrèmement nombreux, uniquement dans les utilisations \"hautes\"\n",
    "- 2 : La majorité des batiments ont une EUI entre 87 et 190 kWh/m2, 170 en moyenne.\n",
    "- 3 : L'élimination de batiments via la methode interquartile peut être viable, la reduction de dimension via ACP peut également être une piste"
   ]
  },
  {
   "cell_type": "markdown",
   "id": "8273e681",
   "metadata": {},
   "source": [
    "### 1.c : Paire 1 : Date de construction et utilisation en energie par metre carré."
   ]
  },
  {
   "cell_type": "code",
   "execution_count": 41,
   "id": "f917ffd3",
   "metadata": {},
   "outputs": [
    {
     "data": {
      "text/plain": [
       "{'Hotel': 73,\n",
       " 'Other': 251,\n",
       " 'Mid-Rise Multifamily': 535,\n",
       " 'Mixed Use Property': 125,\n",
       " 'K-12 School': 134,\n",
       " 'College/University': 22,\n",
       " 'Small- and Mid-Sized Office': 290,\n",
       " 'Self-Storage Facility\\n': 27,\n",
       " 'Distribution Center': 2,\n",
       " 'Large Office': 168,\n",
       " 'Retail Store': 97,\n",
       " 'Senior Care Community': 43,\n",
       " 'Medical Office': 40,\n",
       " 'Hospital': 10,\n",
       " 'Residence Hall/Dormitory': 15,\n",
       " 'Non-Refrigerated Warehouse': 185,\n",
       " 'Distribution Center\\n': 51,\n",
       " 'SPS-District K-12': 4,\n",
       " 'Worship Facility': 71,\n",
       " 'Low-Rise Multifamily': 976,\n",
       " 'Supermarket/Grocery Store': 36,\n",
       " 'Laboratory': 1,\n",
       " 'Self-Storage Facility': 1,\n",
       " 'Refrigerated Warehouse': 13,\n",
       " 'High-Rise Multifamily': 103,\n",
       " 'Restaurant\\n': 10,\n",
       " 'Restaurant': 1}"
      ]
     },
     "execution_count": 41,
     "metadata": {},
     "output_type": "execute_result"
    }
   ],
   "source": [
    "uniques = df_fifteen[\"PrimaryPropertyType\"].unique()\n",
    "unique_property_type_dict = dict.fromkeys(uniques)\n",
    "for unique in unique_property_type_dict.keys():\n",
    "    unique_property_type_dict[unique] = len(df_fifteen[df_fifteen[\"PrimaryPropertyType\"] == unique])\n",
    "\n",
    "unique_property_type_dict\n"
   ]
  },
  {
   "cell_type": "markdown",
   "id": "df20ccc9",
   "metadata": {},
   "source": [
    "Corrections requises : typos et \\n"
   ]
  },
  {
   "cell_type": "code",
   "execution_count": null,
   "id": "f46d4af6",
   "metadata": {},
   "outputs": [],
   "source": [
    "correction_dict = {\n",
    "    \"Self-Storage Facility\\n\": \"Self-Storage Facility\",\n",
    "    \"\":\n",
    "}"
   ]
  }
 ],
 "metadata": {
  "kernelspec": {
   "display_name": "Python 3 (ipykernel)",
   "language": "python",
   "name": "python3"
  },
  "language_info": {
   "codemirror_mode": {
    "name": "ipython",
    "version": 3
   },
   "file_extension": ".py",
   "mimetype": "text/x-python",
   "name": "python",
   "nbconvert_exporter": "python",
   "pygments_lexer": "ipython3",
   "version": "3.10.4"
  }
 },
 "nbformat": 4,
 "nbformat_minor": 5
}

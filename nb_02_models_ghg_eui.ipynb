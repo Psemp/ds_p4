{
 "cells": [
  {
   "cell_type": "code",
   "execution_count": null,
   "metadata": {},
   "outputs": [],
   "source": [
    "import pandas as pd\n",
    "import seaborn as sns\n",
    "import numpy as np\n",
    "import os\n",
    "\n",
    "from matplotlib import pyplot as plt\n",
    "from dotenv import load_dotenv\n",
    "from sklearn import preprocessing, model_selection, linear_model\n",
    "from sklearn import metrics, dummy\n",
    "\n",
    "from scripts.models.regressions import Regressions\n",
    "\n",
    "load_dotenv()\n",
    "sns.color_palette('colorblind')\n",
    "plt.style.use('Solarize_Light2')\n",
    "\n",
    "# Setting default DPI, pulling it from dotenv if it exists, setting it on 100 if not\n",
    "\n",
    "try:\n",
    "    pc_cores = int(os.getenv('CORES'))\n",
    "\n",
    "except TypeError:\n",
    "    pc_cores = 4\n",
    "\n",
    "try:\n",
    "    pc_dpi = int(os.getenv('DPI'))\n",
    "\n",
    "except TypeError:\n",
    "    pc_dpi = 100\n",
    "\n",
    "if pc_dpi is None:\n",
    "    pc_dpi = 100\n",
    "\n",
    "if pc_dpi >= 155:\n",
    "    pc_dpi = 155\n",
    "\n",
    "## NOTES : cv = RepeatedKFold(n_splits=10, n_repeats=3, random_state=1)\n"
   ]
  },
  {
   "cell_type": "code",
   "execution_count": null,
   "metadata": {},
   "outputs": [],
   "source": [
    "file_ghg_eui = \"./data/seattle_predict_ghg_eui.csv\"\n"
   ]
  },
  {
   "cell_type": "code",
   "execution_count": null,
   "metadata": {},
   "outputs": [],
   "source": [
    "df_model = pd.read_csv(file_ghg_eui).astype(float)\n",
    "\n",
    "df_model.columns\n"
   ]
  },
  {
   "cell_type": "code",
   "execution_count": null,
   "metadata": {},
   "outputs": [],
   "source": [
    "df_model.head(n=5)"
   ]
  },
  {
   "cell_type": "code",
   "execution_count": null,
   "metadata": {},
   "outputs": [],
   "source": [
    "df_model.set_index(\"OSEBuildingID\", inplace=True)\n"
   ]
  },
  {
   "cell_type": "code",
   "execution_count": null,
   "metadata": {},
   "outputs": [],
   "source": [
    "df_model.dropna(inplace=True)\n"
   ]
  },
  {
   "cell_type": "code",
   "execution_count": null,
   "metadata": {},
   "outputs": [],
   "source": [
    "ohe_cols = [col for col in df_model.columns if col.startswith(\"ohe\")]\n",
    "\n",
    "df_plot_features = df_model.drop(columns=ohe_cols)\n"
   ]
  },
  {
   "cell_type": "code",
   "execution_count": null,
   "metadata": {},
   "outputs": [],
   "source": [
    "# Target_1 : target_GHGEmissionsIntensity(kgCO2e/ft2) : two cols\n",
    "\n",
    "droplist_1 = [\n",
    "    \"scaled_GHGEmissionsIntensity(kgCO2e/ft2)\",  # Scaled target\n",
    "    \"target_SourceEUI(kWh/m2)\"  # not to scale\n",
    "    ]\n",
    "\n",
    "df_model_ghg = df_model.drop(columns=droplist_1)\n"
   ]
  },
  {
   "cell_type": "code",
   "execution_count": null,
   "metadata": {},
   "outputs": [],
   "source": [
    "ghg_target = \"target_GHGEmissionsIntensity(kgCO2e/ft2)\"\n",
    "ghg_regression = Regressions(dataframe=df_model_ghg, target_col=ghg_target)\n"
   ]
  },
  {
   "cell_type": "code",
   "execution_count": null,
   "metadata": {},
   "outputs": [],
   "source": [
    "alpha_range = np.arange(0.01, 7, 0.05)\n",
    "\n",
    "lasso_cv = linear_model.LassoCV(\n",
    "    fit_intercept=False,\n",
    "    alphas=alpha_range,\n",
    "    n_jobs=-1,\n",
    "    )\n"
   ]
  },
  {
   "cell_type": "code",
   "execution_count": null,
   "metadata": {},
   "outputs": [],
   "source": [
    "lasso_cv.fit(\n",
    "    X=ghg_regression.X_train,\n",
    "    y=ghg_regression.y_train\n",
    ")\n",
    "\n",
    "mses = lasso_cv.mse_path_\n",
    "print(mses.shape)\n",
    "mse_avg = []\n",
    "for mse_list in mses:\n",
    "    mse_avg.append(np.mean(mse_list))\n"
   ]
  },
  {
   "cell_type": "code",
   "execution_count": null,
   "metadata": {},
   "outputs": [],
   "source": [
    "fig, (ax1) = plt.subplots(\n",
    "    ncols=1,\n",
    "    nrows=1,\n",
    "    figsize=(4, 4),\n",
    "    dpi=pc_dpi,\n",
    ")\n",
    "\n",
    "ax1.plot(lasso_cv.alphas_, mse_avg)\n",
    "\n",
    "\n",
    "###\n",
    "# Titles/Lables\n",
    "\n",
    "#\n",
    "###\n",
    "\n",
    "plt.tight_layout()\n",
    "plt.show()\n"
   ]
  },
  {
   "cell_type": "code",
   "execution_count": null,
   "metadata": {},
   "outputs": [],
   "source": [
    "n_alphas = 200\n",
    "alphas_ridge = np.logspace(-5, 5, n_alphas)\n",
    "\n",
    "alpha_range = np.arange(0.01, 50, 0.05)\n",
    "\n",
    "folds = 20\n",
    "\n",
    "ridge_cv = linear_model.RidgeCV(\n",
    "    fit_intercept=False,\n",
    "    alphas=alpha_range,\n",
    "    store_cv_values=True,\n",
    "    )\n",
    "\n",
    "ridge_cv.fit(ghg_regression.X_train, ghg_regression.y_train)\n",
    "\n",
    "print(0)"
   ]
  },
  {
   "cell_type": "code",
   "execution_count": null,
   "metadata": {},
   "outputs": [],
   "source": [
    "mses_ridge = np.mean(ridge_cv.cv_values_, axis=0)[0]\n",
    "rmses_ridge = np.sqrt(mses_ridge)\n",
    "predict_train = ridge_cv.predict(X=ghg_regression.X_train)"
   ]
  },
  {
   "cell_type": "code",
   "execution_count": null,
   "metadata": {},
   "outputs": [],
   "source": [
    "np.sqrt(metrics.mean_squared_error(y_true=ghg_regression.y_train, y_pred=predict_train))"
   ]
  },
  {
   "cell_type": "code",
   "execution_count": null,
   "metadata": {},
   "outputs": [],
   "source": [
    "fig, (ax1) = plt.subplots(\n",
    "    ncols=1,\n",
    "    nrows=1,\n",
    "    figsize=(4, 4),\n",
    "    dpi=pc_dpi,\n",
    ")\n",
    "\n",
    "ax1.plot(alpha_range, np.sqrt(mses_ridge))\n",
    "\n",
    "###\n",
    "# Titles/Lables\n",
    "\n",
    "#\n",
    "###\n",
    "plt.tight_layout()\n",
    "plt.show()\n"
   ]
  },
  {
   "cell_type": "code",
   "execution_count": null,
   "metadata": {},
   "outputs": [],
   "source": [
    "ridge_cv"
   ]
  },
  {
   "cell_type": "code",
   "execution_count": null,
   "metadata": {},
   "outputs": [],
   "source": [
    "# ghg_regression.standard_regression()\n",
    "# sorted(metrics.SCORERS.keys())"
   ]
  },
  {
   "cell_type": "code",
   "execution_count": null,
   "metadata": {},
   "outputs": [],
   "source": [
    "ghg_regression.std_reg_metrics[\"rsme\"] ** 2"
   ]
  },
  {
   "cell_type": "code",
   "execution_count": null,
   "metadata": {},
   "outputs": [],
   "source": [
    "ghg_regression.elastic_net_reg()"
   ]
  },
  {
   "cell_type": "code",
   "execution_count": null,
   "metadata": {},
   "outputs": [],
   "source": [
    "mses_enet = ghg_regression.clf_enet.mse_path_\n",
    "\n",
    "np.mean(np.mean(mses_enet, axis=1), axis=1)\n",
    "\n",
    "mses_enet.shape"
   ]
  },
  {
   "cell_type": "code",
   "execution_count": null,
   "metadata": {},
   "outputs": [],
   "source": [
    "droplist_2 = [\n",
    "    \"scaled_SourceEUI(kWh/m2)\",  # Scaled target\n",
    "    \"target_GHGEmissionsIntensity(kgCO2e/ft2)\"  # not to scale\n",
    "    ]\n",
    "\n",
    "df_model_eui = df_model.drop(columns=droplist_2)\n",
    "\n",
    "eui_target = \"target_SourceEUI(kWh/m2)\"\n",
    "eui_regression = Regressions(dataframe=df_model_eui, target_col=eui_target)\n"
   ]
  },
  {
   "cell_type": "code",
   "execution_count": null,
   "metadata": {},
   "outputs": [],
   "source": [
    "eui_regression.display_all_metrics()\n"
   ]
  },
  {
   "cell_type": "code",
   "execution_count": null,
   "metadata": {},
   "outputs": [],
   "source": [
    "eui_regression.df_predictions"
   ]
  }
 ],
 "metadata": {
  "interpreter": {
   "hash": "1274e91d4c49da8d2c5027ac796fe23c6eef02ed77c0608f3ea1b98e1edcbe8a"
  },
  "kernelspec": {
   "display_name": "Python 3.10.4 ('env': venv)",
   "language": "python",
   "name": "python3"
  },
  "language_info": {
   "codemirror_mode": {
    "name": "ipython",
    "version": 3
   },
   "file_extension": ".py",
   "mimetype": "text/x-python",
   "name": "python",
   "nbconvert_exporter": "python",
   "pygments_lexer": "ipython3",
   "version": "3.10.4"
  },
  "orig_nbformat": 4
 },
 "nbformat": 4,
 "nbformat_minor": 2
}

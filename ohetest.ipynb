{
 "cells": [
  {
   "cell_type": "code",
   "execution_count": null,
   "metadata": {},
   "outputs": [],
   "source": [
    "import pandas as pd\n",
    "import seaborn as sns\n",
    "import numpy as np\n",
    "import os\n",
    "\n",
    "from matplotlib import pyplot as plt\n",
    "from dotenv import load_dotenv\n",
    "from sklearn.preprocessing import OneHotEncoder\n",
    "\n",
    "load_dotenv()\n",
    "sns.color_palette('colorblind')\n",
    "plt.style.use('Solarize_Light2')\n",
    "\n",
    "# Setting default DPI, pulling it from dotenv if it exists, setting it on 100 if not\n",
    "\n",
    "pc_dpi = int(os.getenv('DPI'))\n",
    "\n",
    "if pc_dpi is None:\n",
    "    pc_dpi = 100\n"
   ]
  },
  {
   "cell_type": "code",
   "execution_count": null,
   "metadata": {},
   "outputs": [],
   "source": [
    "dataset = \"./data/ds_for_ohe.csv\"\n"
   ]
  },
  {
   "cell_type": "code",
   "execution_count": null,
   "metadata": {},
   "outputs": [],
   "source": [
    "df_seattle = pd.read_csv(dataset)\n",
    "\n",
    "df_seattle.head()\n"
   ]
  },
  {
   "cell_type": "code",
   "execution_count": null,
   "metadata": {},
   "outputs": [],
   "source": [
    "# all caps to remove =/=ces\n",
    "\n",
    "df_seattle[\"Neighborhood\"] = df_seattle[\"Neighborhood\"].apply(str.upper)\n"
   ]
  },
  {
   "cell_type": "code",
   "execution_count": null,
   "metadata": {},
   "outputs": [],
   "source": [
    "ohe_nbhood = OneHotEncoder()\n",
    "\n",
    "transformed = ohe_nbhood.fit_transform(df_seattle[[\"Neighborhood\"]])\n",
    "\n",
    "df_seattle[ohe_nbhood.categories_[0]] = transformed.toarray()\n",
    "\n",
    "cols_nbhood = list(ohe_nbhood.categories_[0])\n",
    "\n",
    "rename_hood = dict.fromkeys(cols_nbhood)\n",
    "\n",
    "for key in rename_hood.keys():\n",
    "    rename_hood[key] = f\"ohe_nbhood_{key}\"\n",
    "\n",
    "df_seattle.rename(columns=rename_hood, inplace=True)\n",
    "ohe_ptype = OneHotEncoder()\n",
    "\n",
    "transformed = ohe_ptype.fit_transform(df_seattle[[\"PrimaryPropertyType\"]])\n",
    "\n",
    "df_seattle[ohe_ptype.categories_[0]] = transformed.toarray()\n",
    "\n",
    "cols_ptype = list(ohe_ptype.categories_[0])\n",
    "\n",
    "rename_ptype = dict.fromkeys(cols_ptype)\n",
    "\n",
    "for key in rename_ptype.keys():\n",
    "    rename_ptype[key] = f\"ohe_ptype_{key}\"\n",
    "\n",
    "rename_ptype\n",
    "\n",
    "df_seattle.rename(columns=rename_ptype, inplace=True)\n",
    "\n"
   ]
  },
  {
   "cell_type": "code",
   "execution_count": null,
   "metadata": {},
   "outputs": [],
   "source": [
    "df_seattle.head()\n"
   ]
  }
 ],
 "metadata": {
  "interpreter": {
   "hash": "0da0af6bf3f6033f1ed3bb9a018282c9b956ccf49d2ca4646969195110973d60"
  },
  "kernelspec": {
   "display_name": "Python 3.10.4 ('env': venv)",
   "language": "python",
   "name": "python3"
  },
  "language_info": {
   "codemirror_mode": {
    "name": "ipython",
    "version": 3
   },
   "file_extension": ".py",
   "mimetype": "text/x-python",
   "name": "python",
   "nbconvert_exporter": "python",
   "pygments_lexer": "ipython3",
   "version": "3.10.4"
  },
  "orig_nbformat": 4
 },
 "nbformat": 4,
 "nbformat_minor": 2
}

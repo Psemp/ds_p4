{
 "cells": [
  {
   "cell_type": "code",
   "execution_count": 21,
   "metadata": {},
   "outputs": [],
   "source": [
    "import os\n",
    "import csv\n",
    "\n",
    "import pandas as pd\n",
    "import seaborn as sns\n",
    "import numpy as np\n",
    "\n",
    "from matplotlib import pyplot as plt\n",
    "from sklearn.model_selection import RepeatedKFold\n",
    "from dotenv import load_dotenv\n",
    "\n",
    "from models.linear_regressions import Linear_reg\n",
    "from scripts.model_actions import freeze_model\n",
    "\n",
    "load_dotenv()\n",
    "sns.color_palette('colorblind')\n",
    "plt.style.use('Solarize_Light2')\n",
    "\n",
    "# Setting default DPI, pulling it from dotenv if it exists, setting it on 100 if not\n",
    "\n",
    "pc_dpi = int(os.getenv('DPI'))\n",
    "\n",
    "if pc_dpi is None:\n",
    "    pc_dpi = 100\n"
   ]
  },
  {
   "cell_type": "markdown",
   "metadata": {},
   "source": [
    "# <u>Tentative de modelisation et prédiction de la variable : Intensité d'emission de GES</u>\n",
    "\n",
    "## <u>1 : Modelisations en prenant en compte la note Energy Star (E*)</u>\n",
    "### <u>1.1 : Regressions lineaires</u>\n",
    "\n",
    "## <u>2 : Etude de l'importance de la note Energy Star</u>\n",
    "### <u>2.1 : Modelisation sans utiliser de variables E* (E* Score ou E* certified)</u>\n",
    "### <u>2.2 : Utilisation de la certification plutot que le score</u>\n"
   ]
  },
  {
   "cell_type": "markdown",
   "metadata": {},
   "source": [
    "## <u>1 : Modelisations prenant en compte toutes les variables retenues lors de l'étude</u>\n",
    "### <u>1.1 : Regressions lineaires</u>\n",
    "\n",
    "#### 1.1.a : Cross validation = Leave One Out\n",
    "- On utilise dans un premier temps toutes les variables retenues lors de l'analyse exploratoire (breakpoint = export 1)\n",
    "    -  Note : Donnees inutilisables, oublie d'export de la variable cible\n",
    "- Un split satisfaisant a deja été trouvé et fixé, ces données viendront sur-ecrire le split proposé par le modele\n",
    "- On effectue 4 regressions (OLS, Ridge, Lasso et Elastic Net) avec les parametres par defaut de la classe pour la validation croisee : Leave One Out"
   ]
  },
  {
   "cell_type": "code",
   "execution_count": 2,
   "metadata": {},
   "outputs": [],
   "source": [
    "# train_file, test_file = \"./data/train_set_70percent_ghg.csv\", \"./data/test_set_30percent_ghg.csv\"\n",
    "general_file = \"./data/seattle_predict_ghg_eui.csv\"  # Used as backup\n"
   ]
  },
  {
   "cell_type": "code",
   "execution_count": 3,
   "metadata": {},
   "outputs": [],
   "source": [
    "df_ghg = pd.read_csv(general_file)\n",
    "df_ghg.set_index(\"OSEBuildingID\", inplace=True)\n"
   ]
  },
  {
   "cell_type": "code",
   "execution_count": 4,
   "metadata": {},
   "outputs": [
    {
     "data": {
      "text/html": [
       "<div>\n",
       "<style scoped>\n",
       "    .dataframe tbody tr th:only-of-type {\n",
       "        vertical-align: middle;\n",
       "    }\n",
       "\n",
       "    .dataframe tbody tr th {\n",
       "        vertical-align: top;\n",
       "    }\n",
       "\n",
       "    .dataframe thead th {\n",
       "        text-align: right;\n",
       "    }\n",
       "</style>\n",
       "<table border=\"1\" class=\"dataframe\">\n",
       "  <thead>\n",
       "    <tr style=\"text-align: right;\">\n",
       "      <th></th>\n",
       "      <th>scaled_Electricity(kWh)</th>\n",
       "      <th>scaled_GHGEmissionsIntensity(kgCO2e/ft2)</th>\n",
       "      <th>scaled_PropertyArea(SquareMetre)Total</th>\n",
       "      <th>scaled_SourceEUI(kWh/m2)</th>\n",
       "      <th>scaled_NaturalGas(kWh)</th>\n",
       "      <th>YearBuilt</th>\n",
       "      <th>NumberofBuildings</th>\n",
       "      <th>NumberofFloors</th>\n",
       "      <th>ENERGYSTARScore</th>\n",
       "      <th>Building_proportion</th>\n",
       "      <th>...</th>\n",
       "      <th>ohe_ptype_Mixed Use Property</th>\n",
       "      <th>ohe_ptype_Office</th>\n",
       "      <th>ohe_ptype_Other</th>\n",
       "      <th>ohe_ptype_Refrigerated Warehouse</th>\n",
       "      <th>ohe_ptype_Residence Hall</th>\n",
       "      <th>ohe_ptype_Small &amp; Medium medical facility</th>\n",
       "      <th>ohe_ptype_Small &amp; Mid-Sized Office</th>\n",
       "      <th>ohe_ptype_Supermarket &amp; Grocery store</th>\n",
       "      <th>ohe_ptype_Warehouse</th>\n",
       "      <th>ohe_ptype_Worship Facility</th>\n",
       "    </tr>\n",
       "    <tr>\n",
       "      <th>OSEBuildingID</th>\n",
       "      <th></th>\n",
       "      <th></th>\n",
       "      <th></th>\n",
       "      <th></th>\n",
       "      <th></th>\n",
       "      <th></th>\n",
       "      <th></th>\n",
       "      <th></th>\n",
       "      <th></th>\n",
       "      <th></th>\n",
       "      <th></th>\n",
       "      <th></th>\n",
       "      <th></th>\n",
       "      <th></th>\n",
       "      <th></th>\n",
       "      <th></th>\n",
       "      <th></th>\n",
       "      <th></th>\n",
       "      <th></th>\n",
       "      <th></th>\n",
       "      <th></th>\n",
       "    </tr>\n",
       "  </thead>\n",
       "  <tbody>\n",
       "    <tr>\n",
       "      <th>1</th>\n",
       "      <td>0.963847</td>\n",
       "      <td>1.770173</td>\n",
       "      <td>0.389139</td>\n",
       "      <td>1.012887</td>\n",
       "      <td>0.500705</td>\n",
       "      <td>1927</td>\n",
       "      <td>1</td>\n",
       "      <td>12</td>\n",
       "      <td>60.0</td>\n",
       "      <td>1.000</td>\n",
       "      <td>...</td>\n",
       "      <td>0.0</td>\n",
       "      <td>0.0</td>\n",
       "      <td>0.0</td>\n",
       "      <td>0.0</td>\n",
       "      <td>0.0</td>\n",
       "      <td>0.0</td>\n",
       "      <td>0.0</td>\n",
       "      <td>0.0</td>\n",
       "      <td>0.0</td>\n",
       "      <td>0.0</td>\n",
       "    </tr>\n",
       "    <tr>\n",
       "      <th>2</th>\n",
       "      <td>0.615322</td>\n",
       "      <td>1.799564</td>\n",
       "      <td>0.659821</td>\n",
       "      <td>0.913481</td>\n",
       "      <td>4.178122</td>\n",
       "      <td>1996</td>\n",
       "      <td>1</td>\n",
       "      <td>11</td>\n",
       "      <td>61.0</td>\n",
       "      <td>0.855</td>\n",
       "      <td>...</td>\n",
       "      <td>0.0</td>\n",
       "      <td>0.0</td>\n",
       "      <td>0.0</td>\n",
       "      <td>0.0</td>\n",
       "      <td>0.0</td>\n",
       "      <td>0.0</td>\n",
       "      <td>0.0</td>\n",
       "      <td>0.0</td>\n",
       "      <td>0.0</td>\n",
       "      <td>0.0</td>\n",
       "    </tr>\n",
       "    <tr>\n",
       "      <th>5</th>\n",
       "      <td>0.380423</td>\n",
       "      <td>3.572830</td>\n",
       "      <td>-0.095878</td>\n",
       "      <td>1.536320</td>\n",
       "      <td>1.009034</td>\n",
       "      <td>1926</td>\n",
       "      <td>1</td>\n",
       "      <td>10</td>\n",
       "      <td>56.0</td>\n",
       "      <td>1.000</td>\n",
       "      <td>...</td>\n",
       "      <td>0.0</td>\n",
       "      <td>0.0</td>\n",
       "      <td>0.0</td>\n",
       "      <td>0.0</td>\n",
       "      <td>0.0</td>\n",
       "      <td>0.0</td>\n",
       "      <td>0.0</td>\n",
       "      <td>0.0</td>\n",
       "      <td>0.0</td>\n",
       "      <td>0.0</td>\n",
       "    </tr>\n",
       "    <tr>\n",
       "      <th>10</th>\n",
       "      <td>0.401384</td>\n",
       "      <td>1.074583</td>\n",
       "      <td>0.292078</td>\n",
       "      <td>0.455283</td>\n",
       "      <td>2.089235</td>\n",
       "      <td>1926</td>\n",
       "      <td>1</td>\n",
       "      <td>11</td>\n",
       "      <td>27.0</td>\n",
       "      <td>1.000</td>\n",
       "      <td>...</td>\n",
       "      <td>0.0</td>\n",
       "      <td>0.0</td>\n",
       "      <td>0.0</td>\n",
       "      <td>0.0</td>\n",
       "      <td>0.0</td>\n",
       "      <td>0.0</td>\n",
       "      <td>0.0</td>\n",
       "      <td>0.0</td>\n",
       "      <td>0.0</td>\n",
       "      <td>0.0</td>\n",
       "    </tr>\n",
       "    <tr>\n",
       "      <th>17</th>\n",
       "      <td>-0.326328</td>\n",
       "      <td>3.945117</td>\n",
       "      <td>-0.029889</td>\n",
       "      <td>0.564008</td>\n",
       "      <td>2.706276</td>\n",
       "      <td>1928</td>\n",
       "      <td>1</td>\n",
       "      <td>9</td>\n",
       "      <td>48.0</td>\n",
       "      <td>1.000</td>\n",
       "      <td>...</td>\n",
       "      <td>0.0</td>\n",
       "      <td>0.0</td>\n",
       "      <td>0.0</td>\n",
       "      <td>0.0</td>\n",
       "      <td>0.0</td>\n",
       "      <td>0.0</td>\n",
       "      <td>0.0</td>\n",
       "      <td>0.0</td>\n",
       "      <td>0.0</td>\n",
       "      <td>0.0</td>\n",
       "    </tr>\n",
       "  </tbody>\n",
       "</table>\n",
       "<p>5 rows × 40 columns</p>\n",
       "</div>"
      ],
      "text/plain": [
       "               scaled_Electricity(kWh)  \\\n",
       "OSEBuildingID                            \n",
       "1                             0.963847   \n",
       "2                             0.615322   \n",
       "5                             0.380423   \n",
       "10                            0.401384   \n",
       "17                           -0.326328   \n",
       "\n",
       "               scaled_GHGEmissionsIntensity(kgCO2e/ft2)  \\\n",
       "OSEBuildingID                                             \n",
       "1                                              1.770173   \n",
       "2                                              1.799564   \n",
       "5                                              3.572830   \n",
       "10                                             1.074583   \n",
       "17                                             3.945117   \n",
       "\n",
       "               scaled_PropertyArea(SquareMetre)Total  \\\n",
       "OSEBuildingID                                          \n",
       "1                                           0.389139   \n",
       "2                                           0.659821   \n",
       "5                                          -0.095878   \n",
       "10                                          0.292078   \n",
       "17                                         -0.029889   \n",
       "\n",
       "               scaled_SourceEUI(kWh/m2)  scaled_NaturalGas(kWh)  YearBuilt  \\\n",
       "OSEBuildingID                                                                \n",
       "1                              1.012887                0.500705       1927   \n",
       "2                              0.913481                4.178122       1996   \n",
       "5                              1.536320                1.009034       1926   \n",
       "10                             0.455283                2.089235       1926   \n",
       "17                             0.564008                2.706276       1928   \n",
       "\n",
       "               NumberofBuildings  NumberofFloors  ENERGYSTARScore  \\\n",
       "OSEBuildingID                                                       \n",
       "1                              1              12             60.0   \n",
       "2                              1              11             61.0   \n",
       "5                              1              10             56.0   \n",
       "10                             1              11             27.0   \n",
       "17                             1               9             48.0   \n",
       "\n",
       "               Building_proportion  ...  ohe_ptype_Mixed Use Property  \\\n",
       "OSEBuildingID                       ...                                 \n",
       "1                            1.000  ...                           0.0   \n",
       "2                            0.855  ...                           0.0   \n",
       "5                            1.000  ...                           0.0   \n",
       "10                           1.000  ...                           0.0   \n",
       "17                           1.000  ...                           0.0   \n",
       "\n",
       "               ohe_ptype_Office  ohe_ptype_Other  \\\n",
       "OSEBuildingID                                      \n",
       "1                           0.0              0.0   \n",
       "2                           0.0              0.0   \n",
       "5                           0.0              0.0   \n",
       "10                          0.0              0.0   \n",
       "17                          0.0              0.0   \n",
       "\n",
       "               ohe_ptype_Refrigerated Warehouse  ohe_ptype_Residence Hall  \\\n",
       "OSEBuildingID                                                               \n",
       "1                                           0.0                       0.0   \n",
       "2                                           0.0                       0.0   \n",
       "5                                           0.0                       0.0   \n",
       "10                                          0.0                       0.0   \n",
       "17                                          0.0                       0.0   \n",
       "\n",
       "               ohe_ptype_Small & Medium medical facility  \\\n",
       "OSEBuildingID                                              \n",
       "1                                                    0.0   \n",
       "2                                                    0.0   \n",
       "5                                                    0.0   \n",
       "10                                                   0.0   \n",
       "17                                                   0.0   \n",
       "\n",
       "               ohe_ptype_Small & Mid-Sized Office  \\\n",
       "OSEBuildingID                                       \n",
       "1                                             0.0   \n",
       "2                                             0.0   \n",
       "5                                             0.0   \n",
       "10                                            0.0   \n",
       "17                                            0.0   \n",
       "\n",
       "               ohe_ptype_Supermarket & Grocery store  ohe_ptype_Warehouse  \\\n",
       "OSEBuildingID                                                               \n",
       "1                                                0.0                  0.0   \n",
       "2                                                0.0                  0.0   \n",
       "5                                                0.0                  0.0   \n",
       "10                                               0.0                  0.0   \n",
       "17                                               0.0                  0.0   \n",
       "\n",
       "               ohe_ptype_Worship Facility  \n",
       "OSEBuildingID                              \n",
       "1                                     0.0  \n",
       "2                                     0.0  \n",
       "5                                     0.0  \n",
       "10                                    0.0  \n",
       "17                                    0.0  \n",
       "\n",
       "[5 rows x 40 columns]"
      ]
     },
     "execution_count": 4,
     "metadata": {},
     "output_type": "execute_result"
    }
   ],
   "source": [
    "df_ghg.head()\n"
   ]
  },
  {
   "cell_type": "code",
   "execution_count": 5,
   "metadata": {},
   "outputs": [
    {
     "data": {
      "text/plain": [
       "Index(['scaled_Electricity(kWh)', 'scaled_GHGEmissionsIntensity(kgCO2e/ft2)',\n",
       "       'scaled_PropertyArea(SquareMetre)Total', 'scaled_SourceEUI(kWh/m2)',\n",
       "       'scaled_NaturalGas(kWh)', 'YearBuilt', 'NumberofBuildings',\n",
       "       'NumberofFloors', 'ENERGYSTARScore', 'Building_proportion',\n",
       "       'Parking_proportion', 'target_SourceEUI(kWh/m2)',\n",
       "       'target_GHGEmissionsIntensity(kgCO2e/ft2)', 'ohe_nbhood_BALLARD',\n",
       "       'ohe_nbhood_CENTRAL', 'ohe_nbhood_DELRIDGE', 'ohe_nbhood_DOWNTOWN',\n",
       "       'ohe_nbhood_EAST', 'ohe_nbhood_GREATER DUWAMISH',\n",
       "       'ohe_nbhood_LAKE UNION', 'ohe_nbhood_MAGNOLIA / QUEEN ANNE',\n",
       "       'ohe_nbhood_NORTH', 'ohe_nbhood_NORTHEAST', 'ohe_nbhood_NORTHWEST',\n",
       "       'ohe_nbhood_SOUTHEAST', 'ohe_nbhood_SOUTHWEST', 'ohe_ptype_Hospital',\n",
       "       'ohe_ptype_Hotel', 'ohe_ptype_K-12 School', 'ohe_ptype_Large Office',\n",
       "       'ohe_ptype_Mixed Use Property', 'ohe_ptype_Office', 'ohe_ptype_Other',\n",
       "       'ohe_ptype_Refrigerated Warehouse', 'ohe_ptype_Residence Hall',\n",
       "       'ohe_ptype_Small & Medium medical facility',\n",
       "       'ohe_ptype_Small & Mid-Sized Office',\n",
       "       'ohe_ptype_Supermarket & Grocery store', 'ohe_ptype_Warehouse',\n",
       "       'ohe_ptype_Worship Facility'],\n",
       "      dtype='object')"
      ]
     },
     "execution_count": 5,
     "metadata": {},
     "output_type": "execute_result"
    }
   ],
   "source": [
    "df_ghg.columns\n"
   ]
  },
  {
   "cell_type": "code",
   "execution_count": 6,
   "metadata": {},
   "outputs": [],
   "source": [
    "# Target : target_GHGEmissionsIntensity(kgCO2e/ft2) :\n",
    "\n",
    "droplist = [\n",
    "    \"scaled_GHGEmissionsIntensity(kgCO2e/ft2)\",  # Scaled target\n",
    "    \"target_SourceEUI(kWh/m2)\",  # not to scale\n",
    "    ]\n",
    "\n",
    "df_model = df_ghg.drop(columns=droplist)\n"
   ]
  },
  {
   "cell_type": "code",
   "execution_count": 7,
   "metadata": {},
   "outputs": [],
   "source": [
    "ghg_target = \"target_GHGEmissionsIntensity(kgCO2e/ft2)\"\n",
    "ghg_regression = Linear_reg(dataframe=df_model, target=ghg_target)\n"
   ]
  },
  {
   "cell_type": "markdown",
   "metadata": {},
   "source": [
    "#### Execution : \n",
    "Parametres : \n",
    "- Ridge = 0.1, 45, step 0.05\n",
    "- Elastic Net = Alpha = Alpha_ridge = 0.1, 45, step 0.05, default L1 ratio\n",
    "- Lasso Alpha = 0.01, 15, 0.04"
   ]
  },
  {
   "cell_type": "code",
   "execution_count": 8,
   "metadata": {},
   "outputs": [],
   "source": [
    "ghg_regression.execute_all()\n"
   ]
  },
  {
   "cell_type": "markdown",
   "metadata": {},
   "source": [
    "##### --> 1 Visualisation des alphas et leur pertinence, affichage des meilleurs hyperparametres\n",
    "##### --> 2 Comparaison des metriques"
   ]
  },
  {
   "cell_type": "code",
   "execution_count": 9,
   "metadata": {},
   "outputs": [
    {
     "name": "stdout",
     "output_type": "stream",
     "text": [
      "Elnet : \n",
      "\n",
      "Elastic Net L1 Ratio : 0.01\n",
      "Elastic Net best Alpha : 0.1\n",
      "Time used during fit = 7.4725787080824375\n",
      "Time used during predict = 8.725002408027649e-05\n"
     ]
    }
   ],
   "source": [
    "print(\"Elnet : \\n\")\n",
    "print(f\"Elastic Net L1 Ratio : {ghg_regression.elnet_cv.l1_ratio_}\")\n",
    "print(f\"Elastic Net best Alpha : {ghg_regression.elnet_cv.alpha_}\")\n",
    "print(f\"Time used during fit = {ghg_regression.elnet_time_card.t_fit}\")\n",
    "print(f\"Time used during predict = {ghg_regression.elnet_time_card.t_predict}\")\n"
   ]
  },
  {
   "cell_type": "code",
   "execution_count": 10,
   "metadata": {},
   "outputs": [
    {
     "name": "stdout",
     "output_type": "stream",
     "text": [
      "Ridge: \n",
      "\n",
      "Ridge best Alpha : 14.450000000000005\n",
      "Time used during fit = 0.10985412495210767\n",
      "Time used during predict = 7.54999928176403e-05\n"
     ]
    },
    {
     "data": {
      "image/png": "[encoded data removed]",
      "text/plain": [
       "<Figure size 775x775 with 1 Axes>"
      ]
     },
     "metadata": {},
     "output_type": "display_data"
    }
   ],
   "source": [
    "print(\"Ridge: \\n\")\n",
    "print(f\"Ridge best Alpha : {ghg_regression.ridge_cv.alpha_}\")\n",
    "print(f\"Time used during fit = {ghg_regression.ridge_time_card.t_fit}\")\n",
    "print(f\"Time used during predict = {ghg_regression.ridge_time_card.t_predict}\")\n",
    "\n",
    "ghg_regression.ridge_plot()\n"
   ]
  },
  {
   "cell_type": "code",
   "execution_count": 11,
   "metadata": {},
   "outputs": [
    {
     "name": "stdout",
     "output_type": "stream",
     "text": [
      "LASSO: \n",
      "\n",
      "LASSO best Alpha : 0.01\n",
      "Time used during fit = 0.14083649963140488\n",
      "Time used during predict = 7.370812818408012e-05\n"
     ]
    },
    {
     "data": {
      "image/png": "[encoded data removed]",
      "text/plain": [
       "<Figure size 775x775 with 1 Axes>"
      ]
     },
     "metadata": {},
     "output_type": "display_data"
    }
   ],
   "source": [
    "print(\"LASSO: \\n\")\n",
    "print(f\"LASSO best Alpha : {ghg_regression.lasso_cv.alpha_}\")\n",
    "print(f\"Time used during fit = {ghg_regression.lasso_time_card.t_fit}\")\n",
    "print(f\"Time used during predict = {ghg_regression.lasso_time_card.t_predict}\")\n",
    "\n",
    "ghg_regression.lasso_plot()\n"
   ]
  },
  {
   "cell_type": "code",
   "execution_count": 12,
   "metadata": {},
   "outputs": [
    {
     "data": {
      "text/html": [
       "<div>\n",
       "<style scoped>\n",
       "    .dataframe tbody tr th:only-of-type {\n",
       "        vertical-align: middle;\n",
       "    }\n",
       "\n",
       "    .dataframe tbody tr th {\n",
       "        vertical-align: top;\n",
       "    }\n",
       "\n",
       "    .dataframe thead th {\n",
       "        text-align: right;\n",
       "    }\n",
       "</style>\n",
       "<table border=\"1\" class=\"dataframe\">\n",
       "  <thead>\n",
       "    <tr style=\"text-align: right;\">\n",
       "      <th></th>\n",
       "      <th>RMSE_OLS</th>\n",
       "      <th>R2_OLS</th>\n",
       "      <th>RMSE_Ridge</th>\n",
       "      <th>R2_Ridge</th>\n",
       "      <th>RMSE_LASSO</th>\n",
       "      <th>R2_LASSO</th>\n",
       "      <th>RMSE_Elastic_Net</th>\n",
       "      <th>R2_Elastic_Net</th>\n",
       "    </tr>\n",
       "  </thead>\n",
       "  <tbody>\n",
       "    <tr>\n",
       "      <th>Train</th>\n",
       "      <td>0.709625</td>\n",
       "      <td>0.513474</td>\n",
       "      <td>0.737517</td>\n",
       "      <td>0.607362</td>\n",
       "      <td>0.718708</td>\n",
       "      <td>0.591264</td>\n",
       "      <td>0.990386</td>\n",
       "      <td>0.574039</td>\n",
       "    </tr>\n",
       "    <tr>\n",
       "      <th>Test</th>\n",
       "      <td>0.616260</td>\n",
       "      <td>0.625913</td>\n",
       "      <td>0.614216</td>\n",
       "      <td>0.628390</td>\n",
       "      <td>0.623147</td>\n",
       "      <td>0.617505</td>\n",
       "      <td>0.627784</td>\n",
       "      <td>0.611792</td>\n",
       "    </tr>\n",
       "  </tbody>\n",
       "</table>\n",
       "</div>"
      ],
      "text/plain": [
       "       RMSE_OLS    R2_OLS  RMSE_Ridge  R2_Ridge  RMSE_LASSO  R2_LASSO  \\\n",
       "Train  0.709625  0.513474    0.737517  0.607362    0.718708  0.591264   \n",
       "Test   0.616260  0.625913    0.614216  0.628390    0.623147  0.617505   \n",
       "\n",
       "       RMSE_Elastic_Net  R2_Elastic_Net  \n",
       "Train          0.990386        0.574039  \n",
       "Test           0.627784        0.611792  "
      ]
     },
     "execution_count": 12,
     "metadata": {},
     "output_type": "execute_result"
    }
   ],
   "source": [
    "metrics_with_estar_l1out = ghg_regression.format_all_metrics()\n",
    "\n",
    "df_predictions_estar_l1out = ghg_regression.df_predictions\n",
    "\n",
    "metrics_with_estar_l1out\n"
   ]
  },
  {
   "cell_type": "code",
   "execution_count": 91,
   "metadata": {},
   "outputs": [],
   "source": [
    "# freeze_model(model=ghg_regression, save_file=True, file_path=\"./data/ghg_splits.csv\")\n",
    "# uncomment to save train test split ids (OSEBuildingID)\n"
   ]
  },
  {
   "cell_type": "markdown",
   "metadata": {},
   "source": [
    "#### 1.1.b : Cross validation = RepeatedKfold\n",
    "- Memes parametres que 1.1.a\n",
    "- On effectue 4 regressions (OLS, Ridge, Lasso et Elastic Net) avec les parametres par defaut de la classe pour la validation croisee : RepeatedKfold(30 fois : 10 splits, 3 executions)\n",
    "- On attend des temps de traitement nettement superieurs"
   ]
  },
  {
   "cell_type": "code",
   "execution_count": 14,
   "metadata": {},
   "outputs": [],
   "source": [
    "k_folds = RepeatedKFold(n_splits=10, n_repeats=3, random_state=1)\n",
    "ghg_regression.common_parameters[\"cv\"] = k_folds\n"
   ]
  },
  {
   "cell_type": "code",
   "execution_count": 92,
   "metadata": {},
   "outputs": [
    {
     "ename": "ValueError",
     "evalue": "could not convert string to float: ''",
     "output_type": "error",
     "traceback": [
      "\u001b[0;31m---------------------------------------------------------------------------\u001b[0m",
      "\u001b[0;31mValueError\u001b[0m                                Traceback (most recent call last)",
      "\u001b[1;32m/Users/psemp/Documents/GitHub/ds_p4/nb_02_ghg_modelisation.ipynb Cell 20'\u001b[0m in \u001b[0;36m<cell line: 3>\u001b[0;34m()\u001b[0m\n\u001b[1;32m      <a href='vscode-notebook-cell:/Users/psemp/Documents/GitHub/ds_p4/nb_02_ghg_modelisation.ipynb#ch0000019?line=0'>1</a>\u001b[0m \u001b[39m# Re executing all with adjusted cross validation parameters :\u001b[39;00m\n\u001b[0;32m----> <a href='vscode-notebook-cell:/Users/psemp/Documents/GitHub/ds_p4/nb_02_ghg_modelisation.ipynb#ch0000019?line=2'>3</a>\u001b[0m ghg_regression\u001b[39m.\u001b[39;49mexecute_all()\n",
      "File \u001b[0;32m~/Documents/GitHub/ds_p4/models/linear_regressions.py:468\u001b[0m, in \u001b[0;36mLinear_reg.execute_all\u001b[0;34m(self)\u001b[0m\n\u001b[1;32m    <a href='file:///Users/psemp/Documents/GitHub/ds_p4/models/linear_regressions.py?line=465'>466</a>\u001b[0m \u001b[39mself\u001b[39m\u001b[39m.\u001b[39mdummy_regression()\n\u001b[1;32m    <a href='file:///Users/psemp/Documents/GitHub/ds_p4/models/linear_regressions.py?line=466'>467</a>\u001b[0m \u001b[39mself\u001b[39m\u001b[39m.\u001b[39mstandard_regression()\n\u001b[0;32m--> <a href='file:///Users/psemp/Documents/GitHub/ds_p4/models/linear_regressions.py?line=467'>468</a>\u001b[0m elnet_alpha_start \u001b[39m=\u001b[39m \u001b[39mfloat\u001b[39;49m(\u001b[39minput\u001b[39;49m(\u001b[39m\"\u001b[39;49m\u001b[39mElastic Net alpha start : \u001b[39;49m\u001b[39m\"\u001b[39;49m))\n\u001b[1;32m    <a href='file:///Users/psemp/Documents/GitHub/ds_p4/models/linear_regressions.py?line=468'>469</a>\u001b[0m elnet_alpha_end \u001b[39m=\u001b[39m \u001b[39mfloat\u001b[39m(\u001b[39minput\u001b[39m(\u001b[39m\"\u001b[39m\u001b[39mElastic Net alpha end : \u001b[39m\u001b[39m\"\u001b[39m))\n\u001b[1;32m    <a href='file:///Users/psemp/Documents/GitHub/ds_p4/models/linear_regressions.py?line=469'>470</a>\u001b[0m elnet_alpha_step \u001b[39m=\u001b[39m \u001b[39mfloat\u001b[39m(\u001b[39minput\u001b[39m(\u001b[39m\"\u001b[39m\u001b[39mElastic Net alpha step : \u001b[39m\u001b[39m\"\u001b[39m))\n",
      "\u001b[0;31mValueError\u001b[0m: could not convert string to float: ''"
     ]
    }
   ],
   "source": [
    "# Re executing all with adjusted cross validation parameters :\n",
    "\n",
    "ghg_regression.execute_all()\n"
   ]
  },
  {
   "cell_type": "code",
   "execution_count": null,
   "metadata": {},
   "outputs": [],
   "source": [
    "print(\"Elnet : \\n\")\n",
    "print(f\"Elastic Net L1 Ratio : {ghg_regression.elnet_cv.l1_ratio_}\")\n",
    "print(f\"Elastic Net best Alpha : {ghg_regression.elnet_cv.alpha_}\")\n",
    "print(f\"Time used during fit = {ghg_regression.elnet_time_card.t_fit}\")\n",
    "print(f\"Time used during predict = {ghg_regression.elnet_time_card.t_predict}\")\n"
   ]
  },
  {
   "cell_type": "code",
   "execution_count": null,
   "metadata": {},
   "outputs": [],
   "source": [
    "print(\"Ridge: \\n\")\n",
    "print(f\"Ridge best Alpha : {ghg_regression.ridge_cv.alpha_}\")\n",
    "print(f\"Time used during fit = {ghg_regression.ridge_time_card.t_fit}\")\n",
    "print(f\"Time used during predict = {ghg_regression.ridge_time_card.t_predict}\")\n"
   ]
  },
  {
   "cell_type": "code",
   "execution_count": null,
   "metadata": {},
   "outputs": [],
   "source": [
    "print(\"LASSO: \\n\")\n",
    "print(f\"LASSO best Alpha : {ghg_regression.lasso_cv.alpha_}\")\n",
    "print(f\"Time used during fit = {ghg_regression.lasso_time_card.t_fit}\")\n",
    "print(f\"Time used during predict = {ghg_regression.lasso_time_card.t_predict}\")\n"
   ]
  },
  {
   "cell_type": "code",
   "execution_count": null,
   "metadata": {},
   "outputs": [],
   "source": [
    "metrics_with_estar_rkfold = ghg_regression.format_all_metrics()\n",
    "\n",
    "df_predictions_estar_rkfold = ghg_regression.df_predictions\n",
    "\n",
    "metrics_with_estar_rkfold\n"
   ]
  },
  {
   "cell_type": "markdown",
   "metadata": {},
   "source": [
    "##### Parametres de Ridge :\n",
    "On peut maintenant comparer les deux methodes de validation sur les memes données et memes algorithmes.\n",
    "- Ridge affiche son meilleur alpha à 44.95000000000002, le pas de .05 l'aurait fait depasser la limite de 45 fixée au lancement\n",
    "    - --> Sauvegarde de Ridge avec parametres actuels, on reexecute Ridge avec pour range (44, 90, .05)"
   ]
  },
  {
   "cell_type": "code",
   "execution_count": null,
   "metadata": {},
   "outputs": [],
   "source": [
    "ridge_cv_kfold_first = ghg_regression.ridge_cv\n",
    "ridge_table_kfold_first = ghg_regression.ridge_table\n"
   ]
  },
  {
   "cell_type": "code",
   "execution_count": null,
   "metadata": {},
   "outputs": [],
   "source": [
    "new_range = np.arange(44, 90, .05)\n",
    "ghg_regression.use_ridge_cv(alphas=new_range)\n"
   ]
  },
  {
   "cell_type": "code",
   "execution_count": null,
   "metadata": {},
   "outputs": [],
   "source": [
    "print(\"Ridge: \\n\")\n",
    "print(f\"Ridge best Alpha : {ghg_regression.ridge_cv.alpha_}\")\n",
    "print(f\"Time used during fit = {ghg_regression.ridge_time_card.t_fit}\")\n",
    "print(f\"Time used during predict = {ghg_regression.ridge_time_card.t_predict}\")\n"
   ]
  },
  {
   "cell_type": "code",
   "execution_count": null,
   "metadata": {},
   "outputs": [],
   "source": [
    "# Reformating metrics with this ridge parameters : \n",
    "kfold_with_better_ridge = ghg_regression.format_all_metrics()\n",
    "\n",
    "kfold_with_better_ridge\n"
   ]
  },
  {
   "cell_type": "code",
   "execution_count": null,
   "metadata": {},
   "outputs": [],
   "source": [
    "metrics_with_estar_l1out\n"
   ]
  },
  {
   "cell_type": "code",
   "execution_count": null,
   "metadata": {},
   "outputs": [],
   "source": [
    "print(f\"Time to fit OLS : {ghg_regression.ols_time_card.t_fit}\")\n",
    "print(f\"Time to predict OLS : {ghg_regression.ols_time_card.t_predict}\")\n"
   ]
  },
  {
   "cell_type": "markdown",
   "metadata": {},
   "source": [
    "##### Observations :\n",
    "- NULL"
   ]
  },
  {
   "cell_type": "code",
   "execution_count": null,
   "metadata": {},
   "outputs": [],
   "source": [
    "ghg_regression.scatter_true_pred(\"ols_regression\")\n"
   ]
  },
  {
   "cell_type": "markdown",
   "metadata": {},
   "source": [
    "NULL"
   ]
  },
  {
   "cell_type": "code",
   "execution_count": null,
   "metadata": {},
   "outputs": [],
   "source": [
    "# Saving OLS :\n",
    "\n",
    "ols_kfold = ghg_regression.lin_reg\n",
    "\n",
    "# Reverting to cv = None for l1out\n",
    "\n",
    "ghg_regression.common_parameters[\"cv\"] = None\n"
   ]
  },
  {
   "cell_type": "code",
   "execution_count": null,
   "metadata": {},
   "outputs": [],
   "source": [
    "original_range = np.arange(.1, 45, .05)\n",
    "ghg_regression.use_ridge_cv(alphas=original_range)\n"
   ]
  },
  {
   "cell_type": "code",
   "execution_count": null,
   "metadata": {},
   "outputs": [],
   "source": [
    "print(\"Ridge: \\n\")\n",
    "print(f\"Ridge best Alpha : {ghg_regression.ridge_cv.alpha_}\")\n",
    "print(f\"Time used during fit = {ghg_regression.ridge_time_card.t_fit}\")\n",
    "print(f\"Time used during predict = {ghg_regression.ridge_time_card.t_predict}\")\n",
    "\n",
    "ghg_regression.ridge_plot()\n"
   ]
  },
  {
   "cell_type": "code",
   "execution_count": null,
   "metadata": {},
   "outputs": [],
   "source": [
    "ghg_regression.scatter_true_pred(regression_name=\"Ridge\")\n"
   ]
  },
  {
   "cell_type": "markdown",
   "metadata": {},
   "source": [
    "### NULL"
   ]
  },
  {
   "cell_type": "markdown",
   "metadata": {},
   "source": [
    "## <u>2 : Etude de l'importance de la note Energy Star</u>\n",
    "### <u>2.1 : Modelisation sans utiliser de variables E* (E* Score ou E* certified)</u>"
   ]
  },
  {
   "cell_type": "code",
   "execution_count": null,
   "metadata": {},
   "outputs": [],
   "source": [
    "drop_estar = [\"ENERGYSTARScore\"]\n",
    "ghg_regression.drop_col(col_list=drop_estar)\n"
   ]
  },
  {
   "cell_type": "code",
   "execution_count": null,
   "metadata": {},
   "outputs": [],
   "source": [
    "# checking ENERGYSTARScore not in matrices : shape should be 1 less than original dfs\n",
    "\n",
    "if ghg_regression.X_test.shape[1] >= len(ghg_regression.df_train.columns) + 1:  # +1 because target still in cols\n",
    "    print(\"Oops\")\n",
    "else:\n",
    "    print(\"Ok\")\n"
   ]
  },
  {
   "cell_type": "markdown",
   "metadata": {},
   "source": [
    "#### 2.1.a : Cross validation = Leave One Out\n",
    "- On utilise dans un premier temps toutes les variables retenues lors de l'analyse exploratoire (breakpoint = export 1)\n",
    "    -  Note : Donnees inutilisables, oublie d'export de la variable cible\n",
    "- Un split satisfaisant a deja été trouvé et fixé, ces données viendront sur-ecrire le split proposé par le modele\n",
    "- On effectue 4 regressions (OLS, Ridge, Lasso et Elastic Net) avec les parametres par defaut de la classe pour la validation croisee : Leave One Out\n",
    "- Energy Star Score ne figure plus dans les matrices X_train, X_test\n",
    "- Memes parametres initiaux que la regression comportant E*\n",
    "\n",
    "#### Execution : \n",
    "Parametres : \n",
    "- Ridge = 0.1, 45, step 0.05\n",
    "- Elastic Net = Alpha = Alpha_ridge = 0.1, 45, step 0.05, default L1 ratio\n",
    "- Lasso Alpha = 0.01, 15, 0.04"
   ]
  },
  {
   "cell_type": "code",
   "execution_count": null,
   "metadata": {},
   "outputs": [],
   "source": [
    "ghg_regression.execute_all()\n"
   ]
  },
  {
   "cell_type": "code",
   "execution_count": null,
   "metadata": {},
   "outputs": [],
   "source": [
    "print(\"Elnet : \\n\")\n",
    "print(f\"Elastic Net L1 Ratio : {ghg_regression.elnet_cv.l1_ratio_}\")\n",
    "print(f\"Elastic Net best Alpha : {ghg_regression.elnet_cv.alpha_}\")\n",
    "print(f\"Time used during fit = {ghg_regression.elnet_time_card.t_fit}\")\n",
    "print(f\"Time used during predict = {ghg_regression.elnet_time_card.t_predict}\")\n"
   ]
  },
  {
   "cell_type": "code",
   "execution_count": null,
   "metadata": {},
   "outputs": [],
   "source": [
    "print(\"Ridge: \\n\")\n",
    "print(f\"Ridge best Alpha : {ghg_regression.ridge_cv.alpha_}\")\n",
    "print(f\"Time used during fit = {ghg_regression.ridge_time_card.t_fit}\")\n",
    "print(f\"Time used during predict = {ghg_regression.ridge_time_card.t_predict}\")\n",
    "\n",
    "ghg_regression.ridge_plot()\n"
   ]
  },
  {
   "cell_type": "code",
   "execution_count": null,
   "metadata": {},
   "outputs": [],
   "source": [
    "print(\"LASSO: \\n\")\n",
    "print(f\"LASSO best Alpha : {ghg_regression.lasso_cv.alpha_}\")\n",
    "print(f\"Time used during fit = {ghg_regression.lasso_time_card.t_fit}\")\n",
    "print(f\"Time used during predict = {ghg_regression.lasso_time_card.t_predict}\")\n",
    "\n",
    "ghg_regression.lasso_plot()\n"
   ]
  },
  {
   "cell_type": "code",
   "execution_count": null,
   "metadata": {},
   "outputs": [],
   "source": [
    "metrics_without_estar_l1out = ghg_regression.format_all_metrics()\n",
    "\n",
    "df_predictions_no_estar_l1out = ghg_regression.df_predictions\n",
    "\n",
    "metrics_without_estar_l1out\n"
   ]
  },
  {
   "cell_type": "markdown",
   "metadata": {},
   "source": [
    "#### 2.1.b : Cross validation = RepeatedKfold\n",
    "- Memes parametres que 2.1.a\n",
    "- On effectue 4 regressions (OLS, Ridge, Lasso et Elastic Net) avec les parametres par defaut de la classe pour la validation croisee : RepeatedKfold(30 fois : 10 splits, 3 executions)\n",
    "- On attend des temps de traitement nettement superieurs"
   ]
  },
  {
   "cell_type": "code",
   "execution_count": null,
   "metadata": {},
   "outputs": [],
   "source": [
    "ghg_regression.common_parameters[\"cv\"] = k_folds\n"
   ]
  },
  {
   "cell_type": "code",
   "execution_count": null,
   "metadata": {},
   "outputs": [],
   "source": [
    "ghg_regression.execute_all()\n"
   ]
  },
  {
   "cell_type": "code",
   "execution_count": null,
   "metadata": {},
   "outputs": [],
   "source": [
    "print(\"Elnet : \\n\")\n",
    "print(f\"Elastic Net L1 Ratio : {ghg_regression.elnet_cv.l1_ratio_}\")\n",
    "print(f\"Elastic Net best Alpha : {ghg_regression.elnet_cv.alpha_}\")\n",
    "print(f\"Time used during fit = {ghg_regression.elnet_time_card.t_fit}\")\n",
    "print(f\"Time used during predict = {ghg_regression.elnet_time_card.t_predict}\")\n"
   ]
  },
  {
   "cell_type": "code",
   "execution_count": null,
   "metadata": {},
   "outputs": [],
   "source": [
    "print(\"Ridge: \\n\")\n",
    "print(f\"Ridge best Alpha : {ghg_regression.ridge_cv.alpha_}\")\n",
    "print(f\"Time used during fit = {ghg_regression.ridge_time_card.t_fit}\")\n",
    "print(f\"Time used during predict = {ghg_regression.ridge_time_card.t_predict}\")\n"
   ]
  },
  {
   "cell_type": "code",
   "execution_count": null,
   "metadata": {},
   "outputs": [],
   "source": [
    "print(\"LASSO: \\n\")\n",
    "print(f\"LASSO best Alpha : {ghg_regression.lasso_cv.alpha_}\")\n",
    "print(f\"Time used during fit = {ghg_regression.lasso_time_card.t_fit}\")\n",
    "print(f\"Time used during predict = {ghg_regression.lasso_time_card.t_predict}\")\n"
   ]
  },
  {
   "cell_type": "markdown",
   "metadata": {},
   "source": [
    "##### NULL"
   ]
  },
  {
   "cell_type": "code",
   "execution_count": null,
   "metadata": {},
   "outputs": [],
   "source": [
    "ridge_cv_kfold_no_estar = ghg_regression.ridge_cv\n",
    "ridge_table_kfold_no_estar = ghg_regression.ridge_table\n"
   ]
  },
  {
   "cell_type": "code",
   "execution_count": null,
   "metadata": {},
   "outputs": [],
   "source": [
    "new_range = np.arange(44, 90, .05)\n",
    "ghg_regression.use_ridge_cv(alphas=new_range)\n"
   ]
  },
  {
   "cell_type": "code",
   "execution_count": null,
   "metadata": {},
   "outputs": [],
   "source": [
    "print(\"Ridge: \\n\")\n",
    "print(f\"Ridge best Alpha : {ghg_regression.ridge_cv.alpha_}\")\n",
    "print(f\"Time used during fit = {ghg_regression.ridge_time_card.t_fit}\")\n",
    "print(f\"Time used during predict = {ghg_regression.ridge_time_card.t_predict}\")\n"
   ]
  },
  {
   "cell_type": "code",
   "execution_count": null,
   "metadata": {},
   "outputs": [],
   "source": [
    "# Compairing both tables :\n",
    "\n",
    "ridge_table_kfold_no_estar"
   ]
  },
  {
   "cell_type": "code",
   "execution_count": null,
   "metadata": {},
   "outputs": [],
   "source": [
    "ghg_regression.ridge_table"
   ]
  },
  {
   "cell_type": "markdown",
   "metadata": {},
   "source": [
    "#### NULL"
   ]
  },
  {
   "cell_type": "code",
   "execution_count": null,
   "metadata": {},
   "outputs": [],
   "source": [
    "metrics_without_estar_l1out"
   ]
  },
  {
   "cell_type": "code",
   "execution_count": null,
   "metadata": {},
   "outputs": [],
   "source": [
    "ghg_regression.format_all_metrics()"
   ]
  },
  {
   "cell_type": "code",
   "execution_count": null,
   "metadata": {},
   "outputs": [],
   "source": [
    "metrics_with_estar_l1out"
   ]
  },
  {
   "cell_type": "code",
   "execution_count": null,
   "metadata": {},
   "outputs": [],
   "source": [
    "metrics_with_estar_rkfold"
   ]
  },
  {
   "cell_type": "markdown",
   "metadata": {},
   "source": [
    "#### NULL"
   ]
  }
 ],
 "metadata": {
  "interpreter": {
   "hash": "1274e91d4c49da8d2c5027ac796fe23c6eef02ed77c0608f3ea1b98e1edcbe8a"
  },
  "kernelspec": {
   "display_name": "Python 3.10.4 ('env': venv)",
   "language": "python",
   "name": "python3"
  },
  "language_info": {
   "codemirror_mode": {
    "name": "ipython",
    "version": 3
   },
   "file_extension": ".py",
   "mimetype": "text/x-python",
   "name": "python",
   "nbconvert_exporter": "python",
   "pygments_lexer": "ipython3",
   "version": "3.10.4"
  },
  "orig_nbformat": 4
 },
 "nbformat": 4,
 "nbformat_minor": 2
}

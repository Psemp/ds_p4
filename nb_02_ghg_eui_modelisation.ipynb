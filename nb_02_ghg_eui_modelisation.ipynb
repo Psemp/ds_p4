{
 "cells": [
  {
   "cell_type": "code",
   "execution_count": null,
   "metadata": {},
   "outputs": [],
   "source": [
    "import pandas as pd\n",
    "import seaborn as sns\n",
    "import numpy as np\n",
    "import os\n",
    "\n",
    "from matplotlib import pyplot as plt\n",
    "from dotenv import load_dotenv\n",
    "\n",
    "from models.linear_regressions import Linear_reg\n",
    "\n",
    "load_dotenv()\n",
    "sns.color_palette('colorblind')\n",
    "plt.style.use('Solarize_Light2')\n",
    "\n",
    "# Setting default DPI, pulling it from dotenv if it exists, setting it on 100 if not\n",
    "\n",
    "pc_dpi = int(os.getenv('DPI'))\n",
    "\n",
    "if pc_dpi is None:\n",
    "    pc_dpi = 100\n"
   ]
  },
  {
   "cell_type": "code",
   "execution_count": null,
   "metadata": {},
   "outputs": [],
   "source": [
    "file = file_ghg_eui = \"./data/seattle_predict_ghg_eui.csv\"\n",
    "\n",
    "df_model = pd.read_csv(file_ghg_eui).astype(float)\n",
    "\n",
    "df_model.columns\n"
   ]
  },
  {
   "cell_type": "code",
   "execution_count": null,
   "metadata": {},
   "outputs": [],
   "source": [
    "# Target_1 : target_GHGEmissionsIntensity(kgCO2e/ft2) : two cols\n",
    "\n",
    "droplist_1 = [\n",
    "    \"scaled_GHGEmissionsIntensity(kgCO2e/ft2)\",  # Scaled target\n",
    "    \"target_SourceEUI(kWh/m2)\"  # not to scale\n",
    "    ]\n",
    "\n",
    "df_model_ghg = df_model.drop(columns=droplist_1)\n"
   ]
  },
  {
   "cell_type": "code",
   "execution_count": null,
   "metadata": {},
   "outputs": [],
   "source": [
    "target_ghg = \"target_GHGEmissionsIntensity(kgCO2e/ft2)\"\n",
    "ghg_model = Linear_reg(dataframe=df_model_ghg, target=target_ghg)\n"
   ]
  },
  {
   "cell_type": "code",
   "execution_count": null,
   "metadata": {},
   "outputs": [],
   "source": [
    "droplist_2 = [\n",
    "    \"scaled_SourceEUI(kWh/m2)\",  # Scaled target\n",
    "    \"target_GHGEmissionsIntensity(kgCO2e/ft2)\"  # not to scale\n",
    "    ]\n",
    "\n",
    "df_model_eui = df_model.drop(columns=droplist_2)\n"
   ]
  },
  {
   "cell_type": "code",
   "execution_count": null,
   "metadata": {},
   "outputs": [],
   "source": [
    "eui_target = \"target_SourceEUI(kWh/m2)\"\n",
    "eui_model = Linear_reg(dataframe=df_model_eui, target=eui_target)\n"
   ]
  },
  {
   "cell_type": "markdown",
   "metadata": {},
   "source": [
    "<hr>\n",
    "\n",
    "# <u>Tentatives de prediction des données et étude de l'infuence du score Energy Star sur les predictions</u>\n",
    "\n",
    "## <u>1 : Modeles de regression linéaire sur cible 1 : GHGEmissionsIntensity(kgCO2e/ft2)</u>\n",
    "\n",
    "### <u>1.1 : Determination hyperparametres et calcul des metriques</u>\n",
    "### <u>1.2 : Repetition de l'étude 1.1, sur les mêmes données, sans E* Score</u>\n",
    "\n",
    "<hr>\n",
    "\n",
    "## <u>2 : Modeles de regression linéire sur cible 2 : SourceEUI(kWh/m2)</u>\n",
    "\n",
    "### <u>2.1 : Determination hyperparametres et calcul des metriques</u>\n",
    "### <u>2.2 : Repetition de l'étude 2.1, sur les mêmes données, sans E* Score</u>\n",
    "\n",
    "<hr>\n",
    "\n",
    "## <u>3 : Conclusions sur la capacité des modèles prédictifs et sur l'influence du score Energy Star</u>\n",
    "### <u>3.1 : Remarques sur Energy Star, possible classification</u>\n",
    "\n",
    "<hr>"
   ]
  },
  {
   "cell_type": "markdown",
   "metadata": {},
   "source": [
    "## 1 : Regressions lineaires sur l'intensité d'emission de gazs a effets de serre"
   ]
  },
  {
   "cell_type": "markdown",
   "metadata": {},
   "source": [
    "### <u>1.1 : Determination hyperparametres et calcul des metriques</u>\n",
    "\n",
    "- La methode utilisée est une approche orientée objet. Cela permet de repeter et affiner les operations plus simplement, et de ne faire l'etape TestTrainSplit qu'une seule fois ; permettant de limiter le caractere aleatoire de cette fonction.\n",
    "- La methode de validation croisée est, dans un premier temps, la methode par defaut : Leave One Out. Stratified Kfold peut etre utilisé mais limite nos possibilités de visualisation (cf. sklearn.linear_model.RidgeCV)\n",
    "- Les \"candidats\" hyperparametres seront : (le lancement des regressions demande un input utilisateur, non visible via jupyter)\n",
    "    - Ridge : Alpha 0.1 -> 45 , pas de 0.05\n",
    "    - LASSO : Alpha 0.01 -> 15, pas de 0.01\n",
    "    - ElasticNet : L1_ratio par defaut (Classe), Alpha 0.1 -> 45 , pas de 0.05\n"
   ]
  },
  {
   "cell_type": "code",
   "execution_count": null,
   "metadata": {},
   "outputs": [],
   "source": [
    "# Indicated times are impacted by input times -> Necessity to time function executions\n",
    "\n",
    "ghg_model.execute_all()\n"
   ]
  },
  {
   "cell_type": "code",
   "execution_count": null,
   "metadata": {},
   "outputs": [],
   "source": [
    "# OLS\n",
    "\n",
    "ghg_model.std_table\n"
   ]
  },
  {
   "cell_type": "code",
   "execution_count": null,
   "metadata": {},
   "outputs": [],
   "source": [
    "# Elastic Net\n",
    "\n",
    "print(ghg_model.elnet_cv.alpha_)\n",
    "print(ghg_model.elnet_cv.l1_ratio_)\n",
    "ghg_model.elnet_table\n"
   ]
  },
  {
   "cell_type": "code",
   "execution_count": null,
   "metadata": {},
   "outputs": [],
   "source": [
    "print(ghg_model.ridge_cv.alpha_)\n",
    "ghg_model.ridge_table\n"
   ]
  },
  {
   "cell_type": "code",
   "execution_count": null,
   "metadata": {},
   "outputs": [],
   "source": [
    "ghg_model.ridge_plot()\n"
   ]
  },
  {
   "cell_type": "code",
   "execution_count": null,
   "metadata": {},
   "outputs": [],
   "source": [
    "print(ghg_model.lasso_best_alpha)\n",
    "ghg_model.lasso_table\n"
   ]
  },
  {
   "cell_type": "code",
   "execution_count": null,
   "metadata": {},
   "outputs": [],
   "source": [
    "ghg_model.lasso_plot()\n"
   ]
  },
  {
   "cell_type": "code",
   "execution_count": null,
   "metadata": {},
   "outputs": [],
   "source": [
    "fig, (ax1) = plt.subplots(\n",
    "    ncols=1,\n",
    "    nrows=1,\n",
    "    figsize=(4, 4),\n",
    "    dpi=155,\n",
    ")\n",
    "\n",
    "ax1 = sns.scatterplot(\n",
    "    data=ghg_model.df_predictions,\n",
    "    x=\"True\",\n",
    "    y=\"basic_regression\"\n",
    "    )\n",
    "\n",
    "x = [-1, 1,2,3,4,5]\n",
    "y = x\n",
    "ax1.plot(x, y, color=\"navy\", linewidth=.9)\n",
    "###\n",
    "# Titles/Lables\n",
    "ax1.set_ylim(-1, 5)\n",
    "ax1.set_xlim(-1, 5)\n",
    "#\n",
    "###\n",
    "plt.show()\n"
   ]
  },
  {
   "cell_type": "markdown",
   "metadata": {},
   "source": [
    "Comms"
   ]
  },
  {
   "cell_type": "markdown",
   "metadata": {},
   "source": [
    "### <u>1.2 : Repetition de l'étude 1.1, sur les mêmes données, sans E* Score</u>\n",
    "- Memes \"candidats\" hyperparametres :\n",
    "    - Ridge : Alpha 0.1 -> 45 , pas de 0.05\n",
    "    - LASSO : Alpha 0.01 -> 15, pas de 0.01\n",
    "    - ElasticNet : L1_ratio par defaut (Classe), Alpha 0.1 -> 45 , pas de 0.05"
   ]
  },
  {
   "cell_type": "code",
   "execution_count": null,
   "metadata": {},
   "outputs": [],
   "source": [
    "drop_estar = [\"ENERGYSTARScore\"]\n",
    "ghg_model.drop_col(col_list=drop_estar)\n"
   ]
  },
  {
   "cell_type": "code",
   "execution_count": null,
   "metadata": {},
   "outputs": [],
   "source": [
    "ghg_model.execute_all()"
   ]
  },
  {
   "cell_type": "code",
   "execution_count": null,
   "metadata": {},
   "outputs": [],
   "source": [
    "# OLS\n",
    "\n",
    "ghg_model.std_table\n"
   ]
  },
  {
   "cell_type": "code",
   "execution_count": null,
   "metadata": {},
   "outputs": [],
   "source": [
    "# Elastic Net\n",
    "\n",
    "print(ghg_model.elnet_cv.alpha_)\n",
    "print(ghg_model.elnet_cv.l1_ratio_)\n",
    "ghg_model.elnet_table\n"
   ]
  },
  {
   "cell_type": "code",
   "execution_count": null,
   "metadata": {},
   "outputs": [],
   "source": [
    "print(ghg_model.ridge_cv.alpha_)\n",
    "ghg_model.ridge_table\n"
   ]
  },
  {
   "cell_type": "code",
   "execution_count": null,
   "metadata": {},
   "outputs": [],
   "source": [
    "ghg_model.ridge_plot()\n"
   ]
  },
  {
   "cell_type": "code",
   "execution_count": null,
   "metadata": {},
   "outputs": [],
   "source": [
    "print(ghg_model.lasso_best_alpha)\n",
    "ghg_model.lasso_table\n"
   ]
  },
  {
   "cell_type": "code",
   "execution_count": null,
   "metadata": {},
   "outputs": [],
   "source": [
    "ghg_model.lasso_plot()\n"
   ]
  },
  {
   "cell_type": "code",
   "execution_count": null,
   "metadata": {},
   "outputs": [],
   "source": [
    "pplot_data = ghg_model.df_train[[\"scaled_Electricity(kWh)\", \"scaled_PropertyArea(SquareMetre)Total\",\n",
    "    \"scaled_SourceEUI(kWh/m2)\", \"scaled_NaturalGas(kWh)\", \"YearBuilt\", \"NumberofBuildings\",\n",
    "    \"NumberofFloors\", \"ENERGYSTARScore\", \"Building_proportion\",\n",
    "    \"Parking_proportion\", \"target_GHGEmissionsIntensity(kgCO2e/ft2)\"\n",
    "    ]]"
   ]
  },
  {
   "cell_type": "code",
   "execution_count": null,
   "metadata": {},
   "outputs": [],
   "source": [
    "ghg_model.df_train.columns"
   ]
  },
  {
   "cell_type": "code",
   "execution_count": null,
   "metadata": {},
   "outputs": [],
   "source": [
    "ghg_model.df_predictions"
   ]
  },
  {
   "cell_type": "code",
   "execution_count": null,
   "metadata": {},
   "outputs": [],
   "source": []
  }
 ],
 "metadata": {
  "interpreter": {
   "hash": "1274e91d4c49da8d2c5027ac796fe23c6eef02ed77c0608f3ea1b98e1edcbe8a"
  },
  "kernelspec": {
   "display_name": "Python 3.10.4 ('env': venv)",
   "language": "python",
   "name": "python3"
  },
  "language_info": {
   "codemirror_mode": {
    "name": "ipython",
    "version": 3
   },
   "file_extension": ".py",
   "mimetype": "text/x-python",
   "name": "python",
   "nbconvert_exporter": "python",
   "pygments_lexer": "ipython3",
   "version": "3.10.4"
  },
  "orig_nbformat": 4
 },
 "nbformat": 4,
 "nbformat_minor": 2
}

{
 "cells": [
  {
   "cell_type": "code",
   "execution_count": null,
   "metadata": {},
   "outputs": [],
   "source": [
    "import warnings\n",
    "import os\n",
    "import json  # If loading presaved indexes using freeze_model\n",
    "import shap\n",
    "import time\n",
    "\n",
    "import pandas as pd\n",
    "import seaborn as sns\n",
    "import numpy as np\n",
    "\n",
    "from matplotlib import pyplot as plt\n",
    "from sklearn.model_selection import RepeatedKFold, LeaveOneOut, GridSearchCV\n",
    "from sklearn import neighbors, metrics\n",
    "from dotenv import load_dotenv\n",
    "\n",
    "from models.linear_regressions import Linear_reg\n",
    "from scripts.model_actions import freeze_model\n",
    "\n",
    "load_dotenv()\n",
    "sns.color_palette('colorblind')\n",
    "plt.style.use('Solarize_Light2')\n",
    "\n",
    "# Setting default DPI, pulling it from dotenv if it exists, setting it on 100 if not\n",
    "\n",
    "pc_dpi = int(os.getenv('DPI'))\n",
    "\n",
    "if pc_dpi is None:\n",
    "    pc_dpi = 100\n",
    "\n",
    "\n",
    "warnings.filterwarnings(\"ignore\")\n",
    "\n",
    "shap.initjs()\n"
   ]
  },
  {
   "cell_type": "markdown",
   "metadata": {},
   "source": [
    "# <u>Tentative de modelisation et prédiction de la variable : Intensité d'utilisation energetique</u>\n",
    "\n",
    "## <u>1 : Modelisations en prenant en compte la note Energy Star (E*)</u>\n",
    "### <u>1.1 : Regressions lineaires</u>\n",
    "### <u>1.2 : Potentielle méthode non lineaire : Regression KNN</u>\n",
    "\n",
    "## <u>2 : Etude de l'importance de la note Energy Star</u>\n",
    "### <u>2.1 : Modelisation sans utiliser de variables E* (E* Score ou E* certified)</u>\n",
    "### <u>2.2 : Utilisation de la certification plutot que le score</u>\n",
    "\n",
    "<hr>\n",
    "\n",
    "<b><u>Important :</u></b>\n",
    "\n",
    "_note : La modélisation prend en compte la variable \"electricity\", celle ci représentant la majorité de la consommation energétique, on peut considérer qu'il y a une fuite de données. Neanmoins, la facilité d'obtention des relevés de consommation electrique des batiments (i.e. requete a la compagnie electrique) justifie, à mon sens, son utilisation dans la modélisation. Si neanmoins cette variable est considérée comme trop informative, il est possible de l'enlever du modèle en utilisant la methode d'instance `regression.drop_col([\"scaled_Electricity(kWh)\"])`._\n",
    "\n",
    "<hr>"
   ]
  },
  {
   "cell_type": "markdown",
   "metadata": {},
   "source": [
    "## <u>1 : Modelisations prenant en compte toutes les variables retenues lors de l'étude</u>\n",
    "### <u>1.1 : Regressions lineaires</u>\n",
    "\n",
    "#### 1.1.a : Cross validation = Leave One Out\n",
    "- On utilise dans un premier temps toutes les variables retenues lors de l'analyse exploratoire (breakpoint = export 1)\n",
    "- Un split satisfaisant a deja été trouvé et fixé, ces données viendront sur-ecrire le split proposé par le modele\n",
    "- On effectue 4 regressions (OLS, Ridge, Lasso et Elastic Net) avec les parametres par defaut de la classe pour la validation croisee : Leave One Out"
   ]
  },
  {
   "cell_type": "code",
   "execution_count": null,
   "metadata": {},
   "outputs": [],
   "source": [
    "general_file = \"./data/seattle_std_scaled.csv\"  # Used as backup\n"
   ]
  },
  {
   "cell_type": "code",
   "execution_count": null,
   "metadata": {},
   "outputs": [],
   "source": [
    "df_eui = pd.read_csv(general_file)\n",
    "df_eui.set_index(\"OSEBuildingID\", inplace=True)\n"
   ]
  },
  {
   "cell_type": "code",
   "execution_count": null,
   "metadata": {},
   "outputs": [],
   "source": [
    "## Opening split\n",
    "\n",
    "with open(\"./data/split_eui.json\") as json_file:\n",
    "    splits = json.load(json_file)\n"
   ]
  },
  {
   "cell_type": "code",
   "execution_count": null,
   "metadata": {},
   "outputs": [],
   "source": [
    "ids_train = splits[\"train\"]\n",
    "ids_test = splits[\"test\"]\n"
   ]
  },
  {
   "cell_type": "code",
   "execution_count": null,
   "metadata": {},
   "outputs": [],
   "source": [
    "df_eui.head()\n"
   ]
  },
  {
   "cell_type": "code",
   "execution_count": null,
   "metadata": {},
   "outputs": [],
   "source": [
    "df_eui.columns\n"
   ]
  },
  {
   "cell_type": "code",
   "execution_count": null,
   "metadata": {},
   "outputs": [],
   "source": [
    "# Target : target_SourceEUI(kWh/m2) :\n",
    "\n",
    "droplist = [\n",
    "    \"target_GHGEmissionsIntensity(kgCO2e/ft2)\",  # Scaled target\n",
    "    \"scaled_SourceEUI(kWh/m2)\",  # not to scale\n",
    "    ]\n",
    "\n",
    "df_model = df_eui.drop(columns=droplist)\n"
   ]
  },
  {
   "cell_type": "code",
   "execution_count": null,
   "metadata": {},
   "outputs": [],
   "source": [
    "eui_target = \"target_SourceEUI(kWh/m2)\"\n",
    "eui_regression = Linear_reg(dataframe=df_model, target=eui_target)\n"
   ]
  },
  {
   "cell_type": "code",
   "execution_count": null,
   "metadata": {},
   "outputs": [],
   "source": [
    "# Forcing split : \n",
    "\n",
    "df_train_override = df_model[df_model.index.isin(ids_train)]\n",
    "df_test_override = df_model[df_model.index.isin(ids_test)]\n"
   ]
  },
  {
   "cell_type": "code",
   "execution_count": null,
   "metadata": {},
   "outputs": [],
   "source": [
    "eui_regression.force_split(\n",
    "    df_test_ovr=df_test_override,\n",
    "    df_train_ovr=df_train_override\n",
    ")\n"
   ]
  },
  {
   "cell_type": "code",
   "execution_count": null,
   "metadata": {},
   "outputs": [],
   "source": [
    "# Dropping the Cert (redundant)\n",
    "\n",
    "eui_regression.drop_col([\"EnergyStarCert\"])\n"
   ]
  },
  {
   "cell_type": "markdown",
   "metadata": {},
   "source": [
    "#### Execution : \n",
    "Parametres similaires à l'emission de GES, on ajustera au besoin: \n",
    "- Ridge = 0.1, 30, step 0.04\n",
    "- Elastic Net = Alpha = Alpha_ridge = 0.1, 30, step 0.04, default L1 ratio\n",
    "- Lasso Alpha = 0.01, 10, 0.02"
   ]
  },
  {
   "cell_type": "code",
   "execution_count": null,
   "metadata": {},
   "outputs": [],
   "source": [
    "alphas_ridge = np.arange(0.1, 30, 0.04)\n",
    "alphas_elnet = np.arange(0.1, 30, 0.04)\n",
    "alphas_lasso = np.arange(0.01, 6, 0.01)\n",
    "\n",
    "eui_regression.execute_all(\n",
    "    alphas_elnet=alphas_elnet,\n",
    "    alphas_lasso=alphas_lasso,\n",
    "    alphas_ridge=alphas_ridge\n",
    ")\n"
   ]
  },
  {
   "cell_type": "code",
   "execution_count": null,
   "metadata": {},
   "outputs": [],
   "source": [
    "print(\"Elnet : \\n\")\n",
    "print(f\"Elastic Net L1 Ratio : {eui_regression.elnet_cv.l1_ratio_}\")\n",
    "print(f\"Elastic Net best Alpha : {eui_regression.elnet_cv.alpha_}\")\n",
    "print(f\"Time used during fit = {eui_regression.elnet_time_card.t_fit}\")\n",
    "print(f\"Time used during predict = {eui_regression.elnet_time_card.t_predict}\")\n"
   ]
  },
  {
   "cell_type": "code",
   "execution_count": null,
   "metadata": {},
   "outputs": [],
   "source": [
    "print(\"Ridge: \\n\")\n",
    "print(f\"Ridge best Alpha : {eui_regression.ridge_cv.alpha_}\")\n",
    "print(f\"Time used during fit = {eui_regression.ridge_time_card.t_fit}\")\n",
    "print(f\"Time used during predict = {eui_regression.ridge_time_card.t_predict}\")\n",
    "\n",
    "eui_regression.ridge_plot()\n"
   ]
  },
  {
   "cell_type": "code",
   "execution_count": null,
   "metadata": {},
   "outputs": [],
   "source": [
    "print(\"LASSO: \\n\")\n",
    "print(f\"LASSO best Alpha : {eui_regression.lasso_cv.alpha_}\")\n",
    "print(f\"Time used during fit = {eui_regression.lasso_time_card.t_fit}\")\n",
    "print(f\"Time used during predict = {eui_regression.lasso_time_card.t_predict}\")\n",
    "\n",
    "eui_regression.lasso_plot()\n"
   ]
  },
  {
   "cell_type": "code",
   "execution_count": null,
   "metadata": {},
   "outputs": [],
   "source": [
    "metrics_l1out_estar = eui_regression.format_all_metrics()\n",
    "\n",
    "metrics_l1out_estar\n"
   ]
  },
  {
   "cell_type": "markdown",
   "metadata": {},
   "source": [
    "##### <u>Observations : 1.1.a :</u>\n",
    "- Les modèles sont tous gloabalement performants.\n",
    "- Le modele Ridge semble etre le plus performant sur les données d'entrainement avec une baisse du score R2 entre l'execution sur les donnees d'entrainement et sur les donnees de test.\n",
    "- OLS est tres stable, on remarque des scores plus faibles que les autres regressions mais le modele est le seul a exceder les performaces attendues lors du passage au test (R2 plus haut, RMSE plus faible)\n",
    "- ElasticNet semble etre le moins bon des modeles avec une RMSE de +|- 149 kWh/m2 sur le jeu de test\n",
    "\n",
    "<hr>\n"
   ]
  },
  {
   "cell_type": "markdown",
   "metadata": {},
   "source": [
    "\n",
    "#### 1.1.b : Cross validation = RepeatedKfold (10 folds aleatoires, 3 repetitions, i.e 30 folds)\n",
    "\n",
    "- On utilise exactement les memes parametres que lors de la validation croisee utilisant Leave One Out\n",
    "- On effectue 4 regressions (OLS, Ridge, Lasso et Elastic Net) avec les parametres par defaut de la classe pour la validation croisee\n",
    "- Kfolds etant souvent beaucoup plus lourd a executer que Leave One Out, on attend de meilleurs scores mais des temps de traitement plus élevés"
   ]
  },
  {
   "cell_type": "code",
   "execution_count": null,
   "metadata": {},
   "outputs": [],
   "source": [
    "## Changing CV to RepeatedKfold :\n",
    "k_folds = RepeatedKFold(n_splits=10, n_repeats=3, random_state=1)\n",
    "\n",
    "eui_regression.common_parameters[\"cv\"] = k_folds\n"
   ]
  },
  {
   "cell_type": "code",
   "execution_count": null,
   "metadata": {},
   "outputs": [],
   "source": [
    "# Same split, same parameters, except cv = kfolds :\n",
    "\n",
    "eui_regression.execute_all(\n",
    "    alphas_elnet=alphas_elnet,\n",
    "    alphas_lasso=alphas_lasso,\n",
    "    alphas_ridge=alphas_ridge\n",
    ")\n"
   ]
  },
  {
   "cell_type": "code",
   "execution_count": null,
   "metadata": {},
   "outputs": [],
   "source": [
    "metrics_kfold_estar = eui_regression.format_all_metrics()\n"
   ]
  },
  {
   "cell_type": "code",
   "execution_count": null,
   "metadata": {},
   "outputs": [],
   "source": [
    "print(\"Elnet : \\n\")\n",
    "print(f\"Elastic Net L1 Ratio : {eui_regression.elnet_cv.l1_ratio_}\")\n",
    "print(f\"Elastic Net best Alpha : {eui_regression.elnet_cv.alpha_}\")\n",
    "print(f\"Time used during fit = {eui_regression.elnet_time_card.t_fit}\")\n",
    "print(f\"Time used during predict = {eui_regression.elnet_time_card.t_predict}\")\n"
   ]
  },
  {
   "cell_type": "code",
   "execution_count": null,
   "metadata": {},
   "outputs": [],
   "source": [
    "print(\"Ridge: \\n\")\n",
    "print(f\"Ridge best Alpha : {eui_regression.ridge_cv.alpha_}\")\n",
    "print(f\"Time used during fit = {eui_regression.ridge_time_card.t_fit}\")\n",
    "print(f\"Time used during predict = {eui_regression.ridge_time_card.t_predict}\")\n"
   ]
  },
  {
   "cell_type": "code",
   "execution_count": null,
   "metadata": {},
   "outputs": [],
   "source": [
    "print(\"LASSO: \\n\")\n",
    "print(f\"LASSO best Alpha : {eui_regression.lasso_cv.alpha_}\")\n",
    "print(f\"Time used during fit = {eui_regression.lasso_time_card.t_fit}\")\n",
    "print(f\"Time used during predict = {eui_regression.lasso_time_card.t_predict}\")\n"
   ]
  },
  {
   "cell_type": "code",
   "execution_count": null,
   "metadata": {},
   "outputs": [],
   "source": [
    "print(\"# Metriques des regressions utilisant Kfold #\")\n",
    "metrics_kfold_estar\n"
   ]
  },
  {
   "cell_type": "code",
   "execution_count": null,
   "metadata": {},
   "outputs": [],
   "source": [
    "print(\"# Metriques des regressions utilisant Leave One Out #\")\n",
    "metrics_l1out_estar\n"
   ]
  },
  {
   "cell_type": "markdown",
   "metadata": {},
   "source": [
    "##### Observations 1.1.b et comparaisons avec 1.1.a :\n",
    "\n",
    "- Le temps d'execution est largement superieur, ce qui etait attendu\n",
    "- La regression Ridge semble peut profiter de validation croisee par Kfold. Les performances sont extremement impressionantes sur le jeu d'entrainement (0.87 kWh/m2), mais il rentre dans les valeurs attendues (autour de 100kWh de RMSE) lors de son execution sur les donnees de test\n",
    "- On peut questionner l'utilité de la validation par Kfold dans ce cas, meme si de tres faibles gains sont remarquables.\n",
    "<br> \n",
    "<hr>\n",
    "<br>\n",
    "<b>Choix de Ridge Kfold :</b> <br>\n",
    "\n",
    "- Le temps de fit est certes plus haut, mais une fois le modele entrainé, il predit les valeurs de test relativement precisement, et extremement rapidement.\n",
    "- Elastic Net n'offre pas de gain significatif pour son temps d'entrainement largement superieur\n",
    "- On analyse Ridge Kfold plus en details et c'est la regression principale qu'on utilisera pour comparer l'etape 1 à l'étape 2."
   ]
  },
  {
   "cell_type": "markdown",
   "metadata": {},
   "source": [
    "### <u>1.2 : Potentielle méthode non lineaire : Regression KNN</u>\n",
    "\n",
    "Ici encore, le problème semble solvable en utilisant des methodes linéaires. Il est possible neanmoins d'appliquer, comme dans le cas de la modélisation sur les GàES, une regression par KNN pour verifier que d'autres methodes ne sont pas plus performantes."
   ]
  },
  {
   "cell_type": "code",
   "execution_count": null,
   "metadata": {},
   "outputs": [],
   "source": [
    "X_train, X_test = eui_regression.X_train, eui_regression.X_test\n",
    "y_train, y_test = eui_regression.y_train, eui_regression.y_test\n",
    "\n",
    "neighbors_candidates = [5, 7, 9, 11, 13, 15, 17, 19]\n",
    "\n",
    "knnr = neighbors.KNeighborsRegressor()\n",
    "\n",
    "# Grid search\n",
    "\n",
    "l1out = LeaveOneOut()\n",
    "\n",
    "param_grid_knnr = {'n_neighbors':neighbors_candidates}\n",
    "\n",
    "score = \"neg_mean_squared_error\"\n",
    "\n",
    "# KNN regressors Setup\n",
    "\n",
    "knn_reg_l1o = GridSearchCV(\n",
    "    estimator=knnr,\n",
    "    param_grid=param_grid_knnr,\n",
    "    cv=l1out,\n",
    "    scoring=score\n",
    ")\n",
    "\n",
    "knn_reg_rkf = GridSearchCV(\n",
    "    estimator=knnr,\n",
    "    param_grid=param_grid_knnr,\n",
    "    cv=k_folds,\n",
    "    scoring=score\n",
    ")\n"
   ]
  },
  {
   "cell_type": "code",
   "execution_count": null,
   "metadata": {},
   "outputs": [],
   "source": [
    "knnr_l1o_fit_ts = time.perf_counter()\n",
    "\n",
    "knn_reg_l1o.fit(\n",
    "    X=X_train,\n",
    "    y=y_train\n",
    ")\n",
    "\n",
    "knnr_l1o_fit_tf = time.perf_counter()\n",
    "\n",
    "time_to_fit_knn_l1out = knnr_l1o_fit_tf - knnr_l1o_fit_ts\n",
    "\n",
    "rmse_knnr_l1o = np.sqrt(abs(knn_reg_l1o.best_score_))\n",
    "y_pred_train_l1o = knn_reg_l1o.predict(X_train)\n",
    "r2_knnr_l1o = metrics.r2_score(y_true=eui_regression.y_train, y_pred=y_pred_train_l1o)\n"
   ]
  },
  {
   "cell_type": "code",
   "execution_count": null,
   "metadata": {},
   "outputs": [],
   "source": [
    "print(f\"RMSE Regression KNN, Cross Val : Leave one out = {rmse_knnr_l1o}\")\n",
    "print(f\"Score R2 Regression KNN, Cross Val : Leave one out = {r2_knnr_l1o}\")\n",
    "print(f\"Temps fit : {time_to_fit_knn_l1out}\")\n",
    "print(f\"Meilleur hyperparametre : {knn_reg_l1o.best_params_}\")\n"
   ]
  },
  {
   "cell_type": "code",
   "execution_count": null,
   "metadata": {},
   "outputs": [],
   "source": [
    "knnr_rkf_fit_ts = time.perf_counter()\n",
    "\n",
    "knn_reg_rkf.fit(\n",
    "    X=X_train,\n",
    "    y=y_train\n",
    ")\n",
    "\n",
    "knnr_rkf_fit_tf = time.perf_counter()\n",
    "\n",
    "time_to_fit_knn_rkf = knnr_rkf_fit_tf - knnr_rkf_fit_ts\n",
    "\n",
    "rmse_knnr_rkf = np.sqrt(abs(knn_reg_rkf.best_score_))\n",
    "y_pred_train_rkf = knn_reg_rkf.predict(X_train)\n",
    "r2_knnr_rkf = metrics.r2_score(y_true=eui_regression.y_train, y_pred=y_pred_train_l1o)\n"
   ]
  },
  {
   "cell_type": "code",
   "execution_count": null,
   "metadata": {},
   "outputs": [],
   "source": [
    "print(f\"RMSE Regression KNN, Cross Val : Repeated KFolds = {rmse_knnr_rkf}\")\n",
    "print(f\"Score R2 Regression KNN, Cross Val : Repeated KFolds = {r2_knnr_rkf}\")\n",
    "print(f\"Temps fit : {time_to_fit_knn_rkf}\")\n",
    "print(f\"Meilleur hyperparametre : {knn_reg_l1o.best_params_}\")\n"
   ]
  },
  {
   "cell_type": "markdown",
   "metadata": {},
   "source": [
    "#### Observations sur KNN :\n",
    "- Comme dans le cas des GàES, une methode de regression utilisant KNN n'est pas souhaitable. Le score R2 du modèle s'éffondre et l'erreur augmente grandement.\n",
    "- Les modèles de regression linéaires semblent, dans ce cas et dans le cadre des modèles essayés, suffisamment precis et pertinents.\n",
    "- Il n'est pas impossible qu'une autre méthode de regression non linéaire soit plus performante (Random Forest Regressor par exemple), mais le modèle Ridge validé par Repeated Kfolds se montre suffisamment satisfaisant pour justifier la non implémentation d'un méthode beaucoup plus lourde"
   ]
  },
  {
   "cell_type": "markdown",
   "metadata": {},
   "source": [
    "## <u>2 : Etude de l'importance de la note Energy Star</u>\n"
   ]
  },
  {
   "cell_type": "markdown",
   "metadata": {},
   "source": [
    "### <u>2.0 : Utilisation de SHAP</u> pour determiner l'importance des differentes variables sur la regression retenue lors de l'etape precedente :\n",
    "\n",
    "- On identifiera quels sont les principales features qui entrent en compte lors de la modelisation\n",
    "- On pourra voir si la variable Energy Star Score figure parmi les plus importantes features"
   ]
  },
  {
   "cell_type": "code",
   "execution_count": null,
   "metadata": {},
   "outputs": [],
   "source": [
    "target_and_cert = [eui_target, \"EnergyStarCert\"]\n",
    "\n",
    "X_all = eui_regression.df_origin.drop(columns=target_and_cert).to_numpy()\n",
    "X100 = shap.utils.sample(X_all, 100) # 100 instances for use as the background distribution\n",
    "\n",
    "features = eui_regression.df_origin.drop(columns=target_and_cert).columns\n",
    "\n",
    "explainer = shap.LinearExplainer(eui_regression.ridge_cv, X100, feature_names=features)\n",
    "shap_values = explainer(X_all)\n"
   ]
  },
  {
   "cell_type": "code",
   "execution_count": null,
   "metadata": {},
   "outputs": [],
   "source": [
    "sample_ind = 18\n",
    "my_waterfall = shap.plots.waterfall(shap_values[0], max_display=14, show=False)\n",
    "my_waterfall.figure.set_size_inches(10, 10)\n",
    "my_waterfall.figure.set_dpi(pc_dpi)\n",
    "\n",
    "my_waterfall.suptitle(\"Impact des differentes variables sur le modele, classées par ordre d'importance\")\n",
    "\n",
    "plt.show()\n"
   ]
  },
  {
   "cell_type": "code",
   "execution_count": null,
   "metadata": {},
   "outputs": [],
   "source": [
    "summary = shap.plots.beeswarm(shap_values, max_display=14, show=False)\n",
    "\n",
    "summary.figure.set_size_inches(15, 8)\n",
    "summary.figure.set_dpi(pc_dpi)\n",
    "\n",
    "summary.suptitle(\"Impact des differentes variables sur le modele, classées par ordre d'importance\")\n",
    "\n",
    "plt.show()\n"
   ]
  },
  {
   "cell_type": "markdown",
   "metadata": {},
   "source": [
    "#### Observations 2.0 : \n",
    "\n",
    "- Energy Star Score semble etre une valeur très importante au modèle : le plot summary (n2) montre que plus sa valeur est basse, plus l'intensité d'utilisation energetique augmente. Des valeurs hautes du score (\"bons\" scores) sont corrélés avec une valeur de sortie faible."
   ]
  },
  {
   "cell_type": "markdown",
   "metadata": {},
   "source": [
    "### <u>2.1 : Modelisation sans utiliser de variables E* (E* Score ou E* certified)</u>\n",
    "### <u>2.2 : Utilisation de la certification plutot que le score</u>\n"
   ]
  },
  {
   "cell_type": "code",
   "execution_count": null,
   "metadata": {},
   "outputs": [],
   "source": [
    "drop_col = [\"ENERGYSTARScore\", \"EnergyStarCert\"]\n",
    "\n",
    "eui_regression.drop_col(col_list=drop_col)\n",
    "\n",
    "eui_regression.common_parameters[\"cv\"] = None\n"
   ]
  },
  {
   "cell_type": "code",
   "execution_count": null,
   "metadata": {},
   "outputs": [],
   "source": [
    "eui_regression.execute_all(\n",
    "    alphas_elnet=alphas_elnet,\n",
    "    alphas_ridge=alphas_ridge,\n",
    "    alphas_lasso=alphas_lasso\n",
    ")\n"
   ]
  },
  {
   "cell_type": "code",
   "execution_count": null,
   "metadata": {},
   "outputs": [],
   "source": [
    "print(\"Elnet : \\n\")\n",
    "print(f\"Elastic Net L1 Ratio : {eui_regression.elnet_cv.l1_ratio_}\")\n",
    "print(f\"Elastic Net best Alpha : {eui_regression.elnet_cv.alpha_}\")\n",
    "print(f\"Time used during fit = {eui_regression.elnet_time_card.t_fit}\")\n",
    "print(f\"Time used during predict = {eui_regression.elnet_time_card.t_predict}\")\n"
   ]
  },
  {
   "cell_type": "code",
   "execution_count": null,
   "metadata": {},
   "outputs": [],
   "source": [
    "print(\"Ridge: \\n\")\n",
    "print(f\"Ridge best Alpha : {eui_regression.ridge_cv.alpha_}\")\n",
    "print(f\"Time used during fit = {eui_regression.ridge_time_card.t_fit}\")\n",
    "print(f\"Time used during predict = {eui_regression.ridge_time_card.t_predict}\")\n",
    "\n",
    "eui_regression.ridge_plot()\n"
   ]
  },
  {
   "cell_type": "code",
   "execution_count": null,
   "metadata": {},
   "outputs": [],
   "source": [
    "print(\"LASSO: \\n\")\n",
    "print(f\"LASSO best Alpha : {eui_regression.lasso_cv.alpha_}\")\n",
    "print(f\"Time used during fit = {eui_regression.lasso_time_card.t_fit}\")\n",
    "print(f\"Time used during predict = {eui_regression.lasso_time_card.t_predict}\")\n",
    "\n",
    "eui_regression.lasso_plot()\n"
   ]
  },
  {
   "cell_type": "code",
   "execution_count": null,
   "metadata": {},
   "outputs": [],
   "source": [
    "metrics_l1out_no_estar = eui_regression.format_all_metrics()\n",
    "\n",
    "metrics_l1out_no_estar\n"
   ]
  },
  {
   "cell_type": "code",
   "execution_count": null,
   "metadata": {},
   "outputs": [],
   "source": [
    "metrics_l1out_estar\n"
   ]
  },
  {
   "cell_type": "markdown",
   "metadata": {},
   "source": [
    "#### heavy losses on all models\n",
    "#### using kfold"
   ]
  },
  {
   "cell_type": "code",
   "execution_count": null,
   "metadata": {},
   "outputs": [],
   "source": [
    "eui_regression.common_parameters[\"cv\"] = k_folds\n"
   ]
  },
  {
   "cell_type": "code",
   "execution_count": null,
   "metadata": {},
   "outputs": [],
   "source": [
    "eui_regression.execute_all(\n",
    "    alphas_elnet=alphas_elnet,\n",
    "    alphas_ridge=alphas_ridge,\n",
    "    alphas_lasso=alphas_lasso\n",
    ")\n"
   ]
  },
  {
   "cell_type": "code",
   "execution_count": null,
   "metadata": {},
   "outputs": [],
   "source": [
    "print(\"Elnet : \\n\")\n",
    "print(f\"Elastic Net L1 Ratio : {eui_regression.elnet_cv.l1_ratio_}\")\n",
    "print(f\"Elastic Net best Alpha : {eui_regression.elnet_cv.alpha_}\")\n",
    "print(f\"Time used during fit = {eui_regression.elnet_time_card.t_fit}\")\n",
    "print(f\"Time used during predict = {eui_regression.elnet_time_card.t_predict}\")\n"
   ]
  },
  {
   "cell_type": "code",
   "execution_count": null,
   "metadata": {},
   "outputs": [],
   "source": [
    "print(\"Ridge: \\n\")\n",
    "print(f\"Ridge best Alpha : {eui_regression.ridge_cv.alpha_}\")\n",
    "print(f\"Time used during fit = {eui_regression.ridge_time_card.t_fit}\")\n",
    "print(f\"Time used during predict = {eui_regression.ridge_time_card.t_predict}\")\n",
    "\n",
    "eui_regression.ridge_plot()\n"
   ]
  },
  {
   "cell_type": "code",
   "execution_count": null,
   "metadata": {},
   "outputs": [],
   "source": [
    "print(\"LASSO: \\n\")\n",
    "print(f\"LASSO best Alpha : {eui_regression.lasso_cv.alpha_}\")\n",
    "print(f\"Time used during fit = {eui_regression.lasso_time_card.t_fit}\")\n",
    "print(f\"Time used during predict = {eui_regression.lasso_time_card.t_predict}\")\n"
   ]
  },
  {
   "cell_type": "code",
   "execution_count": null,
   "metadata": {},
   "outputs": [],
   "source": [
    "metrics_kfold_no_estar = eui_regression.format_all_metrics()\n",
    "\n",
    "metrics_kfold_no_estar\n"
   ]
  },
  {
   "cell_type": "code",
   "execution_count": null,
   "metadata": {},
   "outputs": [],
   "source": [
    "metrics_kfold_estar\n"
   ]
  },
  {
   "cell_type": "markdown",
   "metadata": {},
   "source": [
    "#### heavy performances losses aswl\n",
    "\n",
    "- Ici, contrairement a la modelisation de la prediction d'emission de GaES, la variable E* score semble très importante. On note de fortes baisses du score R2 de chaque modèle, et egalement une augmentation de l'erreur RMSE"
   ]
  },
  {
   "cell_type": "markdown",
   "metadata": {},
   "source": [
    "#### Hypothèses :\n",
    "\n",
    "- On sait que les batiments notés par EnergyStar sont qualifiés EnergyStar Certified s'ils ont une note superieure ou egale a 75.\n",
    "- Est il possible de predire avec une haute confiance si un batiment aura une certification ou non ?\n",
    "- Si oui, cette nouvelle statistique booleene aurait-elle un impact sur notre modele ? Si c'est le cas, il serait avantageux de tenter de predire ce score en utilisant des methode de classification. Cela permettrait d'avoir moins recours au calcul du score Per Se tout en retenant les benefices clairs apportés par cette variable"
   ]
  },
  {
   "cell_type": "markdown",
   "metadata": {},
   "source": [
    "### 2.2 Utilisation de la certification :"
   ]
  },
  {
   "cell_type": "code",
   "execution_count": null,
   "metadata": {},
   "outputs": [],
   "source": [
    "eui_regression.reset_cols()\n",
    "eui_regression.drop_col([\"ENERGYSTARScore\"])\n"
   ]
  },
  {
   "cell_type": "markdown",
   "metadata": {},
   "source": [
    "Same parameters, its the 3rd time, you know the drill"
   ]
  },
  {
   "cell_type": "code",
   "execution_count": null,
   "metadata": {},
   "outputs": [],
   "source": [
    "# Let's fire up this bad boy : \n",
    "# Do me proud homes\n",
    "\n",
    "eui_regression.execute_all(\n",
    "    alphas_elnet=alphas_elnet,\n",
    "    alphas_ridge=alphas_ridge,\n",
    "    alphas_lasso=alphas_lasso\n",
    ")\n"
   ]
  },
  {
   "cell_type": "code",
   "execution_count": null,
   "metadata": {},
   "outputs": [],
   "source": [
    "print(\"Elnet : \\n\")\n",
    "print(f\"Elastic Net L1 Ratio : {eui_regression.elnet_cv.l1_ratio_}\")\n",
    "print(f\"Elastic Net best Alpha : {eui_regression.elnet_cv.alpha_}\")\n",
    "print(f\"Time used during fit = {eui_regression.elnet_time_card.t_fit}\")\n",
    "print(f\"Time used during predict = {eui_regression.elnet_time_card.t_predict}\")\n"
   ]
  },
  {
   "cell_type": "code",
   "execution_count": null,
   "metadata": {},
   "outputs": [],
   "source": [
    "print(\"Ridge: \\n\")\n",
    "print(f\"Ridge best Alpha : {eui_regression.ridge_cv.alpha_}\")\n",
    "print(f\"Time used during fit = {eui_regression.ridge_time_card.t_fit}\")\n",
    "print(f\"Time used during predict = {eui_regression.ridge_time_card.t_predict}\")\n",
    "\n",
    "eui_regression.ridge_plot()\n"
   ]
  },
  {
   "cell_type": "code",
   "execution_count": null,
   "metadata": {},
   "outputs": [],
   "source": [
    "print(\"LASSO: \\n\")\n",
    "print(f\"LASSO best Alpha : {eui_regression.lasso_cv.alpha_}\")\n",
    "print(f\"Time used during fit = {eui_regression.lasso_time_card.t_fit}\")\n",
    "print(f\"Time used during predict = {eui_regression.lasso_time_card.t_predict}\")\n",
    "\n",
    "eui_regression.lasso_plot()\n"
   ]
  },
  {
   "cell_type": "code",
   "execution_count": null,
   "metadata": {},
   "outputs": [],
   "source": [
    "cert_metrics_l1out = eui_regression.format_all_metrics()\n",
    "\n",
    "cert_metrics_l1out\n"
   ]
  },
  {
   "cell_type": "code",
   "execution_count": null,
   "metadata": {},
   "outputs": [],
   "source": [
    "metrics_l1out_estar\n"
   ]
  },
  {
   "cell_type": "code",
   "execution_count": null,
   "metadata": {},
   "outputs": [],
   "source": [
    "metrics_l1out_no_estar\n"
   ]
  },
  {
   "cell_type": "code",
   "execution_count": null,
   "metadata": {},
   "outputs": [],
   "source": [
    "eui_regression.common_parameters[\"cv\"] = k_folds\n",
    "\n",
    "\n",
    "eui_regression.execute_all(\n",
    "    alphas_elnet=alphas_elnet,\n",
    "    alphas_ridge=alphas_ridge,\n",
    "    alphas_lasso=alphas_lasso\n",
    ")\n"
   ]
  },
  {
   "cell_type": "code",
   "execution_count": null,
   "metadata": {},
   "outputs": [],
   "source": [
    "print(\"Elnet : \\n\")\n",
    "print(f\"Elastic Net L1 Ratio : {eui_regression.elnet_cv.l1_ratio_}\")\n",
    "print(f\"Elastic Net best Alpha : {eui_regression.elnet_cv.alpha_}\")\n",
    "print(f\"Time used during fit = {eui_regression.elnet_time_card.t_fit}\")\n",
    "print(f\"Time used during predict = {eui_regression.elnet_time_card.t_predict}\")\n"
   ]
  },
  {
   "cell_type": "code",
   "execution_count": null,
   "metadata": {},
   "outputs": [],
   "source": [
    "print(\"Ridge: \\n\")\n",
    "print(f\"Ridge best Alpha : {eui_regression.ridge_cv.alpha_}\")\n",
    "print(f\"Time used during fit = {eui_regression.ridge_time_card.t_fit}\")\n",
    "print(f\"Time used during predict = {eui_regression.ridge_time_card.t_predict}\")\n"
   ]
  },
  {
   "cell_type": "code",
   "execution_count": null,
   "metadata": {},
   "outputs": [],
   "source": [
    "print(\"LASSO: \\n\")\n",
    "print(f\"LASSO best Alpha : {eui_regression.lasso_cv.alpha_}\")\n",
    "print(f\"Time used during fit = {eui_regression.lasso_time_card.t_fit}\")\n",
    "print(f\"Time used during predict = {eui_regression.lasso_time_card.t_predict}\")\n"
   ]
  },
  {
   "cell_type": "code",
   "execution_count": null,
   "metadata": {},
   "outputs": [],
   "source": [
    "cert_metrics_kfolds = eui_regression.format_all_metrics()\n",
    "\n",
    "cert_metrics_kfolds\n"
   ]
  },
  {
   "cell_type": "code",
   "execution_count": null,
   "metadata": {},
   "outputs": [],
   "source": [
    "cert_metrics_l1out\n"
   ]
  },
  {
   "cell_type": "code",
   "execution_count": null,
   "metadata": {},
   "outputs": [],
   "source": [
    "metrics_kfold_estar\n"
   ]
  },
  {
   "cell_type": "code",
   "execution_count": null,
   "metadata": {},
   "outputs": [],
   "source": [
    "metrics_kfold_no_estar\n"
   ]
  },
  {
   "cell_type": "markdown",
   "metadata": {},
   "source": [
    "#### Observations :\n",
    "- Les resultats sont encourageants. Il est evident que la certification, ou non, d'un batiment n'est pas aussi precise que son score mais on obtient un gain significatif par rapport aux modeles n'utilisant pas du tout le score EnergyStar.\n",
    "- Si l'on garde l'exemple de Ridge, on obtient des resultats sensiblement plus optimistes. On perd certes en precision et on augmente l'erreur vis à vis du modele utilisant E* seul, mais cela peut etre un compromis interessant.\n",
    "- On peut etudier l'importance de la feature avec la meme methode (shap) utilisee lors des precedents exemples. On s'attend a la voir contribuer substantiellement au modele."
   ]
  },
  {
   "cell_type": "code",
   "execution_count": null,
   "metadata": {},
   "outputs": [],
   "source": [
    "target_and_score = [eui_target, \"ENERGYSTARScore\"]\n",
    "\n",
    "X_all_cert = eui_regression.df_origin.drop(columns=target_and_score).to_numpy()\n",
    "X100 = shap.utils.sample(X_all_cert, 100) # 100 instances for use as the background distribution\n",
    "\n",
    "features_cert = eui_regression.df_origin.drop(columns=target_and_score).columns\n",
    "\n",
    "explainer = shap.LinearExplainer(eui_regression.ridge_cv, X100, feature_names=features_cert)\n",
    "shap_values = explainer(X_all_cert)\n"
   ]
  },
  {
   "cell_type": "code",
   "execution_count": null,
   "metadata": {},
   "outputs": [],
   "source": [
    "sample_ind = 18\n",
    "my_waterfall = shap.plots.waterfall(shap_values[0], max_display=10, show=False)\n",
    "my_waterfall.figure.set_size_inches(10, 10)\n",
    "my_waterfall.figure.set_dpi(pc_dpi)\n",
    "\n",
    "my_waterfall.suptitle(\"Impact des differentes variables sur le modele, classées par ordre d'importance, certification\")\n",
    "\n",
    "plt.show()\n"
   ]
  },
  {
   "cell_type": "code",
   "execution_count": null,
   "metadata": {},
   "outputs": [],
   "source": [
    "summary = shap.plots.beeswarm(shap_values, max_display=14, show=False)\n",
    "\n",
    "summary.figure.set_size_inches(15, 8)\n",
    "summary.figure.set_dpi(pc_dpi)\n",
    "\n",
    "summary.suptitle(\"Impact des differentes variables sur le modele, classées par ordre d'importance, certification\")\n",
    "\n",
    "plt.show()\n"
   ]
  },
  {
   "cell_type": "markdown",
   "metadata": {},
   "source": [
    "### Observations sur l'hypothese et ouverture vers un autre probleme. Conclusion générale.\n",
    "\n",
    "- L'hypothèse selon laquelelle la certification, ou non, d'un batiment apporte une contribution sembable en terme d'impact à celle de la Note Per Se.\n",
    "- Les resultats sont particulierement interessants dans la mesure ou l'on passe d'une note sur 100 à une valeur binaire.\n",
    "- Cependant, un autre probleme se pose : Nous avons pu etablir la certification des batiments en connaissant a priori leurs notes. L'idée est d'essayer de moins s'appuyer sur cette note - En clair, une nouvelle problematique emerge : Est il possible de predire si un batiment sera certifié ou non, en se basant sur les variables connues.\n",
    "    - Dans le cas ou cela est possible est suffisamment precis, cette alternative est un bon compromis entre les pertes de performances consequentes dues à l'elimination totale d'E*.\n",
    "    - Dans le cas ou cela est impossible ou trop peu precis. On recommandera, au possible, d'effectuer les calculs de ce score. La difference \"avec/sans\" est trop importante et le score beneficie bien trop au modele pour s'en passer.\n",
    "- Dans l'ensemble, l'utilisation de Ridge, ici en utilisant Kfold (repetition 3 fois de 10 folds) est recommandée : c'est le modèle le plus precis même si quelque peu inconstant."
   ]
  }
 ],
 "metadata": {
  "interpreter": {
   "hash": "1274e91d4c49da8d2c5027ac796fe23c6eef02ed77c0608f3ea1b98e1edcbe8a"
  },
  "kernelspec": {
   "display_name": "Python 3.10.4 ('env': venv)",
   "language": "python",
   "name": "python3"
  },
  "language_info": {
   "codemirror_mode": {
    "name": "ipython",
    "version": 3
   },
   "file_extension": ".py",
   "mimetype": "text/x-python",
   "name": "python",
   "nbconvert_exporter": "python",
   "pygments_lexer": "ipython3",
   "version": "3.10.4"
  },
  "orig_nbformat": 4
 },
 "nbformat": 4,
 "nbformat_minor": 2
}

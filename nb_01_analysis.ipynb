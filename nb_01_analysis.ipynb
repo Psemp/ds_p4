{
 "cells": [
  {
   "cell_type": "code",
   "execution_count": null,
   "metadata": {},
   "outputs": [],
   "source": [
    "import pandas as pd\n",
    "import seaborn as sns\n",
    "import numpy as np\n",
    "import os\n",
    "\n",
    "import scipy.stats as stats\n",
    "import warnings\n",
    "\n",
    "from matplotlib import pyplot as plt\n",
    "from dotenv import load_dotenv\n",
    "\n",
    "from scripts.cleaning import remove_outliers\n",
    "\n",
    "load_dotenv()\n",
    "plt.style.use('Solarize_Light2')\n",
    "sns.color_palette(\"colorblind\")\n",
    "\n",
    "warnings.filterwarnings('ignore')\n",
    "\n",
    "# Setting default DPI, pulling it from dotenv if it exists, setting it on 100 if not\n",
    "\n",
    "pc_dpi = int(os.getenv('DPI'))\n",
    "\n",
    "if pc_dpi is None:\n",
    "    pc_dpi = 100\n",
    "\n",
    "# Override max dpi\n",
    "\n",
    "if pc_dpi > 155:\n",
    "    pc_dpi = 155\n"
   ]
  },
  {
   "cell_type": "code",
   "execution_count": null,
   "metadata": {},
   "outputs": [],
   "source": [
    "# File\n",
    "\n",
    "sea_ds = \"./data/seattle_data.csv\"\n",
    "\n",
    "df_seattle = pd.read_csv(sea_ds)\n"
   ]
  },
  {
   "cell_type": "code",
   "execution_count": null,
   "metadata": {},
   "outputs": [],
   "source": [
    "building_amnt_zero = df_seattle.shape[0]\n",
    "\n",
    "print(f\"There is {building_amnt_zero} buildings in the dataset\")\n"
   ]
  },
  {
   "cell_type": "markdown",
   "metadata": {},
   "source": [
    "# <u>Analyse exploratoire :</u>\n",
    "\n",
    "## <u>0. Élimination d'aberrations via IQR</u>\n",
    "\n",
    "## <u>1. Age des bâtiments </u>\n",
    "- <u>1.a : Représentation des bâtiments en fonction de leurs dates de construction. </u>\n",
    "- <u>1.b : Visualisation des statistiques principales de la variable : Énergie par mètre carré </u>\n",
    "- <u>1.c : Paire 1.a 1.b : Date de construction et utilisation en énergie par mètre carré | Émission de GàES par m2. </u>\n",
    "\n",
    "<hr>\n",
    "\n",
    "## <u> 2. Étude de la note Energy Star</u>\n",
    "- <u> 2.a : Répartition de la note Energy Star au sein des données. </u>\n",
    "- <u> 2.b : Paire 2 : Note Energy Star en fonction de l'énergie par mètre carré. </u>\n",
    "- <u> 2.c : Paire 3 : Note Energy Star en fonction de l'intensité d'émissions de GES. </u>\n",
    "- <u> 2.d : Paire 4 : Energy Star en fonction de l'année de construction. </u>\n",
    "\n",
    "<hr>\n",
    "\n",
    "## <u> 3 : Représentation Property Type/Utilisation énergie </u>\n",
    "- <u> 3.a : Visualisation des catégories principales </u>\n",
    "- <u> 3.b : Étude en détails de la corrélation taille -> E* </u>\n",
    "- <u> 3.c : Étude en détails de la corrélation taille -> GES </u>\n",
    "- <u> 3.d : Étude en détails de la corrélation taille -> EUI </u>\n",
    "\n",
    "### Export : dataset destine a la prédiction EUI et GES pour feature engineering\n",
    "_note_ : _Données non standardisées_\n",
    "\n",
    "### Cette analyse permettra de :\n",
    " - Visualiser \"l'age\" du paysage de Seattle\n",
    " - Contextualiser la mesure de la consommation d'énergie au mètre carré, et sa possible relation avec l'age des bâtiments\n",
    " - Avoir une meilleure compréhension de la variable Energy Star et de la présenter face à l'age des bâtiments et de leur consommation en énergie\n"
   ]
  },
  {
   "cell_type": "markdown",
   "metadata": {},
   "source": [
    "## 0. Elimination d'outliers via la methode interquartile :\n"
   ]
  },
  {
   "cell_type": "code",
   "execution_count": null,
   "metadata": {},
   "outputs": [],
   "source": [
    "cleaning_list = [\"Electricity(kWh)\", \"SourceEUI(kWh/m2)\", \"SiteEnergyUse(kWh)\"]\n",
    "\n",
    "for col in cleaning_list:\n",
    "    remove_outliers(col, df_seattle)\n",
    "\n",
    "print(df_seattle.shape)\n",
    "\n",
    "print(f\"{building_amnt_zero - df_seattle.shape[0]} buildings deleted\")\n"
   ]
  },
  {
   "cell_type": "markdown",
   "metadata": {},
   "source": [
    "## 1. Age des batiments"
   ]
  },
  {
   "cell_type": "markdown",
   "metadata": {},
   "source": [
    "### 1.a : Représentation des bâtiments en fonction de leurs dates de construction."
   ]
  },
  {
   "cell_type": "code",
   "execution_count": null,
   "metadata": {},
   "outputs": [],
   "source": [
    "data_age = list(df_seattle[\"YearBuilt\"].astype(int))\n",
    "oldest = min(data_age)\n",
    "youngest = max(data_age)\n",
    "\n",
    "print(f\"Le plus ancien batiment date de {oldest}, le plus récent (donnees de 2016) date de {youngest}\")\n"
   ]
  },
  {
   "cell_type": "code",
   "execution_count": null,
   "metadata": {},
   "outputs": [],
   "source": [
    "decades = np.arange(1900, 2020, 10)\n",
    "\n",
    "building_per_decade = dict.fromkeys(decades)\n",
    "\n",
    "for decade in building_per_decade.keys():\n",
    "    built = len([year for year in data_age if (year > decade and year < decade + 10)])\n",
    "    building_per_decade[decade] = built\n",
    "\n",
    "used_cmap = plt.get_cmap(\"Dark2\")\n",
    "\n",
    "fig, (ax1, ax2) = plt.subplots(\n",
    "    ncols=2,\n",
    "    nrows=1,\n",
    "    figsize=(22, 10),\n",
    "    gridspec_kw={\"width_ratios\": [1, 4]},\n",
    "    dpi=pc_dpi\n",
    "    )\n",
    "\n",
    "ax1.boxplot(data_age, showmeans=True, widths=0.25)\n",
    "\n",
    "ax2.bar(building_per_decade.keys(), height=building_per_decade.values(), width=8, color=used_cmap.colors)\n",
    "\n",
    "###\n",
    "# Titles & Labels\n",
    "ax1.set_ylabel(\"Annee de construction\")\n",
    "ax2.set_ylabel(\"Nombre de batiments construits\")\n",
    "ax2.set_xlabel(\"Annee de construction\")\n",
    "fig.suptitle(\"Representation des batiments en fonction de leur annee de construction\")\n",
    "fig.tight_layout()\n",
    "#\n",
    "###\n",
    "\n",
    "plt.show()"
   ]
  },
  {
   "cell_type": "markdown",
   "metadata": {},
   "source": [
    "#### Observations :\n",
    "\n",
    "- Le paysage urbain de Seattle date, majoritairement (q1 --> q3) de 1939 - 1990 (moyenne en 1965)\n",
    "- On remarque une logique économique : pic de construction dans les années 20 (Roaring 20s) suivi par un creux dans les années 30 (Grande Dépression), une grande reprise durant le \"_Golden Age of Capitalism_\" au début de la guerre froide, et une baisse dans les années 70 (les deux crises pétrolières). Remarque non pertinente à la modélisation mais visualisation intéressante.\n",
    "- De nombreux projets date de du début du millénaire, la décennie 2010+ n'est pas étudiable : les données s'arrêtent en 2015"
   ]
  },
  {
   "cell_type": "markdown",
   "metadata": {},
   "source": [
    "### 1.b : Visualisation des statistiques principales de la variable : Energie par metre carré"
   ]
  },
  {
   "cell_type": "code",
   "execution_count": null,
   "metadata": {},
   "outputs": [],
   "source": [
    "fig, (ax1) = plt.subplots(\n",
    "    ncols=1,\n",
    "    nrows=1,\n",
    "    figsize=(22, 12),\n",
    "    dpi=pc_dpi,\n",
    "    )\n",
    "\n",
    "source_eui_data = list(df_seattle[\"SourceEUI(kWh/m2)\"].values.astype(float))\n",
    "\n",
    "ax1 = sns.boxplot(data=source_eui_data, width=0.6, ax=ax1, color=\"navy\", orient=\"h\")\n",
    "\n",
    "\n",
    "###\n",
    "# Titles/Lables\n",
    "ax1.set_xlabel(\"Consommation d'energie (kWh/m2)\")\n",
    "fig.suptitle(\"Visualisation de la repartition de l'EUI parmi les données (energy use intensity)\")\n",
    "#\n",
    "###\n",
    "\n",
    "plt.show()\n",
    "\n",
    "print(df_seattle[\"SourceEUI(kWh/m2)\"].astype(float).describe())\n"
   ]
  },
  {
   "cell_type": "markdown",
   "metadata": {},
   "source": [
    "#### Analyse :\n",
    "\n",
    "- 1 : Les outliers sont extrêmement nombreux, uniquement dans les utilisations \"hautes\"\n",
    "- 2 : La majorité des bâtiments ont une EUI entre 215 et 494 kWh/m2, 369 en moyenne.\n",
    "- 3 : L'élimination de bâtiments via la méthode interquartile peut être viable, la réduction de dimension via ACP peut également être une piste\n"
   ]
  },
  {
   "cell_type": "markdown",
   "metadata": {},
   "source": [
    "### 1.c : Paire 1 : Date de construction et EUI | GES/m2"
   ]
  },
  {
   "cell_type": "code",
   "execution_count": null,
   "metadata": {},
   "outputs": [],
   "source": [
    "df_seattle.columns"
   ]
  },
  {
   "cell_type": "code",
   "execution_count": null,
   "metadata": {},
   "outputs": [],
   "source": [
    "fig, (ax1) = plt.subplots(\n",
    "    ncols=1,\n",
    "    nrows=1,\n",
    "    figsize=(22, 12),\n",
    "    dpi=pc_dpi,\n",
    ")\n",
    "\n",
    "ax1 = sns.barplot(\n",
    "    x=df_seattle[\"YearBuilt\"].astype(int).values,\n",
    "    y=df_seattle[\"SourceEUI(kWh/m2)\"].values.astype(float),\n",
    "    ci=5\n",
    ")\n",
    "\n",
    "###\n",
    "# Titles/Lables\n",
    "ax1.set_xticklabels([])\n",
    "ax1.set_ylabel(\"SourceEUI(kWh/m2)\")\n",
    "ax1.set_xlabel(\"Année de construction (1900 - 2015)\")\n",
    "fig.suptitle(\"Visualisation de 'energy use intensity' moyenne en fonction de l'année de construction des batiments\")\n",
    "\n",
    "#\n",
    "###\n",
    "fig.tight_layout()\n",
    "plt.show()\n"
   ]
  },
  {
   "cell_type": "code",
   "execution_count": null,
   "metadata": {},
   "outputs": [],
   "source": [
    "fig, (ax1) = plt.subplots(\n",
    "    ncols=1,\n",
    "    nrows=1,\n",
    "    figsize=(22, 12),\n",
    "    dpi=pc_dpi,\n",
    ")\n",
    "\n",
    "ax1 = sns.barplot(\n",
    "    x=df_seattle[\"YearBuilt\"].astype(int).values,\n",
    "    y=df_seattle[\"GHGEmissionsIntensity(kgCO2e/ft2)\"].values.astype(float),\n",
    "    ci=5\n",
    ")\n",
    "\n",
    "###\n",
    "# Titles/Lables\n",
    "ax1.set_xticklabels([])\n",
    "ax1.set_ylabel(\"GHGEmissionsIntensity(kgCO2e/ft2)\")\n",
    "ax1.set_xlabel(\"Année de construction (1900 - 2015)\")\n",
    "fig.suptitle(\"Visualisation de l'emission de GES moyen des batiments\\\n",
    " en fonction de l'année de construction des batiments\")\n",
    "#\n",
    "###\n",
    "fig.tight_layout()\n",
    "plt.show()\n"
   ]
  },
  {
   "cell_type": "markdown",
   "metadata": {},
   "source": [
    "#### Observation : \n",
    "- L'age des bâtiments ne semble pas avoir d'impact sur leur intensité d'utilisation énergétique. On peut émettre l'hypothèse que les bâtiments les plus anciens ont été modernisés/rénovés pour avoir une consommation énergétique plus responsable.\n",
    "- Les bâtiments les plus modernes semblent rejeter légèrement moins de GàES que les bâtiments plus anciens (nouveaux matériaux de construction ?)"
   ]
  },
  {
   "cell_type": "markdown",
   "metadata": {},
   "source": [
    "## 2. Etude de la note Energy Star"
   ]
  },
  {
   "cell_type": "markdown",
   "metadata": {},
   "source": [
    "### 2.a : Repartition de la note Energy Star au sein des données\n"
   ]
  },
  {
   "cell_type": "code",
   "execution_count": null,
   "metadata": {},
   "outputs": [],
   "source": [
    "fig, (ax1, ax2) = plt.subplots(\n",
    "    ncols=2,\n",
    "    nrows=1,\n",
    "    figsize=(22, 12),\n",
    "    gridspec_kw={\"width_ratios\": [1, 4]},\n",
    "    dpi=pc_dpi,\n",
    ")\n",
    "\n",
    "rated = df_seattle[df_seattle[\"ENERGYSTARScore\"].notna()]\n",
    "scores = list(rated[\"ENERGYSTARScore\"].astype(int).values)\n",
    "score_range = range(0, 101, 1)\n",
    "scores_dict = dict.fromkeys(score_range)\n",
    "\n",
    "for score in scores_dict.keys():\n",
    "    scores_dict[score] = scores.count(score)\n",
    "\n",
    "ax1.boxplot(scores, showmeans=True, widths=0.25)\n",
    "\n",
    "ax2.bar(\n",
    "    x=list(scores_dict.keys()),\n",
    "    height=list(scores_dict.values()),\n",
    "    color=used_cmap.colors,\n",
    "    width=1\n",
    "    )\n",
    "\n",
    "####\n",
    "## Titles/Lables\n",
    "ax1.set_ylabel(\"Nombre de batiments\")\n",
    "ax1.set_xlabel(\"Note Energy Star (0-100)\")\n",
    "fig.suptitle(\"Répartition de la note Energy Star au sein du dataset (2016)\")\n",
    "##\n",
    "####\n",
    "\n",
    "fig.tight_layout()\n",
    "\n",
    "plt.show()\n",
    "\n",
    "rated[\"ENERGYSTARScore\"].describe()\n"
   ]
  },
  {
   "cell_type": "markdown",
   "metadata": {},
   "source": [
    "#### Observations :\n",
    "- Les notes sont globalement hautes (Q1=53--Q3=89) - Les bâtiments ont le droit d'afficher le label \"Energy Star Certified\" si leur note est supérieure ou égale à 75 -> Mediane (sources), motivation pour chercher a atteindre ce score.\n",
    "- Variance haute (26)."
   ]
  },
  {
   "cell_type": "markdown",
   "metadata": {},
   "source": [
    "### 2.b : Paire 2 : Note Energy Star en fonction de l'energie par metre carré."
   ]
  },
  {
   "cell_type": "code",
   "execution_count": null,
   "metadata": {},
   "outputs": [],
   "source": [
    "fig, (ax1) = plt.subplots(\n",
    "    ncols=1,\n",
    "    nrows=1,\n",
    "    figsize=(22, 10),\n",
    "    dpi=pc_dpi,\n",
    ")\n",
    "\n",
    "ax1 = sns.barplot(\n",
    "    x=rated[\"ENERGYSTARScore\"].values.astype(int),\n",
    "    y=rated[\"SourceEUI(kWh/m2)\"].values.astype(float),\n",
    "    ci=10\n",
    ")\n",
    "\n",
    "x_line = np.arange(0, 101, 5)\n",
    "\n",
    "y_line = []\n",
    "\n",
    "for x in x_line:\n",
    "    ratings_x = rated[rated[\"ENERGYSTARScore\"] == x]\n",
    "    mean_x = ratings_x[\"SourceEUI(kWh/m2)\"].mean(numeric_only=None)\n",
    "    if pd.isna(mean_x):\n",
    "        mean_x = rated[\"ENERGYSTARScore\"].quantile(0.25).mean()\n",
    "    y_line.append(mean_x)\n",
    "\n",
    "ax1.plot(x_line, y_line)\n",
    "\n",
    "###\n",
    "# Titles/Lables\n",
    "ax1.set_xticks(np.arange(-1, 101, 5))\n",
    "ax1.set_ylabel(\"SourceEUI(kWh/m2)\")\n",
    "ax1.set_xlabel(\"Energy Star Score (0-100)\")\n",
    "fig.suptitle(\"Visualisation de 'l'energy use intensity' en fonction de la note E* des batiments\")\n",
    "#\n",
    "###\n",
    "\n",
    "fig.tight_layout()\n",
    "plt.show()\n"
   ]
  },
  {
   "cell_type": "markdown",
   "metadata": {},
   "source": [
    "#### Observation \n",
    "- On peut observer ici un lien clair entre le Score Energy Star (E*) et l'intensité d'utilisation énergétique (EUI). Le lien est logique dans ce cas : [le site internet](https://www.energystar.gov/buildings/) explique que, entre autres, l'utilisation d'énergie est un facteur.\n",
    "- Le site internet d'E* fourni également une motivation pour l'obtention de cette note : un bâtiment est \"Energy Star Certified\" lorsque sa note est supérieure ou égale à 75 (ce qui peut expliquer le pic autour de cette note : les développeurs immobiliers peuvent avoir intérêt à obtenir cette certification)"
   ]
  },
  {
   "cell_type": "markdown",
   "metadata": {},
   "source": [
    "### 2.c : Paire 3 : Note Energy Star en fonction de l'intensité d'émissions de GàES."
   ]
  },
  {
   "cell_type": "code",
   "execution_count": null,
   "metadata": {},
   "outputs": [],
   "source": [
    "rated.columns"
   ]
  },
  {
   "cell_type": "code",
   "execution_count": null,
   "metadata": {},
   "outputs": [],
   "source": [
    "fig, (ax1) = plt.subplots(\n",
    "    ncols=1,\n",
    "    nrows=1,\n",
    "    figsize=(22, 10),\n",
    "    dpi=pc_dpi,\n",
    ")\n",
    "\n",
    "ax1 = sns.barplot(\n",
    "    x=rated[\"ENERGYSTARScore\"].values.astype(int),\n",
    "    y=rated[\"GHGEmissionsIntensity(kgCO2e/ft2)\"].values.astype(float),\n",
    "    ci=10\n",
    ")\n",
    "\n",
    "###\n",
    "# Titles/Lables\n",
    "ax1.set_xticks(np.arange(-1, 101, 5))\n",
    "ax1.set_ylabel(\"GHGEmissionsIntensity(kgCO2e/ft2)\")\n",
    "ax1.set_xlabel(\"Energy Star Score (0-100)\")\n",
    "fig.suptitle(\"Visualisation de L'intensité d'emission de GES en fonction de la note E* des batiments\")\n",
    "#\n",
    "###\n",
    "\n",
    "fig.tight_layout()\n",
    "plt.show()\n"
   ]
  },
  {
   "cell_type": "markdown",
   "metadata": {},
   "source": [
    "#### Observations :\n",
    "- Les bâtiments les mieux notés ont une faible intensité d'émission de GàES, même si cela ne semble pas être systématique (note: 31 -> 56)\n",
    "- Cela ne semble pas être le seul facteur mais peu tout de même distinguer une tendance"
   ]
  },
  {
   "cell_type": "markdown",
   "metadata": {},
   "source": [
    "### 2.c Paire 4 : Rapport entre E* et année de construction :\n"
   ]
  },
  {
   "cell_type": "code",
   "execution_count": null,
   "metadata": {},
   "outputs": [],
   "source": [
    "fig, (ax1) = plt.subplots(\n",
    "    ncols=1,\n",
    "    nrows=1,\n",
    "    figsize=(22, 12),\n",
    "    dpi=pc_dpi,\n",
    ")\n",
    "\n",
    "years_list = list(df_seattle[df_seattle[\"YearBuilt\"].notna()][\"YearBuilt\"].values)\n",
    "year_keys = []\n",
    "for year in years_list:\n",
    "    if year not in year_keys:\n",
    "        year_keys.append(year)\n",
    "\n",
    "year_keys.sort()\n",
    "\n",
    "year_dict = dict.fromkeys(year_keys)\n",
    "\n",
    "for key in year_dict.keys():\n",
    "    temp = df_seattle[(df_seattle[\"YearBuilt\"] == key) & (df_seattle[\"ENERGYSTARScore\"].notna())]\n",
    "    scores = [int(i) for i in temp[\"ENERGYSTARScore\"]]\n",
    "    try:\n",
    "        mean = sum(scores) / len(scores)\n",
    "        year_dict[key] = mean\n",
    "    except ZeroDivisionError:\n",
    "        year_dict[key] = 0\n",
    "\n",
    "ax1.bar(\n",
    "    x=list(year_dict.keys()),\n",
    "    height=list(year_dict.values()),\n",
    "    color=used_cmap.colors,\n",
    "    width=1,\n",
    "    )\n",
    "\n",
    "###\n",
    "# Titles/Lables\n",
    "ax1.set_yticks(np.arange(0, 100, 5))\n",
    "ax1.set_ylabel(\"Note Energie Star Moyenne\")\n",
    "ax1.set_xlabel(\"Année de construction (1900, 2015)\")\n",
    "fig.suptitle(\"Représentation de la moyenne E* des batiments en fonction de leur année de construction\")\n",
    "#\n",
    "###\n",
    "\n",
    "fig.tight_layout()\n",
    "plt.show()\n"
   ]
  },
  {
   "cell_type": "markdown",
   "metadata": {},
   "source": [
    "#### Observation :\n",
    "- L'année de construction ne semble pas de lien clair avec la note E* - Cela peut venir, comme écrit plus haut, de travaux de modernisation par exemple."
   ]
  },
  {
   "cell_type": "markdown",
   "metadata": {},
   "source": [
    "## 3 : Représentation Property Type/Utilisation Énergie\n",
    "\n",
    "<i>On cherche à savoir s'il existe des corrélations entre les principaux types de bâtiments et leur note E*| émissions de GàES | Intensité d utilisation énergétique</i>"
   ]
  },
  {
   "cell_type": "markdown",
   "metadata": {},
   "source": [
    "### 3.a Visualisation des categories principales"
   ]
  },
  {
   "cell_type": "code",
   "execution_count": null,
   "metadata": {},
   "outputs": [],
   "source": [
    "uniques = df_seattle[\"PrimaryPropertyType\"].unique()\n",
    "unique_ptype_dict = dict.fromkeys(uniques)\n",
    "for unique in unique_ptype_dict.keys():\n",
    "    unique_ptype_dict[unique] = len(df_seattle[df_seattle[\"PrimaryPropertyType\"] == unique])\n",
    "\n",
    "unique_ptype_dict\n"
   ]
  },
  {
   "cell_type": "markdown",
   "metadata": {},
   "source": [
    "#### Observations :\n",
    "- SPS -> Seattle Public School\n",
    "- K12 -> Shool -> from kindergarten to 12th grade\n",
    "- Typos, doubles espaces etc.\n",
    "- Pré groupement via généralisation\n",
    "- La généralisation permettra de créer des catégories plus inclusives tout en gardant les propriétés principales des bâtiments\n",
    "- Nécessité de clarification : Bâtiments types cités universitaires & campus comptent comme résidentiels ?"
   ]
  },
  {
   "cell_type": "code",
   "execution_count": null,
   "metadata": {},
   "outputs": [],
   "source": [
    "correction_dict = {\n",
    "    \"Self-Storage Facility\\n\": \"Self-Storage Facility\",  # Possibly warehouse\n",
    "    \"Small- and Mid-Sized Office\": \"Small & Mid-Sized Office\",\n",
    "    \"Restaurant\\n\": \"Restaurant\",\n",
    "    \"Distribution Center\\n\": \"Supermarket & Grocery store\",\n",
    "    \"Distribution Center\": \"Supermarket & Grocery store\",\n",
    "    \"Supermarket/Grocery Store\": \"Supermarket & Grocery store\",\n",
    "    \"Supermarket / Grocery Store\": \"Supermarket & Grocery store\",\n",
    "    \"SPS-District K-12\": \"K-12 School\",\n",
    "    \"Senior Care Community\": \"Small & Medium medical facility\",  # Unsure\n",
    "    \"Laboratory\": \"Small & Medium medical facility\",  # Unsure\n",
    "    \"Medical Office\": \"Small & Medium medical facility\",  # Unsure\n",
    "    \"Small- and Mid-Sized Office\": \"Small & Mid-Sized Office\",\n",
    "    \"Non-Refrigerated Warehouse\": \"Warehouse\",\n",
    "    \"Residence Hall/Dormitory\": \"Residence Hall\",\n",
    "    \"University\": \"College/University\",\n",
    "    \"Retail Store\": \"Supermarket & Grocery store\",\n",
    "    \"Self-Storage Facility\": \"Warehouse\",  # Unsure\n",
    "}\n",
    "\n",
    "for key in correction_dict.keys():\n",
    "    df_seattle[\"PrimaryPropertyType\"].replace(to_replace=key, value=correction_dict[key], inplace=True)\n",
    "\n",
    "print(df_seattle[\"PrimaryPropertyType\"].value_counts())\n",
    "\n"
   ]
  },
  {
   "cell_type": "code",
   "execution_count": null,
   "metadata": {},
   "outputs": [],
   "source": [
    "select_six = [\n",
    "    \"Small & Mid-Sized Office\", \"Large Office\", \"Warehouse\", \"Supermarket & Grocery store\",\n",
    "    \"K-12 School\", \"Small & Medium medical facility\",\n",
    "]\n",
    "\n",
    "# EUI , color code property type, sample based on smallest group size\n",
    "\n",
    "fig, (ax1) = plt.subplots(\n",
    "    ncols=1,\n",
    "    nrows=1,\n",
    "    figsize=(22, 16),\n",
    "    dpi=pc_dpi,\n",
    ")\n",
    "\n",
    "data_ptype = df_seattle[df_seattle[\"PrimaryPropertyType\"].isin(select_six)]\n",
    "\n",
    "ax1 = sns.boxplot(\n",
    "    x=data_ptype[\"PrimaryPropertyType\"],\n",
    "    y=data_ptype[\"SourceEUI(kWh/m2)\"],\n",
    "    data=data_ptype\n",
    ")\n",
    "\n",
    "###\n",
    "# Titles/Lables\n",
    "ax1.set_xticklabels(\n",
    "    labels=select_six,\n",
    "    rotation=45\n",
    "    )\n",
    "fig.suptitle(\"Efficacité d'utilisation energetique en fonction de l'utilisation principale des principaux groupes de batiments\")\n",
    "\n",
    "#\n",
    "###\n",
    "\n",
    "plt.tight_layout()\n",
    "plt.show()\n"
   ]
  },
  {
   "cell_type": "code",
   "execution_count": null,
   "metadata": {},
   "outputs": [],
   "source": [
    "# GES, color code property type, sample based on smallest group size\n",
    "\n",
    "fig, (ax1) = plt.subplots(\n",
    "    ncols=1,\n",
    "    nrows=1,\n",
    "    figsize=(22, 16),\n",
    "    dpi=pc_dpi,\n",
    ")\n",
    "\n",
    "data_ptype = df_seattle[df_seattle[\"PrimaryPropertyType\"].isin(select_six)]\n",
    "\n",
    "ax1 = sns.boxplot(\n",
    "    x=data_ptype[\"PrimaryPropertyType\"],\n",
    "    y=data_ptype[\"GHGEmissionsIntensity(kgCO2e/ft2)\"],\n",
    "    data=data_ptype\n",
    ")\n",
    "\n",
    "###\n",
    "# Titles/Lables\n",
    "ax1.set_xticklabels(\n",
    "    labels=select_six,\n",
    "    rotation=45\n",
    "    )\n",
    "ax1.set_ylim(0, 5)  # few extremes above\n",
    "fig.suptitle(\"Intensité d'emissions de GES en fonction de l'utilisation principale des principaux groupes de batiments\")\n",
    "#\n",
    "###\n",
    "\n",
    "plt.tight_layout()\n",
    "plt.show()\n"
   ]
  },
  {
   "cell_type": "markdown",
   "metadata": {},
   "source": [
    "#### Observations :\n",
    "- On voit que dans les deux cas, la statistique étudiée semble avoir une grande importance sur la répartition de la statistique en question, en particulier : les bâtiments ayant le même type (ici Office) mais pas la même taille (Small+mid_sized / Large)\n",
    "- Il est possible de réaliser deux ANOVAs pour vérifier ces hypothèses :"
   ]
  },
  {
   "cell_type": "markdown",
   "metadata": {},
   "source": [
    "### ANOVAs :\n",
    "- On définit alpha sur 0.05 | 5%\n",
    "- On formule les hypothèses nulles suivantes : \n",
    "  - Les différences observées entre les bâtiments étudiés ne sont pas dus à leurs types respectifs (a : pour ce qui est de l'utilisation énergétique, b : pour ce qui est de leurs émissions de GàES)\n",
    "- Les criteres de l'ANOVA sont : \n",
    "  - 1. La normalité des résidus (test de Shapiro-Wilks sur les résidus)\n",
    "  - 2. Indépendance des échantillons (ce qui est, ici, le cas)\n",
    "  - 3. Une variance homogène entre les échantillons (on utilisera le test de Bartlett)\n",
    "- On cherche a invalider les deux hypothèses nulles (H0a et H0b)"
   ]
  },
  {
   "cell_type": "code",
   "execution_count": null,
   "metadata": {},
   "outputs": [],
   "source": [
    "alpha = 0.05\n",
    "α = 0.05  # Double definition for unicode possible errors\n",
    "\n",
    "anova_dict = dict.fromkeys(select_six)\n",
    "\n",
    "# Dict w/ key value pair -> key = type, value = tuple, tuple[0] = SourceEUI(kWh/m2), tuple[1] = GHGEmissionsIntensity(kgCO2e/ft2)\n",
    "\n",
    "for key in anova_dict.keys():\n",
    "    anova_dict[key] = (\n",
    "        data_ptype[data_ptype[\"PrimaryPropertyType\"] == key][\"SourceEUI(kWh/m2)\"].values,\n",
    "        data_ptype[data_ptype[\"PrimaryPropertyType\"] == key][\"GHGEmissionsIntensity(kgCO2e/ft2)\"].values\n",
    "    )\n",
    "\n",
    "print(anova_dict.keys())\n"
   ]
  },
  {
   "cell_type": "markdown",
   "metadata": {},
   "source": [
    "### Tests equal var 1 & 2"
   ]
  },
  {
   "cell_type": "code",
   "execution_count": null,
   "metadata": {},
   "outputs": [],
   "source": [
    "bartlett_eui = stats.bartlett(\n",
    "    anova_dict[\"Small & Mid-Sized Office\"][0],\n",
    "    anova_dict[\"Large Office\"][0],\n",
    "    anova_dict[\"Warehouse\"][0],\n",
    "    anova_dict[\"Supermarket & Grocery store\"][0],\n",
    "    anova_dict[\"K-12 School\"][0],\n",
    "    anova_dict[\"Small & Medium medical facility\"][0]\n",
    ")\n",
    "\n",
    "print(bartlett_eui)\n",
    "print(bartlett_eui.pvalue > α)\n"
   ]
  },
  {
   "cell_type": "code",
   "execution_count": null,
   "metadata": {},
   "outputs": [],
   "source": [
    "bartlett_ghg = stats.bartlett(\n",
    "    anova_dict[\"Small & Mid-Sized Office\"][1],\n",
    "    anova_dict[\"Large Office\"][1],\n",
    "    anova_dict[\"Warehouse\"][1],\n",
    "    anova_dict[\"Supermarket & Grocery store\"][1],\n",
    "    anova_dict[\"K-12 School\"][1],\n",
    "    anova_dict[\"Small & Medium medical facility\"][1]\n",
    ")\n",
    "\n",
    "print(bartlett_ghg)\n",
    "print(bartlett_ghg.pvalue > α)\n"
   ]
  },
  {
   "cell_type": "markdown",
   "metadata": {},
   "source": [
    "#### On ne peut pas proceder a une ANOVA dans les deux cas\n",
    "- Les contraintes de l'ANOVA ne sont pas respectées\n",
    "\n",
    "Le test de Kruskal-Wallis peut être utilisé par exemple, mais dans ce cas la, on voit clairement que la variable \"PrimaryPropertyType\" a une influence sur l EUI et intensité d'émission de GàES. Cette variable est par conséquent pertinente pour la création d'un modèle déterminant ces deux facteurs. Cela pourrait faire l'objet d'une future étude approfondie."
   ]
  },
  {
   "cell_type": "code",
   "execution_count": null,
   "metadata": {},
   "outputs": [],
   "source": [
    "df_seattle\n"
   ]
  },
  {
   "cell_type": "code",
   "execution_count": null,
   "metadata": {},
   "outputs": [],
   "source": [
    "fig, (ax1) = plt.subplots(\n",
    "    ncols=1,\n",
    "    nrows=1,\n",
    "    figsize=(22, 12),\n",
    "    dpi=pc_dpi,\n",
    ")\n",
    "\n",
    "ax1 = sns.barplot(\n",
    "    x=\"ENERGYSTARScore\",\n",
    "    y=\"PropertyArea(SquareMetre)Total\",\n",
    "    data=df_seattle,\n",
    "    ci=10\n",
    ")\n",
    "\n",
    "\n",
    "###\n",
    "# Titles/Lables\n",
    "ax1.set_xticks(np.arange(-1, 100, 5))\n",
    "ax1.set_xlabel(\"Note Energie Star Moyenne\")\n",
    "ax1.set_ylabel(\"Taille moyenne des batiments par note E* (m2)\")\n",
    "fig.suptitle(\"Représentation de la moyenne E* des batiments en fonction de leur taille\")\n",
    "#\n",
    "#\n",
    "###\n",
    "\n",
    "fig.tight_layout()\n",
    "plt.show()\n"
   ]
  },
  {
   "cell_type": "markdown",
   "metadata": {},
   "source": [
    "#### Observations : \n",
    "On ne peut pas établir a visuellement une corrélation claire entre la taille d'un bâtiment et sa note. La répartition ne semble obéir à aucune règle de distribution particulière. L'intérêt est la combinaison Type & Size (même type mais bâtiment plus grand = moins efficace énergétiquement)"
   ]
  },
  {
   "cell_type": "markdown",
   "metadata": {},
   "source": [
    "<hr>\n",
    "\n",
    "## Export pour feature engineering :\n",
    "- Pour éviter la redondance d'information du modèle, on exclura les variables permettant de calculer directement l'intensité d'émission de GàES et d utilisation énergétique\n",
    "- Les valeurs cibles seront : SourceEUI(kWh/m2) & GHGEmissionsIntensity(kgCO2e/ft2)\n",
    "- Élimination des redondances : PrimaryPropertyType & BuildingType & LargestPropertyUseType (Building type est moins divers et sera exclu)\n",
    "- PropertyName n'est pas utile\n",
    "\n",
    "<hr>\n",
    "\n",
    "#### Le feature engineering nous permettra de préparer ce dataset pour modélisation et prédictions"
   ]
  },
  {
   "cell_type": "code",
   "execution_count": null,
   "metadata": {},
   "outputs": [],
   "source": [
    "df_seattle.columns\n"
   ]
  },
  {
   "cell_type": "code",
   "execution_count": null,
   "metadata": {},
   "outputs": [],
   "source": [
    "cols_discard = [\n",
    "        \"BuildingType\", \"PropertyName\", \"LargestPropertyUseType\",  # *1\n",
    "        \"GHGEmissions(MetricTonsCO2e)\", \"SourceEUIWN(kWh/m2)\", \"SiteEnergyUse(kWh)\", \"SiteEnergyUseWN(kWh)\", # *2\n",
    "        ]\n",
    "\n",
    "columns_keep = [col for col in df_seattle.columns if col not in cols_discard]\n",
    "\n",
    "df_export_one = df_seattle[columns_keep].copy()\n",
    "df_raw_data = df_seattle[columns_keep].copy()\n",
    "\n",
    "# *1 : redundancies or useless : BTypes +|- = PrimaryPropertyType, \n",
    "# LargestPropertyUseType overlap w/ PropertyArea(SquareMetre)Total\n",
    "# name = useless\n",
    "\n",
    "# *2 Avoiding data leaks\n",
    "\n",
    "df_raw_data.set_index(\"OSEBuildingID\", inplace=True)\n",
    "\n",
    "df_raw_data.to_csv(\"./data/seattle_raw_data.csv\", sep=\",\")\n"
   ]
  }
 ],
 "metadata": {
  "interpreter": {
   "hash": "1274e91d4c49da8d2c5027ac796fe23c6eef02ed77c0608f3ea1b98e1edcbe8a"
  },
  "kernelspec": {
   "display_name": "Python 3 (ipykernel)",
   "language": "python",
   "name": "python3"
  },
  "language_info": {
   "codemirror_mode": {
    "name": "ipython",
    "version": 3
   },
   "file_extension": ".py",
   "mimetype": "text/x-python",
   "name": "python",
   "nbconvert_exporter": "python",
   "pygments_lexer": "ipython3",
   "version": "3.10.4"
  }
 },
 "nbformat": 4,
 "nbformat_minor": 4
}

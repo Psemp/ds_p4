{
 "cells": [
  {
   "cell_type": "code",
   "execution_count": null,
   "metadata": {},
   "outputs": [],
   "source": [
    "import pandas as pd\n",
    "import numpy as np\n",
    "\n",
    "from scripts.convert import find_unit\n"
   ]
  },
  {
   "cell_type": "code",
   "execution_count": null,
   "metadata": {},
   "outputs": [],
   "source": [
    "tdict = {\n",
    "    \"one\": [1, 2, 3],\n",
    "    \"two\": [4, 5, 6],\n",
    "    \"three\": [7, 8, 9]\n",
    "}\n",
    "\n",
    "tdf = pd.DataFrame(data=tdict)\n"
   ]
  },
  {
   "cell_type": "code",
   "execution_count": null,
   "metadata": {},
   "outputs": [],
   "source": [
    "tdf"
   ]
  },
  {
   "cell_type": "code",
   "execution_count": null,
   "metadata": {},
   "outputs": [],
   "source": [
    "tdf.drop(columns=[\"one\", \"four\"], errors=\"ignore\")\n"
   ]
  },
  {
   "cell_type": "code",
   "execution_count": null,
   "metadata": {},
   "outputs": [],
   "source": [
    "def rename_unit(var_name: str, unit: str):\n",
    "    \"\"\"\n",
    "    - Specific to Seattle buildings dataset : Two types of var synthax :\n",
    "        - abcUNITdef : Unit inside the name\n",
    "        - abcd(UNIT) : Unit in parentheses\n",
    "    - Reformat the variable, returning result\n",
    "\n",
    "    Args:\n",
    "    - var_name : original variable name\n",
    "    - unit : the converted name\n",
    "\n",
    "    Returns:\n",
    "    - New column name\n",
    "    \"\"\"\n",
    "\n",
    "    if \"GFA\" in var_name:\n",
    "        var_name.replace(\"GFA\", \"Area(SquareMetre)\")\n",
    "        return var_name\n",
    "    elif (\"(\"and \")\") in var_name:\n",
    "        start, end = var_name.find(\"(\"), var_name.find(\")\")\n",
    "        before = var_name[:start + 1]\n",
    "        after = var_name[end:]\n",
    "        var_name = f\"{before}{unit}{after}\"\n",
    "        return var_name\n"
   ]
  },
  {
   "cell_type": "code",
   "execution_count": null,
   "metadata": {},
   "outputs": [],
   "source": [
    "test_list = [\n",
    "    \"PropertyGFATotal\", \"PropertyGFAParking\", \"PropertyGFABuilding(s)\", \"LargestPropertyUseTypeGFA\",\n",
    "    \"SecondLargestPropertyUseTypeGFA\", \"ThirdLargestPropertyUseTypeGFA\", \"SiteEUI(kBtu/sf)\", \"SiteEUIWN(kBtu/sf)\",\n",
    "    \"SourceEUI(kBtu/sf)\", \"SourceEUIWN(kBtu/sf)\", \"SiteEnergyUse(kBtu)\", \"SiteEnergyUseWN(kBtu)\", \"SteamUse(kBtu)\",\n",
    "    \"Electricity(kBtu)\", \"NaturalGas(therms)\", \"NaturalGas(kBtu)\", \"OtherFuelUse(kBtu)\",\n",
    "    ]\n"
   ]
  },
  {
   "cell_type": "code",
   "execution_count": null,
   "metadata": {},
   "outputs": [],
   "source": [
    "print(rename_unit(var_name=[test_list[-1]], unit=\"kWh\"))\n",
    "print(rename_unit(var_name=[test_list[0]], unit=\"SquareMetre\"))"
   ]
  },
  {
   "cell_type": "code",
   "execution_count": null,
   "metadata": {},
   "outputs": [],
   "source": [
    "work_idiot = \"abcde\"\n",
    "tdf.assign(work_idiot=np.nan)"
   ]
  },
  {
   "cell_type": "code",
   "execution_count": null,
   "metadata": {},
   "outputs": [],
   "source": [
    "tdf"
   ]
  },
  {
   "cell_type": "code",
   "execution_count": null,
   "metadata": {},
   "outputs": [],
   "source": [
    "for col in test_list:\n",
    "    unit = find_unit(var_name=col, convert=True)[\"converted_unit\"]\n",
    "\n",
    "    if \"GFA\" in col:\n",
    "        new_name = col.replace(\"GFA\", \"Area(SquareMetre)\")\n",
    "    elif (\"(\"and \")\") in col:\n",
    "        start, end = col.find(\"(\"), col.find(\")\")\n",
    "        before = col[:start + 1]\n",
    "        after = col[end:]\n",
    "        new_name = f\"{before}{unit}{after}\"\n",
    "    \n",
    "    print(new_name)\n"
   ]
  },
  {
   "cell_type": "code",
   "execution_count": null,
   "metadata": {},
   "outputs": [],
   "source": [
    "test_list"
   ]
  },
  {
   "cell_type": "code",
   "execution_count": null,
   "metadata": {},
   "outputs": [],
   "source": [
    "if __name__ == \"__main__\":\n",
    "    print(\"main\")\n",
    "else:\n",
    "    print(__name__)"
   ]
  },
  {
   "cell_type": "code",
   "execution_count": null,
   "metadata": {},
   "outputs": [],
   "source": [
    "twenty_fifteen_bm = \"data/2015-building-energy-benchmarking.csv\"\n",
    "\n",
    "df = pd.read_csv(twenty_fifteen_bm)"
   ]
  },
  {
   "cell_type": "code",
   "execution_count": null,
   "metadata": {},
   "outputs": [],
   "source": [
    "df[\"Outlier\"].unique()"
   ]
  },
  {
   "cell_type": "code",
   "execution_count": null,
   "metadata": {},
   "outputs": [],
   "source": [
    "df[\"Outlier\"].isna().sum()\n"
   ]
  },
  {
   "cell_type": "code",
   "execution_count": null,
   "metadata": {},
   "outputs": [],
   "source": [
    "df.__len__()"
   ]
  },
  {
   "cell_type": "code",
   "execution_count": null,
   "metadata": {},
   "outputs": [],
   "source": [
    "df.at[50, \"OSEBuildingID\"] +=1\n",
    "df.loc[50][\"OSEBuildingID\"]"
   ]
  },
  {
   "cell_type": "code",
   "execution_count": null,
   "metadata": {},
   "outputs": [],
   "source": []
  }
 ],
 "metadata": {
  "interpreter": {
   "hash": "1274e91d4c49da8d2c5027ac796fe23c6eef02ed77c0608f3ea1b98e1edcbe8a"
  },
  "kernelspec": {
   "display_name": "Python 3.10.4 ('env': venv)",
   "language": "python",
   "name": "python3"
  },
  "language_info": {
   "codemirror_mode": {
    "name": "ipython",
    "version": 3
   },
   "file_extension": ".py",
   "mimetype": "text/x-python",
   "name": "python",
   "nbconvert_exporter": "python",
   "pygments_lexer": "ipython3",
   "version": "3.10.4"
  },
  "orig_nbformat": 4
 },
 "nbformat": 4,
 "nbformat_minor": 2
}

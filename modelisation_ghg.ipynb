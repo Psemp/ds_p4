{
 "cells": [
  {
   "cell_type": "code",
   "execution_count": null,
   "metadata": {},
   "outputs": [],
   "source": [
    "import pandas as pd\n",
    "import seaborn as sns\n",
    "import numpy as np\n",
    "import os\n",
    "\n",
    "from matplotlib import pyplot as plt\n",
    "from dotenv import load_dotenv\n",
    "from sklearn import preprocessing, model_selection, linear_model, metrics\n",
    "\n",
    "load_dotenv()\n",
    "sns.color_palette('colorblind')\n",
    "plt.style.use('Solarize_Light2')\n",
    "\n",
    "# Setting default DPI, pulling it from dotenv if it exists, setting it on 100 if not\n",
    "\n",
    "try:\n",
    "    pc_dpi = int(os.getenv('DI'))\n",
    "\n",
    "except TypeError:\n",
    "    pc_dpi = 100\n",
    "\n",
    "if pc_dpi is None:\n",
    "    pc_dpi = 100\n",
    "\n",
    "if pc_dpi >= 155:\n",
    "    pc_dpi = 155\n"
   ]
  },
  {
   "cell_type": "code",
   "execution_count": null,
   "metadata": {},
   "outputs": [],
   "source": [
    "file_ghg_eui = \"./data/seattle_predict_ghg_eui.csv\"\n"
   ]
  },
  {
   "cell_type": "code",
   "execution_count": null,
   "metadata": {},
   "outputs": [],
   "source": [
    "df_model = pd.read_csv(file_ghg_eui).astype(float)\n",
    "\n",
    "df_model.columns\n"
   ]
  },
  {
   "cell_type": "code",
   "execution_count": null,
   "metadata": {},
   "outputs": [],
   "source": [
    "df_model.head(n=5)"
   ]
  },
  {
   "cell_type": "code",
   "execution_count": null,
   "metadata": {},
   "outputs": [],
   "source": [
    "df_model.set_index(\"OSEBuildingID\", inplace=True)\n"
   ]
  },
  {
   "cell_type": "code",
   "execution_count": null,
   "metadata": {},
   "outputs": [],
   "source": [
    "df_model.dropna(inplace=True)\n"
   ]
  },
  {
   "cell_type": "code",
   "execution_count": null,
   "metadata": {},
   "outputs": [],
   "source": [
    "df_train, df_test = model_selection.train_test_split(df_model, test_size=0.30)\n"
   ]
  },
  {
   "cell_type": "code",
   "execution_count": null,
   "metadata": {},
   "outputs": [],
   "source": [
    "# Target_1 : GHGEmissionsIntensity(kgCO2e/ft2)\n",
    "\n",
    "X_train = df_train.drop(columns=\"scaled_GHGEmissionsIntensity(kgCO2e/ft2)\").to_numpy()\n",
    "X_test = df_test.drop(columns=\"scaled_GHGEmissionsIntensity(kgCO2e/ft2)\").to_numpy()\n",
    "\n",
    "y_train = df_train[[\"scaled_GHGEmissionsIntensity(kgCO2e/ft2)\"]].to_numpy()\n",
    "y_test = df_test[[\"scaled_GHGEmissionsIntensity(kgCO2e/ft2)\"]].to_numpy()\n"
   ]
  },
  {
   "cell_type": "code",
   "execution_count": null,
   "metadata": {},
   "outputs": [],
   "source": [
    "lin_reg = linear_model.LinearRegression()\n",
    "\n",
    "lin_reg.fit(X_train, y_train)\n",
    "\n",
    "y_pred = lin_reg.predict(X=X_test)\n"
   ]
  },
  {
   "cell_type": "code",
   "execution_count": null,
   "metadata": {},
   "outputs": [],
   "source": [
    "fig, (ax1) = plt.subplots(\n",
    "    ncols=1,\n",
    "    nrows=1,\n",
    "    figsize=(8, 6),\n",
    "    dpi=pc_dpi,\n",
    ")\n",
    "\n",
    "ax1.scatter(y_test, y_pred)\n",
    "\n",
    "\n",
    "###\n",
    "# Titles/Lables\n",
    "ax1.set_xlabel(\"True\")\n",
    "ax1.set_ylabel(\"Prediction\")\n",
    "#\n",
    "###\n",
    "\n",
    "plt.show()\n"
   ]
  },
  {
   "cell_type": "code",
   "execution_count": null,
   "metadata": {},
   "outputs": [],
   "source": [
    "rss = metrics.mean_squared_error(y_true=y_test, y_pred=y_pred)\n",
    "\n",
    "rmse = np.sqrt(rss)\n",
    "\n",
    "print(f\"RMSE = {rmse}\")\n",
    "\n",
    "r_two = metrics.r2_score(y_true=y_test, y_pred=y_pred)\n",
    "\n",
    "print(f\"R2 Score = {r_two}\")\n",
    "\n",
    "## Regression par une droite non concluante --> regression polynomiale\n"
   ]
  },
  {
   "cell_type": "code",
   "execution_count": null,
   "metadata": {},
   "outputs": [],
   "source": [
    "df_train.head()"
   ]
  },
  {
   "cell_type": "code",
   "execution_count": null,
   "metadata": {},
   "outputs": [],
   "source": []
  },
  {
   "cell_type": "code",
   "execution_count": null,
   "metadata": {},
   "outputs": [],
   "source": []
  }
 ],
 "metadata": {
  "interpreter": {
   "hash": "1274e91d4c49da8d2c5027ac796fe23c6eef02ed77c0608f3ea1b98e1edcbe8a"
  },
  "kernelspec": {
   "display_name": "Python 3.10.4 ('env': venv)",
   "language": "python",
   "name": "python3"
  },
  "language_info": {
   "codemirror_mode": {
    "name": "ipython",
    "version": 3
   },
   "file_extension": ".py",
   "mimetype": "text/x-python",
   "name": "python",
   "nbconvert_exporter": "python",
   "pygments_lexer": "ipython3",
   "version": "3.10.4"
  },
  "orig_nbformat": 4
 },
 "nbformat": 4,
 "nbformat_minor": 2
}

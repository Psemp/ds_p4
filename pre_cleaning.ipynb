{
 "cells": [
  {
   "cell_type": "code",
   "execution_count": 1,
   "metadata": {},
   "outputs": [],
   "source": [
    "import pandas as pd\n",
    "import seaborn as sns\n",
    "import numpy as np\n",
    "import os\n",
    "\n",
    "from matplotlib import pyplot as plt\n",
    "from dotenv import load_dotenv\n",
    "\n",
    "from scripts.merge import merge_cols, complete_df\n",
    "from scripts.convert import convert_to_holy_metric, find_unit\n",
    "\n",
    "load_dotenv()\n",
    "plt.style.use('Solarize_Light2')\n",
    "\n",
    "# Setting default DPI, pulling it from dotenv if it exists, setting it on 100 if not\n",
    "\n",
    "pc_dpi = os.getenv('DPI')\n",
    "\n",
    "if pc_dpi is None:\n",
    "    pc_dpi = 100\n",
    "if pc_dpi is not None:\n",
    "    pc_dpi = int(pc_dpi)\n"
   ]
  },
  {
   "cell_type": "markdown",
   "metadata": {},
   "source": [
    "# <u>Pre Cleaning : </u>\n",
    "\n",
    "<u>Objectifs :</n>\n",
    "\n",
    "1. Formatter les données\n",
    "2. Identifier et retenir les variables indispensables à l'analyse et la construction de modeles predictifs\n",
    "3. Convertir les données au format metrique/internationnal (base 10)\n",
    "4. Deuxieme passe sur les variables : duplicatas, pertinence, variables contenant beaucoup de valeurs nulles\n",
    "5. Exporter un dataset pret pour une analyse exploratoire"
   ]
  },
  {
   "cell_type": "markdown",
   "metadata": {},
   "source": [
    "## <u> 1. Formattage des données </u>"
   ]
  },
  {
   "cell_type": "code",
   "execution_count": 2,
   "metadata": {},
   "outputs": [],
   "source": [
    "# Files\n",
    "\n",
    "twenty_fifteen_bm = \"data/2015-building-energy-benchmarking.csv\"\n",
    "twenty_sixteen_bm = \"data/2016-building-energy-benchmarking.csv\"\n"
   ]
  },
  {
   "cell_type": "code",
   "execution_count": 3,
   "metadata": {},
   "outputs": [],
   "source": [
    "df_fifteen = pd.read_csv(twenty_fifteen_bm, dtype=\"unicode\", low_memory=False)\n",
    "df_sixteen = pd.read_csv(twenty_sixteen_bm, dtype=\"unicode\", low_memory=False)\n"
   ]
  },
  {
   "cell_type": "code",
   "execution_count": 4,
   "metadata": {
    "tags": []
   },
   "outputs": [
    {
     "name": "stdout",
     "output_type": "stream",
     "text": [
      "<class 'pandas.core.frame.DataFrame'>\n",
      "RangeIndex: 3340 entries, 0 to 3339\n",
      "Data columns (total 47 columns):\n",
      " #   Column                                                         Non-Null Count  Dtype \n",
      "---  ------                                                         --------------  ----- \n",
      " 0   OSEBuildingID                                                  3340 non-null   object\n",
      " 1   DataYear                                                       3340 non-null   object\n",
      " 2   BuildingType                                                   3340 non-null   object\n",
      " 3   PrimaryPropertyType                                            3340 non-null   object\n",
      " 4   PropertyName                                                   3340 non-null   object\n",
      " 5   TaxParcelIdentificationNumber                                  3338 non-null   object\n",
      " 6   Location                                                       3340 non-null   object\n",
      " 7   CouncilDistrictCode                                            3340 non-null   object\n",
      " 8   Neighborhood                                                   3340 non-null   object\n",
      " 9   YearBuilt                                                      3340 non-null   object\n",
      " 10  NumberofBuildings                                              3340 non-null   object\n",
      " 11  NumberofFloors                                                 3332 non-null   object\n",
      " 12  PropertyGFATotal                                               3340 non-null   object\n",
      " 13  PropertyGFAParking                                             3340 non-null   object\n",
      " 14  PropertyGFABuilding(s)                                         3340 non-null   object\n",
      " 15  ListOfAllPropertyUseTypes                                      3213 non-null   object\n",
      " 16  LargestPropertyUseType                                         3204 non-null   object\n",
      " 17  LargestPropertyUseTypeGFA                                      3204 non-null   object\n",
      " 18  SecondLargestPropertyUseType                                   1559 non-null   object\n",
      " 19  SecondLargestPropertyUseTypeGFA                                1559 non-null   object\n",
      " 20  ThirdLargestPropertyUseType                                    560 non-null    object\n",
      " 21  ThirdLargestPropertyUseTypeGFA                                 560 non-null    object\n",
      " 22  YearsENERGYSTARCertified                                       110 non-null    object\n",
      " 23  ENERGYSTARScore                                                2560 non-null   object\n",
      " 24  SiteEUI(kBtu/sf)                                               3330 non-null   object\n",
      " 25  SiteEUIWN(kBtu/sf)                                             3330 non-null   object\n",
      " 26  SourceEUI(kBtu/sf)                                             3330 non-null   object\n",
      " 27  SourceEUIWN(kBtu/sf)                                           3330 non-null   object\n",
      " 28  SiteEnergyUse(kBtu)                                            3330 non-null   object\n",
      " 29  SiteEnergyUseWN(kBtu)                                          3330 non-null   object\n",
      " 30  SteamUse(kBtu)                                                 3330 non-null   object\n",
      " 31  Electricity(kWh)                                               3330 non-null   object\n",
      " 32  Electricity(kBtu)                                              3330 non-null   object\n",
      " 33  NaturalGas(therms)                                             3330 non-null   object\n",
      " 34  NaturalGas(kBtu)                                               3330 non-null   object\n",
      " 35  OtherFuelUse(kBtu)                                             3330 non-null   object\n",
      " 36  GHGEmissions(MetricTonsCO2e)                                   3330 non-null   object\n",
      " 37  GHGEmissionsIntensity(kgCO2e/ft2)                              3330 non-null   object\n",
      " 38  DefaultData                                                    3339 non-null   object\n",
      " 39  Comment                                                        13 non-null     object\n",
      " 40  ComplianceStatus                                               3340 non-null   object\n",
      " 41  Outlier                                                        84 non-null     object\n",
      " 42  2010 Census Tracts                                             224 non-null    object\n",
      " 43  Seattle Police Department Micro Community Policing Plan Areas  3338 non-null   object\n",
      " 44  City Council Districts                                         213 non-null    object\n",
      " 45  SPD Beats                                                      3338 non-null   object\n",
      " 46  Zip Codes                                                      3340 non-null   object\n",
      "dtypes: object(47)\n",
      "memory usage: 1.2+ MB\n",
      "info :  None\n"
     ]
    }
   ],
   "source": [
    "print(\"info : \", df_fifteen.info())"
   ]
  },
  {
   "cell_type": "code",
   "execution_count": 5,
   "metadata": {
    "tags": []
   },
   "outputs": [
    {
     "name": "stdout",
     "output_type": "stream",
     "text": [
      "<class 'pandas.core.frame.DataFrame'>\n",
      "RangeIndex: 3376 entries, 0 to 3375\n",
      "Data columns (total 46 columns):\n",
      " #   Column                           Non-Null Count  Dtype \n",
      "---  ------                           --------------  ----- \n",
      " 0   OSEBuildingID                    3376 non-null   object\n",
      " 1   DataYear                         3376 non-null   object\n",
      " 2   BuildingType                     3376 non-null   object\n",
      " 3   PrimaryPropertyType              3376 non-null   object\n",
      " 4   PropertyName                     3376 non-null   object\n",
      " 5   Address                          3376 non-null   object\n",
      " 6   City                             3376 non-null   object\n",
      " 7   State                            3376 non-null   object\n",
      " 8   ZipCode                          3360 non-null   object\n",
      " 9   TaxParcelIdentificationNumber    3376 non-null   object\n",
      " 10  CouncilDistrictCode              3376 non-null   object\n",
      " 11  Neighborhood                     3376 non-null   object\n",
      " 12  Latitude                         3376 non-null   object\n",
      " 13  Longitude                        3376 non-null   object\n",
      " 14  YearBuilt                        3376 non-null   object\n",
      " 15  NumberofBuildings                3368 non-null   object\n",
      " 16  NumberofFloors                   3376 non-null   object\n",
      " 17  PropertyGFATotal                 3376 non-null   object\n",
      " 18  PropertyGFAParking               3376 non-null   object\n",
      " 19  PropertyGFABuilding(s)           3376 non-null   object\n",
      " 20  ListOfAllPropertyUseTypes        3367 non-null   object\n",
      " 21  LargestPropertyUseType           3356 non-null   object\n",
      " 22  LargestPropertyUseTypeGFA        3356 non-null   object\n",
      " 23  SecondLargestPropertyUseType     1679 non-null   object\n",
      " 24  SecondLargestPropertyUseTypeGFA  1679 non-null   object\n",
      " 25  ThirdLargestPropertyUseType      596 non-null    object\n",
      " 26  ThirdLargestPropertyUseTypeGFA   596 non-null    object\n",
      " 27  YearsENERGYSTARCertified         119 non-null    object\n",
      " 28  ENERGYSTARScore                  2533 non-null   object\n",
      " 29  SiteEUI(kBtu/sf)                 3369 non-null   object\n",
      " 30  SiteEUIWN(kBtu/sf)               3370 non-null   object\n",
      " 31  SourceEUI(kBtu/sf)               3367 non-null   object\n",
      " 32  SourceEUIWN(kBtu/sf)             3367 non-null   object\n",
      " 33  SiteEnergyUse(kBtu)              3371 non-null   object\n",
      " 34  SiteEnergyUseWN(kBtu)            3370 non-null   object\n",
      " 35  SteamUse(kBtu)                   3367 non-null   object\n",
      " 36  Electricity(kWh)                 3367 non-null   object\n",
      " 37  Electricity(kBtu)                3367 non-null   object\n",
      " 38  NaturalGas(therms)               3367 non-null   object\n",
      " 39  NaturalGas(kBtu)                 3367 non-null   object\n",
      " 40  DefaultData                      3376 non-null   object\n",
      " 41  Comments                         0 non-null      object\n",
      " 42  ComplianceStatus                 3376 non-null   object\n",
      " 43  Outlier                          32 non-null     object\n",
      " 44  TotalGHGEmissions                3367 non-null   object\n",
      " 45  GHGEmissionsIntensity            3367 non-null   object\n",
      "dtypes: object(46)\n",
      "memory usage: 1.2+ MB\n",
      "info :  None\n"
     ]
    }
   ],
   "source": [
    "print(\"info : \", df_sixteen.info())\n"
   ]
  },
  {
   "cell_type": "code",
   "execution_count": 6,
   "metadata": {},
   "outputs": [
    {
     "name": "stdout",
     "output_type": "stream",
     "text": [
      "56 batiments ne sont présents que dans le benchmark 2015, et 92 batiments ne sont présents que dans le benchmark 2016 \n"
     ]
    }
   ],
   "source": [
    "id_fifteen_list = list(df_fifteen[\"OSEBuildingID\"])\n",
    "id_sixteen_list = list(df_sixteen[\"OSEBuildingID\"])\n",
    "\n",
    "only_in_fifteen = [ident for ident in id_fifteen_list if ident not in id_sixteen_list]\n",
    "only_in_sixteen = [ident for ident in id_sixteen_list if ident not in id_fifteen_list]\n",
    "\n",
    "print(\n",
    "    f\"\"\"{len(only_in_fifteen)} batiments ne sont présents que dans le benchmark 2015,\\\n",
    " et {len(only_in_sixteen)} batiments ne sont présents que dans le benchmark 2016 \"\"\"\n",
    "  )\n"
   ]
  },
  {
   "cell_type": "code",
   "execution_count": 7,
   "metadata": {},
   "outputs": [
    {
     "name": "stdout",
     "output_type": "stream",
     "text": [
      "Nombre de variables non communes aux deux datasets :  19\n"
     ]
    }
   ],
   "source": [
    "col_onl_fifteen = [col for col in df_fifteen.columns if col not in df_sixteen.columns]\n",
    "\n",
    "col_onl_sixteen = [col for col in df_sixteen.columns if col not in df_fifteen.columns]\n",
    "\n",
    "print(\"Nombre de variables non communes aux deux datasets : \", len(col_onl_fifteen) + len(col_onl_sixteen))\n"
   ]
  },
  {
   "cell_type": "code",
   "execution_count": 8,
   "metadata": {},
   "outputs": [
    {
     "name": "stdout",
     "output_type": "stream",
     "text": [
      "['Address', 'City', 'State', 'ZipCode', 'Latitude', 'Longitude', 'Comments', 'TotalGHGEmissions', 'GHGEmissionsIntensity']\n"
     ]
    }
   ],
   "source": [
    "print(col_onl_sixteen)"
   ]
  },
  {
   "cell_type": "code",
   "execution_count": 9,
   "metadata": {},
   "outputs": [
    {
     "name": "stdout",
     "output_type": "stream",
     "text": [
      "['Location', 'OtherFuelUse(kBtu)', 'GHGEmissions(MetricTonsCO2e)', 'GHGEmissionsIntensity(kgCO2e/ft2)', 'Comment', '2010 Census Tracts', 'Seattle Police Department Micro Community Policing Plan Areas', 'City Council Districts', 'SPD Beats', 'Zip Codes']\n"
     ]
    }
   ],
   "source": [
    "print(col_onl_fifteen)"
   ]
  },
  {
   "cell_type": "code",
   "execution_count": 10,
   "metadata": {},
   "outputs": [
    {
     "data": {
      "text/plain": [
       "'{\\'latitude\\': \\'47.52593209\\', \\'longitude\\': \\'-122.3308402\\', \\'human_address\\': \\'{\"address\": \"309 S CLOVERDALE ST\", \"city\": \"SEATTLE\", \"state\": \"WA\", \"zip\": \"98108\"}\\'}'"
      ]
     },
     "execution_count": 10,
     "metadata": {},
     "output_type": "execute_result"
    }
   ],
   "source": [
    "df_fifteen[\"Location\"].describe().top\n"
   ]
  },
  {
   "cell_type": "markdown",
   "metadata": {},
   "source": [
    "### Observations :\n",
    "\n",
    "- Plusieurs batiments ne sont pas communs aux deux datasets, on utilsera par defaut les informations les plus recentes (2016), et on importera les données manquantes"
   ]
  },
  {
   "cell_type": "markdown",
   "metadata": {},
   "source": [
    "## 2.1 : Premier filtrage des variables inutiles & formatage des labels des variables\n",
    "- Certaines colonnes ne sont presentes que dans le dataset 2015, ces variables seront supprimées (droplist), d'autres ont un nom different et seront renommées\n",
    "- Les deux datasets mentionnent la presence d'outliers, mais les metadonnees n'informent pas ce qui les determinent. Suppression des outliers.\n",
    "- Les données de localisation de l'annee 2015 sont presentes au format d'un dictionnaire, format plus efficace que les nombreuses variables de 2016. On pourra compresser les donnees de 2016 pour obtenir ce format\n",
    "- Certaines colonnes sont inutiles a l'etude et a la construction d'un modele mais apportent des informations interessantes sur les batiments si le besoin est. --> Creation d'un dataset Meta"
   ]
  },
  {
   "cell_type": "code",
   "execution_count": 11,
   "metadata": {},
   "outputs": [],
   "source": [
    "# Outliers :\n",
    "\n",
    "df_sixteen = df_sixteen[df_sixteen[\"Outlier\"].isna()]\n",
    "df_fifteen = df_fifteen[df_fifteen[\"Outlier\"].isna()]\n"
   ]
  },
  {
   "cell_type": "code",
   "execution_count": 12,
   "metadata": {},
   "outputs": [],
   "source": [
    "rename_sixteen = {\n",
    "    \"Comments\": \"Comment\",\n",
    "    \"TotalGHGEmissions\": \"GHGEmissions(MetricTonsCO2e)\",\n",
    "    \"GHGEmissionsIntensity\": \"GHGEmissionsIntensity(kgCO2e/ft2)\",\n",
    "    }\n",
    "\n",
    "droplist = [\n",
    "    \"Zip Codes\", \"Zipcode\", \"SPD Beats\", \"2010 Census Tracts\", \"City Council Districts\",\n",
    "    \"Seattle Police Department Micro Community Policing Plan Areas\", \"OtherFuelUse(kBtu)\",  # OtherFuelUse not present in both datasets\n",
    "    \"SPD Beats\", \"CouncilDistrictCode\", \"Outlier\", \"DataYear\", \"ZipCode\", \"NaturalGas(therms)\",  # Natural gas already present in another unit\n",
    "    ]\n",
    "\n",
    "# Columns not relevant to study but informative on the properties\n",
    "meta_df_cols = [\n",
    "    \"TaxParcelIdentificationNumber\", \"YearsENERGYSTARCertified\", \"Comment\", \"Location\", \"OSEBuildingID\",\n",
    "    \"PrimaryPropertyType\", \"PropertyName\", \"YearBuilt\"\n",
    "    ]\n",
    "\n",
    "meta_keep = [\"OSEBuildingID\", \"PrimaryPropertyType\", \"PropertyName\", \"YearBuilt\"]\n",
    "\n",
    "compress_cols = [\"Address\", \"City\", \"State\", \"Latitude\", \"Longitude\"]\n"
   ]
  },
  {
   "cell_type": "code",
   "execution_count": 13,
   "metadata": {},
   "outputs": [],
   "source": [
    "df_fifteen = df_fifteen.drop(columns=droplist, errors=\"ignore\")\n",
    "df_sixteen = df_sixteen.drop(columns=droplist, errors=\"ignore\")\n"
   ]
  },
  {
   "cell_type": "code",
   "execution_count": 14,
   "metadata": {},
   "outputs": [],
   "source": [
    "# Using 2015 synthax, compression of compress cols & placing data in new col\n",
    "\n",
    "df_sixteen[\"Location\"] = np.nan\n",
    "\n",
    "merge_cols(origin_col_list=compress_cols, target_col_name=\"Location\", dataframe=df_sixteen)\n",
    "\n",
    "df_sixteen.drop(columns=compress_cols, inplace=True)\n"
   ]
  },
  {
   "cell_type": "code",
   "execution_count": 15,
   "metadata": {},
   "outputs": [],
   "source": [
    "# renaming cols for merger\n",
    "\n",
    "df_sixteen.rename(columns=rename_sixteen, inplace=True)\n",
    "\n",
    "for col in df_sixteen.columns:\n",
    "    if col not in df_fifteen.columns:\n",
    "        raise BaseException(\"Mismatch\")\n"
   ]
  },
  {
   "cell_type": "markdown",
   "metadata": {},
   "source": [
    "## 2.2 : Fusion des dataframes, ajout des batiments non presents dans le dataset 2016"
   ]
  },
  {
   "cell_type": "code",
   "execution_count": 16,
   "metadata": {},
   "outputs": [
    {
     "name": "stdout",
     "output_type": "stream",
     "text": [
      "No duplicate, merger ok\n"
     ]
    }
   ],
   "source": [
    "# merging : \n",
    "to_merge = df_fifteen[df_fifteen[\"OSEBuildingID\"].isin(only_in_fifteen)]\n",
    "\n",
    "df_seattle = pd.concat([df_sixteen, to_merge])\n",
    "\n",
    "if len(df_seattle[df_seattle.duplicated()]) > 0:\n",
    "    print(\"Duplicates, edit code ...\")\n",
    "else:\n",
    "    print(\"No duplicate, merger ok\")\n"
   ]
  },
  {
   "cell_type": "code",
   "execution_count": 17,
   "metadata": {},
   "outputs": [],
   "source": [
    "# Created 2 meta dataframes and dropped the cols in main dfs\n",
    "\n",
    "meta_df_fifteen = df_fifteen[meta_df_cols]\n",
    "meta_df_sixteen = df_sixteen[meta_df_cols]\n",
    "\n",
    "meta_drop = [col for col in meta_df_cols if col not in meta_keep]\n",
    "\n",
    "df_fifteen.drop(columns=meta_drop, inplace=True)\n",
    "df_sixteen.drop(columns=meta_drop, inplace=True)\n",
    "df_seattle.drop(columns=meta_drop, inplace=True)\n"
   ]
  },
  {
   "cell_type": "markdown",
   "metadata": {},
   "source": [
    "## 2.3 : Identification et suppression des batiments residentiels : \n",
    "- L'etude et les modeles ne se concentreront que sur les batiments non residentiels\n",
    "- Identification et suppression\n"
   ]
  },
  {
   "cell_type": "code",
   "execution_count": 18,
   "metadata": {},
   "outputs": [
    {
     "name": "stdout",
     "output_type": "stream",
     "text": [
      "['NonResidential', 'Nonresidential COS', 'Multifamily MR (5-9)', 'SPS-District K-12', 'Multifamily LR (1-4)', 'Campus', 'Multifamily HR (10+)', 'Nonresidential WA']\n"
     ]
    }
   ],
   "source": [
    "btypes_fifteen = list(df_fifteen[\"BuildingType\"].unique())\n",
    "btypes_sixteen = list(df_sixteen[\"BuildingType\"].unique())\n",
    "\n",
    "btypes_both = btypes_fifteen\n",
    "[btypes_both.append(btype) for btype in btypes_sixteen if btype not in btypes_both]\n",
    "\n",
    "print(btypes_both)"
   ]
  },
  {
   "cell_type": "code",
   "execution_count": 19,
   "metadata": {},
   "outputs": [
    {
     "name": "stdout",
     "output_type": "stream",
     "text": [
      "['Multifamily MR (5-9)', 'Multifamily LR (1-4)', 'Multifamily HR (10+)']\n"
     ]
    }
   ],
   "source": [
    "# Residential startswith multifamily\n",
    "\n",
    "residential = [btype for btype in btypes_both if str(btype).lower().startswith(\"multifamily\")]\n",
    "print(residential)\n"
   ]
  },
  {
   "cell_type": "code",
   "execution_count": 20,
   "metadata": {},
   "outputs": [
    {
     "name": "stdout",
     "output_type": "stream",
     "text": [
      "Suppression OK\n"
     ]
    }
   ],
   "source": [
    "# Dropping residential\n",
    "\n",
    "df_seattle = df_seattle[~df_seattle[\"BuildingType\"].isin(residential)]\n",
    "\n",
    "# Check : \n",
    "\n",
    "btype_after_pass = list(df_seattle[\"BuildingType\"].unique())\n",
    "\n",
    "for btype in btype_after_pass:\n",
    "    if btype in residential:\n",
    "        print(\"Suppression Failed, advise\")\n",
    "        break\n",
    "    \n",
    "print(\"Suppression OK\")\n",
    "\n"
   ]
  },
  {
   "cell_type": "markdown",
   "metadata": {},
   "source": [
    "## 3 : Conversion systeme imperial --> Systeme metrique internationnal\n",
    "\n",
    "- Unités concernées :\n",
    "    - Energie non au format W ou J\n",
    "    - Tailles et distances exprimées en pieds\n"
   ]
  },
  {
   "cell_type": "code",
   "execution_count": 21,
   "metadata": {},
   "outputs": [],
   "source": [
    "# Convert\n",
    "\n",
    "unit_stop_chars = [\"(\", \")\", \"GFA\"]\n",
    "\n",
    "manual_ignore = [\"Electricity(kWh)\", \"GHGEmissions(MetricTonsCO2e)\", \"GHGEmissionsIntensity(kgCO2e/ft2)\"]\n",
    "\n",
    "unit_cols = [col for col in df_seattle.columns if (any(char in col for char in unit_stop_chars) and col not in manual_ignore)]\n"
   ]
  },
  {
   "cell_type": "code",
   "execution_count": 22,
   "metadata": {},
   "outputs": [],
   "source": [
    "unit_dict = dict.fromkeys(unit_cols)\n",
    "\n",
    "for col in unit_dict.keys(): \n",
    "    unit = find_unit(var_name=col, convert=True)[\"converted_unit\"]\n",
    "\n",
    "    if \"GFA\" in col:\n",
    "        new_name = col.replace(\"GFA\", \"Area(SquareMetre)\")\n",
    "    elif (\"(\"and \")\") in col:\n",
    "        start, end = col.find(\"(\"), col.find(\")\")\n",
    "        before = col[:start + 1]\n",
    "        after = col[end:]\n",
    "        new_name = f\"{before}{unit}{after}\"\n",
    "    \n",
    "    df_seattle[new_name] = np.nan\n",
    "    unit_dict[col] = new_name\n",
    "\n",
    "for key, value in unit_dict.items():\n",
    "\n",
    "    for index, series in df_seattle.iterrows():\n",
    "        df_seattle.at[index, value] = convert_to_holy_metric(data=series[key], var_name=key)\n",
    "\n",
    "df_seattle.drop(columns=unit_dict.keys(), inplace=True)\n"
   ]
  },
  {
   "cell_type": "markdown",
   "metadata": {},
   "source": [
    "## 4. Deuxieme passe sur les variables"
   ]
  },
  {
   "cell_type": "code",
   "execution_count": 23,
   "metadata": {},
   "outputs": [
    {
     "data": {
      "text/plain": [
       "Index(['OSEBuildingID', 'BuildingType', 'PrimaryPropertyType', 'PropertyName',\n",
       "       'Neighborhood', 'YearBuilt', 'NumberofBuildings', 'NumberofFloors',\n",
       "       'ListOfAllPropertyUseTypes', 'LargestPropertyUseType',\n",
       "       'SecondLargestPropertyUseType', 'ThirdLargestPropertyUseType',\n",
       "       'ENERGYSTARScore', 'Electricity(kWh)', 'DefaultData',\n",
       "       'ComplianceStatus', 'GHGEmissions(MetricTonsCO2e)',\n",
       "       'GHGEmissionsIntensity(kgCO2e/ft2)', 'PropertyArea(SquareMetre)Total',\n",
       "       'PropertyArea(SquareMetre)Parking',\n",
       "       'PropertyArea(SquareMetre)Building(s)',\n",
       "       'LargestPropertyUseTypeArea(SquareMetre)',\n",
       "       'SecondLargestPropertyUseTypeArea(SquareMetre)',\n",
       "       'ThirdLargestPropertyUseTypeArea(SquareMetre)', 'SiteEUI(kWh/m2)',\n",
       "       'SiteEUIWN(kWh/m2)', 'SourceEUI(kWh/m2)', 'SourceEUIWN(kWh/m2)',\n",
       "       'SiteEnergyUse(kWh)', 'SiteEnergyUseWN(kWh)', 'SteamUse(kWh)',\n",
       "       'NaturalGas(kWh)'],\n",
       "      dtype='object')"
      ]
     },
     "execution_count": 23,
     "metadata": {},
     "output_type": "execute_result"
    }
   ],
   "source": [
    "df_seattle.columns\n"
   ]
  },
  {
   "cell_type": "code",
   "execution_count": 24,
   "metadata": {},
   "outputs": [],
   "source": [
    "# EPA has determined that source energy is the most equitable [...] cf. sources\n",
    "# |^| removing cols starting with site, except SiteEnergyUse(kWh) (no SourceXYZ)\n",
    "\n",
    "ignore_site = [\"SiteEnergyUse(kWh)\", \"SiteEnergyUseWN(kWh)\"]\n",
    "\n",
    "site_cols = [col for col in df_seattle.columns if (col.startswith(\"Site\") and col not in ignore_site)]\n",
    "df_seattle.drop(columns=site_cols, inplace=True)\n"
   ]
  },
  {
   "cell_type": "markdown",
   "metadata": {},
   "source": [
    "### 4.1 On peut constater la presence de variables concernant l'utilisation de la vapeur et des gazs naturels\n",
    "- De moins en moins de batiments utilisent !directement! le gaz naturel, variable significative ?\n",
    "- Idem dans le cas de la vapeur"
   ]
  },
  {
   "cell_type": "code",
   "execution_count": 25,
   "metadata": {},
   "outputs": [
    {
     "data": {
      "image/png": "[encoded data removed]",
      "text/plain": [
       "<Figure size 2112x960 with 1 Axes>"
      ]
     },
     "metadata": {},
     "output_type": "display_data"
    }
   ],
   "source": [
    "# Steam and Natural gas might be uncommon - Plotting ...\n",
    "\n",
    "fig, (ax1) = plt.subplots(\n",
    "    ncols=1,\n",
    "    nrows=1,\n",
    "    figsize=(22, 10),\n",
    "    dpi=pc_dpi,\n",
    ")\n",
    "\n",
    "ax1 = sns.boxplot(\n",
    "    data=df_seattle[[\"SteamUse(kWh)\", \"NaturalGas(kWh)\", \"SiteEnergyUse(kWh)\"]]\n",
    ")\n",
    "\n",
    "\n",
    "###\n",
    "# Titles/Lables\n",
    "ax1.set_ylim(0, 0.5 * 1e7)\n",
    "fig.suptitle(\"Representation de l'utilisation de la vapeur et du gaz naturel au sein du dataset\\\n",
    " ; visualistion de l'energie totale pour reference\")\n",
    "#\n",
    "###\n",
    "fig.tight_layout()\n",
    "plt.show()\n"
   ]
  },
  {
   "cell_type": "code",
   "execution_count": 26,
   "metadata": {},
   "outputs": [],
   "source": [
    "df_seattle.drop(columns=[\"SteamUse(kWh)\"], inplace=True)\n"
   ]
  },
  {
   "cell_type": "code",
   "execution_count": 27,
   "metadata": {},
   "outputs": [
    {
     "data": {
      "text/plain": [
       "Index(['OSEBuildingID', 'BuildingType', 'PrimaryPropertyType', 'PropertyName',\n",
       "       'Neighborhood', 'YearBuilt', 'NumberofBuildings', 'NumberofFloors',\n",
       "       'ListOfAllPropertyUseTypes', 'LargestPropertyUseType',\n",
       "       'SecondLargestPropertyUseType', 'ThirdLargestPropertyUseType',\n",
       "       'ENERGYSTARScore', 'Electricity(kWh)', 'DefaultData',\n",
       "       'ComplianceStatus', 'GHGEmissions(MetricTonsCO2e)',\n",
       "       'GHGEmissionsIntensity(kgCO2e/ft2)', 'PropertyArea(SquareMetre)Total',\n",
       "       'PropertyArea(SquareMetre)Parking',\n",
       "       'PropertyArea(SquareMetre)Building(s)',\n",
       "       'LargestPropertyUseTypeArea(SquareMetre)',\n",
       "       'SecondLargestPropertyUseTypeArea(SquareMetre)',\n",
       "       'ThirdLargestPropertyUseTypeArea(SquareMetre)', 'SourceEUI(kWh/m2)',\n",
       "       'SourceEUIWN(kWh/m2)', 'SiteEnergyUse(kWh)', 'SiteEnergyUseWN(kWh)',\n",
       "       'NaturalGas(kWh)'],\n",
       "      dtype='object')"
      ]
     },
     "execution_count": 27,
     "metadata": {},
     "output_type": "execute_result"
    }
   ],
   "source": [
    "df_seattle.columns"
   ]
  },
  {
   "cell_type": "markdown",
   "metadata": {},
   "source": [
    "### 4.2 : Taux de valeurs manquantes, deuxieme passe sur les variables"
   ]
  },
  {
   "cell_type": "code",
   "execution_count": 28,
   "metadata": {},
   "outputs": [
    {
     "name": "stdout",
     "output_type": "stream",
     "text": [
      "OSEBuildingID = 0.0%\n",
      "BuildingType = 0.0%\n",
      "PrimaryPropertyType = 0.0%\n",
      "PropertyName = 0.0%\n",
      "Neighborhood = 0.0%\n",
      "YearBuilt = 0.0%\n",
      "NumberofBuildings = 0.11911852293031568%\n",
      "NumberofFloors = 0.0%\n",
      "ListOfAllPropertyUseTypes = 0.4764740917212627%\n",
      "LargestPropertyUseType = 0.714711137581894%\n",
      "SecondLargestPropertyUseType = 48.838594401429425% (!!!)\n",
      "ThirdLargestPropertyUseType = 78.91602144133412% (!!!)\n",
      "ENERGYSTARScore = 34.48481238832638% (!!!)\n",
      "Electricity(kWh) = 0.1786777843954735%\n",
      "DefaultData = 0.0%\n",
      "ComplianceStatus = 0.0%\n",
      "GHGEmissions(MetricTonsCO2e) = 0.1786777843954735%\n",
      "GHGEmissionsIntensity(kgCO2e/ft2) = 0.1786777843954735%\n",
      "PropertyArea(SquareMetre)Total = 0.0%\n",
      "PropertyArea(SquareMetre)Parking = 0.0%\n",
      "PropertyArea(SquareMetre)Building(s) = 0.0%\n",
      "LargestPropertyUseTypeArea(SquareMetre) = 0.9529481834425254%\n",
      "SecondLargestPropertyUseTypeArea(SquareMetre) = 48.89815366289458% (!!!)\n",
      "ThirdLargestPropertyUseTypeArea(SquareMetre) = 78.91602144133412% (!!!)\n",
      "SourceEUI(kWh/m2) = 0.1786777843954735%\n",
      "SourceEUIWN(kWh/m2) = 0.1786777843954735%\n",
      "SiteEnergyUse(kWh) = 0.1786777843954735%\n",
      "SiteEnergyUseWN(kWh) = 0.23823704586063135%\n",
      "NaturalGas(kWh) = 0.1786777843954735%\n"
     ]
    }
   ],
   "source": [
    "nans_cols = dict.fromkeys(df_seattle.columns)\n",
    "\n",
    "total_buildings = len(df_seattle)\n",
    "\n",
    "for col in nans_cols.keys():\n",
    "    nans_cols[col] = f\"{(df_seattle[col].isna().sum() / total_buildings) * 100}%\"\n",
    "    if (df_seattle[col].isna().sum() / total_buildings) > 0.05:\n",
    "        print(col, \"=\", nans_cols[col], \"(!!!)\")\n",
    "    else: \n",
    "        print(col, \"=\", nans_cols[col])\n"
   ]
  },
  {
   "cell_type": "markdown",
   "metadata": {},
   "source": [
    "#### Observation : \n",
    "- 34+% des batiments du dataset n'ont pas de note E* --> Cette note servira de baseline pour tout modele et analyse - Les batiments n'etant pas notés seront supprimés\n",
    "- Nombreuses repetitions (Total, Parking, Building) --> On s'interesse au totaux\n",
    "- SourceEUI est une des données les plus importantes du dataset, le site E* s'interesse majoritairement à cette statistique, les batiments pour lesquels cette statistique est nulle seront egalement supprimés\n",
    "- Ont peut noter egalement Electricity et emissions de GAES (GHG) comme variable importante --> meme traitement\n",
    "- Les valeurs ayant le suffixe WN signifient Weather Normalized\n",
    "\n",
    "<i>Note : Le taux de valeurs manquantes pour certaines variables est très similaire : 0.1786777843954735% : Ce sont potentiellement les memes batiments</i>"
   ]
  },
  {
   "cell_type": "code",
   "execution_count": 29,
   "metadata": {},
   "outputs": [],
   "source": [
    "manual_drop = [\n",
    "    \"ListOfAllPropertyUseTypes\", \"SecondLargestPropertyUseType\",\n",
    "    \"ThirdLargestPropertyUseType\", \"DefaultData\", \"ComplianceStatus\",\n",
    "    \"SecondLargestPropertyUseTypeArea(SquareMetre)\", \"ThirdLargestPropertyUseTypeArea(SquareMetre)\",\n",
    "    ]\n",
    "\n",
    "df_seattle.drop(columns=manual_drop, inplace=True)\n"
   ]
  },
  {
   "cell_type": "code",
   "execution_count": 30,
   "metadata": {},
   "outputs": [
    {
     "data": {
      "text/plain": [
       "(1100, 22)"
      ]
     },
     "execution_count": 30,
     "metadata": {},
     "output_type": "execute_result"
    }
   ],
   "source": [
    "# SOURCE EUI : \n",
    "df_seattle = df_seattle[~df_seattle[\"SourceEUI(kWh/m2)\"].isna()]\n",
    "# Electricity : \n",
    "df_seattle = df_seattle[~df_seattle[\"Electricity(kWh)\"].isna()]\n",
    "# GAES / GSG\n",
    "df_seattle = df_seattle[df_seattle[\"GHGEmissions(MetricTonsCO2e)\"].notna()]\n",
    "# E* Score\n",
    "df_seattle = df_seattle[df_seattle[\"ENERGYSTARScore\"].notna()]\n",
    "\n",
    "df_seattle.shape\n"
   ]
  },
  {
   "cell_type": "code",
   "execution_count": 31,
   "metadata": {},
   "outputs": [
    {
     "name": "stdout",
     "output_type": "stream",
     "text": [
      "OSEBuildingID = 0.0%\n",
      "BuildingType = 0.0%\n",
      "PrimaryPropertyType = 0.0%\n",
      "PropertyName = 0.0%\n",
      "Neighborhood = 0.0%\n",
      "YearBuilt = 0.0%\n",
      "NumberofBuildings = 0.0%\n",
      "NumberofFloors = 0.0%\n",
      "LargestPropertyUseType = 0.45454545454545453%\n",
      "ENERGYSTARScore = 0.0%\n",
      "Electricity(kWh) = 0.0%\n",
      "GHGEmissions(MetricTonsCO2e) = 0.0%\n",
      "GHGEmissionsIntensity(kgCO2e/ft2) = 0.0%\n",
      "PropertyArea(SquareMetre)Total = 0.0%\n",
      "PropertyArea(SquareMetre)Parking = 0.0%\n",
      "PropertyArea(SquareMetre)Building(s) = 0.0%\n",
      "LargestPropertyUseTypeArea(SquareMetre) = 0.8181818181818182%\n",
      "SourceEUI(kWh/m2) = 0.0%\n",
      "SourceEUIWN(kWh/m2) = 0.0%\n",
      "SiteEnergyUse(kWh) = 0.0%\n",
      "SiteEnergyUseWN(kWh) = 0.09090909090909091%\n",
      "NaturalGas(kWh) = 0.0%\n"
     ]
    }
   ],
   "source": [
    "# Nans again\n",
    "\n",
    "nans_cols = dict.fromkeys(df_seattle.columns)\n",
    "\n",
    "total_buildings = len(df_seattle)\n",
    "\n",
    "for col in nans_cols.keys():\n",
    "    nans_cols[col] = f\"{(df_seattle[col].isna().sum() / total_buildings) * 100}%\"\n",
    "    if (df_seattle[col].isna().sum() / total_buildings) > 0.05:\n",
    "        print(col, \"=\", nans_cols[col], \"(!!!)\")\n",
    "    else: \n",
    "        print(col, \"=\", nans_cols[col])\n"
   ]
  },
  {
   "cell_type": "markdown",
   "metadata": {},
   "source": [
    "## 5. Normalisation et export du Dataframe\n",
    "\n",
    "- Utilisation d'une ACP pour reduire la dimension des variables\n",
    "- Potentiel d'utilisation de K-Means pour identifier les eventuels clusters de variables"
   ]
  },
  {
   "cell_type": "code",
   "execution_count": null,
   "metadata": {},
   "outputs": [],
   "source": []
  }
 ],
 "metadata": {
  "interpreter": {
   "hash": "0da0af6bf3f6033f1ed3bb9a018282c9b956ccf49d2ca4646969195110973d60"
  },
  "kernelspec": {
   "display_name": "Python 3 (ipykernel)",
   "language": "python",
   "name": "python3"
  },
  "language_info": {
   "codemirror_mode": {
    "name": "ipython",
    "version": 3
   },
   "file_extension": ".py",
   "mimetype": "text/x-python",
   "name": "python",
   "nbconvert_exporter": "python",
   "pygments_lexer": "ipython3",
   "version": "3.10.4"
  }
 },
 "nbformat": 4,
 "nbformat_minor": 4
}

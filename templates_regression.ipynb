{
 "cells": [
  {
   "cell_type": "code",
   "execution_count": 35,
   "metadata": {},
   "outputs": [],
   "source": [
    "import pandas as pd\n",
    "import seaborn as sns\n",
    "import numpy as np\n",
    "import os\n",
    "import json\n",
    "\n",
    "from matplotlib import pyplot as plt\n",
    "from dotenv import load_dotenv\n",
    "from sklearn import preprocessing, model_selection, neighbors\n",
    "from sklearn import metrics, dummy, svm\n",
    "\n",
    "from models.linear_regressions import Linear_reg\n",
    "\n",
    "load_dotenv()\n",
    "sns.color_palette('colorblind')\n",
    "plt.style.use('Solarize_Light2')\n",
    "\n",
    "# Setting default DPI, pulling it from dotenv if it exists, setting it on 100 if not\n",
    "\n",
    "try:\n",
    "    pc_cores = int(os.getenv('CORES'))\n",
    "\n",
    "except TypeError:\n",
    "    pc_cores = 4\n",
    "\n",
    "try:\n",
    "    pc_dpi = int(os.getenv('DPI'))\n",
    "\n",
    "except TypeError:\n",
    "    pc_dpi = 100\n",
    "\n",
    "if pc_dpi is None:\n",
    "    pc_dpi = 100\n",
    "\n",
    "if pc_dpi >= 155:\n",
    "    pc_dpi = 155\n",
    "\n",
    "## NOTES : cv = RepeatedKFold(n_splits=10, n_repeats=3, random_state=1)\n"
   ]
  },
  {
   "cell_type": "code",
   "execution_count": 4,
   "metadata": {},
   "outputs": [],
   "source": [
    "general_file = \"./data/seattle_std_scaled.csv\"  # Used as backup\n"
   ]
  },
  {
   "cell_type": "code",
   "execution_count": 5,
   "metadata": {},
   "outputs": [],
   "source": [
    "df_model = pd.read_csv(general_file)\n",
    "df_model.set_index(\"OSEBuildingID\", inplace=True)\n"
   ]
  },
  {
   "cell_type": "code",
   "execution_count": 6,
   "metadata": {},
   "outputs": [],
   "source": [
    "df_model.dropna(inplace=True)\n"
   ]
  },
  {
   "cell_type": "code",
   "execution_count": 7,
   "metadata": {},
   "outputs": [
    {
     "data": {
      "text/plain": [
       "Index(['scaled_Electricity(kWh)', 'scaled_GHGEmissionsIntensity(kgCO2e/ft2)',\n",
       "       'scaled_PropertyArea(SquareMetre)Total', 'scaled_SourceEUI(kWh/m2)',\n",
       "       'scaled_NaturalGas(kWh)', 'BuildingAge', 'NumberofBuildings',\n",
       "       'NumberofFloors', 'ENERGYSTARScore', 'Building_proportion',\n",
       "       'Parking_proportion', 'EnergyStarCert', 'target_SourceEUI(kWh/m2)',\n",
       "       'target_GHGEmissionsIntensity(kgCO2e/ft2)', 'ohe_Ptype_Hospital',\n",
       "       'ohe_Ptype_Hotel', 'ohe_Ptype_K-12 School', 'ohe_Ptype_Large Office',\n",
       "       'ohe_Ptype_Mixed Use Property', 'ohe_Ptype_Office', 'ohe_Ptype_Other',\n",
       "       'ohe_Ptype_Refrigerated Warehouse', 'ohe_Ptype_Residence Hall',\n",
       "       'ohe_Ptype_Small & Medium medical facility',\n",
       "       'ohe_Ptype_Small & Mid-Sized Office',\n",
       "       'ohe_Ptype_Supermarket & Grocery store', 'ohe_Ptype_Warehouse',\n",
       "       'ohe_Ptype_Worship Facility', 'ohe_Nbhood_BALLARD',\n",
       "       'ohe_Nbhood_CENTRAL', 'ohe_Nbhood_DELRIDGE', 'ohe_Nbhood_DOWNTOWN',\n",
       "       'ohe_Nbhood_EAST', 'ohe_Nbhood_GREATER DUWAMISH',\n",
       "       'ohe_Nbhood_LAKE UNION', 'ohe_Nbhood_MAGNOLIA / QUEEN ANNE',\n",
       "       'ohe_Nbhood_NORTH', 'ohe_Nbhood_NORTHEAST', 'ohe_Nbhood_NORTHWEST',\n",
       "       'ohe_Nbhood_SOUTHEAST', 'ohe_Nbhood_SOUTHWEST'],\n",
       "      dtype='object')"
      ]
     },
     "execution_count": 7,
     "metadata": {},
     "output_type": "execute_result"
    }
   ],
   "source": [
    "df_model.columns\n"
   ]
  },
  {
   "cell_type": "code",
   "execution_count": 8,
   "metadata": {},
   "outputs": [
    {
     "data": {
      "text/html": [
       "<div>\n",
       "<style scoped>\n",
       "    .dataframe tbody tr th:only-of-type {\n",
       "        vertical-align: middle;\n",
       "    }\n",
       "\n",
       "    .dataframe tbody tr th {\n",
       "        vertical-align: top;\n",
       "    }\n",
       "\n",
       "    .dataframe thead th {\n",
       "        text-align: right;\n",
       "    }\n",
       "</style>\n",
       "<table border=\"1\" class=\"dataframe\">\n",
       "  <thead>\n",
       "    <tr style=\"text-align: right;\">\n",
       "      <th></th>\n",
       "      <th>scaled_Electricity(kWh)</th>\n",
       "      <th>scaled_GHGEmissionsIntensity(kgCO2e/ft2)</th>\n",
       "      <th>scaled_PropertyArea(SquareMetre)Total</th>\n",
       "      <th>scaled_SourceEUI(kWh/m2)</th>\n",
       "      <th>scaled_NaturalGas(kWh)</th>\n",
       "      <th>BuildingAge</th>\n",
       "      <th>NumberofBuildings</th>\n",
       "      <th>NumberofFloors</th>\n",
       "      <th>ENERGYSTARScore</th>\n",
       "      <th>Building_proportion</th>\n",
       "      <th>...</th>\n",
       "      <th>ohe_Nbhood_DOWNTOWN</th>\n",
       "      <th>ohe_Nbhood_EAST</th>\n",
       "      <th>ohe_Nbhood_GREATER DUWAMISH</th>\n",
       "      <th>ohe_Nbhood_LAKE UNION</th>\n",
       "      <th>ohe_Nbhood_MAGNOLIA / QUEEN ANNE</th>\n",
       "      <th>ohe_Nbhood_NORTH</th>\n",
       "      <th>ohe_Nbhood_NORTHEAST</th>\n",
       "      <th>ohe_Nbhood_NORTHWEST</th>\n",
       "      <th>ohe_Nbhood_SOUTHEAST</th>\n",
       "      <th>ohe_Nbhood_SOUTHWEST</th>\n",
       "    </tr>\n",
       "    <tr>\n",
       "      <th>OSEBuildingID</th>\n",
       "      <th></th>\n",
       "      <th></th>\n",
       "      <th></th>\n",
       "      <th></th>\n",
       "      <th></th>\n",
       "      <th></th>\n",
       "      <th></th>\n",
       "      <th></th>\n",
       "      <th></th>\n",
       "      <th></th>\n",
       "      <th></th>\n",
       "      <th></th>\n",
       "      <th></th>\n",
       "      <th></th>\n",
       "      <th></th>\n",
       "      <th></th>\n",
       "      <th></th>\n",
       "      <th></th>\n",
       "      <th></th>\n",
       "      <th></th>\n",
       "      <th></th>\n",
       "    </tr>\n",
       "  </thead>\n",
       "  <tbody>\n",
       "    <tr>\n",
       "      <th>1</th>\n",
       "      <td>0.963847</td>\n",
       "      <td>1.770173</td>\n",
       "      <td>0.389139</td>\n",
       "      <td>1.012887</td>\n",
       "      <td>0.500705</td>\n",
       "      <td>95.0</td>\n",
       "      <td>1</td>\n",
       "      <td>12</td>\n",
       "      <td>60.0</td>\n",
       "      <td>1.000</td>\n",
       "      <td>...</td>\n",
       "      <td>1.0</td>\n",
       "      <td>0.0</td>\n",
       "      <td>0.0</td>\n",
       "      <td>0.0</td>\n",
       "      <td>0.0</td>\n",
       "      <td>0.0</td>\n",
       "      <td>0.0</td>\n",
       "      <td>0.0</td>\n",
       "      <td>0.0</td>\n",
       "      <td>0.0</td>\n",
       "    </tr>\n",
       "    <tr>\n",
       "      <th>2</th>\n",
       "      <td>0.615322</td>\n",
       "      <td>1.799564</td>\n",
       "      <td>0.659821</td>\n",
       "      <td>0.913481</td>\n",
       "      <td>4.178122</td>\n",
       "      <td>26.0</td>\n",
       "      <td>1</td>\n",
       "      <td>11</td>\n",
       "      <td>61.0</td>\n",
       "      <td>0.855</td>\n",
       "      <td>...</td>\n",
       "      <td>1.0</td>\n",
       "      <td>0.0</td>\n",
       "      <td>0.0</td>\n",
       "      <td>0.0</td>\n",
       "      <td>0.0</td>\n",
       "      <td>0.0</td>\n",
       "      <td>0.0</td>\n",
       "      <td>0.0</td>\n",
       "      <td>0.0</td>\n",
       "      <td>0.0</td>\n",
       "    </tr>\n",
       "    <tr>\n",
       "      <th>5</th>\n",
       "      <td>0.380423</td>\n",
       "      <td>3.572830</td>\n",
       "      <td>-0.095878</td>\n",
       "      <td>1.536320</td>\n",
       "      <td>1.009034</td>\n",
       "      <td>96.0</td>\n",
       "      <td>1</td>\n",
       "      <td>10</td>\n",
       "      <td>56.0</td>\n",
       "      <td>1.000</td>\n",
       "      <td>...</td>\n",
       "      <td>1.0</td>\n",
       "      <td>0.0</td>\n",
       "      <td>0.0</td>\n",
       "      <td>0.0</td>\n",
       "      <td>0.0</td>\n",
       "      <td>0.0</td>\n",
       "      <td>0.0</td>\n",
       "      <td>0.0</td>\n",
       "      <td>0.0</td>\n",
       "      <td>0.0</td>\n",
       "    </tr>\n",
       "    <tr>\n",
       "      <th>10</th>\n",
       "      <td>0.401384</td>\n",
       "      <td>1.074583</td>\n",
       "      <td>0.292078</td>\n",
       "      <td>0.455283</td>\n",
       "      <td>2.089235</td>\n",
       "      <td>96.0</td>\n",
       "      <td>1</td>\n",
       "      <td>11</td>\n",
       "      <td>27.0</td>\n",
       "      <td>1.000</td>\n",
       "      <td>...</td>\n",
       "      <td>1.0</td>\n",
       "      <td>0.0</td>\n",
       "      <td>0.0</td>\n",
       "      <td>0.0</td>\n",
       "      <td>0.0</td>\n",
       "      <td>0.0</td>\n",
       "      <td>0.0</td>\n",
       "      <td>0.0</td>\n",
       "      <td>0.0</td>\n",
       "      <td>0.0</td>\n",
       "    </tr>\n",
       "    <tr>\n",
       "      <th>17</th>\n",
       "      <td>-0.326328</td>\n",
       "      <td>3.945117</td>\n",
       "      <td>-0.029889</td>\n",
       "      <td>0.564008</td>\n",
       "      <td>2.706276</td>\n",
       "      <td>94.0</td>\n",
       "      <td>1</td>\n",
       "      <td>9</td>\n",
       "      <td>48.0</td>\n",
       "      <td>1.000</td>\n",
       "      <td>...</td>\n",
       "      <td>1.0</td>\n",
       "      <td>0.0</td>\n",
       "      <td>0.0</td>\n",
       "      <td>0.0</td>\n",
       "      <td>0.0</td>\n",
       "      <td>0.0</td>\n",
       "      <td>0.0</td>\n",
       "      <td>0.0</td>\n",
       "      <td>0.0</td>\n",
       "      <td>0.0</td>\n",
       "    </tr>\n",
       "  </tbody>\n",
       "</table>\n",
       "<p>5 rows × 41 columns</p>\n",
       "</div>"
      ],
      "text/plain": [
       "               scaled_Electricity(kWh)  \\\n",
       "OSEBuildingID                            \n",
       "1                             0.963847   \n",
       "2                             0.615322   \n",
       "5                             0.380423   \n",
       "10                            0.401384   \n",
       "17                           -0.326328   \n",
       "\n",
       "               scaled_GHGEmissionsIntensity(kgCO2e/ft2)  \\\n",
       "OSEBuildingID                                             \n",
       "1                                              1.770173   \n",
       "2                                              1.799564   \n",
       "5                                              3.572830   \n",
       "10                                             1.074583   \n",
       "17                                             3.945117   \n",
       "\n",
       "               scaled_PropertyArea(SquareMetre)Total  \\\n",
       "OSEBuildingID                                          \n",
       "1                                           0.389139   \n",
       "2                                           0.659821   \n",
       "5                                          -0.095878   \n",
       "10                                          0.292078   \n",
       "17                                         -0.029889   \n",
       "\n",
       "               scaled_SourceEUI(kWh/m2)  scaled_NaturalGas(kWh)  BuildingAge  \\\n",
       "OSEBuildingID                                                                  \n",
       "1                              1.012887                0.500705         95.0   \n",
       "2                              0.913481                4.178122         26.0   \n",
       "5                              1.536320                1.009034         96.0   \n",
       "10                             0.455283                2.089235         96.0   \n",
       "17                             0.564008                2.706276         94.0   \n",
       "\n",
       "               NumberofBuildings  NumberofFloors  ENERGYSTARScore  \\\n",
       "OSEBuildingID                                                       \n",
       "1                              1              12             60.0   \n",
       "2                              1              11             61.0   \n",
       "5                              1              10             56.0   \n",
       "10                             1              11             27.0   \n",
       "17                             1               9             48.0   \n",
       "\n",
       "               Building_proportion  ...  ohe_Nbhood_DOWNTOWN  ohe_Nbhood_EAST  \\\n",
       "OSEBuildingID                       ...                                         \n",
       "1                            1.000  ...                  1.0              0.0   \n",
       "2                            0.855  ...                  1.0              0.0   \n",
       "5                            1.000  ...                  1.0              0.0   \n",
       "10                           1.000  ...                  1.0              0.0   \n",
       "17                           1.000  ...                  1.0              0.0   \n",
       "\n",
       "               ohe_Nbhood_GREATER DUWAMISH  ohe_Nbhood_LAKE UNION  \\\n",
       "OSEBuildingID                                                       \n",
       "1                                      0.0                    0.0   \n",
       "2                                      0.0                    0.0   \n",
       "5                                      0.0                    0.0   \n",
       "10                                     0.0                    0.0   \n",
       "17                                     0.0                    0.0   \n",
       "\n",
       "               ohe_Nbhood_MAGNOLIA / QUEEN ANNE  ohe_Nbhood_NORTH  \\\n",
       "OSEBuildingID                                                       \n",
       "1                                           0.0               0.0   \n",
       "2                                           0.0               0.0   \n",
       "5                                           0.0               0.0   \n",
       "10                                          0.0               0.0   \n",
       "17                                          0.0               0.0   \n",
       "\n",
       "               ohe_Nbhood_NORTHEAST  ohe_Nbhood_NORTHWEST  \\\n",
       "OSEBuildingID                                               \n",
       "1                               0.0                   0.0   \n",
       "2                               0.0                   0.0   \n",
       "5                               0.0                   0.0   \n",
       "10                              0.0                   0.0   \n",
       "17                              0.0                   0.0   \n",
       "\n",
       "               ohe_Nbhood_SOUTHEAST  ohe_Nbhood_SOUTHWEST  \n",
       "OSEBuildingID                                              \n",
       "1                               0.0                   0.0  \n",
       "2                               0.0                   0.0  \n",
       "5                               0.0                   0.0  \n",
       "10                              0.0                   0.0  \n",
       "17                              0.0                   0.0  \n",
       "\n",
       "[5 rows x 41 columns]"
      ]
     },
     "execution_count": 8,
     "metadata": {},
     "output_type": "execute_result"
    }
   ],
   "source": [
    "df_model.head()"
   ]
  },
  {
   "cell_type": "code",
   "execution_count": 11,
   "metadata": {},
   "outputs": [],
   "source": [
    "ghg_target = \"target_GHGEmissionsIntensity(kgCO2e/ft2)\"\n",
    "\n",
    "droplist = [\n",
    "    \"scaled_GHGEmissionsIntensity(kgCO2e/ft2)\",  # Scaled target\n",
    "    \"target_SourceEUI(kWh/m2)\",  # not to scale\n",
    "    \"EnergyStarCert\",\n",
    "    ]\n",
    "\n",
    "df_model = df_model.drop(columns=droplist)\n"
   ]
  },
  {
   "cell_type": "code",
   "execution_count": 13,
   "metadata": {},
   "outputs": [],
   "source": [
    "ghg_linear = Linear_reg(dataframe=df_model, target=ghg_target)\n"
   ]
  },
  {
   "cell_type": "code",
   "execution_count": 15,
   "metadata": {},
   "outputs": [],
   "source": [
    "# Loading known split, ids are unique building OSE id\n",
    "\n",
    "with open(\"./data/splits_ghg.json\", \"r\") as json_file:\n",
    "    splits = json.load(json_file)\n",
    "\n",
    "ids_train = splits[\"train\"]\n",
    "ids_test = splits[\"test\"]\n"
   ]
  },
  {
   "cell_type": "code",
   "execution_count": 16,
   "metadata": {},
   "outputs": [],
   "source": [
    "# Overriding\n",
    "\n",
    "df_train_override = df_model[df_model.index.isin(ids_train)]\n",
    "df_test_override = df_model[df_model.index.isin(ids_test)]\n",
    "\n",
    "ghg_linear.force_split(\n",
    "    df_train_ovr=df_train_override,\n",
    "    df_test_ovr=df_test_override\n",
    ")\n"
   ]
  },
  {
   "cell_type": "code",
   "execution_count": 71,
   "metadata": {},
   "outputs": [],
   "source": [
    "train_matrix, test_matrix = ghg_linear.X_train, ghg_linear.X_test\n",
    "y_train, y_test = ghg_linear.y_train, ghg_linear.y_test\n",
    "\n",
    "param_grid = {'n_neighbors':[5, 7, 9, 11, 13, 15]}\n",
    "\n",
    "knnr = neighbors.KNeighborsRegressor()\n",
    "\n",
    "# Grid search\n",
    "l1out = model_selection.LeaveOneOut()\n",
    "rkf = model_selection.RepeatedKFold(n_splits=10, n_repeats=3, random_state=1)\n",
    "\n",
    "param_grid_knnr = {'n_neighbors':[13, 15, 17, 19]}\n",
    "\n",
    "score = \"neg_mean_squared_error\"\n",
    "\n",
    "# reg KNN Setup\n",
    "\n",
    "knn_reg = model_selection.GridSearchCV(\n",
    "    estimator=knnr,\n",
    "    param_grid=param_grid,\n",
    "    cv=l1out,\n",
    "    scoring=score\n",
    ")\n"
   ]
  },
  {
   "cell_type": "code",
   "execution_count": 72,
   "metadata": {},
   "outputs": [
    {
     "data": {
      "text/plain": [
       "GridSearchCV(cv=LeaveOneOut(), estimator=KNeighborsRegressor(),\n",
       "             param_grid={'n_neighbors': [5, 7, 9, 11, 13, 15]},\n",
       "             scoring='neg_mean_squared_error')"
      ]
     },
     "execution_count": 72,
     "metadata": {},
     "output_type": "execute_result"
    }
   ],
   "source": [
    "knn_reg.fit(\n",
    "    X=train_matrix,\n",
    "    y=y_train\n",
    ")\n"
   ]
  },
  {
   "cell_type": "code",
   "execution_count": 73,
   "metadata": {},
   "outputs": [
    {
     "data": {
      "text/plain": [
       "KNeighborsRegressor(n_neighbors=15)"
      ]
     },
     "execution_count": 73,
     "metadata": {},
     "output_type": "execute_result"
    }
   ],
   "source": [
    "knn_reg.best_estimator_\n"
   ]
  },
  {
   "cell_type": "code",
   "execution_count": 74,
   "metadata": {},
   "outputs": [],
   "source": [
    "rmse_train = np.sqrt(abs(knn_reg.best_score_))\n",
    "predict_train = knn_reg.predict(train_matrix)\n",
    "r2_train = metrics.r2_score(y_pred=predict_train, y_true=y_train)\n"
   ]
  },
  {
   "cell_type": "code",
   "execution_count": 75,
   "metadata": {},
   "outputs": [
    {
     "data": {
      "text/plain": [
       "0.2444019611499113"
      ]
     },
     "execution_count": 75,
     "metadata": {},
     "output_type": "execute_result"
    }
   ],
   "source": [
    "r2_train"
   ]
  },
  {
   "cell_type": "code",
   "execution_count": 76,
   "metadata": {},
   "outputs": [
    {
     "data": {
      "text/plain": [
       "0.9170048623795171"
      ]
     },
     "execution_count": 76,
     "metadata": {},
     "output_type": "execute_result"
    }
   ],
   "source": [
    "rmse_train\n"
   ]
  },
  {
   "cell_type": "code",
   "execution_count": null,
   "metadata": {},
   "outputs": [],
   "source": []
  }
 ],
 "metadata": {
  "interpreter": {
   "hash": "1274e91d4c49da8d2c5027ac796fe23c6eef02ed77c0608f3ea1b98e1edcbe8a"
  },
  "kernelspec": {
   "display_name": "Python 3.10.4 ('env': venv)",
   "language": "python",
   "name": "python3"
  },
  "language_info": {
   "codemirror_mode": {
    "name": "ipython",
    "version": 3
   },
   "file_extension": ".py",
   "mimetype": "text/x-python",
   "name": "python",
   "nbconvert_exporter": "python",
   "pygments_lexer": "ipython3",
   "version": "3.10.4"
  },
  "orig_nbformat": 4
 },
 "nbformat": 4,
 "nbformat_minor": 2
}
